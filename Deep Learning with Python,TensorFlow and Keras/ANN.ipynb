{
 "cells": [
  {
   "cell_type": "code",
   "execution_count": 34,
   "metadata": {},
   "outputs": [],
   "source": [
    "import numpy as np\n",
    "import pandas as pd\n",
    "import matplotlib.pyplot as plt\n",
    "%matplotlib inline"
   ]
  },
  {
   "cell_type": "code",
   "execution_count": 35,
   "metadata": {},
   "outputs": [],
   "source": [
    "df=pd.read_csv('Churn_Modelling.csv')"
   ]
  },
  {
   "cell_type": "code",
   "execution_count": 36,
   "metadata": {},
   "outputs": [
    {
     "data": {
      "text/html": [
       "<div>\n",
       "<style scoped>\n",
       "    .dataframe tbody tr th:only-of-type {\n",
       "        vertical-align: middle;\n",
       "    }\n",
       "\n",
       "    .dataframe tbody tr th {\n",
       "        vertical-align: top;\n",
       "    }\n",
       "\n",
       "    .dataframe thead th {\n",
       "        text-align: right;\n",
       "    }\n",
       "</style>\n",
       "<table border=\"1\" class=\"dataframe\">\n",
       "  <thead>\n",
       "    <tr style=\"text-align: right;\">\n",
       "      <th></th>\n",
       "      <th>CreditScore</th>\n",
       "      <th>Geography</th>\n",
       "      <th>Gender</th>\n",
       "      <th>Age</th>\n",
       "      <th>Tenure</th>\n",
       "      <th>Balance</th>\n",
       "      <th>NumOfProducts</th>\n",
       "      <th>HasCrCard</th>\n",
       "      <th>IsActiveMember</th>\n",
       "      <th>EstimatedSalary</th>\n",
       "    </tr>\n",
       "  </thead>\n",
       "  <tbody>\n",
       "    <tr>\n",
       "      <td>0</td>\n",
       "      <td>619</td>\n",
       "      <td>France</td>\n",
       "      <td>Female</td>\n",
       "      <td>42</td>\n",
       "      <td>2</td>\n",
       "      <td>0.00</td>\n",
       "      <td>1</td>\n",
       "      <td>1</td>\n",
       "      <td>1</td>\n",
       "      <td>101348.88</td>\n",
       "    </tr>\n",
       "    <tr>\n",
       "      <td>1</td>\n",
       "      <td>608</td>\n",
       "      <td>Spain</td>\n",
       "      <td>Female</td>\n",
       "      <td>41</td>\n",
       "      <td>1</td>\n",
       "      <td>83807.86</td>\n",
       "      <td>1</td>\n",
       "      <td>0</td>\n",
       "      <td>1</td>\n",
       "      <td>112542.58</td>\n",
       "    </tr>\n",
       "    <tr>\n",
       "      <td>2</td>\n",
       "      <td>502</td>\n",
       "      <td>France</td>\n",
       "      <td>Female</td>\n",
       "      <td>42</td>\n",
       "      <td>8</td>\n",
       "      <td>159660.80</td>\n",
       "      <td>3</td>\n",
       "      <td>1</td>\n",
       "      <td>0</td>\n",
       "      <td>113931.57</td>\n",
       "    </tr>\n",
       "    <tr>\n",
       "      <td>3</td>\n",
       "      <td>699</td>\n",
       "      <td>France</td>\n",
       "      <td>Female</td>\n",
       "      <td>39</td>\n",
       "      <td>1</td>\n",
       "      <td>0.00</td>\n",
       "      <td>2</td>\n",
       "      <td>0</td>\n",
       "      <td>0</td>\n",
       "      <td>93826.63</td>\n",
       "    </tr>\n",
       "    <tr>\n",
       "      <td>4</td>\n",
       "      <td>850</td>\n",
       "      <td>Spain</td>\n",
       "      <td>Female</td>\n",
       "      <td>43</td>\n",
       "      <td>2</td>\n",
       "      <td>125510.82</td>\n",
       "      <td>1</td>\n",
       "      <td>1</td>\n",
       "      <td>1</td>\n",
       "      <td>79084.10</td>\n",
       "    </tr>\n",
       "  </tbody>\n",
       "</table>\n",
       "</div>"
      ],
      "text/plain": [
       "   CreditScore Geography  Gender  Age  Tenure    Balance  NumOfProducts  \\\n",
       "0          619    France  Female   42       2       0.00              1   \n",
       "1          608     Spain  Female   41       1   83807.86              1   \n",
       "2          502    France  Female   42       8  159660.80              3   \n",
       "3          699    France  Female   39       1       0.00              2   \n",
       "4          850     Spain  Female   43       2  125510.82              1   \n",
       "\n",
       "   HasCrCard  IsActiveMember  EstimatedSalary  \n",
       "0          1               1        101348.88  \n",
       "1          0               1        112542.58  \n",
       "2          1               0        113931.57  \n",
       "3          0               0         93826.63  \n",
       "4          1               1         79084.10  "
      ]
     },
     "execution_count": 36,
     "metadata": {},
     "output_type": "execute_result"
    }
   ],
   "source": [
    "X=df.iloc[:,3:13]\n",
    "y=df.iloc[:,13]\n",
    "X.head()"
   ]
  },
  {
   "cell_type": "code",
   "execution_count": 37,
   "metadata": {},
   "outputs": [
    {
     "name": "stdout",
     "output_type": "stream",
     "text": [
      "   Germany  Spain\n",
      "0        0      0\n",
      "1        0      1\n",
      "2        0      0\n",
      "3        0      0\n",
      "4        0      1\n",
      "   Male\n",
      "0     0\n",
      "1     0\n",
      "2     0\n",
      "3     0\n",
      "4     0\n"
     ]
    }
   ],
   "source": [
    "# Create dummy variables\n",
    "geography=pd.get_dummies(X[\"Geography\"],drop_first=True)\n",
    "gender=pd.get_dummies(X['Gender'],drop_first=True)\n",
    "print(f\"{geography.head()}\\n{gender.head()}\")"
   ]
  },
  {
   "cell_type": "code",
   "execution_count": 38,
   "metadata": {},
   "outputs": [],
   "source": [
    "X=pd.concat([X,geography,gender],axis=1)"
   ]
  },
  {
   "cell_type": "code",
   "execution_count": 39,
   "metadata": {},
   "outputs": [
    {
     "data": {
      "text/html": [
       "<div>\n",
       "<style scoped>\n",
       "    .dataframe tbody tr th:only-of-type {\n",
       "        vertical-align: middle;\n",
       "    }\n",
       "\n",
       "    .dataframe tbody tr th {\n",
       "        vertical-align: top;\n",
       "    }\n",
       "\n",
       "    .dataframe thead th {\n",
       "        text-align: right;\n",
       "    }\n",
       "</style>\n",
       "<table border=\"1\" class=\"dataframe\">\n",
       "  <thead>\n",
       "    <tr style=\"text-align: right;\">\n",
       "      <th></th>\n",
       "      <th>CreditScore</th>\n",
       "      <th>Age</th>\n",
       "      <th>Tenure</th>\n",
       "      <th>Balance</th>\n",
       "      <th>NumOfProducts</th>\n",
       "      <th>HasCrCard</th>\n",
       "      <th>IsActiveMember</th>\n",
       "      <th>EstimatedSalary</th>\n",
       "      <th>Germany</th>\n",
       "      <th>Spain</th>\n",
       "      <th>Male</th>\n",
       "    </tr>\n",
       "  </thead>\n",
       "  <tbody>\n",
       "    <tr>\n",
       "      <td>0</td>\n",
       "      <td>619</td>\n",
       "      <td>42</td>\n",
       "      <td>2</td>\n",
       "      <td>0.00</td>\n",
       "      <td>1</td>\n",
       "      <td>1</td>\n",
       "      <td>1</td>\n",
       "      <td>101348.88</td>\n",
       "      <td>0</td>\n",
       "      <td>0</td>\n",
       "      <td>0</td>\n",
       "    </tr>\n",
       "    <tr>\n",
       "      <td>1</td>\n",
       "      <td>608</td>\n",
       "      <td>41</td>\n",
       "      <td>1</td>\n",
       "      <td>83807.86</td>\n",
       "      <td>1</td>\n",
       "      <td>0</td>\n",
       "      <td>1</td>\n",
       "      <td>112542.58</td>\n",
       "      <td>0</td>\n",
       "      <td>1</td>\n",
       "      <td>0</td>\n",
       "    </tr>\n",
       "    <tr>\n",
       "      <td>2</td>\n",
       "      <td>502</td>\n",
       "      <td>42</td>\n",
       "      <td>8</td>\n",
       "      <td>159660.80</td>\n",
       "      <td>3</td>\n",
       "      <td>1</td>\n",
       "      <td>0</td>\n",
       "      <td>113931.57</td>\n",
       "      <td>0</td>\n",
       "      <td>0</td>\n",
       "      <td>0</td>\n",
       "    </tr>\n",
       "    <tr>\n",
       "      <td>3</td>\n",
       "      <td>699</td>\n",
       "      <td>39</td>\n",
       "      <td>1</td>\n",
       "      <td>0.00</td>\n",
       "      <td>2</td>\n",
       "      <td>0</td>\n",
       "      <td>0</td>\n",
       "      <td>93826.63</td>\n",
       "      <td>0</td>\n",
       "      <td>0</td>\n",
       "      <td>0</td>\n",
       "    </tr>\n",
       "    <tr>\n",
       "      <td>4</td>\n",
       "      <td>850</td>\n",
       "      <td>43</td>\n",
       "      <td>2</td>\n",
       "      <td>125510.82</td>\n",
       "      <td>1</td>\n",
       "      <td>1</td>\n",
       "      <td>1</td>\n",
       "      <td>79084.10</td>\n",
       "      <td>0</td>\n",
       "      <td>1</td>\n",
       "      <td>0</td>\n",
       "    </tr>\n",
       "  </tbody>\n",
       "</table>\n",
       "</div>"
      ],
      "text/plain": [
       "   CreditScore  Age  Tenure    Balance  NumOfProducts  HasCrCard  \\\n",
       "0          619   42       2       0.00              1          1   \n",
       "1          608   41       1   83807.86              1          0   \n",
       "2          502   42       8  159660.80              3          1   \n",
       "3          699   39       1       0.00              2          0   \n",
       "4          850   43       2  125510.82              1          1   \n",
       "\n",
       "   IsActiveMember  EstimatedSalary  Germany  Spain  Male  \n",
       "0               1        101348.88        0      0     0  \n",
       "1               1        112542.58        0      1     0  \n",
       "2               0        113931.57        0      0     0  \n",
       "3               0         93826.63        0      0     0  \n",
       "4               1         79084.10        0      1     0  "
      ]
     },
     "execution_count": 39,
     "metadata": {},
     "output_type": "execute_result"
    }
   ],
   "source": [
    "X=X.drop(['Geography','Gender'],axis=1)\n",
    "X.head()"
   ]
  },
  {
   "cell_type": "code",
   "execution_count": 40,
   "metadata": {},
   "outputs": [],
   "source": [
    "# Splitting dataset into the training and test set\n",
    "from sklearn.model_selection import train_test_split\n",
    "X_train,X_test,y_train,y_test=train_test_split(X,y,test_size=0.2,random_state=0)"
   ]
  },
  {
   "cell_type": "code",
   "execution_count": 41,
   "metadata": {},
   "outputs": [],
   "source": [
    "# Feature scaling into the same scale rate\n",
    "from sklearn.preprocessing import StandardScaler\n",
    "sc=StandardScaler()\n",
    "X_train=sc.fit_transform(X_train)\n",
    "X_test=sc.fit_transform(X_test)"
   ]
  },
  {
   "cell_type": "code",
   "execution_count": 42,
   "metadata": {},
   "outputs": [],
   "source": [
    "# Importing the Keras libraries and packages\n",
    "import keras\n",
    "from keras.models import Sequential #Used to create NN\n",
    "from keras.layers import Dense\n",
    "from keras.layers import Dropout # to solve overfitting of the deep nn if of is greateer we must increase dropout ratio\n",
    "from keras.layers import LeakyReLU,PReLU,ELU"
   ]
  },
  {
   "cell_type": "code",
   "execution_count": 43,
   "metadata": {},
   "outputs": [
    {
     "data": {
      "text/plain": [
       "11"
      ]
     },
     "execution_count": 43,
     "metadata": {},
     "output_type": "execute_result"
    }
   ],
   "source": [
    "# Initializing ANN\n",
    "clf=Sequential()\n",
    "len(X.columns) # No  of inputs in ANN"
   ]
  },
  {
   "cell_type": "code",
   "execution_count": 44,
   "metadata": {},
   "outputs": [
    {
     "name": "stdout",
     "output_type": "stream",
     "text": [
      "Model: \"sequential_4\"\n",
      "_________________________________________________________________\n",
      "Layer (type)                 Output Shape              Param #   \n",
      "=================================================================\n",
      "dense_16 (Dense)             (None, 10)                120       \n",
      "_________________________________________________________________\n",
      "dropout_5 (Dropout)          (None, 10)                0         \n",
      "_________________________________________________________________\n",
      "dense_17 (Dense)             (None, 20)                220       \n",
      "_________________________________________________________________\n",
      "dropout_6 (Dropout)          (None, 20)                0         \n",
      "_________________________________________________________________\n",
      "dense_18 (Dense)             (None, 15)                315       \n",
      "_________________________________________________________________\n",
      "dropout_7 (Dropout)          (None, 15)                0         \n",
      "_________________________________________________________________\n",
      "dense_19 (Dense)             (None, 1)                 16        \n",
      "=================================================================\n",
      "Total params: 671\n",
      "Trainable params: 671\n",
      "Non-trainable params: 0\n",
      "_________________________________________________________________\n"
     ]
    }
   ],
   "source": [
    "# It's useful to use ReLu & LeakyReLu in hidden layers & sigmoid for binary classification\n",
    "# Adding the input layer and first hidden layer\n",
    "clf.add(Dense(units=10,kernel_initializer='he_uniform',activation='relu',input_dim=11))\n",
    "clf.add(Dropout(0.3))\n",
    "# Adding the 2nd hidden layer\n",
    "clf.add(Dense(units=20,kernel_initializer='he_uniform',activation='relu'))\n",
    "clf.add(Dropout(0.4))\n",
    "# Adding the 3rd hidden layer\n",
    "clf.add(Dense(units=15,kernel_initializer='he_uniform',activation='relu'))\n",
    "clf.add(Dropout(0.2))\n",
    "# Adding the output layer\n",
    "clf.add(Dense(units=1,kernel_initializer='glorot_uniform',activation='sigmoid'))\n",
    "clf.summary()"
   ]
  },
  {
   "cell_type": "code",
   "execution_count": 45,
   "metadata": {},
   "outputs": [],
   "source": [
    "# Compiling the ANN\n",
    "clf.compile(optimizer='adam',loss='binary_crossentropy',metrics=['accuracy'])"
   ]
  },
  {
   "cell_type": "code",
   "execution_count": 46,
   "metadata": {},
   "outputs": [
    {
     "name": "stdout",
     "output_type": "stream",
     "text": [
      "Train on 5359 samples, validate on 2641 samples\n",
      "Epoch 1/100\n",
      "5359/5359 [==============================] - 2s 281us/step - loss: 0.6294 - accuracy: 0.7339 - val_loss: 0.4878 - val_accuracy: 0.7963\n",
      "Epoch 2/100\n",
      "5359/5359 [==============================] - 1s 206us/step - loss: 0.5247 - accuracy: 0.7850 - val_loss: 0.4675 - val_accuracy: 0.7982\n",
      "Epoch 3/100\n",
      "5359/5359 [==============================] - 1s 202us/step - loss: 0.4875 - accuracy: 0.7960 - val_loss: 0.4548 - val_accuracy: 0.8001\n",
      "Epoch 4/100\n",
      "5359/5359 [==============================] - 1s 216us/step - loss: 0.4763 - accuracy: 0.7972 - val_loss: 0.4505 - val_accuracy: 0.7989\n",
      "Epoch 5/100\n",
      "5359/5359 [==============================] - 1s 203us/step - loss: 0.4756 - accuracy: 0.7970 - val_loss: 0.4470 - val_accuracy: 0.7989\n",
      "Epoch 6/100\n",
      "5359/5359 [==============================] - 1s 202us/step - loss: 0.4688 - accuracy: 0.7987 - val_loss: 0.4429 - val_accuracy: 0.8016\n",
      "Epoch 7/100\n",
      "5359/5359 [==============================] - 1s 202us/step - loss: 0.4571 - accuracy: 0.8048 - val_loss: 0.4361 - val_accuracy: 0.8092\n",
      "Epoch 8/100\n",
      "5359/5359 [==============================] - 1s 203us/step - loss: 0.4502 - accuracy: 0.8067 - val_loss: 0.4322 - val_accuracy: 0.8042\n",
      "Epoch 9/100\n",
      "5359/5359 [==============================] - 1s 231us/step - loss: 0.4444 - accuracy: 0.8089 - val_loss: 0.4304 - val_accuracy: 0.8137\n",
      "Epoch 10/100\n",
      "5359/5359 [==============================] - 1s 235us/step - loss: 0.4387 - accuracy: 0.8125 - val_loss: 0.4228 - val_accuracy: 0.8164\n",
      "Epoch 11/100\n",
      "5359/5359 [==============================] - 1s 202us/step - loss: 0.4358 - accuracy: 0.8171 - val_loss: 0.4204 - val_accuracy: 0.8224\n",
      "Epoch 12/100\n",
      "5359/5359 [==============================] - 1s 201us/step - loss: 0.4337 - accuracy: 0.8166 - val_loss: 0.4166 - val_accuracy: 0.8254\n",
      "Epoch 13/100\n",
      "5359/5359 [==============================] - 1s 218us/step - loss: 0.4295 - accuracy: 0.8209 - val_loss: 0.4101 - val_accuracy: 0.8330\n",
      "Epoch 14/100\n",
      "5359/5359 [==============================] - 1s 223us/step - loss: 0.4213 - accuracy: 0.8225 - val_loss: 0.4110 - val_accuracy: 0.8277\n",
      "Epoch 15/100\n",
      "5359/5359 [==============================] - 1s 212us/step - loss: 0.4188 - accuracy: 0.8266 - val_loss: 0.4056 - val_accuracy: 0.8326\n",
      "Epoch 16/100\n",
      "5359/5359 [==============================] - 1s 206us/step - loss: 0.4161 - accuracy: 0.8276 - val_loss: 0.4024 - val_accuracy: 0.8383\n",
      "Epoch 17/100\n",
      "5359/5359 [==============================] - 1s 260us/step - loss: 0.4097 - accuracy: 0.8294 - val_loss: 0.3912 - val_accuracy: 0.8417\n",
      "Epoch 18/100\n",
      "5359/5359 [==============================] - 1s 238us/step - loss: 0.4109 - accuracy: 0.8322 - val_loss: 0.3914 - val_accuracy: 0.8413\n",
      "Epoch 19/100\n",
      "5359/5359 [==============================] - 1s 238us/step - loss: 0.4001 - accuracy: 0.8343 - val_loss: 0.3892 - val_accuracy: 0.8387\n",
      "Epoch 20/100\n",
      "5359/5359 [==============================] - 1s 254us/step - loss: 0.4038 - accuracy: 0.8330 - val_loss: 0.3904 - val_accuracy: 0.8364\n",
      "Epoch 21/100\n",
      "5359/5359 [==============================] - 1s 253us/step - loss: 0.4021 - accuracy: 0.8317 - val_loss: 0.3912 - val_accuracy: 0.8376\n",
      "Epoch 22/100\n",
      "5359/5359 [==============================] - 1s 246us/step - loss: 0.3989 - accuracy: 0.8341 - val_loss: 0.3874 - val_accuracy: 0.8402\n",
      "Epoch 23/100\n",
      "5359/5359 [==============================] - 1s 234us/step - loss: 0.3982 - accuracy: 0.8399 - val_loss: 0.3836 - val_accuracy: 0.8440\n",
      "Epoch 24/100\n",
      "5359/5359 [==============================] - 1s 244us/step - loss: 0.3956 - accuracy: 0.8373 - val_loss: 0.3863 - val_accuracy: 0.8372\n",
      "Epoch 25/100\n",
      "5359/5359 [==============================] - 1s 272us/step - loss: 0.3963 - accuracy: 0.8356 - val_loss: 0.3825 - val_accuracy: 0.8402\n",
      "Epoch 26/100\n",
      "5359/5359 [==============================] - 1s 255us/step - loss: 0.3954 - accuracy: 0.8352 - val_loss: 0.3800 - val_accuracy: 0.8406\n",
      "Epoch 27/100\n",
      "5359/5359 [==============================] - 1s 252us/step - loss: 0.3929 - accuracy: 0.8371 - val_loss: 0.3819 - val_accuracy: 0.8425\n",
      "Epoch 28/100\n",
      "5359/5359 [==============================] - 1s 236us/step - loss: 0.3912 - accuracy: 0.8423 - val_loss: 0.3824 - val_accuracy: 0.8410\n",
      "Epoch 29/100\n",
      "5359/5359 [==============================] - 1s 227us/step - loss: 0.3898 - accuracy: 0.8388 - val_loss: 0.3801 - val_accuracy: 0.8432\n",
      "Epoch 30/100\n",
      "5359/5359 [==============================] - 1s 216us/step - loss: 0.3906 - accuracy: 0.8388 - val_loss: 0.3827 - val_accuracy: 0.8417\n",
      "Epoch 31/100\n",
      "5359/5359 [==============================] - 1s 230us/step - loss: 0.3924 - accuracy: 0.8390 - val_loss: 0.3905 - val_accuracy: 0.8349\n",
      "Epoch 32/100\n",
      "5359/5359 [==============================] - 1s 247us/step - loss: 0.3961 - accuracy: 0.8350 - val_loss: 0.3852 - val_accuracy: 0.8410\n",
      "Epoch 33/100\n",
      "5359/5359 [==============================] - 1s 233us/step - loss: 0.3865 - accuracy: 0.8362 - val_loss: 0.3873 - val_accuracy: 0.8323\n",
      "Epoch 34/100\n",
      "5359/5359 [==============================] - 1s 224us/step - loss: 0.3854 - accuracy: 0.8399 - val_loss: 0.3780 - val_accuracy: 0.8417\n",
      "Epoch 35/100\n",
      "5359/5359 [==============================] - 1s 227us/step - loss: 0.3868 - accuracy: 0.8384 - val_loss: 0.3783 - val_accuracy: 0.8417\n",
      "Epoch 36/100\n",
      "5359/5359 [==============================] - 1s 222us/step - loss: 0.3816 - accuracy: 0.8416 - val_loss: 0.3731 - val_accuracy: 0.8466\n",
      "Epoch 37/100\n",
      "5359/5359 [==============================] - 1s 211us/step - loss: 0.3835 - accuracy: 0.8362 - val_loss: 0.3764 - val_accuracy: 0.8432\n",
      "Epoch 38/100\n",
      "5359/5359 [==============================] - 1s 232us/step - loss: 0.3781 - accuracy: 0.8418 - val_loss: 0.3701 - val_accuracy: 0.8474\n",
      "Epoch 39/100\n",
      "5359/5359 [==============================] - 1s 220us/step - loss: 0.3854 - accuracy: 0.8328 - val_loss: 0.3713 - val_accuracy: 0.8417\n",
      "Epoch 40/100\n",
      "5359/5359 [==============================] - 1s 215us/step - loss: 0.3799 - accuracy: 0.8391 - val_loss: 0.3684 - val_accuracy: 0.8463\n",
      "Epoch 41/100\n",
      "5359/5359 [==============================] - 1s 235us/step - loss: 0.3766 - accuracy: 0.8418 - val_loss: 0.3705 - val_accuracy: 0.8455\n",
      "Epoch 42/100\n",
      "5359/5359 [==============================] - 1s 224us/step - loss: 0.3820 - accuracy: 0.8388 - val_loss: 0.3705 - val_accuracy: 0.8436\n",
      "Epoch 43/100\n",
      "5359/5359 [==============================] - 1s 221us/step - loss: 0.3855 - accuracy: 0.8431 - val_loss: 0.3743 - val_accuracy: 0.8455\n",
      "Epoch 44/100\n",
      "5359/5359 [==============================] - 1s 221us/step - loss: 0.3713 - accuracy: 0.8431 - val_loss: 0.3698 - val_accuracy: 0.8436\n",
      "Epoch 45/100\n",
      "5359/5359 [==============================] - 1s 224us/step - loss: 0.3769 - accuracy: 0.8433 - val_loss: 0.3754 - val_accuracy: 0.8436\n",
      "Epoch 46/100\n",
      "5359/5359 [==============================] - 1s 218us/step - loss: 0.3718 - accuracy: 0.8408 - val_loss: 0.3661 - val_accuracy: 0.8470\n",
      "Epoch 47/100\n",
      "5359/5359 [==============================] - 1s 220us/step - loss: 0.3711 - accuracy: 0.8412 - val_loss: 0.3695 - val_accuracy: 0.8432\n",
      "Epoch 48/100\n",
      "5359/5359 [==============================] - 1s 227us/step - loss: 0.3731 - accuracy: 0.8421 - val_loss: 0.3682 - val_accuracy: 0.8470\n",
      "Epoch 49/100\n",
      "5359/5359 [==============================] - 1s 226us/step - loss: 0.3744 - accuracy: 0.8421 - val_loss: 0.3687 - val_accuracy: 0.8425\n",
      "Epoch 50/100\n",
      "5359/5359 [==============================] - 1s 224us/step - loss: 0.3726 - accuracy: 0.8457 - val_loss: 0.3737 - val_accuracy: 0.8436\n",
      "Epoch 51/100\n",
      "5359/5359 [==============================] - 1s 217us/step - loss: 0.3767 - accuracy: 0.8350 - val_loss: 0.3667 - val_accuracy: 0.8451\n",
      "Epoch 52/100\n",
      "5359/5359 [==============================] - 1s 212us/step - loss: 0.3656 - accuracy: 0.8412 - val_loss: 0.3658 - val_accuracy: 0.8444\n",
      "Epoch 53/100\n",
      "5359/5359 [==============================] - 1s 213us/step - loss: 0.3744 - accuracy: 0.8423 - val_loss: 0.3710 - val_accuracy: 0.8421\n",
      "Epoch 54/100\n",
      "5359/5359 [==============================] - 1s 207us/step - loss: 0.3762 - accuracy: 0.8425 - val_loss: 0.3640 - val_accuracy: 0.8455\n",
      "Epoch 55/100\n",
      "5359/5359 [==============================] - 1s 211us/step - loss: 0.3723 - accuracy: 0.8397 - val_loss: 0.3650 - val_accuracy: 0.8466\n",
      "Epoch 56/100\n"
     ]
    },
    {
     "name": "stdout",
     "output_type": "stream",
     "text": [
      "5359/5359 [==============================] - 1s 216us/step - loss: 0.3701 - accuracy: 0.8419 - val_loss: 0.3647 - val_accuracy: 0.8493\n",
      "Epoch 57/100\n",
      "5359/5359 [==============================] - 1s 200us/step - loss: 0.3820 - accuracy: 0.8386 - val_loss: 0.3703 - val_accuracy: 0.8459\n",
      "Epoch 58/100\n",
      "5359/5359 [==============================] - 1s 226us/step - loss: 0.3693 - accuracy: 0.8427 - val_loss: 0.3729 - val_accuracy: 0.8364\n",
      "Epoch 59/100\n",
      "5359/5359 [==============================] - 1s 212us/step - loss: 0.3693 - accuracy: 0.8466 - val_loss: 0.3621 - val_accuracy: 0.8474\n",
      "Epoch 60/100\n",
      "5359/5359 [==============================] - 1s 203us/step - loss: 0.3708 - accuracy: 0.8410 - val_loss: 0.3700 - val_accuracy: 0.8432\n",
      "Epoch 61/100\n",
      "5359/5359 [==============================] - 1s 221us/step - loss: 0.3687 - accuracy: 0.8416 - val_loss: 0.3703 - val_accuracy: 0.8425\n",
      "Epoch 62/100\n",
      "5359/5359 [==============================] - 1s 211us/step - loss: 0.3657 - accuracy: 0.8440 - val_loss: 0.3674 - val_accuracy: 0.8478\n",
      "Epoch 63/100\n",
      "5359/5359 [==============================] - 1s 204us/step - loss: 0.3634 - accuracy: 0.8475 - val_loss: 0.3652 - val_accuracy: 0.8440\n",
      "Epoch 64/100\n",
      "5359/5359 [==============================] - 1s 221us/step - loss: 0.3650 - accuracy: 0.8406 - val_loss: 0.3669 - val_accuracy: 0.8459\n",
      "Epoch 65/100\n",
      "5359/5359 [==============================] - 1s 215us/step - loss: 0.3661 - accuracy: 0.8451 - val_loss: 0.3669 - val_accuracy: 0.8489\n",
      "Epoch 66/100\n",
      "5359/5359 [==============================] - 1s 233us/step - loss: 0.3687 - accuracy: 0.8444 - val_loss: 0.3677 - val_accuracy: 0.8417\n",
      "Epoch 67/100\n",
      "5359/5359 [==============================] - 1s 235us/step - loss: 0.3704 - accuracy: 0.8375 - val_loss: 0.3617 - val_accuracy: 0.8501\n",
      "Epoch 68/100\n",
      "5359/5359 [==============================] - 1s 261us/step - loss: 0.3703 - accuracy: 0.8427 - val_loss: 0.3685 - val_accuracy: 0.8451\n",
      "Epoch 69/100\n",
      "5359/5359 [==============================] - 1s 257us/step - loss: 0.3663 - accuracy: 0.8436 - val_loss: 0.3654 - val_accuracy: 0.8459\n",
      "Epoch 70/100\n",
      "5359/5359 [==============================] - 1s 262us/step - loss: 0.3738 - accuracy: 0.8403 - val_loss: 0.3685 - val_accuracy: 0.8417\n",
      "Epoch 71/100\n",
      "5359/5359 [==============================] - 1s 254us/step - loss: 0.3741 - accuracy: 0.8444 - val_loss: 0.3627 - val_accuracy: 0.8501\n",
      "Epoch 72/100\n",
      "5359/5359 [==============================] - 1s 246us/step - loss: 0.3728 - accuracy: 0.8386 - val_loss: 0.3667 - val_accuracy: 0.8444\n",
      "Epoch 73/100\n",
      "5359/5359 [==============================] - 1s 248us/step - loss: 0.3649 - accuracy: 0.8487 - val_loss: 0.3726 - val_accuracy: 0.8535\n",
      "Epoch 74/100\n",
      "5359/5359 [==============================] - 1s 238us/step - loss: 0.3643 - accuracy: 0.8440 - val_loss: 0.3650 - val_accuracy: 0.8478\n",
      "Epoch 75/100\n",
      "5359/5359 [==============================] - 1s 246us/step - loss: 0.3693 - accuracy: 0.8431 - val_loss: 0.3701 - val_accuracy: 0.8459\n",
      "Epoch 76/100\n",
      "5359/5359 [==============================] - 1s 258us/step - loss: 0.3741 - accuracy: 0.8391 - val_loss: 0.3669 - val_accuracy: 0.8482\n",
      "Epoch 77/100\n",
      "5359/5359 [==============================] - 1s 252us/step - loss: 0.3633 - accuracy: 0.8479 - val_loss: 0.3721 - val_accuracy: 0.8482\n",
      "Epoch 78/100\n",
      "5359/5359 [==============================] - 1s 208us/step - loss: 0.3686 - accuracy: 0.8412 - val_loss: 0.3663 - val_accuracy: 0.8436\n",
      "Epoch 79/100\n",
      "5359/5359 [==============================] - 1s 226us/step - loss: 0.3691 - accuracy: 0.8446 - val_loss: 0.3739 - val_accuracy: 0.8466\n",
      "Epoch 80/100\n",
      "5359/5359 [==============================] - 1s 225us/step - loss: 0.3629 - accuracy: 0.8419 - val_loss: 0.3672 - val_accuracy: 0.8413\n",
      "Epoch 81/100\n",
      "5359/5359 [==============================] - 1s 225us/step - loss: 0.3684 - accuracy: 0.8477 - val_loss: 0.3675 - val_accuracy: 0.8474\n",
      "Epoch 82/100\n",
      "5359/5359 [==============================] - 1s 232us/step - loss: 0.3596 - accuracy: 0.8464 - val_loss: 0.3688 - val_accuracy: 0.8497\n",
      "Epoch 83/100\n",
      "5359/5359 [==============================] - 1s 214us/step - loss: 0.3676 - accuracy: 0.8447 - val_loss: 0.3671 - val_accuracy: 0.8466\n",
      "Epoch 84/100\n",
      "5359/5359 [==============================] - 1s 206us/step - loss: 0.3692 - accuracy: 0.8436 - val_loss: 0.3708 - val_accuracy: 0.8459\n",
      "Epoch 85/100\n",
      "5359/5359 [==============================] - 1s 205us/step - loss: 0.3684 - accuracy: 0.8438 - val_loss: 0.3688 - val_accuracy: 0.8413\n",
      "Epoch 86/100\n",
      "5359/5359 [==============================] - 1s 227us/step - loss: 0.3674 - accuracy: 0.8412 - val_loss: 0.3668 - val_accuracy: 0.8489\n",
      "Epoch 87/100\n",
      "5359/5359 [==============================] - 1s 213us/step - loss: 0.3705 - accuracy: 0.8427 - val_loss: 0.3699 - val_accuracy: 0.8448\n",
      "Epoch 88/100\n",
      "5359/5359 [==============================] - 1s 224us/step - loss: 0.3754 - accuracy: 0.8436 - val_loss: 0.3718 - val_accuracy: 0.8485\n",
      "Epoch 89/100\n",
      "5359/5359 [==============================] - 1s 214us/step - loss: 0.3686 - accuracy: 0.8479 - val_loss: 0.3747 - val_accuracy: 0.8387\n",
      "Epoch 90/100\n",
      "5359/5359 [==============================] - 1s 235us/step - loss: 0.3691 - accuracy: 0.8434 - val_loss: 0.3685 - val_accuracy: 0.8448\n",
      "Epoch 91/100\n",
      "5359/5359 [==============================] - 1s 220us/step - loss: 0.3641 - accuracy: 0.8474 - val_loss: 0.3689 - val_accuracy: 0.8512\n",
      "Epoch 92/100\n",
      "5359/5359 [==============================] - 1s 222us/step - loss: 0.3718 - accuracy: 0.8442 - val_loss: 0.3719 - val_accuracy: 0.8493\n",
      "Epoch 93/100\n",
      "5359/5359 [==============================] - 1s 248us/step - loss: 0.3670 - accuracy: 0.8446 - val_loss: 0.3659 - val_accuracy: 0.8497\n",
      "Epoch 94/100\n",
      "5359/5359 [==============================] - 1s 228us/step - loss: 0.3671 - accuracy: 0.8453 - val_loss: 0.3734 - val_accuracy: 0.8402\n",
      "Epoch 95/100\n",
      "5359/5359 [==============================] - 1s 228us/step - loss: 0.3635 - accuracy: 0.8433 - val_loss: 0.3678 - val_accuracy: 0.8459\n",
      "Epoch 96/100\n",
      "5359/5359 [==============================] - 1s 230us/step - loss: 0.3727 - accuracy: 0.8397 - val_loss: 0.3693 - val_accuracy: 0.8455\n",
      "Epoch 97/100\n",
      "5359/5359 [==============================] - 1s 213us/step - loss: 0.3658 - accuracy: 0.8479 - val_loss: 0.3623 - val_accuracy: 0.8542\n",
      "Epoch 98/100\n",
      "5359/5359 [==============================] - 1s 221us/step - loss: 0.3660 - accuracy: 0.8423 - val_loss: 0.3636 - val_accuracy: 0.8489\n",
      "Epoch 99/100\n",
      "5359/5359 [==============================] - 1s 217us/step - loss: 0.3668 - accuracy: 0.8483 - val_loss: 0.3638 - val_accuracy: 0.8516\n",
      "Epoch 100/100\n",
      "5359/5359 [==============================] - 1s 223us/step - loss: 0.3670 - accuracy: 0.8429 - val_loss: 0.3647 - val_accuracy: 0.8527\n"
     ]
    }
   ],
   "source": [
    "# Fitting the ANN to the Training set\n",
    "model_history=clf.fit(X_train,y_train,validation_split=0.33,batch_size=10,epochs=100)"
   ]
  },
  {
   "cell_type": "code",
   "execution_count": 49,
   "metadata": {},
   "outputs": [
    {
     "name": "stdout",
     "output_type": "stream",
     "text": [
      "dict_keys(['val_loss', 'val_accuracy', 'loss', 'accuracy'])\n"
     ]
    }
   ],
   "source": [
    "# list all data in history\n",
    "print(model_history.history.keys())"
   ]
  },
  {
   "cell_type": "code",
   "execution_count": 50,
   "metadata": {},
   "outputs": [
    {
     "data": {
      "text/plain": [
       "<matplotlib.legend.Legend at 0x18d67b89ec8>"
      ]
     },
     "execution_count": 50,
     "metadata": {},
     "output_type": "execute_result"
    },
    {
     "data": {
      "image/png": "[encoded data removed]",
      "text/plain": [
       "<Figure size 432x288 with 1 Axes>"
      ]
     },
     "metadata": {
      "needs_background": "light"
     },
     "output_type": "display_data"
    }
   ],
   "source": [
    "# summarize history for accuracy\n",
    "plt.plot(model_history.history['accuracy'])\n",
    "plt.plot(model_history.history['val_accuracy'])\n",
    "plt.title('model accuracy')\n",
    "plt.ylabel('accuracy')\n",
    "plt.xlabel('epoch')\n",
    "plt.legend(['train', 'test'], loc='upper left')"
   ]
  },
  {
   "cell_type": "code",
   "execution_count": 51,
   "metadata": {},
   "outputs": [
    {
     "data": {
      "text/plain": [
       "<matplotlib.legend.Legend at 0x18d772a55c8>"
      ]
     },
     "execution_count": 51,
     "metadata": {},
     "output_type": "execute_result"
    },
    {
     "data": {
      "image/png": "[encoded data removed]",
      "text/plain": [
       "<Figure size 432x288 with 1 Axes>"
      ]
     },
     "metadata": {
      "needs_background": "light"
     },
     "output_type": "display_data"
    }
   ],
   "source": [
    "# summarize history for loss\n",
    "plt.plot(model_history.history['loss'])\n",
    "plt.plot(model_history.history['val_loss'])\n",
    "plt.title('model loss')\n",
    "plt.ylabel('loss')\n",
    "plt.xlabel('epoch')\n",
    "plt.legend(['train', 'test'], loc='upper left')"
   ]
  },
  {
   "cell_type": "code",
   "execution_count": 61,
   "metadata": {},
   "outputs": [],
   "source": [
    "# Predicting the Test set results\n",
    "y_pred = clf.predict(X_test)\n",
    "y_pred = y_pred > 0.5"
   ]
  },
  {
   "cell_type": "code",
   "execution_count": 63,
   "metadata": {},
   "outputs": [],
   "source": [
    "# Making the Confusion Matrix\n",
    "from sklearn.metrics import confusion_matrix\n",
    "cm = confusion_matrix(y_test, y_pred)"
   ]
  },
  {
   "cell_type": "code",
   "execution_count": 64,
   "metadata": {},
   "outputs": [
    {
     "data": {
      "text/plain": [
       "0.8585"
      ]
     },
     "execution_count": 64,
     "metadata": {},
     "output_type": "execute_result"
    }
   ],
   "source": [
    "# Calculate the Accuracy\n",
    "from sklearn.metrics import accuracy_score\n",
    "score=accuracy_score(y_pred,y_test)\n",
    "score"
   ]
  },
  {
   "cell_type": "code",
   "execution_count": 65,
   "metadata": {},
   "outputs": [
    {
     "data": {
      "text/plain": [
       "(2.0, 0.0)"
      ]
     },
     "execution_count": 65,
     "metadata": {},
     "output_type": "execute_result"
    },
    {
     "data": {
      "image/png": "[encoded data removed]",
      "text/plain": [
       "<Figure size 216x216 with 2 Axes>"
      ]
     },
     "metadata": {
      "needs_background": "light"
     },
     "output_type": "display_data"
    }
   ],
   "source": [
    "import seaborn as sns\n",
    "fig,ax=plt.subplots(figsize=(3,3))\n",
    "ax=sns.heatmap(cm,cmap='coolwarm',annot=True)\n",
    "bottom,top=ax.get_ylim()\n",
    "ax.set_ylim(bottom+0.5,top-0.5)"
   ]
  }
 ],
 "metadata": {
  "kernelspec": {
   "display_name": "Python 3",
   "language": "python",
   "name": "python3"
  },
  "language_info": {
   "codemirror_mode": {
    "name": "ipython",
    "version": 3
   },
   "file_extension": ".py",
   "mimetype": "text/x-python",
   "name": "python",
   "nbconvert_exporter": "python",
   "pygments_lexer": "ipython3",
   "version": "3.7.4"
  }
 },
 "nbformat": 4,
 "nbformat_minor": 2
}
