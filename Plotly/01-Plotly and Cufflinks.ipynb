{
 "cells": [
  {
   "cell_type": "markdown",
   "metadata": {},
   "source": [
    "# Plotly and Cufflinks"
   ]
  },
  {
   "cell_type": "markdown",
   "metadata": {},
   "source": [
    "Plotly is a library that allows you to create interactive plots that you can use in dashboards or websites (you can save them as html files or static images).\n",
    "\n",
    "## Installation\n",
    "\n",
    "In order for this all to work, you'll need to install plotly and cufflinks to call plots directly off of a pandas dataframe. These libraries are not currently available through **conda** but are available through **pip**. Install the libraries at your command line/terminal using:\n",
    "\n",
    "    pip install plotly\n",
    "    pip install cufflinks\n",
    "\n",
    "** NOTE: Make sure you only have one installation of Python on your computer when you do this, otherwise the installation may not work. **\n",
    "\n",
    "## Imports and Set-up"
   ]
  },
  {
   "cell_type": "code",
   "execution_count": 19,
   "metadata": {},
   "outputs": [],
   "source": [
    "import pandas as pd\n",
    "import numpy as np\n",
    "%matplotlib inline"
   ]
  },
  {
   "cell_type": "code",
   "execution_count": 20,
   "metadata": {},
   "outputs": [
    {
     "name": "stdout",
     "output_type": "stream",
     "text": [
      "4.12.0\n"
     ]
    }
   ],
   "source": [
    "from plotly import __version__\n",
    "from plotly.offline import download_plotlyjs, init_notebook_mode, plot, iplot\n",
    "\n",
    "print(__version__) # requires version >= 1.9.0"
   ]
  },
  {
   "cell_type": "code",
   "execution_count": 21,
   "metadata": {},
   "outputs": [],
   "source": [
    "import cufflinks as cf"
   ]
  },
  {
   "cell_type": "code",
   "execution_count": 22,
   "metadata": {},
   "outputs": [
    {
     "data": {
      "text/html": [
       "        <script type=\"text/javascript\">\n",
       "        window.PlotlyConfig = {MathJaxConfig: 'local'};\n",
       "        if (window.MathJax) {MathJax.Hub.Config({SVG: {font: \"STIX-Web\"}});}\n",
       "        if (typeof require !== 'undefined') {\n",
       "        require.undef(\"plotly\");\n",
       "        requirejs.config({\n",
       "            paths: {\n",
       "                'plotly': ['https://cdn.plot.ly/plotly-latest.min']\n",
       "            }\n",
       "        });\n",
       "        require(['plotly'], function(Plotly) {\n",
       "            window._Plotly = Plotly;\n",
       "        });\n",
       "        }\n",
       "        </script>\n",
       "        "
      ]
     },
     "metadata": {},
     "output_type": "display_data"
    }
   ],
   "source": [
    "# For Notebooks\n",
    "init_notebook_mode(connected=True)"
   ]
  },
  {
   "cell_type": "code",
   "execution_count": 23,
   "metadata": {},
   "outputs": [
    {
     "data": {
      "text/html": [
       "        <script type=\"text/javascript\">\n",
       "        window.PlotlyConfig = {MathJaxConfig: 'local'};\n",
       "        if (window.MathJax) {MathJax.Hub.Config({SVG: {font: \"STIX-Web\"}});}\n",
       "        if (typeof require !== 'undefined') {\n",
       "        require.undef(\"plotly\");\n",
       "        requirejs.config({\n",
       "            paths: {\n",
       "                'plotly': ['https://cdn.plot.ly/plotly-latest.min']\n",
       "            }\n",
       "        });\n",
       "        require(['plotly'], function(Plotly) {\n",
       "            window._Plotly = Plotly;\n",
       "        });\n",
       "        }\n",
       "        </script>\n",
       "        "
      ]
     },
     "metadata": {},
     "output_type": "display_data"
    }
   ],
   "source": [
    "# For offline use\n",
    "cf.go_offline()"
   ]
  },
  {
   "cell_type": "markdown",
   "metadata": {},
   "source": [
    "### Fake Data"
   ]
  },
  {
   "cell_type": "code",
   "execution_count": 24,
   "metadata": {},
   "outputs": [],
   "source": [
    "df = pd.DataFrame(np.random.randn(100,4),columns='A B C D'.split())"
   ]
  },
  {
   "cell_type": "code",
   "execution_count": 25,
   "metadata": {},
   "outputs": [
    {
     "data": {
      "text/html": [
       "<div>\n",
       "<style scoped>\n",
       "    .dataframe tbody tr th:only-of-type {\n",
       "        vertical-align: middle;\n",
       "    }\n",
       "\n",
       "    .dataframe tbody tr th {\n",
       "        vertical-align: top;\n",
       "    }\n",
       "\n",
       "    .dataframe thead th {\n",
       "        text-align: right;\n",
       "    }\n",
       "</style>\n",
       "<table border=\"1\" class=\"dataframe\">\n",
       "  <thead>\n",
       "    <tr style=\"text-align: right;\">\n",
       "      <th></th>\n",
       "      <th>A</th>\n",
       "      <th>B</th>\n",
       "      <th>C</th>\n",
       "      <th>D</th>\n",
       "    </tr>\n",
       "  </thead>\n",
       "  <tbody>\n",
       "    <tr>\n",
       "      <td>0</td>\n",
       "      <td>2.349464</td>\n",
       "      <td>-0.242322</td>\n",
       "      <td>1.103658</td>\n",
       "      <td>0.136121</td>\n",
       "    </tr>\n",
       "    <tr>\n",
       "      <td>1</td>\n",
       "      <td>0.310867</td>\n",
       "      <td>-2.706976</td>\n",
       "      <td>-0.359109</td>\n",
       "      <td>0.697381</td>\n",
       "    </tr>\n",
       "    <tr>\n",
       "      <td>2</td>\n",
       "      <td>-0.583059</td>\n",
       "      <td>1.295395</td>\n",
       "      <td>-0.390609</td>\n",
       "      <td>-0.707876</td>\n",
       "    </tr>\n",
       "    <tr>\n",
       "      <td>3</td>\n",
       "      <td>0.743589</td>\n",
       "      <td>1.014075</td>\n",
       "      <td>1.026839</td>\n",
       "      <td>0.626237</td>\n",
       "    </tr>\n",
       "    <tr>\n",
       "      <td>4</td>\n",
       "      <td>0.509959</td>\n",
       "      <td>0.013848</td>\n",
       "      <td>0.375253</td>\n",
       "      <td>0.103100</td>\n",
       "    </tr>\n",
       "  </tbody>\n",
       "</table>\n",
       "</div>"
      ],
      "text/plain": [
       "          A         B         C         D\n",
       "0  2.349464 -0.242322  1.103658  0.136121\n",
       "1  0.310867 -2.706976 -0.359109  0.697381\n",
       "2 -0.583059  1.295395 -0.390609 -0.707876\n",
       "3  0.743589  1.014075  1.026839  0.626237\n",
       "4  0.509959  0.013848  0.375253  0.103100"
      ]
     },
     "execution_count": 25,
     "metadata": {},
     "output_type": "execute_result"
    }
   ],
   "source": [
    "df.head()"
   ]
  },
  {
   "cell_type": "code",
   "execution_count": 26,
   "metadata": {},
   "outputs": [],
   "source": [
    "df2 = pd.DataFrame({'Category':['A','B','C'],'Values':[32,43,50]})"
   ]
  },
  {
   "cell_type": "code",
   "execution_count": 27,
   "metadata": {},
   "outputs": [
    {
     "data": {
      "text/html": [
       "<div>\n",
       "<style scoped>\n",
       "    .dataframe tbody tr th:only-of-type {\n",
       "        vertical-align: middle;\n",
       "    }\n",
       "\n",
       "    .dataframe tbody tr th {\n",
       "        vertical-align: top;\n",
       "    }\n",
       "\n",
       "    .dataframe thead th {\n",
       "        text-align: right;\n",
       "    }\n",
       "</style>\n",
       "<table border=\"1\" class=\"dataframe\">\n",
       "  <thead>\n",
       "    <tr style=\"text-align: right;\">\n",
       "      <th></th>\n",
       "      <th>Category</th>\n",
       "      <th>Values</th>\n",
       "    </tr>\n",
       "  </thead>\n",
       "  <tbody>\n",
       "    <tr>\n",
       "      <td>0</td>\n",
       "      <td>A</td>\n",
       "      <td>32</td>\n",
       "    </tr>\n",
       "    <tr>\n",
       "      <td>1</td>\n",
       "      <td>B</td>\n",
       "      <td>43</td>\n",
       "    </tr>\n",
       "    <tr>\n",
       "      <td>2</td>\n",
       "      <td>C</td>\n",
       "      <td>50</td>\n",
       "    </tr>\n",
       "  </tbody>\n",
       "</table>\n",
       "</div>"
      ],
      "text/plain": [
       "  Category  Values\n",
       "0        A      32\n",
       "1        B      43\n",
       "2        C      50"
      ]
     },
     "execution_count": 27,
     "metadata": {},
     "output_type": "execute_result"
    }
   ],
   "source": [
    "df2.head()"
   ]
  },
  {
   "cell_type": "markdown",
   "metadata": {},
   "source": [
    "## Using Cufflinks and iplot()\n",
    "\n",
    "* scatter\n",
    "* bar\n",
    "* box\n",
    "* spread\n",
    "* ratio\n",
    "* heatmap\n",
    "* surface\n",
    "* histogram\n",
    "* bubble"
   ]
  },
  {
   "cell_type": "markdown",
   "metadata": {},
   "source": [
    "## Scatter"
   ]
  },
  {
   "cell_type": "code",
   "execution_count": 28,
   "metadata": {},
   "outputs": [
    {
     "data": {
      "application/vnd.plotly.v1+json": {
       "config": {
        "linkText": "Export to plot.ly",
        "plotlyServerURL": "https://plot.ly",
        "showLink": true
       },
       "data": [
        {
         "line": {
          "color": "rgba(255, 153, 51, 1.0)",
          "dash": "solid",
          "shape": "linear",
          "width": 1.3
         },
         "marker": {
          "size": 10,
          "symbol": "circle"
         },
         "mode": "markers",
         "name": "B",
         "text": "",
         "type": "scatter",
         "x": [
          2.349463736678292,
          0.3108666103275385,
          -0.583059093678768,
          0.7435885743025653,
          0.5099588098432798,
          1.966548109766253,
          1.1129898957074027,
          0.9611232611901351,
          -0.8806101014203047,
          1.0375710853156552,
          0.8845667407050395,
          0.35646066025878753,
          -1.1704649292446916,
          -0.8484060076978288,
          -1.328673180495637,
          -0.6290443312838666,
          0.2544498414697697,
          0.680348696415441,
          -0.574757688795644,
          0.7873185458279743,
          1.092439973790728,
          -0.33905546810607146,
          -0.42096026392177893,
          2.0117528995759932,
          -0.11791651021532197,
          0.3825425311059134,
          0.8719462945865029,
          -0.01409655835904745,
          -0.6241638118596583,
          0.3075622492359093,
          1.2412826092237823,
          -0.3586456201977495,
          -1.7082564416376078,
          -0.7390107854664355,
          0.07674312808999541,
          0.6621222926702514,
          -0.5976930309969201,
          0.02449196098641207,
          1.6507602514940374,
          -0.7930135621497139,
          -0.30453355733048615,
          -0.07763659811971005,
          2.1073933548155788,
          0.8882738710911402,
          0.969196759272263,
          2.9340866721007295,
          1.3811341499105498,
          -1.0242821964430902,
          0.3922130569684905,
          0.33620212753268575,
          -0.5302585342303152,
          0.17890119119824593,
          0.019558389885683335,
          0.2586508632542788,
          -0.5882636693456064,
          0.4280553780557698,
          0.6573994705294567,
          -2.3258329038234393,
          -0.6421196396204563,
          0.36292251478888504,
          -1.8104712563800573,
          -0.7829556928950923,
          0.5001903797435958,
          -0.018774145722104715,
          -0.016942425665276803,
          -1.525440739390988,
          -0.8006457698691762,
          0.5296622914630553,
          -1.8220488470166538,
          -0.06173198001629492,
          -0.1642904593185454,
          -0.7468745036491485,
          0.6761936748237967,
          1.9478795434010834,
          0.4033264043525933,
          0.298827194151868,
          -1.0231861023554405,
          -0.6546339980700924,
          -0.4228532658975435,
          0.9338488686667084,
          0.4194981015674065,
          -1.2940297969923231,
          -0.5633240026073197,
          -1.7315335815688098,
          0.03062121319198041,
          0.27423303246300695,
          0.2591970498434519,
          -1.8963660993830473,
          -2.1397656526426228,
          1.8661395187606886,
          0.5348513410557355,
          -0.25764763876401997,
          -0.12581490569591677,
          0.9976646067470557,
          1.1606409118888894,
          0.36809489076520036,
          -1.099822859422754,
          -0.9177250385045125,
          0.25358679835536085,
          1.201352455006568
         ],
         "y": [
          -0.2423219949389645,
          -2.706976290388302,
          1.2953954200897868,
          1.0140749314238602,
          0.013848059806591515,
          0.5887514333233522,
          0.3465406031828833,
          1.0611421450054488,
          0.6419282667293559,
          -0.8838581497504631,
          0.4148028398283948,
          -0.6517477223270324,
          0.8674115443174526,
          0.5489179991817551,
          0.6574300852313422,
          -0.4549444472057328,
          -0.6706131600173989,
          -0.5291126040546213,
          -1.8217365516677237,
          1.444721043724773,
          0.7590392104277327,
          -0.09293925013803317,
          0.0503972895855374,
          0.145007606799687,
          -1.4809147392137594,
          -1.7563679027915409,
          -0.1366478446801668,
          -0.249880409389546,
          -1.5092014303269374,
          -1.2951933581366464,
          -0.3776816935327316,
          1.0500367846007583,
          2.0298731333973334,
          -0.5177442142650164,
          0.581326559850293,
          -1.15614374441983,
          -1.5974251016007963,
          -2.069878207551687,
          0.34569618335219143,
          1.0580442289797154,
          1.1143756268125253,
          0.6571354815017619,
          -0.033134048005478076,
          0.6500503187731492,
          1.804249260594454,
          0.8631998455493465,
          -0.8651144914203226,
          -0.48603282398988484,
          -1.7877943468082442,
          1.3108090320196126,
          -1.741348077810631,
          -0.29830640334535924,
          1.4957145372526197,
          -0.5414125413987575,
          0.2455871408269604,
          0.27960360946611895,
          -0.8673052508542467,
          0.230103197123487,
          -0.034143955297715245,
          0.06502501025699589,
          -2.194321449524192,
          -0.1632314690482964,
          -0.9880534457273676,
          -0.29926393381783994,
          0.29366069873202544,
          -0.8723884495437727,
          7.053549891964815e-05,
          -1.3105748100582921,
          1.4652962429346243,
          -0.7303225872571056,
          0.7981774297351967,
          0.8611213956410901,
          0.02222822235287305,
          0.6600086924732197,
          -2.6409659803744203,
          -0.5348090955409671,
          1.075407406047104,
          0.7052304529529135,
          -0.045799926817225264,
          -0.4760153334720511,
          -1.3587210895550077,
          -0.5272599116076675,
          -0.18591988363725706,
          0.6091872034069954,
          0.2668676271844891,
          0.10318620801740346,
          -0.8599520266992087,
          0.6605329680149644,
          0.5344677366032592,
          0.12479350332966131,
          -0.214626583134152,
          -0.45984866368511523,
          -0.9255916206161602,
          0.3393940004328594,
          -0.8931237996637412,
          0.8724502332921894,
          -0.2837812299787633,
          -0.4374598153438439,
          0.2803366464933947,
          0.26179862710883917
         ]
        }
       ],
       "layout": {
        "legend": {
         "bgcolor": "#F5F6F9",
         "font": {
          "color": "#4D5663"
         }
        },
        "paper_bgcolor": "#F5F6F9",
        "plot_bgcolor": "#F5F6F9",
        "template": {
         "data": {
          "bar": [
           {
            "error_x": {
             "color": "#2a3f5f"
            },
            "error_y": {
             "color": "#2a3f5f"
            },
            "marker": {
             "line": {
              "color": "#E5ECF6",
              "width": 0.5
             }
            },
            "type": "bar"
           }
          ],
          "barpolar": [
           {
            "marker": {
             "line": {
              "color": "#E5ECF6",
              "width": 0.5
             }
            },
            "type": "barpolar"
           }
          ],
          "carpet": [
           {
            "aaxis": {
             "endlinecolor": "#2a3f5f",
             "gridcolor": "white",
             "linecolor": "white",
             "minorgridcolor": "white",
             "startlinecolor": "#2a3f5f"
            },
            "baxis": {
             "endlinecolor": "#2a3f5f",
             "gridcolor": "white",
             "linecolor": "white",
             "minorgridcolor": "white",
             "startlinecolor": "#2a3f5f"
            },
            "type": "carpet"
           }
          ],
          "choropleth": [
           {
            "colorbar": {
             "outlinewidth": 0,
             "ticks": ""
            },
            "type": "choropleth"
           }
          ],
          "contour": [
           {
            "colorbar": {
             "outlinewidth": 0,
             "ticks": ""
            },
            "colorscale": [
             [
              0,
              "#0d0887"
             ],
             [
              0.1111111111111111,
              "#46039f"
             ],
             [
              0.2222222222222222,
              "#7201a8"
             ],
             [
              0.3333333333333333,
              "#9c179e"
             ],
             [
              0.4444444444444444,
              "#bd3786"
             ],
             [
              0.5555555555555556,
              "#d8576b"
             ],
             [
              0.6666666666666666,
              "#ed7953"
             ],
             [
              0.7777777777777778,
              "#fb9f3a"
             ],
             [
              0.8888888888888888,
              "#fdca26"
             ],
             [
              1,
              "#f0f921"
             ]
            ],
            "type": "contour"
           }
          ],
          "contourcarpet": [
           {
            "colorbar": {
             "outlinewidth": 0,
             "ticks": ""
            },
            "type": "contourcarpet"
           }
          ],
          "heatmap": [
           {
            "colorbar": {
             "outlinewidth": 0,
             "ticks": ""
            },
            "colorscale": [
             [
              0,
              "#0d0887"
             ],
             [
              0.1111111111111111,
              "#46039f"
             ],
             [
              0.2222222222222222,
              "#7201a8"
             ],
             [
              0.3333333333333333,
              "#9c179e"
             ],
             [
              0.4444444444444444,
              "#bd3786"
             ],
             [
              0.5555555555555556,
              "#d8576b"
             ],
             [
              0.6666666666666666,
              "#ed7953"
             ],
             [
              0.7777777777777778,
              "#fb9f3a"
             ],
             [
              0.8888888888888888,
              "#fdca26"
             ],
             [
              1,
              "#f0f921"
             ]
            ],
            "type": "heatmap"
           }
          ],
          "heatmapgl": [
           {
            "colorbar": {
             "outlinewidth": 0,
             "ticks": ""
            },
            "colorscale": [
             [
              0,
              "#0d0887"
             ],
             [
              0.1111111111111111,
              "#46039f"
             ],
             [
              0.2222222222222222,
              "#7201a8"
             ],
             [
              0.3333333333333333,
              "#9c179e"
             ],
             [
              0.4444444444444444,
              "#bd3786"
             ],
             [
              0.5555555555555556,
              "#d8576b"
             ],
             [
              0.6666666666666666,
              "#ed7953"
             ],
             [
              0.7777777777777778,
              "#fb9f3a"
             ],
             [
              0.8888888888888888,
              "#fdca26"
             ],
             [
              1,
              "#f0f921"
             ]
            ],
            "type": "heatmapgl"
           }
          ],
          "histogram": [
           {
            "marker": {
             "colorbar": {
              "outlinewidth": 0,
              "ticks": ""
             }
            },
            "type": "histogram"
           }
          ],
          "histogram2d": [
           {
            "colorbar": {
             "outlinewidth": 0,
             "ticks": ""
            },
            "colorscale": [
             [
              0,
              "#0d0887"
             ],
             [
              0.1111111111111111,
              "#46039f"
             ],
             [
              0.2222222222222222,
              "#7201a8"
             ],
             [
              0.3333333333333333,
              "#9c179e"
             ],
             [
              0.4444444444444444,
              "#bd3786"
             ],
             [
              0.5555555555555556,
              "#d8576b"
             ],
             [
              0.6666666666666666,
              "#ed7953"
             ],
             [
              0.7777777777777778,
              "#fb9f3a"
             ],
             [
              0.8888888888888888,
              "#fdca26"
             ],
             [
              1,
              "#f0f921"
             ]
            ],
            "type": "histogram2d"
           }
          ],
          "histogram2dcontour": [
           {
            "colorbar": {
             "outlinewidth": 0,
             "ticks": ""
            },
            "colorscale": [
             [
              0,
              "#0d0887"
             ],
             [
              0.1111111111111111,
              "#46039f"
             ],
             [
              0.2222222222222222,
              "#7201a8"
             ],
             [
              0.3333333333333333,
              "#9c179e"
             ],
             [
              0.4444444444444444,
              "#bd3786"
             ],
             [
              0.5555555555555556,
              "#d8576b"
             ],
             [
              0.6666666666666666,
              "#ed7953"
             ],
             [
              0.7777777777777778,
              "#fb9f3a"
             ],
             [
              0.8888888888888888,
              "#fdca26"
             ],
             [
              1,
              "#f0f921"
             ]
            ],
            "type": "histogram2dcontour"
           }
          ],
          "mesh3d": [
           {
            "colorbar": {
             "outlinewidth": 0,
             "ticks": ""
            },
            "type": "mesh3d"
           }
          ],
          "parcoords": [
           {
            "line": {
             "colorbar": {
              "outlinewidth": 0,
              "ticks": ""
             }
            },
            "type": "parcoords"
           }
          ],
          "pie": [
           {
            "automargin": true,
            "type": "pie"
           }
          ],
          "scatter": [
           {
            "marker": {
             "colorbar": {
              "outlinewidth": 0,
              "ticks": ""
             }
            },
            "type": "scatter"
           }
          ],
          "scatter3d": [
           {
            "line": {
             "colorbar": {
              "outlinewidth": 0,
              "ticks": ""
             }
            },
            "marker": {
             "colorbar": {
              "outlinewidth": 0,
              "ticks": ""
             }
            },
            "type": "scatter3d"
           }
          ],
          "scattercarpet": [
           {
            "marker": {
             "colorbar": {
              "outlinewidth": 0,
              "ticks": ""
             }
            },
            "type": "scattercarpet"
           }
          ],
          "scattergeo": [
           {
            "marker": {
             "colorbar": {
              "outlinewidth": 0,
              "ticks": ""
             }
            },
            "type": "scattergeo"
           }
          ],
          "scattergl": [
           {
            "marker": {
             "colorbar": {
              "outlinewidth": 0,
              "ticks": ""
             }
            },
            "type": "scattergl"
           }
          ],
          "scattermapbox": [
           {
            "marker": {
             "colorbar": {
              "outlinewidth": 0,
              "ticks": ""
             }
            },
            "type": "scattermapbox"
           }
          ],
          "scatterpolar": [
           {
            "marker": {
             "colorbar": {
              "outlinewidth": 0,
              "ticks": ""
             }
            },
            "type": "scatterpolar"
           }
          ],
          "scatterpolargl": [
           {
            "marker": {
             "colorbar": {
              "outlinewidth": 0,
              "ticks": ""
             }
            },
            "type": "scatterpolargl"
           }
          ],
          "scatterternary": [
           {
            "marker": {
             "colorbar": {
              "outlinewidth": 0,
              "ticks": ""
             }
            },
            "type": "scatterternary"
           }
          ],
          "surface": [
           {
            "colorbar": {
             "outlinewidth": 0,
             "ticks": ""
            },
            "colorscale": [
             [
              0,
              "#0d0887"
             ],
             [
              0.1111111111111111,
              "#46039f"
             ],
             [
              0.2222222222222222,
              "#7201a8"
             ],
             [
              0.3333333333333333,
              "#9c179e"
             ],
             [
              0.4444444444444444,
              "#bd3786"
             ],
             [
              0.5555555555555556,
              "#d8576b"
             ],
             [
              0.6666666666666666,
              "#ed7953"
             ],
             [
              0.7777777777777778,
              "#fb9f3a"
             ],
             [
              0.8888888888888888,
              "#fdca26"
             ],
             [
              1,
              "#f0f921"
             ]
            ],
            "type": "surface"
           }
          ],
          "table": [
           {
            "cells": {
             "fill": {
              "color": "#EBF0F8"
             },
             "line": {
              "color": "white"
             }
            },
            "header": {
             "fill": {
              "color": "#C8D4E3"
             },
             "line": {
              "color": "white"
             }
            },
            "type": "table"
           }
          ]
         },
         "layout": {
          "annotationdefaults": {
           "arrowcolor": "#2a3f5f",
           "arrowhead": 0,
           "arrowwidth": 1
          },
          "coloraxis": {
           "colorbar": {
            "outlinewidth": 0,
            "ticks": ""
           }
          },
          "colorscale": {
           "diverging": [
            [
             0,
             "#8e0152"
            ],
            [
             0.1,
             "#c51b7d"
            ],
            [
             0.2,
             "#de77ae"
            ],
            [
             0.3,
             "#f1b6da"
            ],
            [
             0.4,
             "#fde0ef"
            ],
            [
             0.5,
             "#f7f7f7"
            ],
            [
             0.6,
             "#e6f5d0"
            ],
            [
             0.7,
             "#b8e186"
            ],
            [
             0.8,
             "#7fbc41"
            ],
            [
             0.9,
             "#4d9221"
            ],
            [
             1,
             "#276419"
            ]
           ],
           "sequential": [
            [
             0,
             "#0d0887"
            ],
            [
             0.1111111111111111,
             "#46039f"
            ],
            [
             0.2222222222222222,
             "#7201a8"
            ],
            [
             0.3333333333333333,
             "#9c179e"
            ],
            [
             0.4444444444444444,
             "#bd3786"
            ],
            [
             0.5555555555555556,
             "#d8576b"
            ],
            [
             0.6666666666666666,
             "#ed7953"
            ],
            [
             0.7777777777777778,
             "#fb9f3a"
            ],
            [
             0.8888888888888888,
             "#fdca26"
            ],
            [
             1,
             "#f0f921"
            ]
           ],
           "sequentialminus": [
            [
             0,
             "#0d0887"
            ],
            [
             0.1111111111111111,
             "#46039f"
            ],
            [
             0.2222222222222222,
             "#7201a8"
            ],
            [
             0.3333333333333333,
             "#9c179e"
            ],
            [
             0.4444444444444444,
             "#bd3786"
            ],
            [
             0.5555555555555556,
             "#d8576b"
            ],
            [
             0.6666666666666666,
             "#ed7953"
            ],
            [
             0.7777777777777778,
             "#fb9f3a"
            ],
            [
             0.8888888888888888,
             "#fdca26"
            ],
            [
             1,
             "#f0f921"
            ]
           ]
          },
          "colorway": [
           "#636efa",
           "#EF553B",
           "#00cc96",
           "#ab63fa",
           "#FFA15A",
           "#19d3f3",
           "#FF6692",
           "#B6E880",
           "#FF97FF",
           "#FECB52"
          ],
          "font": {
           "color": "#2a3f5f"
          },
          "geo": {
           "bgcolor": "white",
           "lakecolor": "white",
           "landcolor": "#E5ECF6",
           "showlakes": true,
           "showland": true,
           "subunitcolor": "white"
          },
          "hoverlabel": {
           "align": "left"
          },
          "hovermode": "closest",
          "mapbox": {
           "style": "light"
          },
          "paper_bgcolor": "white",
          "plot_bgcolor": "#E5ECF6",
          "polar": {
           "angularaxis": {
            "gridcolor": "white",
            "linecolor": "white",
            "ticks": ""
           },
           "bgcolor": "#E5ECF6",
           "radialaxis": {
            "gridcolor": "white",
            "linecolor": "white",
            "ticks": ""
           }
          },
          "scene": {
           "xaxis": {
            "backgroundcolor": "#E5ECF6",
            "gridcolor": "white",
            "gridwidth": 2,
            "linecolor": "white",
            "showbackground": true,
            "ticks": "",
            "zerolinecolor": "white"
           },
           "yaxis": {
            "backgroundcolor": "#E5ECF6",
            "gridcolor": "white",
            "gridwidth": 2,
            "linecolor": "white",
            "showbackground": true,
            "ticks": "",
            "zerolinecolor": "white"
           },
           "zaxis": {
            "backgroundcolor": "#E5ECF6",
            "gridcolor": "white",
            "gridwidth": 2,
            "linecolor": "white",
            "showbackground": true,
            "ticks": "",
            "zerolinecolor": "white"
           }
          },
          "shapedefaults": {
           "line": {
            "color": "#2a3f5f"
           }
          },
          "ternary": {
           "aaxis": {
            "gridcolor": "white",
            "linecolor": "white",
            "ticks": ""
           },
           "baxis": {
            "gridcolor": "white",
            "linecolor": "white",
            "ticks": ""
           },
           "bgcolor": "#E5ECF6",
           "caxis": {
            "gridcolor": "white",
            "linecolor": "white",
            "ticks": ""
           }
          },
          "title": {
           "x": 0.05
          },
          "xaxis": {
           "automargin": true,
           "gridcolor": "white",
           "linecolor": "white",
           "ticks": "",
           "title": {
            "standoff": 15
           },
           "zerolinecolor": "white",
           "zerolinewidth": 2
          },
          "yaxis": {
           "automargin": true,
           "gridcolor": "white",
           "linecolor": "white",
           "ticks": "",
           "title": {
            "standoff": 15
           },
           "zerolinecolor": "white",
           "zerolinewidth": 2
          }
         }
        },
        "title": {
         "font": {
          "color": "#4D5663"
         }
        },
        "xaxis": {
         "gridcolor": "#E1E5ED",
         "showgrid": true,
         "tickfont": {
          "color": "#4D5663"
         },
         "title": {
          "font": {
           "color": "#4D5663"
          },
          "text": ""
         },
         "zerolinecolor": "#E1E5ED"
        },
        "yaxis": {
         "gridcolor": "#E1E5ED",
         "showgrid": true,
         "tickfont": {
          "color": "#4D5663"
         },
         "title": {
          "font": {
           "color": "#4D5663"
          },
          "text": ""
         },
         "zerolinecolor": "#E1E5ED"
        }
       }
      },
      "text/html": [
       "<div>                            <div id=\"bde03cc9-0b9c-4c5c-9ee2-c35530787c89\" class=\"plotly-graph-div\" style=\"height:525px; width:100%;\"></div>            <script type=\"text/javascript\">                require([\"plotly\"], function(Plotly) {                    window.PLOTLYENV=window.PLOTLYENV || {};\n",
       "                    window.PLOTLYENV.BASE_URL='https://plot.ly';                                    if (document.getElementById(\"bde03cc9-0b9c-4c5c-9ee2-c35530787c89\")) {                    Plotly.newPlot(                        \"bde03cc9-0b9c-4c5c-9ee2-c35530787c89\",                        [{\"line\": {\"color\": \"rgba(255, 153, 51, 1.0)\", \"dash\": \"solid\", \"shape\": \"linear\", \"width\": 1.3}, \"marker\": {\"size\": 10, \"symbol\": \"circle\"}, \"mode\": \"markers\", \"name\": \"B\", \"text\": \"\", \"type\": \"scatter\", \"x\": [2.349463736678292, 0.3108666103275385, -0.583059093678768, 0.7435885743025653, 0.5099588098432798, 1.966548109766253, 1.1129898957074027, 0.9611232611901351, -0.8806101014203047, 1.0375710853156552, 0.8845667407050395, 0.35646066025878753, -1.1704649292446916, -0.8484060076978288, -1.328673180495637, -0.6290443312838666, 0.2544498414697697, 0.680348696415441, -0.574757688795644, 0.7873185458279743, 1.092439973790728, -0.33905546810607146, -0.42096026392177893, 2.0117528995759932, -0.11791651021532197, 0.3825425311059134, 0.8719462945865029, -0.01409655835904745, -0.6241638118596583, 0.3075622492359093, 1.2412826092237823, -0.3586456201977495, -1.7082564416376078, -0.7390107854664355, 0.07674312808999541, 0.6621222926702514, -0.5976930309969201, 0.02449196098641207, 1.6507602514940374, -0.7930135621497139, -0.30453355733048615, -0.07763659811971005, 2.1073933548155788, 0.8882738710911402, 0.969196759272263, 2.9340866721007295, 1.3811341499105498, -1.0242821964430902, 0.3922130569684905, 0.33620212753268575, -0.5302585342303152, 0.17890119119824593, 0.019558389885683335, 0.2586508632542788, -0.5882636693456064, 0.4280553780557698, 0.6573994705294567, -2.3258329038234393, -0.6421196396204563, 0.36292251478888504, -1.8104712563800573, -0.7829556928950923, 0.5001903797435958, -0.018774145722104715, -0.016942425665276803, -1.525440739390988, -0.8006457698691762, 0.5296622914630553, -1.8220488470166538, -0.06173198001629492, -0.1642904593185454, -0.7468745036491485, 0.6761936748237967, 1.9478795434010834, 0.4033264043525933, 0.298827194151868, -1.0231861023554405, -0.6546339980700924, -0.4228532658975435, 0.9338488686667084, 0.4194981015674065, -1.2940297969923231, -0.5633240026073197, -1.7315335815688098, 0.03062121319198041, 0.27423303246300695, 0.2591970498434519, -1.8963660993830473, -2.1397656526426228, 1.8661395187606886, 0.5348513410557355, -0.25764763876401997, -0.12581490569591677, 0.9976646067470557, 1.1606409118888894, 0.36809489076520036, -1.099822859422754, -0.9177250385045125, 0.25358679835536085, 1.201352455006568], \"y\": [-0.2423219949389645, -2.706976290388302, 1.2953954200897868, 1.0140749314238602, 0.013848059806591515, 0.5887514333233522, 0.3465406031828833, 1.0611421450054488, 0.6419282667293559, -0.8838581497504631, 0.4148028398283948, -0.6517477223270324, 0.8674115443174526, 0.5489179991817551, 0.6574300852313422, -0.4549444472057328, -0.6706131600173989, -0.5291126040546213, -1.8217365516677237, 1.444721043724773, 0.7590392104277327, -0.09293925013803317, 0.0503972895855374, 0.145007606799687, -1.4809147392137594, -1.7563679027915409, -0.1366478446801668, -0.249880409389546, -1.5092014303269374, -1.2951933581366464, -0.3776816935327316, 1.0500367846007583, 2.0298731333973334, -0.5177442142650164, 0.581326559850293, -1.15614374441983, -1.5974251016007963, -2.069878207551687, 0.34569618335219143, 1.0580442289797154, 1.1143756268125253, 0.6571354815017619, -0.033134048005478076, 0.6500503187731492, 1.804249260594454, 0.8631998455493465, -0.8651144914203226, -0.48603282398988484, -1.7877943468082442, 1.3108090320196126, -1.741348077810631, -0.29830640334535924, 1.4957145372526197, -0.5414125413987575, 0.2455871408269604, 0.27960360946611895, -0.8673052508542467, 0.230103197123487, -0.034143955297715245, 0.06502501025699589, -2.194321449524192, -0.1632314690482964, -0.9880534457273676, -0.29926393381783994, 0.29366069873202544, -0.8723884495437727, 7.053549891964815e-05, -1.3105748100582921, 1.4652962429346243, -0.7303225872571056, 0.7981774297351967, 0.8611213956410901, 0.02222822235287305, 0.6600086924732197, -2.6409659803744203, -0.5348090955409671, 1.075407406047104, 0.7052304529529135, -0.045799926817225264, -0.4760153334720511, -1.3587210895550077, -0.5272599116076675, -0.18591988363725706, 0.6091872034069954, 0.2668676271844891, 0.10318620801740346, -0.8599520266992087, 0.6605329680149644, 0.5344677366032592, 0.12479350332966131, -0.214626583134152, -0.45984866368511523, -0.9255916206161602, 0.3393940004328594, -0.8931237996637412, 0.8724502332921894, -0.2837812299787633, -0.4374598153438439, 0.2803366464933947, 0.26179862710883917]}],                        {\"legend\": {\"bgcolor\": \"#F5F6F9\", \"font\": {\"color\": \"#4D5663\"}}, \"paper_bgcolor\": \"#F5F6F9\", \"plot_bgcolor\": \"#F5F6F9\", \"template\": {\"data\": {\"bar\": [{\"error_x\": {\"color\": \"#2a3f5f\"}, \"error_y\": {\"color\": \"#2a3f5f\"}, \"marker\": {\"line\": {\"color\": \"#E5ECF6\", \"width\": 0.5}}, \"type\": \"bar\"}], \"barpolar\": [{\"marker\": {\"line\": {\"color\": \"#E5ECF6\", \"width\": 0.5}}, \"type\": \"barpolar\"}], \"carpet\": [{\"aaxis\": {\"endlinecolor\": \"#2a3f5f\", \"gridcolor\": \"white\", \"linecolor\": \"white\", \"minorgridcolor\": \"white\", \"startlinecolor\": \"#2a3f5f\"}, \"baxis\": {\"endlinecolor\": \"#2a3f5f\", \"gridcolor\": \"white\", \"linecolor\": \"white\", \"minorgridcolor\": \"white\", \"startlinecolor\": \"#2a3f5f\"}, \"type\": \"carpet\"}], \"choropleth\": [{\"colorbar\": {\"outlinewidth\": 0, \"ticks\": \"\"}, \"type\": \"choropleth\"}], \"contour\": [{\"colorbar\": {\"outlinewidth\": 0, \"ticks\": \"\"}, \"colorscale\": [[0.0, \"#0d0887\"], [0.1111111111111111, \"#46039f\"], [0.2222222222222222, \"#7201a8\"], [0.3333333333333333, \"#9c179e\"], [0.4444444444444444, \"#bd3786\"], [0.5555555555555556, \"#d8576b\"], [0.6666666666666666, \"#ed7953\"], [0.7777777777777778, \"#fb9f3a\"], [0.8888888888888888, \"#fdca26\"], [1.0, \"#f0f921\"]], \"type\": \"contour\"}], \"contourcarpet\": [{\"colorbar\": {\"outlinewidth\": 0, \"ticks\": \"\"}, \"type\": \"contourcarpet\"}], \"heatmap\": [{\"colorbar\": {\"outlinewidth\": 0, \"ticks\": \"\"}, \"colorscale\": [[0.0, \"#0d0887\"], [0.1111111111111111, \"#46039f\"], [0.2222222222222222, \"#7201a8\"], [0.3333333333333333, \"#9c179e\"], [0.4444444444444444, \"#bd3786\"], [0.5555555555555556, \"#d8576b\"], [0.6666666666666666, \"#ed7953\"], [0.7777777777777778, \"#fb9f3a\"], [0.8888888888888888, \"#fdca26\"], [1.0, \"#f0f921\"]], \"type\": \"heatmap\"}], \"heatmapgl\": [{\"colorbar\": {\"outlinewidth\": 0, \"ticks\": \"\"}, \"colorscale\": [[0.0, \"#0d0887\"], [0.1111111111111111, \"#46039f\"], [0.2222222222222222, \"#7201a8\"], [0.3333333333333333, \"#9c179e\"], [0.4444444444444444, \"#bd3786\"], [0.5555555555555556, \"#d8576b\"], [0.6666666666666666, \"#ed7953\"], [0.7777777777777778, \"#fb9f3a\"], [0.8888888888888888, \"#fdca26\"], [1.0, \"#f0f921\"]], \"type\": \"heatmapgl\"}], \"histogram\": [{\"marker\": {\"colorbar\": {\"outlinewidth\": 0, \"ticks\": \"\"}}, \"type\": \"histogram\"}], \"histogram2d\": [{\"colorbar\": {\"outlinewidth\": 0, \"ticks\": \"\"}, \"colorscale\": [[0.0, \"#0d0887\"], [0.1111111111111111, \"#46039f\"], [0.2222222222222222, \"#7201a8\"], [0.3333333333333333, \"#9c179e\"], [0.4444444444444444, \"#bd3786\"], [0.5555555555555556, \"#d8576b\"], [0.6666666666666666, \"#ed7953\"], [0.7777777777777778, \"#fb9f3a\"], [0.8888888888888888, \"#fdca26\"], [1.0, \"#f0f921\"]], \"type\": \"histogram2d\"}], \"histogram2dcontour\": [{\"colorbar\": {\"outlinewidth\": 0, \"ticks\": \"\"}, \"colorscale\": [[0.0, \"#0d0887\"], [0.1111111111111111, \"#46039f\"], [0.2222222222222222, \"#7201a8\"], [0.3333333333333333, \"#9c179e\"], [0.4444444444444444, \"#bd3786\"], [0.5555555555555556, \"#d8576b\"], [0.6666666666666666, \"#ed7953\"], [0.7777777777777778, \"#fb9f3a\"], [0.8888888888888888, \"#fdca26\"], [1.0, \"#f0f921\"]], \"type\": \"histogram2dcontour\"}], \"mesh3d\": [{\"colorbar\": {\"outlinewidth\": 0, \"ticks\": \"\"}, \"type\": \"mesh3d\"}], \"parcoords\": [{\"line\": {\"colorbar\": {\"outlinewidth\": 0, \"ticks\": \"\"}}, \"type\": \"parcoords\"}], \"pie\": [{\"automargin\": true, \"type\": \"pie\"}], \"scatter\": [{\"marker\": {\"colorbar\": {\"outlinewidth\": 0, \"ticks\": \"\"}}, \"type\": \"scatter\"}], \"scatter3d\": [{\"line\": {\"colorbar\": {\"outlinewidth\": 0, \"ticks\": \"\"}}, \"marker\": {\"colorbar\": {\"outlinewidth\": 0, \"ticks\": \"\"}}, \"type\": \"scatter3d\"}], \"scattercarpet\": [{\"marker\": {\"colorbar\": {\"outlinewidth\": 0, \"ticks\": \"\"}}, \"type\": \"scattercarpet\"}], \"scattergeo\": [{\"marker\": {\"colorbar\": {\"outlinewidth\": 0, \"ticks\": \"\"}}, \"type\": \"scattergeo\"}], \"scattergl\": [{\"marker\": {\"colorbar\": {\"outlinewidth\": 0, \"ticks\": \"\"}}, \"type\": \"scattergl\"}], \"scattermapbox\": [{\"marker\": {\"colorbar\": {\"outlinewidth\": 0, \"ticks\": \"\"}}, \"type\": \"scattermapbox\"}], \"scatterpolar\": [{\"marker\": {\"colorbar\": {\"outlinewidth\": 0, \"ticks\": \"\"}}, \"type\": \"scatterpolar\"}], \"scatterpolargl\": [{\"marker\": {\"colorbar\": {\"outlinewidth\": 0, \"ticks\": \"\"}}, \"type\": \"scatterpolargl\"}], \"scatterternary\": [{\"marker\": {\"colorbar\": {\"outlinewidth\": 0, \"ticks\": \"\"}}, \"type\": \"scatterternary\"}], \"surface\": [{\"colorbar\": {\"outlinewidth\": 0, \"ticks\": \"\"}, \"colorscale\": [[0.0, \"#0d0887\"], [0.1111111111111111, \"#46039f\"], [0.2222222222222222, \"#7201a8\"], [0.3333333333333333, \"#9c179e\"], [0.4444444444444444, \"#bd3786\"], [0.5555555555555556, \"#d8576b\"], [0.6666666666666666, \"#ed7953\"], [0.7777777777777778, \"#fb9f3a\"], [0.8888888888888888, \"#fdca26\"], [1.0, \"#f0f921\"]], \"type\": \"surface\"}], \"table\": [{\"cells\": {\"fill\": {\"color\": \"#EBF0F8\"}, \"line\": {\"color\": \"white\"}}, \"header\": {\"fill\": {\"color\": \"#C8D4E3\"}, \"line\": {\"color\": \"white\"}}, \"type\": \"table\"}]}, \"layout\": {\"annotationdefaults\": {\"arrowcolor\": \"#2a3f5f\", \"arrowhead\": 0, \"arrowwidth\": 1}, \"coloraxis\": {\"colorbar\": {\"outlinewidth\": 0, \"ticks\": \"\"}}, \"colorscale\": {\"diverging\": [[0, \"#8e0152\"], [0.1, \"#c51b7d\"], [0.2, \"#de77ae\"], [0.3, \"#f1b6da\"], [0.4, \"#fde0ef\"], [0.5, \"#f7f7f7\"], [0.6, \"#e6f5d0\"], [0.7, \"#b8e186\"], [0.8, \"#7fbc41\"], [0.9, \"#4d9221\"], [1, \"#276419\"]], \"sequential\": [[0.0, \"#0d0887\"], [0.1111111111111111, \"#46039f\"], [0.2222222222222222, \"#7201a8\"], [0.3333333333333333, \"#9c179e\"], [0.4444444444444444, \"#bd3786\"], [0.5555555555555556, \"#d8576b\"], [0.6666666666666666, \"#ed7953\"], [0.7777777777777778, \"#fb9f3a\"], [0.8888888888888888, \"#fdca26\"], [1.0, \"#f0f921\"]], \"sequentialminus\": [[0.0, \"#0d0887\"], [0.1111111111111111, \"#46039f\"], [0.2222222222222222, \"#7201a8\"], [0.3333333333333333, \"#9c179e\"], [0.4444444444444444, \"#bd3786\"], [0.5555555555555556, \"#d8576b\"], [0.6666666666666666, \"#ed7953\"], [0.7777777777777778, \"#fb9f3a\"], [0.8888888888888888, \"#fdca26\"], [1.0, \"#f0f921\"]]}, \"colorway\": [\"#636efa\", \"#EF553B\", \"#00cc96\", \"#ab63fa\", \"#FFA15A\", \"#19d3f3\", \"#FF6692\", \"#B6E880\", \"#FF97FF\", \"#FECB52\"], \"font\": {\"color\": \"#2a3f5f\"}, \"geo\": {\"bgcolor\": \"white\", \"lakecolor\": \"white\", \"landcolor\": \"#E5ECF6\", \"showlakes\": true, \"showland\": true, \"subunitcolor\": \"white\"}, \"hoverlabel\": {\"align\": \"left\"}, \"hovermode\": \"closest\", \"mapbox\": {\"style\": \"light\"}, \"paper_bgcolor\": \"white\", \"plot_bgcolor\": \"#E5ECF6\", \"polar\": {\"angularaxis\": {\"gridcolor\": \"white\", \"linecolor\": \"white\", \"ticks\": \"\"}, \"bgcolor\": \"#E5ECF6\", \"radialaxis\": {\"gridcolor\": \"white\", \"linecolor\": \"white\", \"ticks\": \"\"}}, \"scene\": {\"xaxis\": {\"backgroundcolor\": \"#E5ECF6\", \"gridcolor\": \"white\", \"gridwidth\": 2, \"linecolor\": \"white\", \"showbackground\": true, \"ticks\": \"\", \"zerolinecolor\": \"white\"}, \"yaxis\": {\"backgroundcolor\": \"#E5ECF6\", \"gridcolor\": \"white\", \"gridwidth\": 2, \"linecolor\": \"white\", \"showbackground\": true, \"ticks\": \"\", \"zerolinecolor\": \"white\"}, \"zaxis\": {\"backgroundcolor\": \"#E5ECF6\", \"gridcolor\": \"white\", \"gridwidth\": 2, \"linecolor\": \"white\", \"showbackground\": true, \"ticks\": \"\", \"zerolinecolor\": \"white\"}}, \"shapedefaults\": {\"line\": {\"color\": \"#2a3f5f\"}}, \"ternary\": {\"aaxis\": {\"gridcolor\": \"white\", \"linecolor\": \"white\", \"ticks\": \"\"}, \"baxis\": {\"gridcolor\": \"white\", \"linecolor\": \"white\", \"ticks\": \"\"}, \"bgcolor\": \"#E5ECF6\", \"caxis\": {\"gridcolor\": \"white\", \"linecolor\": \"white\", \"ticks\": \"\"}}, \"title\": {\"x\": 0.05}, \"xaxis\": {\"automargin\": true, \"gridcolor\": \"white\", \"linecolor\": \"white\", \"ticks\": \"\", \"title\": {\"standoff\": 15}, \"zerolinecolor\": \"white\", \"zerolinewidth\": 2}, \"yaxis\": {\"automargin\": true, \"gridcolor\": \"white\", \"linecolor\": \"white\", \"ticks\": \"\", \"title\": {\"standoff\": 15}, \"zerolinecolor\": \"white\", \"zerolinewidth\": 2}}}, \"title\": {\"font\": {\"color\": \"#4D5663\"}}, \"xaxis\": {\"gridcolor\": \"#E1E5ED\", \"showgrid\": true, \"tickfont\": {\"color\": \"#4D5663\"}, \"title\": {\"font\": {\"color\": \"#4D5663\"}, \"text\": \"\"}, \"zerolinecolor\": \"#E1E5ED\"}, \"yaxis\": {\"gridcolor\": \"#E1E5ED\", \"showgrid\": true, \"tickfont\": {\"color\": \"#4D5663\"}, \"title\": {\"font\": {\"color\": \"#4D5663\"}, \"text\": \"\"}, \"zerolinecolor\": \"#E1E5ED\"}},                        {\"showLink\": true, \"linkText\": \"Export to plot.ly\", \"plotlyServerURL\": \"https://plot.ly\", \"responsive\": true}                    ).then(function(){\n",
       "                            \n",
       "var gd = document.getElementById('bde03cc9-0b9c-4c5c-9ee2-c35530787c89');\n",
       "var x = new MutationObserver(function (mutations, observer) {{\n",
       "        var display = window.getComputedStyle(gd).display;\n",
       "        if (!display || display === 'none') {{\n",
       "            console.log([gd, 'removed!']);\n",
       "            Plotly.purge(gd);\n",
       "            observer.disconnect();\n",
       "        }}\n",
       "}});\n",
       "\n",
       "// Listen for the removal of the full notebook cells\n",
       "var notebookContainer = gd.closest('#notebook-container');\n",
       "if (notebookContainer) {{\n",
       "    x.observe(notebookContainer, {childList: true});\n",
       "}}\n",
       "\n",
       "// Listen for the clearing of the current output cell\n",
       "var outputEl = gd.closest('.output');\n",
       "if (outputEl) {{\n",
       "    x.observe(outputEl, {childList: true});\n",
       "}}\n",
       "\n",
       "                        })                };                });            </script>        </div>"
      ]
     },
     "metadata": {},
     "output_type": "display_data"
    }
   ],
   "source": [
    "df.iplot(kind='scatter',x='A',y='B',mode='markers',size=10)"
   ]
  },
  {
   "cell_type": "markdown",
   "metadata": {},
   "source": [
    "## Bar Plots"
   ]
  },
  {
   "cell_type": "code",
   "execution_count": 29,
   "metadata": {},
   "outputs": [
    {
     "data": {
      "application/vnd.plotly.v1+json": {
       "config": {
        "linkText": "Export to plot.ly",
        "plotlyServerURL": "https://plot.ly",
        "showLink": true
       },
       "data": [
        {
         "marker": {
          "color": "rgba(255, 153, 51, 0.6)",
          "line": {
           "color": "rgba(255, 153, 51, 1.0)",
           "width": 1
          }
         },
         "name": "Values",
         "orientation": "v",
         "text": "",
         "type": "bar",
         "x": [
          "A",
          "B",
          "C"
         ],
         "y": [
          32,
          43,
          50
         ]
        }
       ],
       "layout": {
        "legend": {
         "bgcolor": "#F5F6F9",
         "font": {
          "color": "#4D5663"
         }
        },
        "paper_bgcolor": "#F5F6F9",
        "plot_bgcolor": "#F5F6F9",
        "template": {
         "data": {
          "bar": [
           {
            "error_x": {
             "color": "#2a3f5f"
            },
            "error_y": {
             "color": "#2a3f5f"
            },
            "marker": {
             "line": {
              "color": "#E5ECF6",
              "width": 0.5
             }
            },
            "type": "bar"
           }
          ],
          "barpolar": [
           {
            "marker": {
             "line": {
              "color": "#E5ECF6",
              "width": 0.5
             }
            },
            "type": "barpolar"
           }
          ],
          "carpet": [
           {
            "aaxis": {
             "endlinecolor": "#2a3f5f",
             "gridcolor": "white",
             "linecolor": "white",
             "minorgridcolor": "white",
             "startlinecolor": "#2a3f5f"
            },
            "baxis": {
             "endlinecolor": "#2a3f5f",
             "gridcolor": "white",
             "linecolor": "white",
             "minorgridcolor": "white",
             "startlinecolor": "#2a3f5f"
            },
            "type": "carpet"
           }
          ],
          "choropleth": [
           {
            "colorbar": {
             "outlinewidth": 0,
             "ticks": ""
            },
            "type": "choropleth"
           }
          ],
          "contour": [
           {
            "colorbar": {
             "outlinewidth": 0,
             "ticks": ""
            },
            "colorscale": [
             [
              0,
              "#0d0887"
             ],
             [
              0.1111111111111111,
              "#46039f"
             ],
             [
              0.2222222222222222,
              "#7201a8"
             ],
             [
              0.3333333333333333,
              "#9c179e"
             ],
             [
              0.4444444444444444,
              "#bd3786"
             ],
             [
              0.5555555555555556,
              "#d8576b"
             ],
             [
              0.6666666666666666,
              "#ed7953"
             ],
             [
              0.7777777777777778,
              "#fb9f3a"
             ],
             [
              0.8888888888888888,
              "#fdca26"
             ],
             [
              1,
              "#f0f921"
             ]
            ],
            "type": "contour"
           }
          ],
          "contourcarpet": [
           {
            "colorbar": {
             "outlinewidth": 0,
             "ticks": ""
            },
            "type": "contourcarpet"
           }
          ],
          "heatmap": [
           {
            "colorbar": {
             "outlinewidth": 0,
             "ticks": ""
            },
            "colorscale": [
             [
              0,
              "#0d0887"
             ],
             [
              0.1111111111111111,
              "#46039f"
             ],
             [
              0.2222222222222222,
              "#7201a8"
             ],
             [
              0.3333333333333333,
              "#9c179e"
             ],
             [
              0.4444444444444444,
              "#bd3786"
             ],
             [
              0.5555555555555556,
              "#d8576b"
             ],
             [
              0.6666666666666666,
              "#ed7953"
             ],
             [
              0.7777777777777778,
              "#fb9f3a"
             ],
             [
              0.8888888888888888,
              "#fdca26"
             ],
             [
              1,
              "#f0f921"
             ]
            ],
            "type": "heatmap"
           }
          ],
          "heatmapgl": [
           {
            "colorbar": {
             "outlinewidth": 0,
             "ticks": ""
            },
            "colorscale": [
             [
              0,
              "#0d0887"
             ],
             [
              0.1111111111111111,
              "#46039f"
             ],
             [
              0.2222222222222222,
              "#7201a8"
             ],
             [
              0.3333333333333333,
              "#9c179e"
             ],
             [
              0.4444444444444444,
              "#bd3786"
             ],
             [
              0.5555555555555556,
              "#d8576b"
             ],
             [
              0.6666666666666666,
              "#ed7953"
             ],
             [
              0.7777777777777778,
              "#fb9f3a"
             ],
             [
              0.8888888888888888,
              "#fdca26"
             ],
             [
              1,
              "#f0f921"
             ]
            ],
            "type": "heatmapgl"
           }
          ],
          "histogram": [
           {
            "marker": {
             "colorbar": {
              "outlinewidth": 0,
              "ticks": ""
             }
            },
            "type": "histogram"
           }
          ],
          "histogram2d": [
           {
            "colorbar": {
             "outlinewidth": 0,
             "ticks": ""
            },
            "colorscale": [
             [
              0,
              "#0d0887"
             ],
             [
              0.1111111111111111,
              "#46039f"
             ],
             [
              0.2222222222222222,
              "#7201a8"
             ],
             [
              0.3333333333333333,
              "#9c179e"
             ],
             [
              0.4444444444444444,
              "#bd3786"
             ],
             [
              0.5555555555555556,
              "#d8576b"
             ],
             [
              0.6666666666666666,
              "#ed7953"
             ],
             [
              0.7777777777777778,
              "#fb9f3a"
             ],
             [
              0.8888888888888888,
              "#fdca26"
             ],
             [
              1,
              "#f0f921"
             ]
            ],
            "type": "histogram2d"
           }
          ],
          "histogram2dcontour": [
           {
            "colorbar": {
             "outlinewidth": 0,
             "ticks": ""
            },
            "colorscale": [
             [
              0,
              "#0d0887"
             ],
             [
              0.1111111111111111,
              "#46039f"
             ],
             [
              0.2222222222222222,
              "#7201a8"
             ],
             [
              0.3333333333333333,
              "#9c179e"
             ],
             [
              0.4444444444444444,
              "#bd3786"
             ],
             [
              0.5555555555555556,
              "#d8576b"
             ],
             [
              0.6666666666666666,
              "#ed7953"
             ],
             [
              0.7777777777777778,
              "#fb9f3a"
             ],
             [
              0.8888888888888888,
              "#fdca26"
             ],
             [
              1,
              "#f0f921"
             ]
            ],
            "type": "histogram2dcontour"
           }
          ],
          "mesh3d": [
           {
            "colorbar": {
             "outlinewidth": 0,
             "ticks": ""
            },
            "type": "mesh3d"
           }
          ],
          "parcoords": [
           {
            "line": {
             "colorbar": {
              "outlinewidth": 0,
              "ticks": ""
             }
            },
            "type": "parcoords"
           }
          ],
          "pie": [
           {
            "automargin": true,
            "type": "pie"
           }
          ],
          "scatter": [
           {
            "marker": {
             "colorbar": {
              "outlinewidth": 0,
              "ticks": ""
             }
            },
            "type": "scatter"
           }
          ],
          "scatter3d": [
           {
            "line": {
             "colorbar": {
              "outlinewidth": 0,
              "ticks": ""
             }
            },
            "marker": {
             "colorbar": {
              "outlinewidth": 0,
              "ticks": ""
             }
            },
            "type": "scatter3d"
           }
          ],
          "scattercarpet": [
           {
            "marker": {
             "colorbar": {
              "outlinewidth": 0,
              "ticks": ""
             }
            },
            "type": "scattercarpet"
           }
          ],
          "scattergeo": [
           {
            "marker": {
             "colorbar": {
              "outlinewidth": 0,
              "ticks": ""
             }
            },
            "type": "scattergeo"
           }
          ],
          "scattergl": [
           {
            "marker": {
             "colorbar": {
              "outlinewidth": 0,
              "ticks": ""
             }
            },
            "type": "scattergl"
           }
          ],
          "scattermapbox": [
           {
            "marker": {
             "colorbar": {
              "outlinewidth": 0,
              "ticks": ""
             }
            },
            "type": "scattermapbox"
           }
          ],
          "scatterpolar": [
           {
            "marker": {
             "colorbar": {
              "outlinewidth": 0,
              "ticks": ""
             }
            },
            "type": "scatterpolar"
           }
          ],
          "scatterpolargl": [
           {
            "marker": {
             "colorbar": {
              "outlinewidth": 0,
              "ticks": ""
             }
            },
            "type": "scatterpolargl"
           }
          ],
          "scatterternary": [
           {
            "marker": {
             "colorbar": {
              "outlinewidth": 0,
              "ticks": ""
             }
            },
            "type": "scatterternary"
           }
          ],
          "surface": [
           {
            "colorbar": {
             "outlinewidth": 0,
             "ticks": ""
            },
            "colorscale": [
             [
              0,
              "#0d0887"
             ],
             [
              0.1111111111111111,
              "#46039f"
             ],
             [
              0.2222222222222222,
              "#7201a8"
             ],
             [
              0.3333333333333333,
              "#9c179e"
             ],
             [
              0.4444444444444444,
              "#bd3786"
             ],
             [
              0.5555555555555556,
              "#d8576b"
             ],
             [
              0.6666666666666666,
              "#ed7953"
             ],
             [
              0.7777777777777778,
              "#fb9f3a"
             ],
             [
              0.8888888888888888,
              "#fdca26"
             ],
             [
              1,
              "#f0f921"
             ]
            ],
            "type": "surface"
           }
          ],
          "table": [
           {
            "cells": {
             "fill": {
              "color": "#EBF0F8"
             },
             "line": {
              "color": "white"
             }
            },
            "header": {
             "fill": {
              "color": "#C8D4E3"
             },
             "line": {
              "color": "white"
             }
            },
            "type": "table"
           }
          ]
         },
         "layout": {
          "annotationdefaults": {
           "arrowcolor": "#2a3f5f",
           "arrowhead": 0,
           "arrowwidth": 1
          },
          "coloraxis": {
           "colorbar": {
            "outlinewidth": 0,
            "ticks": ""
           }
          },
          "colorscale": {
           "diverging": [
            [
             0,
             "#8e0152"
            ],
            [
             0.1,
             "#c51b7d"
            ],
            [
             0.2,
             "#de77ae"
            ],
            [
             0.3,
             "#f1b6da"
            ],
            [
             0.4,
             "#fde0ef"
            ],
            [
             0.5,
             "#f7f7f7"
            ],
            [
             0.6,
             "#e6f5d0"
            ],
            [
             0.7,
             "#b8e186"
            ],
            [
             0.8,
             "#7fbc41"
            ],
            [
             0.9,
             "#4d9221"
            ],
            [
             1,
             "#276419"
            ]
           ],
           "sequential": [
            [
             0,
             "#0d0887"
            ],
            [
             0.1111111111111111,
             "#46039f"
            ],
            [
             0.2222222222222222,
             "#7201a8"
            ],
            [
             0.3333333333333333,
             "#9c179e"
            ],
            [
             0.4444444444444444,
             "#bd3786"
            ],
            [
             0.5555555555555556,
             "#d8576b"
            ],
            [
             0.6666666666666666,
             "#ed7953"
            ],
            [
             0.7777777777777778,
             "#fb9f3a"
            ],
            [
             0.8888888888888888,
             "#fdca26"
            ],
            [
             1,
             "#f0f921"
            ]
           ],
           "sequentialminus": [
            [
             0,
             "#0d0887"
            ],
            [
             0.1111111111111111,
             "#46039f"
            ],
            [
             0.2222222222222222,
             "#7201a8"
            ],
            [
             0.3333333333333333,
             "#9c179e"
            ],
            [
             0.4444444444444444,
             "#bd3786"
            ],
            [
             0.5555555555555556,
             "#d8576b"
            ],
            [
             0.6666666666666666,
             "#ed7953"
            ],
            [
             0.7777777777777778,
             "#fb9f3a"
            ],
            [
             0.8888888888888888,
             "#fdca26"
            ],
            [
             1,
             "#f0f921"
            ]
           ]
          },
          "colorway": [
           "#636efa",
           "#EF553B",
           "#00cc96",
           "#ab63fa",
           "#FFA15A",
           "#19d3f3",
           "#FF6692",
           "#B6E880",
           "#FF97FF",
           "#FECB52"
          ],
          "font": {
           "color": "#2a3f5f"
          },
          "geo": {
           "bgcolor": "white",
           "lakecolor": "white",
           "landcolor": "#E5ECF6",
           "showlakes": true,
           "showland": true,
           "subunitcolor": "white"
          },
          "hoverlabel": {
           "align": "left"
          },
          "hovermode": "closest",
          "mapbox": {
           "style": "light"
          },
          "paper_bgcolor": "white",
          "plot_bgcolor": "#E5ECF6",
          "polar": {
           "angularaxis": {
            "gridcolor": "white",
            "linecolor": "white",
            "ticks": ""
           },
           "bgcolor": "#E5ECF6",
           "radialaxis": {
            "gridcolor": "white",
            "linecolor": "white",
            "ticks": ""
           }
          },
          "scene": {
           "xaxis": {
            "backgroundcolor": "#E5ECF6",
            "gridcolor": "white",
            "gridwidth": 2,
            "linecolor": "white",
            "showbackground": true,
            "ticks": "",
            "zerolinecolor": "white"
           },
           "yaxis": {
            "backgroundcolor": "#E5ECF6",
            "gridcolor": "white",
            "gridwidth": 2,
            "linecolor": "white",
            "showbackground": true,
            "ticks": "",
            "zerolinecolor": "white"
           },
           "zaxis": {
            "backgroundcolor": "#E5ECF6",
            "gridcolor": "white",
            "gridwidth": 2,
            "linecolor": "white",
            "showbackground": true,
            "ticks": "",
            "zerolinecolor": "white"
           }
          },
          "shapedefaults": {
           "line": {
            "color": "#2a3f5f"
           }
          },
          "ternary": {
           "aaxis": {
            "gridcolor": "white",
            "linecolor": "white",
            "ticks": ""
           },
           "baxis": {
            "gridcolor": "white",
            "linecolor": "white",
            "ticks": ""
           },
           "bgcolor": "#E5ECF6",
           "caxis": {
            "gridcolor": "white",
            "linecolor": "white",
            "ticks": ""
           }
          },
          "title": {
           "x": 0.05
          },
          "xaxis": {
           "automargin": true,
           "gridcolor": "white",
           "linecolor": "white",
           "ticks": "",
           "title": {
            "standoff": 15
           },
           "zerolinecolor": "white",
           "zerolinewidth": 2
          },
          "yaxis": {
           "automargin": true,
           "gridcolor": "white",
           "linecolor": "white",
           "ticks": "",
           "title": {
            "standoff": 15
           },
           "zerolinecolor": "white",
           "zerolinewidth": 2
          }
         }
        },
        "title": {
         "font": {
          "color": "#4D5663"
         }
        },
        "xaxis": {
         "gridcolor": "#E1E5ED",
         "showgrid": true,
         "tickfont": {
          "color": "#4D5663"
         },
         "title": {
          "font": {
           "color": "#4D5663"
          },
          "text": ""
         },
         "zerolinecolor": "#E1E5ED"
        },
        "yaxis": {
         "gridcolor": "#E1E5ED",
         "showgrid": true,
         "tickfont": {
          "color": "#4D5663"
         },
         "title": {
          "font": {
           "color": "#4D5663"
          },
          "text": ""
         },
         "zerolinecolor": "#E1E5ED"
        }
       }
      },
      "text/html": [
       "<div>                            <div id=\"6026f0ec-7af3-4ed7-a480-db0fca20ec5b\" class=\"plotly-graph-div\" style=\"height:525px; width:100%;\"></div>            <script type=\"text/javascript\">                require([\"plotly\"], function(Plotly) {                    window.PLOTLYENV=window.PLOTLYENV || {};\n",
       "                    window.PLOTLYENV.BASE_URL='https://plot.ly';                                    if (document.getElementById(\"6026f0ec-7af3-4ed7-a480-db0fca20ec5b\")) {                    Plotly.newPlot(                        \"6026f0ec-7af3-4ed7-a480-db0fca20ec5b\",                        [{\"marker\": {\"color\": \"rgba(255, 153, 51, 0.6)\", \"line\": {\"color\": \"rgba(255, 153, 51, 1.0)\", \"width\": 1}}, \"name\": \"Values\", \"orientation\": \"v\", \"text\": \"\", \"type\": \"bar\", \"x\": [\"A\", \"B\", \"C\"], \"y\": [32, 43, 50]}],                        {\"legend\": {\"bgcolor\": \"#F5F6F9\", \"font\": {\"color\": \"#4D5663\"}}, \"paper_bgcolor\": \"#F5F6F9\", \"plot_bgcolor\": \"#F5F6F9\", \"template\": {\"data\": {\"bar\": [{\"error_x\": {\"color\": \"#2a3f5f\"}, \"error_y\": {\"color\": \"#2a3f5f\"}, \"marker\": {\"line\": {\"color\": \"#E5ECF6\", \"width\": 0.5}}, \"type\": \"bar\"}], \"barpolar\": [{\"marker\": {\"line\": {\"color\": \"#E5ECF6\", \"width\": 0.5}}, \"type\": \"barpolar\"}], \"carpet\": [{\"aaxis\": {\"endlinecolor\": \"#2a3f5f\", \"gridcolor\": \"white\", \"linecolor\": \"white\", \"minorgridcolor\": \"white\", \"startlinecolor\": \"#2a3f5f\"}, \"baxis\": {\"endlinecolor\": \"#2a3f5f\", \"gridcolor\": \"white\", \"linecolor\": \"white\", \"minorgridcolor\": \"white\", \"startlinecolor\": \"#2a3f5f\"}, \"type\": \"carpet\"}], \"choropleth\": [{\"colorbar\": {\"outlinewidth\": 0, \"ticks\": \"\"}, \"type\": \"choropleth\"}], \"contour\": [{\"colorbar\": {\"outlinewidth\": 0, \"ticks\": \"\"}, \"colorscale\": [[0.0, \"#0d0887\"], [0.1111111111111111, \"#46039f\"], [0.2222222222222222, \"#7201a8\"], [0.3333333333333333, \"#9c179e\"], [0.4444444444444444, \"#bd3786\"], [0.5555555555555556, \"#d8576b\"], [0.6666666666666666, \"#ed7953\"], [0.7777777777777778, \"#fb9f3a\"], [0.8888888888888888, \"#fdca26\"], [1.0, \"#f0f921\"]], \"type\": \"contour\"}], \"contourcarpet\": [{\"colorbar\": {\"outlinewidth\": 0, \"ticks\": \"\"}, \"type\": \"contourcarpet\"}], \"heatmap\": [{\"colorbar\": {\"outlinewidth\": 0, \"ticks\": \"\"}, \"colorscale\": [[0.0, \"#0d0887\"], [0.1111111111111111, \"#46039f\"], [0.2222222222222222, \"#7201a8\"], [0.3333333333333333, \"#9c179e\"], [0.4444444444444444, \"#bd3786\"], [0.5555555555555556, \"#d8576b\"], [0.6666666666666666, \"#ed7953\"], [0.7777777777777778, \"#fb9f3a\"], [0.8888888888888888, \"#fdca26\"], [1.0, \"#f0f921\"]], \"type\": \"heatmap\"}], \"heatmapgl\": [{\"colorbar\": {\"outlinewidth\": 0, \"ticks\": \"\"}, \"colorscale\": [[0.0, \"#0d0887\"], [0.1111111111111111, \"#46039f\"], [0.2222222222222222, \"#7201a8\"], [0.3333333333333333, \"#9c179e\"], [0.4444444444444444, \"#bd3786\"], [0.5555555555555556, \"#d8576b\"], [0.6666666666666666, \"#ed7953\"], [0.7777777777777778, \"#fb9f3a\"], [0.8888888888888888, \"#fdca26\"], [1.0, \"#f0f921\"]], \"type\": \"heatmapgl\"}], \"histogram\": [{\"marker\": {\"colorbar\": {\"outlinewidth\": 0, \"ticks\": \"\"}}, \"type\": \"histogram\"}], \"histogram2d\": [{\"colorbar\": {\"outlinewidth\": 0, \"ticks\": \"\"}, \"colorscale\": [[0.0, \"#0d0887\"], [0.1111111111111111, \"#46039f\"], [0.2222222222222222, \"#7201a8\"], [0.3333333333333333, \"#9c179e\"], [0.4444444444444444, \"#bd3786\"], [0.5555555555555556, \"#d8576b\"], [0.6666666666666666, \"#ed7953\"], [0.7777777777777778, \"#fb9f3a\"], [0.8888888888888888, \"#fdca26\"], [1.0, \"#f0f921\"]], \"type\": \"histogram2d\"}], \"histogram2dcontour\": [{\"colorbar\": {\"outlinewidth\": 0, \"ticks\": \"\"}, \"colorscale\": [[0.0, \"#0d0887\"], [0.1111111111111111, \"#46039f\"], [0.2222222222222222, \"#7201a8\"], [0.3333333333333333, \"#9c179e\"], [0.4444444444444444, \"#bd3786\"], [0.5555555555555556, \"#d8576b\"], [0.6666666666666666, \"#ed7953\"], [0.7777777777777778, \"#fb9f3a\"], [0.8888888888888888, \"#fdca26\"], [1.0, \"#f0f921\"]], \"type\": \"histogram2dcontour\"}], \"mesh3d\": [{\"colorbar\": {\"outlinewidth\": 0, \"ticks\": \"\"}, \"type\": \"mesh3d\"}], \"parcoords\": [{\"line\": {\"colorbar\": {\"outlinewidth\": 0, \"ticks\": \"\"}}, \"type\": \"parcoords\"}], \"pie\": [{\"automargin\": true, \"type\": \"pie\"}], \"scatter\": [{\"marker\": {\"colorbar\": {\"outlinewidth\": 0, \"ticks\": \"\"}}, \"type\": \"scatter\"}], \"scatter3d\": [{\"line\": {\"colorbar\": {\"outlinewidth\": 0, \"ticks\": \"\"}}, \"marker\": {\"colorbar\": {\"outlinewidth\": 0, \"ticks\": \"\"}}, \"type\": \"scatter3d\"}], \"scattercarpet\": [{\"marker\": {\"colorbar\": {\"outlinewidth\": 0, \"ticks\": \"\"}}, \"type\": \"scattercarpet\"}], \"scattergeo\": [{\"marker\": {\"colorbar\": {\"outlinewidth\": 0, \"ticks\": \"\"}}, \"type\": \"scattergeo\"}], \"scattergl\": [{\"marker\": {\"colorbar\": {\"outlinewidth\": 0, \"ticks\": \"\"}}, \"type\": \"scattergl\"}], \"scattermapbox\": [{\"marker\": {\"colorbar\": {\"outlinewidth\": 0, \"ticks\": \"\"}}, \"type\": \"scattermapbox\"}], \"scatterpolar\": [{\"marker\": {\"colorbar\": {\"outlinewidth\": 0, \"ticks\": \"\"}}, \"type\": \"scatterpolar\"}], \"scatterpolargl\": [{\"marker\": {\"colorbar\": {\"outlinewidth\": 0, \"ticks\": \"\"}}, \"type\": \"scatterpolargl\"}], \"scatterternary\": [{\"marker\": {\"colorbar\": {\"outlinewidth\": 0, \"ticks\": \"\"}}, \"type\": \"scatterternary\"}], \"surface\": [{\"colorbar\": {\"outlinewidth\": 0, \"ticks\": \"\"}, \"colorscale\": [[0.0, \"#0d0887\"], [0.1111111111111111, \"#46039f\"], [0.2222222222222222, \"#7201a8\"], [0.3333333333333333, \"#9c179e\"], [0.4444444444444444, \"#bd3786\"], [0.5555555555555556, \"#d8576b\"], [0.6666666666666666, \"#ed7953\"], [0.7777777777777778, \"#fb9f3a\"], [0.8888888888888888, \"#fdca26\"], [1.0, \"#f0f921\"]], \"type\": \"surface\"}], \"table\": [{\"cells\": {\"fill\": {\"color\": \"#EBF0F8\"}, \"line\": {\"color\": \"white\"}}, \"header\": {\"fill\": {\"color\": \"#C8D4E3\"}, \"line\": {\"color\": \"white\"}}, \"type\": \"table\"}]}, \"layout\": {\"annotationdefaults\": {\"arrowcolor\": \"#2a3f5f\", \"arrowhead\": 0, \"arrowwidth\": 1}, \"coloraxis\": {\"colorbar\": {\"outlinewidth\": 0, \"ticks\": \"\"}}, \"colorscale\": {\"diverging\": [[0, \"#8e0152\"], [0.1, \"#c51b7d\"], [0.2, \"#de77ae\"], [0.3, \"#f1b6da\"], [0.4, \"#fde0ef\"], [0.5, \"#f7f7f7\"], [0.6, \"#e6f5d0\"], [0.7, \"#b8e186\"], [0.8, \"#7fbc41\"], [0.9, \"#4d9221\"], [1, \"#276419\"]], \"sequential\": [[0.0, \"#0d0887\"], [0.1111111111111111, \"#46039f\"], [0.2222222222222222, \"#7201a8\"], [0.3333333333333333, \"#9c179e\"], [0.4444444444444444, \"#bd3786\"], [0.5555555555555556, \"#d8576b\"], [0.6666666666666666, \"#ed7953\"], [0.7777777777777778, \"#fb9f3a\"], [0.8888888888888888, \"#fdca26\"], [1.0, \"#f0f921\"]], \"sequentialminus\": [[0.0, \"#0d0887\"], [0.1111111111111111, \"#46039f\"], [0.2222222222222222, \"#7201a8\"], [0.3333333333333333, \"#9c179e\"], [0.4444444444444444, \"#bd3786\"], [0.5555555555555556, \"#d8576b\"], [0.6666666666666666, \"#ed7953\"], [0.7777777777777778, \"#fb9f3a\"], [0.8888888888888888, \"#fdca26\"], [1.0, \"#f0f921\"]]}, \"colorway\": [\"#636efa\", \"#EF553B\", \"#00cc96\", \"#ab63fa\", \"#FFA15A\", \"#19d3f3\", \"#FF6692\", \"#B6E880\", \"#FF97FF\", \"#FECB52\"], \"font\": {\"color\": \"#2a3f5f\"}, \"geo\": {\"bgcolor\": \"white\", \"lakecolor\": \"white\", \"landcolor\": \"#E5ECF6\", \"showlakes\": true, \"showland\": true, \"subunitcolor\": \"white\"}, \"hoverlabel\": {\"align\": \"left\"}, \"hovermode\": \"closest\", \"mapbox\": {\"style\": \"light\"}, \"paper_bgcolor\": \"white\", \"plot_bgcolor\": \"#E5ECF6\", \"polar\": {\"angularaxis\": {\"gridcolor\": \"white\", \"linecolor\": \"white\", \"ticks\": \"\"}, \"bgcolor\": \"#E5ECF6\", \"radialaxis\": {\"gridcolor\": \"white\", \"linecolor\": \"white\", \"ticks\": \"\"}}, \"scene\": {\"xaxis\": {\"backgroundcolor\": \"#E5ECF6\", \"gridcolor\": \"white\", \"gridwidth\": 2, \"linecolor\": \"white\", \"showbackground\": true, \"ticks\": \"\", \"zerolinecolor\": \"white\"}, \"yaxis\": {\"backgroundcolor\": \"#E5ECF6\", \"gridcolor\": \"white\", \"gridwidth\": 2, \"linecolor\": \"white\", \"showbackground\": true, \"ticks\": \"\", \"zerolinecolor\": \"white\"}, \"zaxis\": {\"backgroundcolor\": \"#E5ECF6\", \"gridcolor\": \"white\", \"gridwidth\": 2, \"linecolor\": \"white\", \"showbackground\": true, \"ticks\": \"\", \"zerolinecolor\": \"white\"}}, \"shapedefaults\": {\"line\": {\"color\": \"#2a3f5f\"}}, \"ternary\": {\"aaxis\": {\"gridcolor\": \"white\", \"linecolor\": \"white\", \"ticks\": \"\"}, \"baxis\": {\"gridcolor\": \"white\", \"linecolor\": \"white\", \"ticks\": \"\"}, \"bgcolor\": \"#E5ECF6\", \"caxis\": {\"gridcolor\": \"white\", \"linecolor\": \"white\", \"ticks\": \"\"}}, \"title\": {\"x\": 0.05}, \"xaxis\": {\"automargin\": true, \"gridcolor\": \"white\", \"linecolor\": \"white\", \"ticks\": \"\", \"title\": {\"standoff\": 15}, \"zerolinecolor\": \"white\", \"zerolinewidth\": 2}, \"yaxis\": {\"automargin\": true, \"gridcolor\": \"white\", \"linecolor\": \"white\", \"ticks\": \"\", \"title\": {\"standoff\": 15}, \"zerolinecolor\": \"white\", \"zerolinewidth\": 2}}}, \"title\": {\"font\": {\"color\": \"#4D5663\"}}, \"xaxis\": {\"gridcolor\": \"#E1E5ED\", \"showgrid\": true, \"tickfont\": {\"color\": \"#4D5663\"}, \"title\": {\"font\": {\"color\": \"#4D5663\"}, \"text\": \"\"}, \"zerolinecolor\": \"#E1E5ED\"}, \"yaxis\": {\"gridcolor\": \"#E1E5ED\", \"showgrid\": true, \"tickfont\": {\"color\": \"#4D5663\"}, \"title\": {\"font\": {\"color\": \"#4D5663\"}, \"text\": \"\"}, \"zerolinecolor\": \"#E1E5ED\"}},                        {\"showLink\": true, \"linkText\": \"Export to plot.ly\", \"plotlyServerURL\": \"https://plot.ly\", \"responsive\": true}                    ).then(function(){\n",
       "                            \n",
       "var gd = document.getElementById('6026f0ec-7af3-4ed7-a480-db0fca20ec5b');\n",
       "var x = new MutationObserver(function (mutations, observer) {{\n",
       "        var display = window.getComputedStyle(gd).display;\n",
       "        if (!display || display === 'none') {{\n",
       "            console.log([gd, 'removed!']);\n",
       "            Plotly.purge(gd);\n",
       "            observer.disconnect();\n",
       "        }}\n",
       "}});\n",
       "\n",
       "// Listen for the removal of the full notebook cells\n",
       "var notebookContainer = gd.closest('#notebook-container');\n",
       "if (notebookContainer) {{\n",
       "    x.observe(notebookContainer, {childList: true});\n",
       "}}\n",
       "\n",
       "// Listen for the clearing of the current output cell\n",
       "var outputEl = gd.closest('.output');\n",
       "if (outputEl) {{\n",
       "    x.observe(outputEl, {childList: true});\n",
       "}}\n",
       "\n",
       "                        })                };                });            </script>        </div>"
      ]
     },
     "metadata": {},
     "output_type": "display_data"
    }
   ],
   "source": [
    "df2.iplot(kind='bar',x='Category',y='Values')"
   ]
  },
  {
   "cell_type": "code",
   "execution_count": 30,
   "metadata": {},
   "outputs": [
    {
     "data": {
      "application/vnd.plotly.v1+json": {
       "config": {
        "linkText": "Export to plot.ly",
        "plotlyServerURL": "https://plot.ly",
        "showLink": true
       },
       "data": [
        {
         "marker": {
          "color": "rgba(255, 153, 51, 0.6)",
          "line": {
           "color": "rgba(255, 153, 51, 1.0)",
           "width": 1
          }
         },
         "name": "None",
         "orientation": "v",
         "text": "",
         "type": "bar",
         "x": [
          "A",
          "B",
          "C",
          "D"
         ],
         "y": [
          100,
          100,
          100,
          100
         ]
        }
       ],
       "layout": {
        "legend": {
         "bgcolor": "#F5F6F9",
         "font": {
          "color": "#4D5663"
         }
        },
        "paper_bgcolor": "#F5F6F9",
        "plot_bgcolor": "#F5F6F9",
        "template": {
         "data": {
          "bar": [
           {
            "error_x": {
             "color": "#2a3f5f"
            },
            "error_y": {
             "color": "#2a3f5f"
            },
            "marker": {
             "line": {
              "color": "#E5ECF6",
              "width": 0.5
             }
            },
            "type": "bar"
           }
          ],
          "barpolar": [
           {
            "marker": {
             "line": {
              "color": "#E5ECF6",
              "width": 0.5
             }
            },
            "type": "barpolar"
           }
          ],
          "carpet": [
           {
            "aaxis": {
             "endlinecolor": "#2a3f5f",
             "gridcolor": "white",
             "linecolor": "white",
             "minorgridcolor": "white",
             "startlinecolor": "#2a3f5f"
            },
            "baxis": {
             "endlinecolor": "#2a3f5f",
             "gridcolor": "white",
             "linecolor": "white",
             "minorgridcolor": "white",
             "startlinecolor": "#2a3f5f"
            },
            "type": "carpet"
           }
          ],
          "choropleth": [
           {
            "colorbar": {
             "outlinewidth": 0,
             "ticks": ""
            },
            "type": "choropleth"
           }
          ],
          "contour": [
           {
            "colorbar": {
             "outlinewidth": 0,
             "ticks": ""
            },
            "colorscale": [
             [
              0,
              "#0d0887"
             ],
             [
              0.1111111111111111,
              "#46039f"
             ],
             [
              0.2222222222222222,
              "#7201a8"
             ],
             [
              0.3333333333333333,
              "#9c179e"
             ],
             [
              0.4444444444444444,
              "#bd3786"
             ],
             [
              0.5555555555555556,
              "#d8576b"
             ],
             [
              0.6666666666666666,
              "#ed7953"
             ],
             [
              0.7777777777777778,
              "#fb9f3a"
             ],
             [
              0.8888888888888888,
              "#fdca26"
             ],
             [
              1,
              "#f0f921"
             ]
            ],
            "type": "contour"
           }
          ],
          "contourcarpet": [
           {
            "colorbar": {
             "outlinewidth": 0,
             "ticks": ""
            },
            "type": "contourcarpet"
           }
          ],
          "heatmap": [
           {
            "colorbar": {
             "outlinewidth": 0,
             "ticks": ""
            },
            "colorscale": [
             [
              0,
              "#0d0887"
             ],
             [
              0.1111111111111111,
              "#46039f"
             ],
             [
              0.2222222222222222,
              "#7201a8"
             ],
             [
              0.3333333333333333,
              "#9c179e"
             ],
             [
              0.4444444444444444,
              "#bd3786"
             ],
             [
              0.5555555555555556,
              "#d8576b"
             ],
             [
              0.6666666666666666,
              "#ed7953"
             ],
             [
              0.7777777777777778,
              "#fb9f3a"
             ],
             [
              0.8888888888888888,
              "#fdca26"
             ],
             [
              1,
              "#f0f921"
             ]
            ],
            "type": "heatmap"
           }
          ],
          "heatmapgl": [
           {
            "colorbar": {
             "outlinewidth": 0,
             "ticks": ""
            },
            "colorscale": [
             [
              0,
              "#0d0887"
             ],
             [
              0.1111111111111111,
              "#46039f"
             ],
             [
              0.2222222222222222,
              "#7201a8"
             ],
             [
              0.3333333333333333,
              "#9c179e"
             ],
             [
              0.4444444444444444,
              "#bd3786"
             ],
             [
              0.5555555555555556,
              "#d8576b"
             ],
             [
              0.6666666666666666,
              "#ed7953"
             ],
             [
              0.7777777777777778,
              "#fb9f3a"
             ],
             [
              0.8888888888888888,
              "#fdca26"
             ],
             [
              1,
              "#f0f921"
             ]
            ],
            "type": "heatmapgl"
           }
          ],
          "histogram": [
           {
            "marker": {
             "colorbar": {
              "outlinewidth": 0,
              "ticks": ""
             }
            },
            "type": "histogram"
           }
          ],
          "histogram2d": [
           {
            "colorbar": {
             "outlinewidth": 0,
             "ticks": ""
            },
            "colorscale": [
             [
              0,
              "#0d0887"
             ],
             [
              0.1111111111111111,
              "#46039f"
             ],
             [
              0.2222222222222222,
              "#7201a8"
             ],
             [
              0.3333333333333333,
              "#9c179e"
             ],
             [
              0.4444444444444444,
              "#bd3786"
             ],
             [
              0.5555555555555556,
              "#d8576b"
             ],
             [
              0.6666666666666666,
              "#ed7953"
             ],
             [
              0.7777777777777778,
              "#fb9f3a"
             ],
             [
              0.8888888888888888,
              "#fdca26"
             ],
             [
              1,
              "#f0f921"
             ]
            ],
            "type": "histogram2d"
           }
          ],
          "histogram2dcontour": [
           {
            "colorbar": {
             "outlinewidth": 0,
             "ticks": ""
            },
            "colorscale": [
             [
              0,
              "#0d0887"
             ],
             [
              0.1111111111111111,
              "#46039f"
             ],
             [
              0.2222222222222222,
              "#7201a8"
             ],
             [
              0.3333333333333333,
              "#9c179e"
             ],
             [
              0.4444444444444444,
              "#bd3786"
             ],
             [
              0.5555555555555556,
              "#d8576b"
             ],
             [
              0.6666666666666666,
              "#ed7953"
             ],
             [
              0.7777777777777778,
              "#fb9f3a"
             ],
             [
              0.8888888888888888,
              "#fdca26"
             ],
             [
              1,
              "#f0f921"
             ]
            ],
            "type": "histogram2dcontour"
           }
          ],
          "mesh3d": [
           {
            "colorbar": {
             "outlinewidth": 0,
             "ticks": ""
            },
            "type": "mesh3d"
           }
          ],
          "parcoords": [
           {
            "line": {
             "colorbar": {
              "outlinewidth": 0,
              "ticks": ""
             }
            },
            "type": "parcoords"
           }
          ],
          "pie": [
           {
            "automargin": true,
            "type": "pie"
           }
          ],
          "scatter": [
           {
            "marker": {
             "colorbar": {
              "outlinewidth": 0,
              "ticks": ""
             }
            },
            "type": "scatter"
           }
          ],
          "scatter3d": [
           {
            "line": {
             "colorbar": {
              "outlinewidth": 0,
              "ticks": ""
             }
            },
            "marker": {
             "colorbar": {
              "outlinewidth": 0,
              "ticks": ""
             }
            },
            "type": "scatter3d"
           }
          ],
          "scattercarpet": [
           {
            "marker": {
             "colorbar": {
              "outlinewidth": 0,
              "ticks": ""
             }
            },
            "type": "scattercarpet"
           }
          ],
          "scattergeo": [
           {
            "marker": {
             "colorbar": {
              "outlinewidth": 0,
              "ticks": ""
             }
            },
            "type": "scattergeo"
           }
          ],
          "scattergl": [
           {
            "marker": {
             "colorbar": {
              "outlinewidth": 0,
              "ticks": ""
             }
            },
            "type": "scattergl"
           }
          ],
          "scattermapbox": [
           {
            "marker": {
             "colorbar": {
              "outlinewidth": 0,
              "ticks": ""
             }
            },
            "type": "scattermapbox"
           }
          ],
          "scatterpolar": [
           {
            "marker": {
             "colorbar": {
              "outlinewidth": 0,
              "ticks": ""
             }
            },
            "type": "scatterpolar"
           }
          ],
          "scatterpolargl": [
           {
            "marker": {
             "colorbar": {
              "outlinewidth": 0,
              "ticks": ""
             }
            },
            "type": "scatterpolargl"
           }
          ],
          "scatterternary": [
           {
            "marker": {
             "colorbar": {
              "outlinewidth": 0,
              "ticks": ""
             }
            },
            "type": "scatterternary"
           }
          ],
          "surface": [
           {
            "colorbar": {
             "outlinewidth": 0,
             "ticks": ""
            },
            "colorscale": [
             [
              0,
              "#0d0887"
             ],
             [
              0.1111111111111111,
              "#46039f"
             ],
             [
              0.2222222222222222,
              "#7201a8"
             ],
             [
              0.3333333333333333,
              "#9c179e"
             ],
             [
              0.4444444444444444,
              "#bd3786"
             ],
             [
              0.5555555555555556,
              "#d8576b"
             ],
             [
              0.6666666666666666,
              "#ed7953"
             ],
             [
              0.7777777777777778,
              "#fb9f3a"
             ],
             [
              0.8888888888888888,
              "#fdca26"
             ],
             [
              1,
              "#f0f921"
             ]
            ],
            "type": "surface"
           }
          ],
          "table": [
           {
            "cells": {
             "fill": {
              "color": "#EBF0F8"
             },
             "line": {
              "color": "white"
             }
            },
            "header": {
             "fill": {
              "color": "#C8D4E3"
             },
             "line": {
              "color": "white"
             }
            },
            "type": "table"
           }
          ]
         },
         "layout": {
          "annotationdefaults": {
           "arrowcolor": "#2a3f5f",
           "arrowhead": 0,
           "arrowwidth": 1
          },
          "coloraxis": {
           "colorbar": {
            "outlinewidth": 0,
            "ticks": ""
           }
          },
          "colorscale": {
           "diverging": [
            [
             0,
             "#8e0152"
            ],
            [
             0.1,
             "#c51b7d"
            ],
            [
             0.2,
             "#de77ae"
            ],
            [
             0.3,
             "#f1b6da"
            ],
            [
             0.4,
             "#fde0ef"
            ],
            [
             0.5,
             "#f7f7f7"
            ],
            [
             0.6,
             "#e6f5d0"
            ],
            [
             0.7,
             "#b8e186"
            ],
            [
             0.8,
             "#7fbc41"
            ],
            [
             0.9,
             "#4d9221"
            ],
            [
             1,
             "#276419"
            ]
           ],
           "sequential": [
            [
             0,
             "#0d0887"
            ],
            [
             0.1111111111111111,
             "#46039f"
            ],
            [
             0.2222222222222222,
             "#7201a8"
            ],
            [
             0.3333333333333333,
             "#9c179e"
            ],
            [
             0.4444444444444444,
             "#bd3786"
            ],
            [
             0.5555555555555556,
             "#d8576b"
            ],
            [
             0.6666666666666666,
             "#ed7953"
            ],
            [
             0.7777777777777778,
             "#fb9f3a"
            ],
            [
             0.8888888888888888,
             "#fdca26"
            ],
            [
             1,
             "#f0f921"
            ]
           ],
           "sequentialminus": [
            [
             0,
             "#0d0887"
            ],
            [
             0.1111111111111111,
             "#46039f"
            ],
            [
             0.2222222222222222,
             "#7201a8"
            ],
            [
             0.3333333333333333,
             "#9c179e"
            ],
            [
             0.4444444444444444,
             "#bd3786"
            ],
            [
             0.5555555555555556,
             "#d8576b"
            ],
            [
             0.6666666666666666,
             "#ed7953"
            ],
            [
             0.7777777777777778,
             "#fb9f3a"
            ],
            [
             0.8888888888888888,
             "#fdca26"
            ],
            [
             1,
             "#f0f921"
            ]
           ]
          },
          "colorway": [
           "#636efa",
           "#EF553B",
           "#00cc96",
           "#ab63fa",
           "#FFA15A",
           "#19d3f3",
           "#FF6692",
           "#B6E880",
           "#FF97FF",
           "#FECB52"
          ],
          "font": {
           "color": "#2a3f5f"
          },
          "geo": {
           "bgcolor": "white",
           "lakecolor": "white",
           "landcolor": "#E5ECF6",
           "showlakes": true,
           "showland": true,
           "subunitcolor": "white"
          },
          "hoverlabel": {
           "align": "left"
          },
          "hovermode": "closest",
          "mapbox": {
           "style": "light"
          },
          "paper_bgcolor": "white",
          "plot_bgcolor": "#E5ECF6",
          "polar": {
           "angularaxis": {
            "gridcolor": "white",
            "linecolor": "white",
            "ticks": ""
           },
           "bgcolor": "#E5ECF6",
           "radialaxis": {
            "gridcolor": "white",
            "linecolor": "white",
            "ticks": ""
           }
          },
          "scene": {
           "xaxis": {
            "backgroundcolor": "#E5ECF6",
            "gridcolor": "white",
            "gridwidth": 2,
            "linecolor": "white",
            "showbackground": true,
            "ticks": "",
            "zerolinecolor": "white"
           },
           "yaxis": {
            "backgroundcolor": "#E5ECF6",
            "gridcolor": "white",
            "gridwidth": 2,
            "linecolor": "white",
            "showbackground": true,
            "ticks": "",
            "zerolinecolor": "white"
           },
           "zaxis": {
            "backgroundcolor": "#E5ECF6",
            "gridcolor": "white",
            "gridwidth": 2,
            "linecolor": "white",
            "showbackground": true,
            "ticks": "",
            "zerolinecolor": "white"
           }
          },
          "shapedefaults": {
           "line": {
            "color": "#2a3f5f"
           }
          },
          "ternary": {
           "aaxis": {
            "gridcolor": "white",
            "linecolor": "white",
            "ticks": ""
           },
           "baxis": {
            "gridcolor": "white",
            "linecolor": "white",
            "ticks": ""
           },
           "bgcolor": "#E5ECF6",
           "caxis": {
            "gridcolor": "white",
            "linecolor": "white",
            "ticks": ""
           }
          },
          "title": {
           "x": 0.05
          },
          "xaxis": {
           "automargin": true,
           "gridcolor": "white",
           "linecolor": "white",
           "ticks": "",
           "title": {
            "standoff": 15
           },
           "zerolinecolor": "white",
           "zerolinewidth": 2
          },
          "yaxis": {
           "automargin": true,
           "gridcolor": "white",
           "linecolor": "white",
           "ticks": "",
           "title": {
            "standoff": 15
           },
           "zerolinecolor": "white",
           "zerolinewidth": 2
          }
         }
        },
        "title": {
         "font": {
          "color": "#4D5663"
         }
        },
        "xaxis": {
         "gridcolor": "#E1E5ED",
         "showgrid": true,
         "tickfont": {
          "color": "#4D5663"
         },
         "title": {
          "font": {
           "color": "#4D5663"
          },
          "text": ""
         },
         "zerolinecolor": "#E1E5ED"
        },
        "yaxis": {
         "gridcolor": "#E1E5ED",
         "showgrid": true,
         "tickfont": {
          "color": "#4D5663"
         },
         "title": {
          "font": {
           "color": "#4D5663"
          },
          "text": ""
         },
         "zerolinecolor": "#E1E5ED"
        }
       }
      },
      "text/html": [
       "<div>                            <div id=\"ced37a99-43c5-4fdb-9ccd-ad338c28ce90\" class=\"plotly-graph-div\" style=\"height:525px; width:100%;\"></div>            <script type=\"text/javascript\">                require([\"plotly\"], function(Plotly) {                    window.PLOTLYENV=window.PLOTLYENV || {};\n",
       "                    window.PLOTLYENV.BASE_URL='https://plot.ly';                                    if (document.getElementById(\"ced37a99-43c5-4fdb-9ccd-ad338c28ce90\")) {                    Plotly.newPlot(                        \"ced37a99-43c5-4fdb-9ccd-ad338c28ce90\",                        [{\"marker\": {\"color\": \"rgba(255, 153, 51, 0.6)\", \"line\": {\"color\": \"rgba(255, 153, 51, 1.0)\", \"width\": 1}}, \"name\": \"None\", \"orientation\": \"v\", \"text\": \"\", \"type\": \"bar\", \"x\": [\"A\", \"B\", \"C\", \"D\"], \"y\": [100, 100, 100, 100]}],                        {\"legend\": {\"bgcolor\": \"#F5F6F9\", \"font\": {\"color\": \"#4D5663\"}}, \"paper_bgcolor\": \"#F5F6F9\", \"plot_bgcolor\": \"#F5F6F9\", \"template\": {\"data\": {\"bar\": [{\"error_x\": {\"color\": \"#2a3f5f\"}, \"error_y\": {\"color\": \"#2a3f5f\"}, \"marker\": {\"line\": {\"color\": \"#E5ECF6\", \"width\": 0.5}}, \"type\": \"bar\"}], \"barpolar\": [{\"marker\": {\"line\": {\"color\": \"#E5ECF6\", \"width\": 0.5}}, \"type\": \"barpolar\"}], \"carpet\": [{\"aaxis\": {\"endlinecolor\": \"#2a3f5f\", \"gridcolor\": \"white\", \"linecolor\": \"white\", \"minorgridcolor\": \"white\", \"startlinecolor\": \"#2a3f5f\"}, \"baxis\": {\"endlinecolor\": \"#2a3f5f\", \"gridcolor\": \"white\", \"linecolor\": \"white\", \"minorgridcolor\": \"white\", \"startlinecolor\": \"#2a3f5f\"}, \"type\": \"carpet\"}], \"choropleth\": [{\"colorbar\": {\"outlinewidth\": 0, \"ticks\": \"\"}, \"type\": \"choropleth\"}], \"contour\": [{\"colorbar\": {\"outlinewidth\": 0, \"ticks\": \"\"}, \"colorscale\": [[0.0, \"#0d0887\"], [0.1111111111111111, \"#46039f\"], [0.2222222222222222, \"#7201a8\"], [0.3333333333333333, \"#9c179e\"], [0.4444444444444444, \"#bd3786\"], [0.5555555555555556, \"#d8576b\"], [0.6666666666666666, \"#ed7953\"], [0.7777777777777778, \"#fb9f3a\"], [0.8888888888888888, \"#fdca26\"], [1.0, \"#f0f921\"]], \"type\": \"contour\"}], \"contourcarpet\": [{\"colorbar\": {\"outlinewidth\": 0, \"ticks\": \"\"}, \"type\": \"contourcarpet\"}], \"heatmap\": [{\"colorbar\": {\"outlinewidth\": 0, \"ticks\": \"\"}, \"colorscale\": [[0.0, \"#0d0887\"], [0.1111111111111111, \"#46039f\"], [0.2222222222222222, \"#7201a8\"], [0.3333333333333333, \"#9c179e\"], [0.4444444444444444, \"#bd3786\"], [0.5555555555555556, \"#d8576b\"], [0.6666666666666666, \"#ed7953\"], [0.7777777777777778, \"#fb9f3a\"], [0.8888888888888888, \"#fdca26\"], [1.0, \"#f0f921\"]], \"type\": \"heatmap\"}], \"heatmapgl\": [{\"colorbar\": {\"outlinewidth\": 0, \"ticks\": \"\"}, \"colorscale\": [[0.0, \"#0d0887\"], [0.1111111111111111, \"#46039f\"], [0.2222222222222222, \"#7201a8\"], [0.3333333333333333, \"#9c179e\"], [0.4444444444444444, \"#bd3786\"], [0.5555555555555556, \"#d8576b\"], [0.6666666666666666, \"#ed7953\"], [0.7777777777777778, \"#fb9f3a\"], [0.8888888888888888, \"#fdca26\"], [1.0, \"#f0f921\"]], \"type\": \"heatmapgl\"}], \"histogram\": [{\"marker\": {\"colorbar\": {\"outlinewidth\": 0, \"ticks\": \"\"}}, \"type\": \"histogram\"}], \"histogram2d\": [{\"colorbar\": {\"outlinewidth\": 0, \"ticks\": \"\"}, \"colorscale\": [[0.0, \"#0d0887\"], [0.1111111111111111, \"#46039f\"], [0.2222222222222222, \"#7201a8\"], [0.3333333333333333, \"#9c179e\"], [0.4444444444444444, \"#bd3786\"], [0.5555555555555556, \"#d8576b\"], [0.6666666666666666, \"#ed7953\"], [0.7777777777777778, \"#fb9f3a\"], [0.8888888888888888, \"#fdca26\"], [1.0, \"#f0f921\"]], \"type\": \"histogram2d\"}], \"histogram2dcontour\": [{\"colorbar\": {\"outlinewidth\": 0, \"ticks\": \"\"}, \"colorscale\": [[0.0, \"#0d0887\"], [0.1111111111111111, \"#46039f\"], [0.2222222222222222, \"#7201a8\"], [0.3333333333333333, \"#9c179e\"], [0.4444444444444444, \"#bd3786\"], [0.5555555555555556, \"#d8576b\"], [0.6666666666666666, \"#ed7953\"], [0.7777777777777778, \"#fb9f3a\"], [0.8888888888888888, \"#fdca26\"], [1.0, \"#f0f921\"]], \"type\": \"histogram2dcontour\"}], \"mesh3d\": [{\"colorbar\": {\"outlinewidth\": 0, \"ticks\": \"\"}, \"type\": \"mesh3d\"}], \"parcoords\": [{\"line\": {\"colorbar\": {\"outlinewidth\": 0, \"ticks\": \"\"}}, \"type\": \"parcoords\"}], \"pie\": [{\"automargin\": true, \"type\": \"pie\"}], \"scatter\": [{\"marker\": {\"colorbar\": {\"outlinewidth\": 0, \"ticks\": \"\"}}, \"type\": \"scatter\"}], \"scatter3d\": [{\"line\": {\"colorbar\": {\"outlinewidth\": 0, \"ticks\": \"\"}}, \"marker\": {\"colorbar\": {\"outlinewidth\": 0, \"ticks\": \"\"}}, \"type\": \"scatter3d\"}], \"scattercarpet\": [{\"marker\": {\"colorbar\": {\"outlinewidth\": 0, \"ticks\": \"\"}}, \"type\": \"scattercarpet\"}], \"scattergeo\": [{\"marker\": {\"colorbar\": {\"outlinewidth\": 0, \"ticks\": \"\"}}, \"type\": \"scattergeo\"}], \"scattergl\": [{\"marker\": {\"colorbar\": {\"outlinewidth\": 0, \"ticks\": \"\"}}, \"type\": \"scattergl\"}], \"scattermapbox\": [{\"marker\": {\"colorbar\": {\"outlinewidth\": 0, \"ticks\": \"\"}}, \"type\": \"scattermapbox\"}], \"scatterpolar\": [{\"marker\": {\"colorbar\": {\"outlinewidth\": 0, \"ticks\": \"\"}}, \"type\": \"scatterpolar\"}], \"scatterpolargl\": [{\"marker\": {\"colorbar\": {\"outlinewidth\": 0, \"ticks\": \"\"}}, \"type\": \"scatterpolargl\"}], \"scatterternary\": [{\"marker\": {\"colorbar\": {\"outlinewidth\": 0, \"ticks\": \"\"}}, \"type\": \"scatterternary\"}], \"surface\": [{\"colorbar\": {\"outlinewidth\": 0, \"ticks\": \"\"}, \"colorscale\": [[0.0, \"#0d0887\"], [0.1111111111111111, \"#46039f\"], [0.2222222222222222, \"#7201a8\"], [0.3333333333333333, \"#9c179e\"], [0.4444444444444444, \"#bd3786\"], [0.5555555555555556, \"#d8576b\"], [0.6666666666666666, \"#ed7953\"], [0.7777777777777778, \"#fb9f3a\"], [0.8888888888888888, \"#fdca26\"], [1.0, \"#f0f921\"]], \"type\": \"surface\"}], \"table\": [{\"cells\": {\"fill\": {\"color\": \"#EBF0F8\"}, \"line\": {\"color\": \"white\"}}, \"header\": {\"fill\": {\"color\": \"#C8D4E3\"}, \"line\": {\"color\": \"white\"}}, \"type\": \"table\"}]}, \"layout\": {\"annotationdefaults\": {\"arrowcolor\": \"#2a3f5f\", \"arrowhead\": 0, \"arrowwidth\": 1}, \"coloraxis\": {\"colorbar\": {\"outlinewidth\": 0, \"ticks\": \"\"}}, \"colorscale\": {\"diverging\": [[0, \"#8e0152\"], [0.1, \"#c51b7d\"], [0.2, \"#de77ae\"], [0.3, \"#f1b6da\"], [0.4, \"#fde0ef\"], [0.5, \"#f7f7f7\"], [0.6, \"#e6f5d0\"], [0.7, \"#b8e186\"], [0.8, \"#7fbc41\"], [0.9, \"#4d9221\"], [1, \"#276419\"]], \"sequential\": [[0.0, \"#0d0887\"], [0.1111111111111111, \"#46039f\"], [0.2222222222222222, \"#7201a8\"], [0.3333333333333333, \"#9c179e\"], [0.4444444444444444, \"#bd3786\"], [0.5555555555555556, \"#d8576b\"], [0.6666666666666666, \"#ed7953\"], [0.7777777777777778, \"#fb9f3a\"], [0.8888888888888888, \"#fdca26\"], [1.0, \"#f0f921\"]], \"sequentialminus\": [[0.0, \"#0d0887\"], [0.1111111111111111, \"#46039f\"], [0.2222222222222222, \"#7201a8\"], [0.3333333333333333, \"#9c179e\"], [0.4444444444444444, \"#bd3786\"], [0.5555555555555556, \"#d8576b\"], [0.6666666666666666, \"#ed7953\"], [0.7777777777777778, \"#fb9f3a\"], [0.8888888888888888, \"#fdca26\"], [1.0, \"#f0f921\"]]}, \"colorway\": [\"#636efa\", \"#EF553B\", \"#00cc96\", \"#ab63fa\", \"#FFA15A\", \"#19d3f3\", \"#FF6692\", \"#B6E880\", \"#FF97FF\", \"#FECB52\"], \"font\": {\"color\": \"#2a3f5f\"}, \"geo\": {\"bgcolor\": \"white\", \"lakecolor\": \"white\", \"landcolor\": \"#E5ECF6\", \"showlakes\": true, \"showland\": true, \"subunitcolor\": \"white\"}, \"hoverlabel\": {\"align\": \"left\"}, \"hovermode\": \"closest\", \"mapbox\": {\"style\": \"light\"}, \"paper_bgcolor\": \"white\", \"plot_bgcolor\": \"#E5ECF6\", \"polar\": {\"angularaxis\": {\"gridcolor\": \"white\", \"linecolor\": \"white\", \"ticks\": \"\"}, \"bgcolor\": \"#E5ECF6\", \"radialaxis\": {\"gridcolor\": \"white\", \"linecolor\": \"white\", \"ticks\": \"\"}}, \"scene\": {\"xaxis\": {\"backgroundcolor\": \"#E5ECF6\", \"gridcolor\": \"white\", \"gridwidth\": 2, \"linecolor\": \"white\", \"showbackground\": true, \"ticks\": \"\", \"zerolinecolor\": \"white\"}, \"yaxis\": {\"backgroundcolor\": \"#E5ECF6\", \"gridcolor\": \"white\", \"gridwidth\": 2, \"linecolor\": \"white\", \"showbackground\": true, \"ticks\": \"\", \"zerolinecolor\": \"white\"}, \"zaxis\": {\"backgroundcolor\": \"#E5ECF6\", \"gridcolor\": \"white\", \"gridwidth\": 2, \"linecolor\": \"white\", \"showbackground\": true, \"ticks\": \"\", \"zerolinecolor\": \"white\"}}, \"shapedefaults\": {\"line\": {\"color\": \"#2a3f5f\"}}, \"ternary\": {\"aaxis\": {\"gridcolor\": \"white\", \"linecolor\": \"white\", \"ticks\": \"\"}, \"baxis\": {\"gridcolor\": \"white\", \"linecolor\": \"white\", \"ticks\": \"\"}, \"bgcolor\": \"#E5ECF6\", \"caxis\": {\"gridcolor\": \"white\", \"linecolor\": \"white\", \"ticks\": \"\"}}, \"title\": {\"x\": 0.05}, \"xaxis\": {\"automargin\": true, \"gridcolor\": \"white\", \"linecolor\": \"white\", \"ticks\": \"\", \"title\": {\"standoff\": 15}, \"zerolinecolor\": \"white\", \"zerolinewidth\": 2}, \"yaxis\": {\"automargin\": true, \"gridcolor\": \"white\", \"linecolor\": \"white\", \"ticks\": \"\", \"title\": {\"standoff\": 15}, \"zerolinecolor\": \"white\", \"zerolinewidth\": 2}}}, \"title\": {\"font\": {\"color\": \"#4D5663\"}}, \"xaxis\": {\"gridcolor\": \"#E1E5ED\", \"showgrid\": true, \"tickfont\": {\"color\": \"#4D5663\"}, \"title\": {\"font\": {\"color\": \"#4D5663\"}, \"text\": \"\"}, \"zerolinecolor\": \"#E1E5ED\"}, \"yaxis\": {\"gridcolor\": \"#E1E5ED\", \"showgrid\": true, \"tickfont\": {\"color\": \"#4D5663\"}, \"title\": {\"font\": {\"color\": \"#4D5663\"}, \"text\": \"\"}, \"zerolinecolor\": \"#E1E5ED\"}},                        {\"showLink\": true, \"linkText\": \"Export to plot.ly\", \"plotlyServerURL\": \"https://plot.ly\", \"responsive\": true}                    ).then(function(){\n",
       "                            \n",
       "var gd = document.getElementById('ced37a99-43c5-4fdb-9ccd-ad338c28ce90');\n",
       "var x = new MutationObserver(function (mutations, observer) {{\n",
       "        var display = window.getComputedStyle(gd).display;\n",
       "        if (!display || display === 'none') {{\n",
       "            console.log([gd, 'removed!']);\n",
       "            Plotly.purge(gd);\n",
       "            observer.disconnect();\n",
       "        }}\n",
       "}});\n",
       "\n",
       "// Listen for the removal of the full notebook cells\n",
       "var notebookContainer = gd.closest('#notebook-container');\n",
       "if (notebookContainer) {{\n",
       "    x.observe(notebookContainer, {childList: true});\n",
       "}}\n",
       "\n",
       "// Listen for the clearing of the current output cell\n",
       "var outputEl = gd.closest('.output');\n",
       "if (outputEl) {{\n",
       "    x.observe(outputEl, {childList: true});\n",
       "}}\n",
       "\n",
       "                        })                };                });            </script>        </div>"
      ]
     },
     "metadata": {},
     "output_type": "display_data"
    }
   ],
   "source": [
    "df.count().iplot(kind='bar')"
   ]
  },
  {
   "cell_type": "markdown",
   "metadata": {},
   "source": [
    "## Boxplots"
   ]
  },
  {
   "cell_type": "code",
   "execution_count": 31,
   "metadata": {},
   "outputs": [
    {
     "data": {
      "application/vnd.plotly.v1+json": {
       "config": {
        "linkText": "Export to plot.ly",
        "plotlyServerURL": "https://plot.ly",
        "showLink": true
       },
       "data": [
        {
         "boxpoints": false,
         "line": {
          "width": 1.3
         },
         "marker": {
          "color": "rgba(255, 153, 51, 1.0)"
         },
         "name": "A",
         "orientation": "v",
         "type": "box",
         "y": [
          2.349463736678292,
          0.3108666103275385,
          -0.583059093678768,
          0.7435885743025653,
          0.5099588098432798,
          1.966548109766253,
          1.1129898957074027,
          0.9611232611901351,
          -0.8806101014203047,
          1.0375710853156552,
          0.8845667407050395,
          0.35646066025878753,
          -1.1704649292446916,
          -0.8484060076978288,
          -1.328673180495637,
          -0.6290443312838666,
          0.2544498414697697,
          0.680348696415441,
          -0.574757688795644,
          0.7873185458279743,
          1.092439973790728,
          -0.33905546810607146,
          -0.42096026392177893,
          2.0117528995759932,
          -0.11791651021532197,
          0.3825425311059134,
          0.8719462945865029,
          -0.01409655835904745,
          -0.6241638118596583,
          0.3075622492359093,
          1.2412826092237823,
          -0.3586456201977495,
          -1.7082564416376078,
          -0.7390107854664355,
          0.07674312808999541,
          0.6621222926702514,
          -0.5976930309969201,
          0.02449196098641207,
          1.6507602514940374,
          -0.7930135621497139,
          -0.30453355733048615,
          -0.07763659811971005,
          2.1073933548155788,
          0.8882738710911402,
          0.969196759272263,
          2.9340866721007295,
          1.3811341499105498,
          -1.0242821964430902,
          0.3922130569684905,
          0.33620212753268575,
          -0.5302585342303152,
          0.17890119119824593,
          0.019558389885683335,
          0.2586508632542788,
          -0.5882636693456064,
          0.4280553780557698,
          0.6573994705294567,
          -2.3258329038234393,
          -0.6421196396204563,
          0.36292251478888504,
          -1.8104712563800573,
          -0.7829556928950923,
          0.5001903797435958,
          -0.018774145722104715,
          -0.016942425665276803,
          -1.525440739390988,
          -0.8006457698691762,
          0.5296622914630553,
          -1.8220488470166538,
          -0.06173198001629492,
          -0.1642904593185454,
          -0.7468745036491485,
          0.6761936748237967,
          1.9478795434010834,
          0.4033264043525933,
          0.298827194151868,
          -1.0231861023554405,
          -0.6546339980700924,
          -0.4228532658975435,
          0.9338488686667084,
          0.4194981015674065,
          -1.2940297969923231,
          -0.5633240026073197,
          -1.7315335815688098,
          0.03062121319198041,
          0.27423303246300695,
          0.2591970498434519,
          -1.8963660993830473,
          -2.1397656526426228,
          1.8661395187606886,
          0.5348513410557355,
          -0.25764763876401997,
          -0.12581490569591677,
          0.9976646067470557,
          1.1606409118888894,
          0.36809489076520036,
          -1.099822859422754,
          -0.9177250385045125,
          0.25358679835536085,
          1.201352455006568
         ]
        },
        {
         "boxpoints": false,
         "line": {
          "width": 1.3
         },
         "marker": {
          "color": "rgba(55, 128, 191, 1.0)"
         },
         "name": "B",
         "orientation": "v",
         "type": "box",
         "y": [
          -0.2423219949389645,
          -2.706976290388302,
          1.2953954200897868,
          1.0140749314238602,
          0.013848059806591515,
          0.5887514333233522,
          0.3465406031828833,
          1.0611421450054488,
          0.6419282667293559,
          -0.8838581497504631,
          0.4148028398283948,
          -0.6517477223270324,
          0.8674115443174526,
          0.5489179991817551,
          0.6574300852313422,
          -0.4549444472057328,
          -0.6706131600173989,
          -0.5291126040546213,
          -1.8217365516677237,
          1.444721043724773,
          0.7590392104277327,
          -0.09293925013803317,
          0.0503972895855374,
          0.145007606799687,
          -1.4809147392137594,
          -1.7563679027915409,
          -0.1366478446801668,
          -0.249880409389546,
          -1.5092014303269374,
          -1.2951933581366464,
          -0.3776816935327316,
          1.0500367846007583,
          2.0298731333973334,
          -0.5177442142650164,
          0.581326559850293,
          -1.15614374441983,
          -1.5974251016007963,
          -2.069878207551687,
          0.34569618335219143,
          1.0580442289797154,
          1.1143756268125253,
          0.6571354815017619,
          -0.033134048005478076,
          0.6500503187731492,
          1.804249260594454,
          0.8631998455493465,
          -0.8651144914203226,
          -0.48603282398988484,
          -1.7877943468082442,
          1.3108090320196126,
          -1.741348077810631,
          -0.29830640334535924,
          1.4957145372526197,
          -0.5414125413987575,
          0.2455871408269604,
          0.27960360946611895,
          -0.8673052508542467,
          0.230103197123487,
          -0.034143955297715245,
          0.06502501025699589,
          -2.194321449524192,
          -0.1632314690482964,
          -0.9880534457273676,
          -0.29926393381783994,
          0.29366069873202544,
          -0.8723884495437727,
          7.053549891964815e-05,
          -1.3105748100582921,
          1.4652962429346243,
          -0.7303225872571056,
          0.7981774297351967,
          0.8611213956410901,
          0.02222822235287305,
          0.6600086924732197,
          -2.6409659803744203,
          -0.5348090955409671,
          1.075407406047104,
          0.7052304529529135,
          -0.045799926817225264,
          -0.4760153334720511,
          -1.3587210895550077,
          -0.5272599116076675,
          -0.18591988363725706,
          0.6091872034069954,
          0.2668676271844891,
          0.10318620801740346,
          -0.8599520266992087,
          0.6605329680149644,
          0.5344677366032592,
          0.12479350332966131,
          -0.214626583134152,
          -0.45984866368511523,
          -0.9255916206161602,
          0.3393940004328594,
          -0.8931237996637412,
          0.8724502332921894,
          -0.2837812299787633,
          -0.4374598153438439,
          0.2803366464933947,
          0.26179862710883917
         ]
        },
        {
         "boxpoints": false,
         "line": {
          "width": 1.3
         },
         "marker": {
          "color": "rgba(50, 171, 96, 1.0)"
         },
         "name": "C",
         "orientation": "v",
         "type": "box",
         "y": [
          1.103658168134268,
          -0.3591088057803075,
          -0.39060885058482625,
          1.0268389213825342,
          0.37525317401950337,
          -2.109469003401564,
          -0.20464412500906481,
          0.4709910960187212,
          0.6287484177487179,
          -1.4947669821370941,
          -1.0124759754143848,
          -0.9722740393288398,
          -1.5541079267131352,
          0.18491719299716675,
          0.028119880180558547,
          2.3776005952965362,
          0.8573971393446435,
          -0.02148420174929133,
          -0.45998947752687247,
          0.5957525359019503,
          0.42868799601669605,
          0.7522958399273246,
          -0.49506521581813334,
          0.12601821179138653,
          1.4574891866522441,
          -1.7215547273696028,
          -1.5905736673555888,
          -0.08493535149222459,
          0.06496327297522027,
          -0.12813636887578705,
          0.28089419838819085,
          -2.22968789372741,
          0.25048100303795545,
          0.9615338543155373,
          -0.39711225120710925,
          -2.269571685423856,
          1.1568173419045844,
          0.4830963370006128,
          2.0361871176081685,
          1.249037640098134,
          -0.26404672112272726,
          -0.6160132531200296,
          -0.29058781797725597,
          -0.7819412809390804,
          0.9325898047411016,
          -1.248224919284687,
          0.053803513107677524,
          -0.6606674441009643,
          0.34565063400087503,
          0.9077877065224605,
          -0.021583367642827422,
          -0.7247665633539977,
          0.872426561390276,
          0.7165237426575491,
          0.32440912134482014,
          0.39073465783120026,
          0.5709309785083928,
          0.11677062319825496,
          -0.742717177244977,
          1.7369798914556978,
          0.5309709593612433,
          -1.241465193517055,
          -0.6025792967295633,
          -1.6453621669374718,
          -0.6721592145286471,
          -1.3684956379017843,
          -0.6261797443735899,
          -0.4890437448378885,
          -0.019936658527059052,
          -0.18380202921880426,
          -0.018236856700445732,
          0.7905387036050214,
          0.35619125433181986,
          0.46153025865065106,
          -0.03517838747668369,
          -0.9684572558943861,
          0.09096584912354647,
          1.6866211951501633,
          -0.331233380098675,
          -0.24980786580545983,
          0.16436980245966032,
          -0.17259158419807735,
          -1.0513468106314208,
          -1.091385709533513,
          -0.1547383751541822,
          0.32087139391854236,
          2.4415085901880906,
          -0.2617359298758687,
          -0.6257854770218316,
          -0.3516834199114664,
          -0.320363164803975,
          0.13163592592333345,
          -1.233696526228249,
          0.7635946201193746,
          0.3269417343002411,
          0.8925788709670148,
          -0.6336563558149579,
          0.399487532254476,
          -0.7715119697934507,
          -3.259319388606262
         ]
        },
        {
         "boxpoints": false,
         "line": {
          "width": 1.3
         },
         "marker": {
          "color": "rgba(128, 0, 128, 1.0)"
         },
         "name": "D",
         "orientation": "v",
         "type": "box",
         "y": [
          0.13612114760371338,
          0.6973809335728574,
          -0.7078758752611267,
          0.6262366779100164,
          0.10309974527505125,
          0.33139722516369724,
          0.36747892499629925,
          0.14251274089392624,
          -0.3588829955398141,
          0.10467854448179542,
          1.6140894670139114,
          -0.807945320943562,
          -1.0420086179718775,
          0.044574600499717495,
          -0.2664971772031081,
          -2.4812531120189285,
          -1.080941965525086,
          -0.19575290678697635,
          -1.2578476709974478,
          1.58505312670216,
          1.4328232815234367,
          0.9752077333888645,
          1.2279930469858122,
          0.13178858541821573,
          0.3742348234381564,
          0.04543290517656309,
          0.5311260012000816,
          0.9343403122363072,
          0.5109688717695492,
          -0.6825683338201282,
          -0.24525398660750747,
          1.8173355000295484,
          1.4073989730798007,
          -0.7431687038635622,
          0.2853400704002939,
          1.4154767998867828,
          -1.964545093385441,
          -0.852961533326378,
          1.5629854943063615,
          -1.3223543936624362,
          -0.8164482851839465,
          -1.4188626138402483,
          0.37464481201986305,
          0.08456490382466485,
          -0.07127922648486712,
          -0.5809207986239819,
          0.46946167499485436,
          -0.15164854159165395,
          0.21360368717392758,
          -0.16690076482986899,
          -0.7466562109715402,
          -1.291552986185833,
          -1.0420301161391392,
          -1.747297929276348,
          1.6960273414509288,
          -0.6456775949581188,
          0.8675577175843852,
          -0.6762811519015643,
          0.9392232028456343,
          -0.8759664361760314,
          0.06565776481397993,
          1.4656288430837245,
          0.6987710271990012,
          -1.5108558578622469,
          -1.6629308595281154,
          -0.20042999267648046,
          1.5514440154435116,
          -0.061982164613740794,
          -0.29288507626148663,
          -0.8163051949790358,
          -1.820449719594646,
          -0.5936425846671212,
          -0.634722662247593,
          0.9865657095730139,
          0.8901264886476777,
          0.5881686543501173,
          0.43695832742984364,
          0.2759751644781517,
          -1.0199650974737116,
          0.8347514102951381,
          -0.2316245289196427,
          -2.315838601291783,
          0.5024980167261636,
          -0.08939173471736825,
          0.17862045583046832,
          -0.5218627240092527,
          -1.4070595618366213,
          0.2739386762089091,
          0.16785113370242663,
          -0.12606885515384725,
          -0.8750221815908387,
          -0.7041764705971845,
          1.0903752225195904,
          1.5725212145746215,
          -0.2637854623464598,
          0.447650226918602,
          -0.7554874412199926,
          -0.715835589846943,
          0.08556869339935512,
          -0.47792133449636676
         ]
        }
       ],
       "layout": {
        "legend": {
         "bgcolor": "#F5F6F9",
         "font": {
          "color": "#4D5663"
         }
        },
        "paper_bgcolor": "#F5F6F9",
        "plot_bgcolor": "#F5F6F9",
        "template": {
         "data": {
          "bar": [
           {
            "error_x": {
             "color": "#2a3f5f"
            },
            "error_y": {
             "color": "#2a3f5f"
            },
            "marker": {
             "line": {
              "color": "#E5ECF6",
              "width": 0.5
             }
            },
            "type": "bar"
           }
          ],
          "barpolar": [
           {
            "marker": {
             "line": {
              "color": "#E5ECF6",
              "width": 0.5
             }
            },
            "type": "barpolar"
           }
          ],
          "carpet": [
           {
            "aaxis": {
             "endlinecolor": "#2a3f5f",
             "gridcolor": "white",
             "linecolor": "white",
             "minorgridcolor": "white",
             "startlinecolor": "#2a3f5f"
            },
            "baxis": {
             "endlinecolor": "#2a3f5f",
             "gridcolor": "white",
             "linecolor": "white",
             "minorgridcolor": "white",
             "startlinecolor": "#2a3f5f"
            },
            "type": "carpet"
           }
          ],
          "choropleth": [
           {
            "colorbar": {
             "outlinewidth": 0,
             "ticks": ""
            },
            "type": "choropleth"
           }
          ],
          "contour": [
           {
            "colorbar": {
             "outlinewidth": 0,
             "ticks": ""
            },
            "colorscale": [
             [
              0,
              "#0d0887"
             ],
             [
              0.1111111111111111,
              "#46039f"
             ],
             [
              0.2222222222222222,
              "#7201a8"
             ],
             [
              0.3333333333333333,
              "#9c179e"
             ],
             [
              0.4444444444444444,
              "#bd3786"
             ],
             [
              0.5555555555555556,
              "#d8576b"
             ],
             [
              0.6666666666666666,
              "#ed7953"
             ],
             [
              0.7777777777777778,
              "#fb9f3a"
             ],
             [
              0.8888888888888888,
              "#fdca26"
             ],
             [
              1,
              "#f0f921"
             ]
            ],
            "type": "contour"
           }
          ],
          "contourcarpet": [
           {
            "colorbar": {
             "outlinewidth": 0,
             "ticks": ""
            },
            "type": "contourcarpet"
           }
          ],
          "heatmap": [
           {
            "colorbar": {
             "outlinewidth": 0,
             "ticks": ""
            },
            "colorscale": [
             [
              0,
              "#0d0887"
             ],
             [
              0.1111111111111111,
              "#46039f"
             ],
             [
              0.2222222222222222,
              "#7201a8"
             ],
             [
              0.3333333333333333,
              "#9c179e"
             ],
             [
              0.4444444444444444,
              "#bd3786"
             ],
             [
              0.5555555555555556,
              "#d8576b"
             ],
             [
              0.6666666666666666,
              "#ed7953"
             ],
             [
              0.7777777777777778,
              "#fb9f3a"
             ],
             [
              0.8888888888888888,
              "#fdca26"
             ],
             [
              1,
              "#f0f921"
             ]
            ],
            "type": "heatmap"
           }
          ],
          "heatmapgl": [
           {
            "colorbar": {
             "outlinewidth": 0,
             "ticks": ""
            },
            "colorscale": [
             [
              0,
              "#0d0887"
             ],
             [
              0.1111111111111111,
              "#46039f"
             ],
             [
              0.2222222222222222,
              "#7201a8"
             ],
             [
              0.3333333333333333,
              "#9c179e"
             ],
             [
              0.4444444444444444,
              "#bd3786"
             ],
             [
              0.5555555555555556,
              "#d8576b"
             ],
             [
              0.6666666666666666,
              "#ed7953"
             ],
             [
              0.7777777777777778,
              "#fb9f3a"
             ],
             [
              0.8888888888888888,
              "#fdca26"
             ],
             [
              1,
              "#f0f921"
             ]
            ],
            "type": "heatmapgl"
           }
          ],
          "histogram": [
           {
            "marker": {
             "colorbar": {
              "outlinewidth": 0,
              "ticks": ""
             }
            },
            "type": "histogram"
           }
          ],
          "histogram2d": [
           {
            "colorbar": {
             "outlinewidth": 0,
             "ticks": ""
            },
            "colorscale": [
             [
              0,
              "#0d0887"
             ],
             [
              0.1111111111111111,
              "#46039f"
             ],
             [
              0.2222222222222222,
              "#7201a8"
             ],
             [
              0.3333333333333333,
              "#9c179e"
             ],
             [
              0.4444444444444444,
              "#bd3786"
             ],
             [
              0.5555555555555556,
              "#d8576b"
             ],
             [
              0.6666666666666666,
              "#ed7953"
             ],
             [
              0.7777777777777778,
              "#fb9f3a"
             ],
             [
              0.8888888888888888,
              "#fdca26"
             ],
             [
              1,
              "#f0f921"
             ]
            ],
            "type": "histogram2d"
           }
          ],
          "histogram2dcontour": [
           {
            "colorbar": {
             "outlinewidth": 0,
             "ticks": ""
            },
            "colorscale": [
             [
              0,
              "#0d0887"
             ],
             [
              0.1111111111111111,
              "#46039f"
             ],
             [
              0.2222222222222222,
              "#7201a8"
             ],
             [
              0.3333333333333333,
              "#9c179e"
             ],
             [
              0.4444444444444444,
              "#bd3786"
             ],
             [
              0.5555555555555556,
              "#d8576b"
             ],
             [
              0.6666666666666666,
              "#ed7953"
             ],
             [
              0.7777777777777778,
              "#fb9f3a"
             ],
             [
              0.8888888888888888,
              "#fdca26"
             ],
             [
              1,
              "#f0f921"
             ]
            ],
            "type": "histogram2dcontour"
           }
          ],
          "mesh3d": [
           {
            "colorbar": {
             "outlinewidth": 0,
             "ticks": ""
            },
            "type": "mesh3d"
           }
          ],
          "parcoords": [
           {
            "line": {
             "colorbar": {
              "outlinewidth": 0,
              "ticks": ""
             }
            },
            "type": "parcoords"
           }
          ],
          "pie": [
           {
            "automargin": true,
            "type": "pie"
           }
          ],
          "scatter": [
           {
            "marker": {
             "colorbar": {
              "outlinewidth": 0,
              "ticks": ""
             }
            },
            "type": "scatter"
           }
          ],
          "scatter3d": [
           {
            "line": {
             "colorbar": {
              "outlinewidth": 0,
              "ticks": ""
             }
            },
            "marker": {
             "colorbar": {
              "outlinewidth": 0,
              "ticks": ""
             }
            },
            "type": "scatter3d"
           }
          ],
          "scattercarpet": [
           {
            "marker": {
             "colorbar": {
              "outlinewidth": 0,
              "ticks": ""
             }
            },
            "type": "scattercarpet"
           }
          ],
          "scattergeo": [
           {
            "marker": {
             "colorbar": {
              "outlinewidth": 0,
              "ticks": ""
             }
            },
            "type": "scattergeo"
           }
          ],
          "scattergl": [
           {
            "marker": {
             "colorbar": {
              "outlinewidth": 0,
              "ticks": ""
             }
            },
            "type": "scattergl"
           }
          ],
          "scattermapbox": [
           {
            "marker": {
             "colorbar": {
              "outlinewidth": 0,
              "ticks": ""
             }
            },
            "type": "scattermapbox"
           }
          ],
          "scatterpolar": [
           {
            "marker": {
             "colorbar": {
              "outlinewidth": 0,
              "ticks": ""
             }
            },
            "type": "scatterpolar"
           }
          ],
          "scatterpolargl": [
           {
            "marker": {
             "colorbar": {
              "outlinewidth": 0,
              "ticks": ""
             }
            },
            "type": "scatterpolargl"
           }
          ],
          "scatterternary": [
           {
            "marker": {
             "colorbar": {
              "outlinewidth": 0,
              "ticks": ""
             }
            },
            "type": "scatterternary"
           }
          ],
          "surface": [
           {
            "colorbar": {
             "outlinewidth": 0,
             "ticks": ""
            },
            "colorscale": [
             [
              0,
              "#0d0887"
             ],
             [
              0.1111111111111111,
              "#46039f"
             ],
             [
              0.2222222222222222,
              "#7201a8"
             ],
             [
              0.3333333333333333,
              "#9c179e"
             ],
             [
              0.4444444444444444,
              "#bd3786"
             ],
             [
              0.5555555555555556,
              "#d8576b"
             ],
             [
              0.6666666666666666,
              "#ed7953"
             ],
             [
              0.7777777777777778,
              "#fb9f3a"
             ],
             [
              0.8888888888888888,
              "#fdca26"
             ],
             [
              1,
              "#f0f921"
             ]
            ],
            "type": "surface"
           }
          ],
          "table": [
           {
            "cells": {
             "fill": {
              "color": "#EBF0F8"
             },
             "line": {
              "color": "white"
             }
            },
            "header": {
             "fill": {
              "color": "#C8D4E3"
             },
             "line": {
              "color": "white"
             }
            },
            "type": "table"
           }
          ]
         },
         "layout": {
          "annotationdefaults": {
           "arrowcolor": "#2a3f5f",
           "arrowhead": 0,
           "arrowwidth": 1
          },
          "coloraxis": {
           "colorbar": {
            "outlinewidth": 0,
            "ticks": ""
           }
          },
          "colorscale": {
           "diverging": [
            [
             0,
             "#8e0152"
            ],
            [
             0.1,
             "#c51b7d"
            ],
            [
             0.2,
             "#de77ae"
            ],
            [
             0.3,
             "#f1b6da"
            ],
            [
             0.4,
             "#fde0ef"
            ],
            [
             0.5,
             "#f7f7f7"
            ],
            [
             0.6,
             "#e6f5d0"
            ],
            [
             0.7,
             "#b8e186"
            ],
            [
             0.8,
             "#7fbc41"
            ],
            [
             0.9,
             "#4d9221"
            ],
            [
             1,
             "#276419"
            ]
           ],
           "sequential": [
            [
             0,
             "#0d0887"
            ],
            [
             0.1111111111111111,
             "#46039f"
            ],
            [
             0.2222222222222222,
             "#7201a8"
            ],
            [
             0.3333333333333333,
             "#9c179e"
            ],
            [
             0.4444444444444444,
             "#bd3786"
            ],
            [
             0.5555555555555556,
             "#d8576b"
            ],
            [
             0.6666666666666666,
             "#ed7953"
            ],
            [
             0.7777777777777778,
             "#fb9f3a"
            ],
            [
             0.8888888888888888,
             "#fdca26"
            ],
            [
             1,
             "#f0f921"
            ]
           ],
           "sequentialminus": [
            [
             0,
             "#0d0887"
            ],
            [
             0.1111111111111111,
             "#46039f"
            ],
            [
             0.2222222222222222,
             "#7201a8"
            ],
            [
             0.3333333333333333,
             "#9c179e"
            ],
            [
             0.4444444444444444,
             "#bd3786"
            ],
            [
             0.5555555555555556,
             "#d8576b"
            ],
            [
             0.6666666666666666,
             "#ed7953"
            ],
            [
             0.7777777777777778,
             "#fb9f3a"
            ],
            [
             0.8888888888888888,
             "#fdca26"
            ],
            [
             1,
             "#f0f921"
            ]
           ]
          },
          "colorway": [
           "#636efa",
           "#EF553B",
           "#00cc96",
           "#ab63fa",
           "#FFA15A",
           "#19d3f3",
           "#FF6692",
           "#B6E880",
           "#FF97FF",
           "#FECB52"
          ],
          "font": {
           "color": "#2a3f5f"
          },
          "geo": {
           "bgcolor": "white",
           "lakecolor": "white",
           "landcolor": "#E5ECF6",
           "showlakes": true,
           "showland": true,
           "subunitcolor": "white"
          },
          "hoverlabel": {
           "align": "left"
          },
          "hovermode": "closest",
          "mapbox": {
           "style": "light"
          },
          "paper_bgcolor": "white",
          "plot_bgcolor": "#E5ECF6",
          "polar": {
           "angularaxis": {
            "gridcolor": "white",
            "linecolor": "white",
            "ticks": ""
           },
           "bgcolor": "#E5ECF6",
           "radialaxis": {
            "gridcolor": "white",
            "linecolor": "white",
            "ticks": ""
           }
          },
          "scene": {
           "xaxis": {
            "backgroundcolor": "#E5ECF6",
            "gridcolor": "white",
            "gridwidth": 2,
            "linecolor": "white",
            "showbackground": true,
            "ticks": "",
            "zerolinecolor": "white"
           },
           "yaxis": {
            "backgroundcolor": "#E5ECF6",
            "gridcolor": "white",
            "gridwidth": 2,
            "linecolor": "white",
            "showbackground": true,
            "ticks": "",
            "zerolinecolor": "white"
           },
           "zaxis": {
            "backgroundcolor": "#E5ECF6",
            "gridcolor": "white",
            "gridwidth": 2,
            "linecolor": "white",
            "showbackground": true,
            "ticks": "",
            "zerolinecolor": "white"
           }
          },
          "shapedefaults": {
           "line": {
            "color": "#2a3f5f"
           }
          },
          "ternary": {
           "aaxis": {
            "gridcolor": "white",
            "linecolor": "white",
            "ticks": ""
           },
           "baxis": {
            "gridcolor": "white",
            "linecolor": "white",
            "ticks": ""
           },
           "bgcolor": "#E5ECF6",
           "caxis": {
            "gridcolor": "white",
            "linecolor": "white",
            "ticks": ""
           }
          },
          "title": {
           "x": 0.05
          },
          "xaxis": {
           "automargin": true,
           "gridcolor": "white",
           "linecolor": "white",
           "ticks": "",
           "title": {
            "standoff": 15
           },
           "zerolinecolor": "white",
           "zerolinewidth": 2
          },
          "yaxis": {
           "automargin": true,
           "gridcolor": "white",
           "linecolor": "white",
           "ticks": "",
           "title": {
            "standoff": 15
           },
           "zerolinecolor": "white",
           "zerolinewidth": 2
          }
         }
        },
        "title": {
         "font": {
          "color": "#4D5663"
         }
        },
        "xaxis": {
         "gridcolor": "#E1E5ED",
         "showgrid": true,
         "tickfont": {
          "color": "#4D5663"
         },
         "title": {
          "font": {
           "color": "#4D5663"
          },
          "text": ""
         },
         "zerolinecolor": "#E1E5ED"
        },
        "yaxis": {
         "gridcolor": "#E1E5ED",
         "showgrid": true,
         "tickfont": {
          "color": "#4D5663"
         },
         "title": {
          "font": {
           "color": "#4D5663"
          },
          "text": ""
         },
         "zerolinecolor": "#E1E5ED"
        }
       }
      },
      "text/html": [
       "<div>                            <div id=\"916cf9e4-7d3f-4adb-bff4-174685d636e2\" class=\"plotly-graph-div\" style=\"height:525px; width:100%;\"></div>            <script type=\"text/javascript\">                require([\"plotly\"], function(Plotly) {                    window.PLOTLYENV=window.PLOTLYENV || {};\n",
       "                    window.PLOTLYENV.BASE_URL='https://plot.ly';                                    if (document.getElementById(\"916cf9e4-7d3f-4adb-bff4-174685d636e2\")) {                    Plotly.newPlot(                        \"916cf9e4-7d3f-4adb-bff4-174685d636e2\",                        [{\"boxpoints\": false, \"line\": {\"width\": 1.3}, \"marker\": {\"color\": \"rgba(255, 153, 51, 1.0)\"}, \"name\": \"A\", \"orientation\": \"v\", \"type\": \"box\", \"y\": [2.349463736678292, 0.3108666103275385, -0.583059093678768, 0.7435885743025653, 0.5099588098432798, 1.966548109766253, 1.1129898957074027, 0.9611232611901351, -0.8806101014203047, 1.0375710853156552, 0.8845667407050395, 0.35646066025878753, -1.1704649292446916, -0.8484060076978288, -1.328673180495637, -0.6290443312838666, 0.2544498414697697, 0.680348696415441, -0.574757688795644, 0.7873185458279743, 1.092439973790728, -0.33905546810607146, -0.42096026392177893, 2.0117528995759932, -0.11791651021532197, 0.3825425311059134, 0.8719462945865029, -0.01409655835904745, -0.6241638118596583, 0.3075622492359093, 1.2412826092237823, -0.3586456201977495, -1.7082564416376078, -0.7390107854664355, 0.07674312808999541, 0.6621222926702514, -0.5976930309969201, 0.02449196098641207, 1.6507602514940374, -0.7930135621497139, -0.30453355733048615, -0.07763659811971005, 2.1073933548155788, 0.8882738710911402, 0.969196759272263, 2.9340866721007295, 1.3811341499105498, -1.0242821964430902, 0.3922130569684905, 0.33620212753268575, -0.5302585342303152, 0.17890119119824593, 0.019558389885683335, 0.2586508632542788, -0.5882636693456064, 0.4280553780557698, 0.6573994705294567, -2.3258329038234393, -0.6421196396204563, 0.36292251478888504, -1.8104712563800573, -0.7829556928950923, 0.5001903797435958, -0.018774145722104715, -0.016942425665276803, -1.525440739390988, -0.8006457698691762, 0.5296622914630553, -1.8220488470166538, -0.06173198001629492, -0.1642904593185454, -0.7468745036491485, 0.6761936748237967, 1.9478795434010834, 0.4033264043525933, 0.298827194151868, -1.0231861023554405, -0.6546339980700924, -0.4228532658975435, 0.9338488686667084, 0.4194981015674065, -1.2940297969923231, -0.5633240026073197, -1.7315335815688098, 0.03062121319198041, 0.27423303246300695, 0.2591970498434519, -1.8963660993830473, -2.1397656526426228, 1.8661395187606886, 0.5348513410557355, -0.25764763876401997, -0.12581490569591677, 0.9976646067470557, 1.1606409118888894, 0.36809489076520036, -1.099822859422754, -0.9177250385045125, 0.25358679835536085, 1.201352455006568]}, {\"boxpoints\": false, \"line\": {\"width\": 1.3}, \"marker\": {\"color\": \"rgba(55, 128, 191, 1.0)\"}, \"name\": \"B\", \"orientation\": \"v\", \"type\": \"box\", \"y\": [-0.2423219949389645, -2.706976290388302, 1.2953954200897868, 1.0140749314238602, 0.013848059806591515, 0.5887514333233522, 0.3465406031828833, 1.0611421450054488, 0.6419282667293559, -0.8838581497504631, 0.4148028398283948, -0.6517477223270324, 0.8674115443174526, 0.5489179991817551, 0.6574300852313422, -0.4549444472057328, -0.6706131600173989, -0.5291126040546213, -1.8217365516677237, 1.444721043724773, 0.7590392104277327, -0.09293925013803317, 0.0503972895855374, 0.145007606799687, -1.4809147392137594, -1.7563679027915409, -0.1366478446801668, -0.249880409389546, -1.5092014303269374, -1.2951933581366464, -0.3776816935327316, 1.0500367846007583, 2.0298731333973334, -0.5177442142650164, 0.581326559850293, -1.15614374441983, -1.5974251016007963, -2.069878207551687, 0.34569618335219143, 1.0580442289797154, 1.1143756268125253, 0.6571354815017619, -0.033134048005478076, 0.6500503187731492, 1.804249260594454, 0.8631998455493465, -0.8651144914203226, -0.48603282398988484, -1.7877943468082442, 1.3108090320196126, -1.741348077810631, -0.29830640334535924, 1.4957145372526197, -0.5414125413987575, 0.2455871408269604, 0.27960360946611895, -0.8673052508542467, 0.230103197123487, -0.034143955297715245, 0.06502501025699589, -2.194321449524192, -0.1632314690482964, -0.9880534457273676, -0.29926393381783994, 0.29366069873202544, -0.8723884495437727, 7.053549891964815e-05, -1.3105748100582921, 1.4652962429346243, -0.7303225872571056, 0.7981774297351967, 0.8611213956410901, 0.02222822235287305, 0.6600086924732197, -2.6409659803744203, -0.5348090955409671, 1.075407406047104, 0.7052304529529135, -0.045799926817225264, -0.4760153334720511, -1.3587210895550077, -0.5272599116076675, -0.18591988363725706, 0.6091872034069954, 0.2668676271844891, 0.10318620801740346, -0.8599520266992087, 0.6605329680149644, 0.5344677366032592, 0.12479350332966131, -0.214626583134152, -0.45984866368511523, -0.9255916206161602, 0.3393940004328594, -0.8931237996637412, 0.8724502332921894, -0.2837812299787633, -0.4374598153438439, 0.2803366464933947, 0.26179862710883917]}, {\"boxpoints\": false, \"line\": {\"width\": 1.3}, \"marker\": {\"color\": \"rgba(50, 171, 96, 1.0)\"}, \"name\": \"C\", \"orientation\": \"v\", \"type\": \"box\", \"y\": [1.103658168134268, -0.3591088057803075, -0.39060885058482625, 1.0268389213825342, 0.37525317401950337, -2.109469003401564, -0.20464412500906481, 0.4709910960187212, 0.6287484177487179, -1.4947669821370941, -1.0124759754143848, -0.9722740393288398, -1.5541079267131352, 0.18491719299716675, 0.028119880180558547, 2.3776005952965362, 0.8573971393446435, -0.02148420174929133, -0.45998947752687247, 0.5957525359019503, 0.42868799601669605, 0.7522958399273246, -0.49506521581813334, 0.12601821179138653, 1.4574891866522441, -1.7215547273696028, -1.5905736673555888, -0.08493535149222459, 0.06496327297522027, -0.12813636887578705, 0.28089419838819085, -2.22968789372741, 0.25048100303795545, 0.9615338543155373, -0.39711225120710925, -2.269571685423856, 1.1568173419045844, 0.4830963370006128, 2.0361871176081685, 1.249037640098134, -0.26404672112272726, -0.6160132531200296, -0.29058781797725597, -0.7819412809390804, 0.9325898047411016, -1.248224919284687, 0.053803513107677524, -0.6606674441009643, 0.34565063400087503, 0.9077877065224605, -0.021583367642827422, -0.7247665633539977, 0.872426561390276, 0.7165237426575491, 0.32440912134482014, 0.39073465783120026, 0.5709309785083928, 0.11677062319825496, -0.742717177244977, 1.7369798914556978, 0.5309709593612433, -1.241465193517055, -0.6025792967295633, -1.6453621669374718, -0.6721592145286471, -1.3684956379017843, -0.6261797443735899, -0.4890437448378885, -0.019936658527059052, -0.18380202921880426, -0.018236856700445732, 0.7905387036050214, 0.35619125433181986, 0.46153025865065106, -0.03517838747668369, -0.9684572558943861, 0.09096584912354647, 1.6866211951501633, -0.331233380098675, -0.24980786580545983, 0.16436980245966032, -0.17259158419807735, -1.0513468106314208, -1.091385709533513, -0.1547383751541822, 0.32087139391854236, 2.4415085901880906, -0.2617359298758687, -0.6257854770218316, -0.3516834199114664, -0.320363164803975, 0.13163592592333345, -1.233696526228249, 0.7635946201193746, 0.3269417343002411, 0.8925788709670148, -0.6336563558149579, 0.399487532254476, -0.7715119697934507, -3.259319388606262]}, {\"boxpoints\": false, \"line\": {\"width\": 1.3}, \"marker\": {\"color\": \"rgba(128, 0, 128, 1.0)\"}, \"name\": \"D\", \"orientation\": \"v\", \"type\": \"box\", \"y\": [0.13612114760371338, 0.6973809335728574, -0.7078758752611267, 0.6262366779100164, 0.10309974527505125, 0.33139722516369724, 0.36747892499629925, 0.14251274089392624, -0.3588829955398141, 0.10467854448179542, 1.6140894670139114, -0.807945320943562, -1.0420086179718775, 0.044574600499717495, -0.2664971772031081, -2.4812531120189285, -1.080941965525086, -0.19575290678697635, -1.2578476709974478, 1.58505312670216, 1.4328232815234367, 0.9752077333888645, 1.2279930469858122, 0.13178858541821573, 0.3742348234381564, 0.04543290517656309, 0.5311260012000816, 0.9343403122363072, 0.5109688717695492, -0.6825683338201282, -0.24525398660750747, 1.8173355000295484, 1.4073989730798007, -0.7431687038635622, 0.2853400704002939, 1.4154767998867828, -1.964545093385441, -0.852961533326378, 1.5629854943063615, -1.3223543936624362, -0.8164482851839465, -1.4188626138402483, 0.37464481201986305, 0.08456490382466485, -0.07127922648486712, -0.5809207986239819, 0.46946167499485436, -0.15164854159165395, 0.21360368717392758, -0.16690076482986899, -0.7466562109715402, -1.291552986185833, -1.0420301161391392, -1.747297929276348, 1.6960273414509288, -0.6456775949581188, 0.8675577175843852, -0.6762811519015643, 0.9392232028456343, -0.8759664361760314, 0.06565776481397993, 1.4656288430837245, 0.6987710271990012, -1.5108558578622469, -1.6629308595281154, -0.20042999267648046, 1.5514440154435116, -0.061982164613740794, -0.29288507626148663, -0.8163051949790358, -1.820449719594646, -0.5936425846671212, -0.634722662247593, 0.9865657095730139, 0.8901264886476777, 0.5881686543501173, 0.43695832742984364, 0.2759751644781517, -1.0199650974737116, 0.8347514102951381, -0.2316245289196427, -2.315838601291783, 0.5024980167261636, -0.08939173471736825, 0.17862045583046832, -0.5218627240092527, -1.4070595618366213, 0.2739386762089091, 0.16785113370242663, -0.12606885515384725, -0.8750221815908387, -0.7041764705971845, 1.0903752225195904, 1.5725212145746215, -0.2637854623464598, 0.447650226918602, -0.7554874412199926, -0.715835589846943, 0.08556869339935512, -0.47792133449636676]}],                        {\"legend\": {\"bgcolor\": \"#F5F6F9\", \"font\": {\"color\": \"#4D5663\"}}, \"paper_bgcolor\": \"#F5F6F9\", \"plot_bgcolor\": \"#F5F6F9\", \"template\": {\"data\": {\"bar\": [{\"error_x\": {\"color\": \"#2a3f5f\"}, \"error_y\": {\"color\": \"#2a3f5f\"}, \"marker\": {\"line\": {\"color\": \"#E5ECF6\", \"width\": 0.5}}, \"type\": \"bar\"}], \"barpolar\": [{\"marker\": {\"line\": {\"color\": \"#E5ECF6\", \"width\": 0.5}}, \"type\": \"barpolar\"}], \"carpet\": [{\"aaxis\": {\"endlinecolor\": \"#2a3f5f\", \"gridcolor\": \"white\", \"linecolor\": \"white\", \"minorgridcolor\": \"white\", \"startlinecolor\": \"#2a3f5f\"}, \"baxis\": {\"endlinecolor\": \"#2a3f5f\", \"gridcolor\": \"white\", \"linecolor\": \"white\", \"minorgridcolor\": \"white\", \"startlinecolor\": \"#2a3f5f\"}, \"type\": \"carpet\"}], \"choropleth\": [{\"colorbar\": {\"outlinewidth\": 0, \"ticks\": \"\"}, \"type\": \"choropleth\"}], \"contour\": [{\"colorbar\": {\"outlinewidth\": 0, \"ticks\": \"\"}, \"colorscale\": [[0.0, \"#0d0887\"], [0.1111111111111111, \"#46039f\"], [0.2222222222222222, \"#7201a8\"], [0.3333333333333333, \"#9c179e\"], [0.4444444444444444, \"#bd3786\"], [0.5555555555555556, \"#d8576b\"], [0.6666666666666666, \"#ed7953\"], [0.7777777777777778, \"#fb9f3a\"], [0.8888888888888888, \"#fdca26\"], [1.0, \"#f0f921\"]], \"type\": \"contour\"}], \"contourcarpet\": [{\"colorbar\": {\"outlinewidth\": 0, \"ticks\": \"\"}, \"type\": \"contourcarpet\"}], \"heatmap\": [{\"colorbar\": {\"outlinewidth\": 0, \"ticks\": \"\"}, \"colorscale\": [[0.0, \"#0d0887\"], [0.1111111111111111, \"#46039f\"], [0.2222222222222222, \"#7201a8\"], [0.3333333333333333, \"#9c179e\"], [0.4444444444444444, \"#bd3786\"], [0.5555555555555556, \"#d8576b\"], [0.6666666666666666, \"#ed7953\"], [0.7777777777777778, \"#fb9f3a\"], [0.8888888888888888, \"#fdca26\"], [1.0, \"#f0f921\"]], \"type\": \"heatmap\"}], \"heatmapgl\": [{\"colorbar\": {\"outlinewidth\": 0, \"ticks\": \"\"}, \"colorscale\": [[0.0, \"#0d0887\"], [0.1111111111111111, \"#46039f\"], [0.2222222222222222, \"#7201a8\"], [0.3333333333333333, \"#9c179e\"], [0.4444444444444444, \"#bd3786\"], [0.5555555555555556, \"#d8576b\"], [0.6666666666666666, \"#ed7953\"], [0.7777777777777778, \"#fb9f3a\"], [0.8888888888888888, \"#fdca26\"], [1.0, \"#f0f921\"]], \"type\": \"heatmapgl\"}], \"histogram\": [{\"marker\": {\"colorbar\": {\"outlinewidth\": 0, \"ticks\": \"\"}}, \"type\": \"histogram\"}], \"histogram2d\": [{\"colorbar\": {\"outlinewidth\": 0, \"ticks\": \"\"}, \"colorscale\": [[0.0, \"#0d0887\"], [0.1111111111111111, \"#46039f\"], [0.2222222222222222, \"#7201a8\"], [0.3333333333333333, \"#9c179e\"], [0.4444444444444444, \"#bd3786\"], [0.5555555555555556, \"#d8576b\"], [0.6666666666666666, \"#ed7953\"], [0.7777777777777778, \"#fb9f3a\"], [0.8888888888888888, \"#fdca26\"], [1.0, \"#f0f921\"]], \"type\": \"histogram2d\"}], \"histogram2dcontour\": [{\"colorbar\": {\"outlinewidth\": 0, \"ticks\": \"\"}, \"colorscale\": [[0.0, \"#0d0887\"], [0.1111111111111111, \"#46039f\"], [0.2222222222222222, \"#7201a8\"], [0.3333333333333333, \"#9c179e\"], [0.4444444444444444, \"#bd3786\"], [0.5555555555555556, \"#d8576b\"], [0.6666666666666666, \"#ed7953\"], [0.7777777777777778, \"#fb9f3a\"], [0.8888888888888888, \"#fdca26\"], [1.0, \"#f0f921\"]], \"type\": \"histogram2dcontour\"}], \"mesh3d\": [{\"colorbar\": {\"outlinewidth\": 0, \"ticks\": \"\"}, \"type\": \"mesh3d\"}], \"parcoords\": [{\"line\": {\"colorbar\": {\"outlinewidth\": 0, \"ticks\": \"\"}}, \"type\": \"parcoords\"}], \"pie\": [{\"automargin\": true, \"type\": \"pie\"}], \"scatter\": [{\"marker\": {\"colorbar\": {\"outlinewidth\": 0, \"ticks\": \"\"}}, \"type\": \"scatter\"}], \"scatter3d\": [{\"line\": {\"colorbar\": {\"outlinewidth\": 0, \"ticks\": \"\"}}, \"marker\": {\"colorbar\": {\"outlinewidth\": 0, \"ticks\": \"\"}}, \"type\": \"scatter3d\"}], \"scattercarpet\": [{\"marker\": {\"colorbar\": {\"outlinewidth\": 0, \"ticks\": \"\"}}, \"type\": \"scattercarpet\"}], \"scattergeo\": [{\"marker\": {\"colorbar\": {\"outlinewidth\": 0, \"ticks\": \"\"}}, \"type\": \"scattergeo\"}], \"scattergl\": [{\"marker\": {\"colorbar\": {\"outlinewidth\": 0, \"ticks\": \"\"}}, \"type\": \"scattergl\"}], \"scattermapbox\": [{\"marker\": {\"colorbar\": {\"outlinewidth\": 0, \"ticks\": \"\"}}, \"type\": \"scattermapbox\"}], \"scatterpolar\": [{\"marker\": {\"colorbar\": {\"outlinewidth\": 0, \"ticks\": \"\"}}, \"type\": \"scatterpolar\"}], \"scatterpolargl\": [{\"marker\": {\"colorbar\": {\"outlinewidth\": 0, \"ticks\": \"\"}}, \"type\": \"scatterpolargl\"}], \"scatterternary\": [{\"marker\": {\"colorbar\": {\"outlinewidth\": 0, \"ticks\": \"\"}}, \"type\": \"scatterternary\"}], \"surface\": [{\"colorbar\": {\"outlinewidth\": 0, \"ticks\": \"\"}, \"colorscale\": [[0.0, \"#0d0887\"], [0.1111111111111111, \"#46039f\"], [0.2222222222222222, \"#7201a8\"], [0.3333333333333333, \"#9c179e\"], [0.4444444444444444, \"#bd3786\"], [0.5555555555555556, \"#d8576b\"], [0.6666666666666666, \"#ed7953\"], [0.7777777777777778, \"#fb9f3a\"], [0.8888888888888888, \"#fdca26\"], [1.0, \"#f0f921\"]], \"type\": \"surface\"}], \"table\": [{\"cells\": {\"fill\": {\"color\": \"#EBF0F8\"}, \"line\": {\"color\": \"white\"}}, \"header\": {\"fill\": {\"color\": \"#C8D4E3\"}, \"line\": {\"color\": \"white\"}}, \"type\": \"table\"}]}, \"layout\": {\"annotationdefaults\": {\"arrowcolor\": \"#2a3f5f\", \"arrowhead\": 0, \"arrowwidth\": 1}, \"coloraxis\": {\"colorbar\": {\"outlinewidth\": 0, \"ticks\": \"\"}}, \"colorscale\": {\"diverging\": [[0, \"#8e0152\"], [0.1, \"#c51b7d\"], [0.2, \"#de77ae\"], [0.3, \"#f1b6da\"], [0.4, \"#fde0ef\"], [0.5, \"#f7f7f7\"], [0.6, \"#e6f5d0\"], [0.7, \"#b8e186\"], [0.8, \"#7fbc41\"], [0.9, \"#4d9221\"], [1, \"#276419\"]], \"sequential\": [[0.0, \"#0d0887\"], [0.1111111111111111, \"#46039f\"], [0.2222222222222222, \"#7201a8\"], [0.3333333333333333, \"#9c179e\"], [0.4444444444444444, \"#bd3786\"], [0.5555555555555556, \"#d8576b\"], [0.6666666666666666, \"#ed7953\"], [0.7777777777777778, \"#fb9f3a\"], [0.8888888888888888, \"#fdca26\"], [1.0, \"#f0f921\"]], \"sequentialminus\": [[0.0, \"#0d0887\"], [0.1111111111111111, \"#46039f\"], [0.2222222222222222, \"#7201a8\"], [0.3333333333333333, \"#9c179e\"], [0.4444444444444444, \"#bd3786\"], [0.5555555555555556, \"#d8576b\"], [0.6666666666666666, \"#ed7953\"], [0.7777777777777778, \"#fb9f3a\"], [0.8888888888888888, \"#fdca26\"], [1.0, \"#f0f921\"]]}, \"colorway\": [\"#636efa\", \"#EF553B\", \"#00cc96\", \"#ab63fa\", \"#FFA15A\", \"#19d3f3\", \"#FF6692\", \"#B6E880\", \"#FF97FF\", \"#FECB52\"], \"font\": {\"color\": \"#2a3f5f\"}, \"geo\": {\"bgcolor\": \"white\", \"lakecolor\": \"white\", \"landcolor\": \"#E5ECF6\", \"showlakes\": true, \"showland\": true, \"subunitcolor\": \"white\"}, \"hoverlabel\": {\"align\": \"left\"}, \"hovermode\": \"closest\", \"mapbox\": {\"style\": \"light\"}, \"paper_bgcolor\": \"white\", \"plot_bgcolor\": \"#E5ECF6\", \"polar\": {\"angularaxis\": {\"gridcolor\": \"white\", \"linecolor\": \"white\", \"ticks\": \"\"}, \"bgcolor\": \"#E5ECF6\", \"radialaxis\": {\"gridcolor\": \"white\", \"linecolor\": \"white\", \"ticks\": \"\"}}, \"scene\": {\"xaxis\": {\"backgroundcolor\": \"#E5ECF6\", \"gridcolor\": \"white\", \"gridwidth\": 2, \"linecolor\": \"white\", \"showbackground\": true, \"ticks\": \"\", \"zerolinecolor\": \"white\"}, \"yaxis\": {\"backgroundcolor\": \"#E5ECF6\", \"gridcolor\": \"white\", \"gridwidth\": 2, \"linecolor\": \"white\", \"showbackground\": true, \"ticks\": \"\", \"zerolinecolor\": \"white\"}, \"zaxis\": {\"backgroundcolor\": \"#E5ECF6\", \"gridcolor\": \"white\", \"gridwidth\": 2, \"linecolor\": \"white\", \"showbackground\": true, \"ticks\": \"\", \"zerolinecolor\": \"white\"}}, \"shapedefaults\": {\"line\": {\"color\": \"#2a3f5f\"}}, \"ternary\": {\"aaxis\": {\"gridcolor\": \"white\", \"linecolor\": \"white\", \"ticks\": \"\"}, \"baxis\": {\"gridcolor\": \"white\", \"linecolor\": \"white\", \"ticks\": \"\"}, \"bgcolor\": \"#E5ECF6\", \"caxis\": {\"gridcolor\": \"white\", \"linecolor\": \"white\", \"ticks\": \"\"}}, \"title\": {\"x\": 0.05}, \"xaxis\": {\"automargin\": true, \"gridcolor\": \"white\", \"linecolor\": \"white\", \"ticks\": \"\", \"title\": {\"standoff\": 15}, \"zerolinecolor\": \"white\", \"zerolinewidth\": 2}, \"yaxis\": {\"automargin\": true, \"gridcolor\": \"white\", \"linecolor\": \"white\", \"ticks\": \"\", \"title\": {\"standoff\": 15}, \"zerolinecolor\": \"white\", \"zerolinewidth\": 2}}}, \"title\": {\"font\": {\"color\": \"#4D5663\"}}, \"xaxis\": {\"gridcolor\": \"#E1E5ED\", \"showgrid\": true, \"tickfont\": {\"color\": \"#4D5663\"}, \"title\": {\"font\": {\"color\": \"#4D5663\"}, \"text\": \"\"}, \"zerolinecolor\": \"#E1E5ED\"}, \"yaxis\": {\"gridcolor\": \"#E1E5ED\", \"showgrid\": true, \"tickfont\": {\"color\": \"#4D5663\"}, \"title\": {\"font\": {\"color\": \"#4D5663\"}, \"text\": \"\"}, \"zerolinecolor\": \"#E1E5ED\"}},                        {\"showLink\": true, \"linkText\": \"Export to plot.ly\", \"plotlyServerURL\": \"https://plot.ly\", \"responsive\": true}                    ).then(function(){\n",
       "                            \n",
       "var gd = document.getElementById('916cf9e4-7d3f-4adb-bff4-174685d636e2');\n",
       "var x = new MutationObserver(function (mutations, observer) {{\n",
       "        var display = window.getComputedStyle(gd).display;\n",
       "        if (!display || display === 'none') {{\n",
       "            console.log([gd, 'removed!']);\n",
       "            Plotly.purge(gd);\n",
       "            observer.disconnect();\n",
       "        }}\n",
       "}});\n",
       "\n",
       "// Listen for the removal of the full notebook cells\n",
       "var notebookContainer = gd.closest('#notebook-container');\n",
       "if (notebookContainer) {{\n",
       "    x.observe(notebookContainer, {childList: true});\n",
       "}}\n",
       "\n",
       "// Listen for the clearing of the current output cell\n",
       "var outputEl = gd.closest('.output');\n",
       "if (outputEl) {{\n",
       "    x.observe(outputEl, {childList: true});\n",
       "}}\n",
       "\n",
       "                        })                };                });            </script>        </div>"
      ]
     },
     "metadata": {},
     "output_type": "display_data"
    }
   ],
   "source": [
    "df.iplot(kind='box')"
   ]
  },
  {
   "cell_type": "markdown",
   "metadata": {},
   "source": [
    "## 3d Surface"
   ]
  },
  {
   "cell_type": "code",
   "execution_count": 32,
   "metadata": {},
   "outputs": [
    {
     "data": {
      "application/vnd.plotly.v1+json": {
       "config": {
        "linkText": "Export to plot.ly",
        "plotlyServerURL": "https://plot.ly",
        "showLink": true
       },
       "data": [
        {
         "colorscale": [
          [
           0,
           "rgb(165,0,38)"
          ],
          [
           0.1,
           "rgb(215,48,39)"
          ],
          [
           0.2,
           "rgb(244,109,67)"
          ],
          [
           0.3,
           "rgb(253,174,97)"
          ],
          [
           0.4,
           "rgb(254,224,144)"
          ],
          [
           0.5,
           "rgb(255,255,191)"
          ],
          [
           0.6,
           "rgb(224,243,248)"
          ],
          [
           0.7,
           "rgb(171,217,233)"
          ],
          [
           0.8,
           "rgb(116,173,209)"
          ],
          [
           0.9,
           "rgb(69,117,180)"
          ],
          [
           1,
           "rgb(49,54,149)"
          ]
         ],
         "type": "surface",
         "x": [
          0,
          1,
          2,
          3,
          4
         ],
         "y": [
          "x",
          "y",
          "z"
         ],
         "z": [
          [
           1,
           2,
           3,
           4,
           5
          ],
          [
           10,
           20,
           30,
           20,
           10
          ],
          [
           5,
           4,
           3,
           2,
           1
          ]
         ]
        }
       ],
       "layout": {
        "legend": {
         "bgcolor": "#F5F6F9",
         "font": {
          "color": "#4D5663"
         }
        },
        "paper_bgcolor": "#F5F6F9",
        "plot_bgcolor": "#F5F6F9",
        "template": {
         "data": {
          "bar": [
           {
            "error_x": {
             "color": "#2a3f5f"
            },
            "error_y": {
             "color": "#2a3f5f"
            },
            "marker": {
             "line": {
              "color": "#E5ECF6",
              "width": 0.5
             }
            },
            "type": "bar"
           }
          ],
          "barpolar": [
           {
            "marker": {
             "line": {
              "color": "#E5ECF6",
              "width": 0.5
             }
            },
            "type": "barpolar"
           }
          ],
          "carpet": [
           {
            "aaxis": {
             "endlinecolor": "#2a3f5f",
             "gridcolor": "white",
             "linecolor": "white",
             "minorgridcolor": "white",
             "startlinecolor": "#2a3f5f"
            },
            "baxis": {
             "endlinecolor": "#2a3f5f",
             "gridcolor": "white",
             "linecolor": "white",
             "minorgridcolor": "white",
             "startlinecolor": "#2a3f5f"
            },
            "type": "carpet"
           }
          ],
          "choropleth": [
           {
            "colorbar": {
             "outlinewidth": 0,
             "ticks": ""
            },
            "type": "choropleth"
           }
          ],
          "contour": [
           {
            "colorbar": {
             "outlinewidth": 0,
             "ticks": ""
            },
            "colorscale": [
             [
              0,
              "#0d0887"
             ],
             [
              0.1111111111111111,
              "#46039f"
             ],
             [
              0.2222222222222222,
              "#7201a8"
             ],
             [
              0.3333333333333333,
              "#9c179e"
             ],
             [
              0.4444444444444444,
              "#bd3786"
             ],
             [
              0.5555555555555556,
              "#d8576b"
             ],
             [
              0.6666666666666666,
              "#ed7953"
             ],
             [
              0.7777777777777778,
              "#fb9f3a"
             ],
             [
              0.8888888888888888,
              "#fdca26"
             ],
             [
              1,
              "#f0f921"
             ]
            ],
            "type": "contour"
           }
          ],
          "contourcarpet": [
           {
            "colorbar": {
             "outlinewidth": 0,
             "ticks": ""
            },
            "type": "contourcarpet"
           }
          ],
          "heatmap": [
           {
            "colorbar": {
             "outlinewidth": 0,
             "ticks": ""
            },
            "colorscale": [
             [
              0,
              "#0d0887"
             ],
             [
              0.1111111111111111,
              "#46039f"
             ],
             [
              0.2222222222222222,
              "#7201a8"
             ],
             [
              0.3333333333333333,
              "#9c179e"
             ],
             [
              0.4444444444444444,
              "#bd3786"
             ],
             [
              0.5555555555555556,
              "#d8576b"
             ],
             [
              0.6666666666666666,
              "#ed7953"
             ],
             [
              0.7777777777777778,
              "#fb9f3a"
             ],
             [
              0.8888888888888888,
              "#fdca26"
             ],
             [
              1,
              "#f0f921"
             ]
            ],
            "type": "heatmap"
           }
          ],
          "heatmapgl": [
           {
            "colorbar": {
             "outlinewidth": 0,
             "ticks": ""
            },
            "colorscale": [
             [
              0,
              "#0d0887"
             ],
             [
              0.1111111111111111,
              "#46039f"
             ],
             [
              0.2222222222222222,
              "#7201a8"
             ],
             [
              0.3333333333333333,
              "#9c179e"
             ],
             [
              0.4444444444444444,
              "#bd3786"
             ],
             [
              0.5555555555555556,
              "#d8576b"
             ],
             [
              0.6666666666666666,
              "#ed7953"
             ],
             [
              0.7777777777777778,
              "#fb9f3a"
             ],
             [
              0.8888888888888888,
              "#fdca26"
             ],
             [
              1,
              "#f0f921"
             ]
            ],
            "type": "heatmapgl"
           }
          ],
          "histogram": [
           {
            "marker": {
             "colorbar": {
              "outlinewidth": 0,
              "ticks": ""
             }
            },
            "type": "histogram"
           }
          ],
          "histogram2d": [
           {
            "colorbar": {
             "outlinewidth": 0,
             "ticks": ""
            },
            "colorscale": [
             [
              0,
              "#0d0887"
             ],
             [
              0.1111111111111111,
              "#46039f"
             ],
             [
              0.2222222222222222,
              "#7201a8"
             ],
             [
              0.3333333333333333,
              "#9c179e"
             ],
             [
              0.4444444444444444,
              "#bd3786"
             ],
             [
              0.5555555555555556,
              "#d8576b"
             ],
             [
              0.6666666666666666,
              "#ed7953"
             ],
             [
              0.7777777777777778,
              "#fb9f3a"
             ],
             [
              0.8888888888888888,
              "#fdca26"
             ],
             [
              1,
              "#f0f921"
             ]
            ],
            "type": "histogram2d"
           }
          ],
          "histogram2dcontour": [
           {
            "colorbar": {
             "outlinewidth": 0,
             "ticks": ""
            },
            "colorscale": [
             [
              0,
              "#0d0887"
             ],
             [
              0.1111111111111111,
              "#46039f"
             ],
             [
              0.2222222222222222,
              "#7201a8"
             ],
             [
              0.3333333333333333,
              "#9c179e"
             ],
             [
              0.4444444444444444,
              "#bd3786"
             ],
             [
              0.5555555555555556,
              "#d8576b"
             ],
             [
              0.6666666666666666,
              "#ed7953"
             ],
             [
              0.7777777777777778,
              "#fb9f3a"
             ],
             [
              0.8888888888888888,
              "#fdca26"
             ],
             [
              1,
              "#f0f921"
             ]
            ],
            "type": "histogram2dcontour"
           }
          ],
          "mesh3d": [
           {
            "colorbar": {
             "outlinewidth": 0,
             "ticks": ""
            },
            "type": "mesh3d"
           }
          ],
          "parcoords": [
           {
            "line": {
             "colorbar": {
              "outlinewidth": 0,
              "ticks": ""
             }
            },
            "type": "parcoords"
           }
          ],
          "pie": [
           {
            "automargin": true,
            "type": "pie"
           }
          ],
          "scatter": [
           {
            "marker": {
             "colorbar": {
              "outlinewidth": 0,
              "ticks": ""
             }
            },
            "type": "scatter"
           }
          ],
          "scatter3d": [
           {
            "line": {
             "colorbar": {
              "outlinewidth": 0,
              "ticks": ""
             }
            },
            "marker": {
             "colorbar": {
              "outlinewidth": 0,
              "ticks": ""
             }
            },
            "type": "scatter3d"
           }
          ],
          "scattercarpet": [
           {
            "marker": {
             "colorbar": {
              "outlinewidth": 0,
              "ticks": ""
             }
            },
            "type": "scattercarpet"
           }
          ],
          "scattergeo": [
           {
            "marker": {
             "colorbar": {
              "outlinewidth": 0,
              "ticks": ""
             }
            },
            "type": "scattergeo"
           }
          ],
          "scattergl": [
           {
            "marker": {
             "colorbar": {
              "outlinewidth": 0,
              "ticks": ""
             }
            },
            "type": "scattergl"
           }
          ],
          "scattermapbox": [
           {
            "marker": {
             "colorbar": {
              "outlinewidth": 0,
              "ticks": ""
             }
            },
            "type": "scattermapbox"
           }
          ],
          "scatterpolar": [
           {
            "marker": {
             "colorbar": {
              "outlinewidth": 0,
              "ticks": ""
             }
            },
            "type": "scatterpolar"
           }
          ],
          "scatterpolargl": [
           {
            "marker": {
             "colorbar": {
              "outlinewidth": 0,
              "ticks": ""
             }
            },
            "type": "scatterpolargl"
           }
          ],
          "scatterternary": [
           {
            "marker": {
             "colorbar": {
              "outlinewidth": 0,
              "ticks": ""
             }
            },
            "type": "scatterternary"
           }
          ],
          "surface": [
           {
            "colorbar": {
             "outlinewidth": 0,
             "ticks": ""
            },
            "colorscale": [
             [
              0,
              "#0d0887"
             ],
             [
              0.1111111111111111,
              "#46039f"
             ],
             [
              0.2222222222222222,
              "#7201a8"
             ],
             [
              0.3333333333333333,
              "#9c179e"
             ],
             [
              0.4444444444444444,
              "#bd3786"
             ],
             [
              0.5555555555555556,
              "#d8576b"
             ],
             [
              0.6666666666666666,
              "#ed7953"
             ],
             [
              0.7777777777777778,
              "#fb9f3a"
             ],
             [
              0.8888888888888888,
              "#fdca26"
             ],
             [
              1,
              "#f0f921"
             ]
            ],
            "type": "surface"
           }
          ],
          "table": [
           {
            "cells": {
             "fill": {
              "color": "#EBF0F8"
             },
             "line": {
              "color": "white"
             }
            },
            "header": {
             "fill": {
              "color": "#C8D4E3"
             },
             "line": {
              "color": "white"
             }
            },
            "type": "table"
           }
          ]
         },
         "layout": {
          "annotationdefaults": {
           "arrowcolor": "#2a3f5f",
           "arrowhead": 0,
           "arrowwidth": 1
          },
          "coloraxis": {
           "colorbar": {
            "outlinewidth": 0,
            "ticks": ""
           }
          },
          "colorscale": {
           "diverging": [
            [
             0,
             "#8e0152"
            ],
            [
             0.1,
             "#c51b7d"
            ],
            [
             0.2,
             "#de77ae"
            ],
            [
             0.3,
             "#f1b6da"
            ],
            [
             0.4,
             "#fde0ef"
            ],
            [
             0.5,
             "#f7f7f7"
            ],
            [
             0.6,
             "#e6f5d0"
            ],
            [
             0.7,
             "#b8e186"
            ],
            [
             0.8,
             "#7fbc41"
            ],
            [
             0.9,
             "#4d9221"
            ],
            [
             1,
             "#276419"
            ]
           ],
           "sequential": [
            [
             0,
             "#0d0887"
            ],
            [
             0.1111111111111111,
             "#46039f"
            ],
            [
             0.2222222222222222,
             "#7201a8"
            ],
            [
             0.3333333333333333,
             "#9c179e"
            ],
            [
             0.4444444444444444,
             "#bd3786"
            ],
            [
             0.5555555555555556,
             "#d8576b"
            ],
            [
             0.6666666666666666,
             "#ed7953"
            ],
            [
             0.7777777777777778,
             "#fb9f3a"
            ],
            [
             0.8888888888888888,
             "#fdca26"
            ],
            [
             1,
             "#f0f921"
            ]
           ],
           "sequentialminus": [
            [
             0,
             "#0d0887"
            ],
            [
             0.1111111111111111,
             "#46039f"
            ],
            [
             0.2222222222222222,
             "#7201a8"
            ],
            [
             0.3333333333333333,
             "#9c179e"
            ],
            [
             0.4444444444444444,
             "#bd3786"
            ],
            [
             0.5555555555555556,
             "#d8576b"
            ],
            [
             0.6666666666666666,
             "#ed7953"
            ],
            [
             0.7777777777777778,
             "#fb9f3a"
            ],
            [
             0.8888888888888888,
             "#fdca26"
            ],
            [
             1,
             "#f0f921"
            ]
           ]
          },
          "colorway": [
           "#636efa",
           "#EF553B",
           "#00cc96",
           "#ab63fa",
           "#FFA15A",
           "#19d3f3",
           "#FF6692",
           "#B6E880",
           "#FF97FF",
           "#FECB52"
          ],
          "font": {
           "color": "#2a3f5f"
          },
          "geo": {
           "bgcolor": "white",
           "lakecolor": "white",
           "landcolor": "#E5ECF6",
           "showlakes": true,
           "showland": true,
           "subunitcolor": "white"
          },
          "hoverlabel": {
           "align": "left"
          },
          "hovermode": "closest",
          "mapbox": {
           "style": "light"
          },
          "paper_bgcolor": "white",
          "plot_bgcolor": "#E5ECF6",
          "polar": {
           "angularaxis": {
            "gridcolor": "white",
            "linecolor": "white",
            "ticks": ""
           },
           "bgcolor": "#E5ECF6",
           "radialaxis": {
            "gridcolor": "white",
            "linecolor": "white",
            "ticks": ""
           }
          },
          "scene": {
           "xaxis": {
            "backgroundcolor": "#E5ECF6",
            "gridcolor": "white",
            "gridwidth": 2,
            "linecolor": "white",
            "showbackground": true,
            "ticks": "",
            "zerolinecolor": "white"
           },
           "yaxis": {
            "backgroundcolor": "#E5ECF6",
            "gridcolor": "white",
            "gridwidth": 2,
            "linecolor": "white",
            "showbackground": true,
            "ticks": "",
            "zerolinecolor": "white"
           },
           "zaxis": {
            "backgroundcolor": "#E5ECF6",
            "gridcolor": "white",
            "gridwidth": 2,
            "linecolor": "white",
            "showbackground": true,
            "ticks": "",
            "zerolinecolor": "white"
           }
          },
          "shapedefaults": {
           "line": {
            "color": "#2a3f5f"
           }
          },
          "ternary": {
           "aaxis": {
            "gridcolor": "white",
            "linecolor": "white",
            "ticks": ""
           },
           "baxis": {
            "gridcolor": "white",
            "linecolor": "white",
            "ticks": ""
           },
           "bgcolor": "#E5ECF6",
           "caxis": {
            "gridcolor": "white",
            "linecolor": "white",
            "ticks": ""
           }
          },
          "title": {
           "x": 0.05
          },
          "xaxis": {
           "automargin": true,
           "gridcolor": "white",
           "linecolor": "white",
           "ticks": "",
           "title": {
            "standoff": 15
           },
           "zerolinecolor": "white",
           "zerolinewidth": 2
          },
          "yaxis": {
           "automargin": true,
           "gridcolor": "white",
           "linecolor": "white",
           "ticks": "",
           "title": {
            "standoff": 15
           },
           "zerolinecolor": "white",
           "zerolinewidth": 2
          }
         }
        },
        "title": {
         "font": {
          "color": "#4D5663"
         }
        },
        "xaxis": {
         "gridcolor": "#E1E5ED",
         "showgrid": true,
         "tickfont": {
          "color": "#4D5663"
         },
         "title": {
          "font": {
           "color": "#4D5663"
          },
          "text": ""
         },
         "zerolinecolor": "#E1E5ED"
        },
        "yaxis": {
         "gridcolor": "#E1E5ED",
         "showgrid": true,
         "tickfont": {
          "color": "#4D5663"
         },
         "title": {
          "font": {
           "color": "#4D5663"
          },
          "text": ""
         },
         "zerolinecolor": "#E1E5ED"
        }
       }
      },
      "text/html": [
       "<div>                            <div id=\"5643def0-83e3-4d3b-a689-288428de9725\" class=\"plotly-graph-div\" style=\"height:525px; width:100%;\"></div>            <script type=\"text/javascript\">                require([\"plotly\"], function(Plotly) {                    window.PLOTLYENV=window.PLOTLYENV || {};\n",
       "                    window.PLOTLYENV.BASE_URL='https://plot.ly';                                    if (document.getElementById(\"5643def0-83e3-4d3b-a689-288428de9725\")) {                    Plotly.newPlot(                        \"5643def0-83e3-4d3b-a689-288428de9725\",                        [{\"colorscale\": [[0.0, \"rgb(165,0,38)\"], [0.1, \"rgb(215,48,39)\"], [0.2, \"rgb(244,109,67)\"], [0.3, \"rgb(253,174,97)\"], [0.4, \"rgb(254,224,144)\"], [0.5, \"rgb(255,255,191)\"], [0.6, \"rgb(224,243,248)\"], [0.7, \"rgb(171,217,233)\"], [0.8, \"rgb(116,173,209)\"], [0.9, \"rgb(69,117,180)\"], [1.0, \"rgb(49,54,149)\"]], \"type\": \"surface\", \"x\": [0, 1, 2, 3, 4], \"y\": [\"x\", \"y\", \"z\"], \"z\": [[1, 2, 3, 4, 5], [10, 20, 30, 20, 10], [5, 4, 3, 2, 1]]}],                        {\"legend\": {\"bgcolor\": \"#F5F6F9\", \"font\": {\"color\": \"#4D5663\"}}, \"paper_bgcolor\": \"#F5F6F9\", \"plot_bgcolor\": \"#F5F6F9\", \"template\": {\"data\": {\"bar\": [{\"error_x\": {\"color\": \"#2a3f5f\"}, \"error_y\": {\"color\": \"#2a3f5f\"}, \"marker\": {\"line\": {\"color\": \"#E5ECF6\", \"width\": 0.5}}, \"type\": \"bar\"}], \"barpolar\": [{\"marker\": {\"line\": {\"color\": \"#E5ECF6\", \"width\": 0.5}}, \"type\": \"barpolar\"}], \"carpet\": [{\"aaxis\": {\"endlinecolor\": \"#2a3f5f\", \"gridcolor\": \"white\", \"linecolor\": \"white\", \"minorgridcolor\": \"white\", \"startlinecolor\": \"#2a3f5f\"}, \"baxis\": {\"endlinecolor\": \"#2a3f5f\", \"gridcolor\": \"white\", \"linecolor\": \"white\", \"minorgridcolor\": \"white\", \"startlinecolor\": \"#2a3f5f\"}, \"type\": \"carpet\"}], \"choropleth\": [{\"colorbar\": {\"outlinewidth\": 0, \"ticks\": \"\"}, \"type\": \"choropleth\"}], \"contour\": [{\"colorbar\": {\"outlinewidth\": 0, \"ticks\": \"\"}, \"colorscale\": [[0.0, \"#0d0887\"], [0.1111111111111111, \"#46039f\"], [0.2222222222222222, \"#7201a8\"], [0.3333333333333333, \"#9c179e\"], [0.4444444444444444, \"#bd3786\"], [0.5555555555555556, \"#d8576b\"], [0.6666666666666666, \"#ed7953\"], [0.7777777777777778, \"#fb9f3a\"], [0.8888888888888888, \"#fdca26\"], [1.0, \"#f0f921\"]], \"type\": \"contour\"}], \"contourcarpet\": [{\"colorbar\": {\"outlinewidth\": 0, \"ticks\": \"\"}, \"type\": \"contourcarpet\"}], \"heatmap\": [{\"colorbar\": {\"outlinewidth\": 0, \"ticks\": \"\"}, \"colorscale\": [[0.0, \"#0d0887\"], [0.1111111111111111, \"#46039f\"], [0.2222222222222222, \"#7201a8\"], [0.3333333333333333, \"#9c179e\"], [0.4444444444444444, \"#bd3786\"], [0.5555555555555556, \"#d8576b\"], [0.6666666666666666, \"#ed7953\"], [0.7777777777777778, \"#fb9f3a\"], [0.8888888888888888, \"#fdca26\"], [1.0, \"#f0f921\"]], \"type\": \"heatmap\"}], \"heatmapgl\": [{\"colorbar\": {\"outlinewidth\": 0, \"ticks\": \"\"}, \"colorscale\": [[0.0, \"#0d0887\"], [0.1111111111111111, \"#46039f\"], [0.2222222222222222, \"#7201a8\"], [0.3333333333333333, \"#9c179e\"], [0.4444444444444444, \"#bd3786\"], [0.5555555555555556, \"#d8576b\"], [0.6666666666666666, \"#ed7953\"], [0.7777777777777778, \"#fb9f3a\"], [0.8888888888888888, \"#fdca26\"], [1.0, \"#f0f921\"]], \"type\": \"heatmapgl\"}], \"histogram\": [{\"marker\": {\"colorbar\": {\"outlinewidth\": 0, \"ticks\": \"\"}}, \"type\": \"histogram\"}], \"histogram2d\": [{\"colorbar\": {\"outlinewidth\": 0, \"ticks\": \"\"}, \"colorscale\": [[0.0, \"#0d0887\"], [0.1111111111111111, \"#46039f\"], [0.2222222222222222, \"#7201a8\"], [0.3333333333333333, \"#9c179e\"], [0.4444444444444444, \"#bd3786\"], [0.5555555555555556, \"#d8576b\"], [0.6666666666666666, \"#ed7953\"], [0.7777777777777778, \"#fb9f3a\"], [0.8888888888888888, \"#fdca26\"], [1.0, \"#f0f921\"]], \"type\": \"histogram2d\"}], \"histogram2dcontour\": [{\"colorbar\": {\"outlinewidth\": 0, \"ticks\": \"\"}, \"colorscale\": [[0.0, \"#0d0887\"], [0.1111111111111111, \"#46039f\"], [0.2222222222222222, \"#7201a8\"], [0.3333333333333333, \"#9c179e\"], [0.4444444444444444, \"#bd3786\"], [0.5555555555555556, \"#d8576b\"], [0.6666666666666666, \"#ed7953\"], [0.7777777777777778, \"#fb9f3a\"], [0.8888888888888888, \"#fdca26\"], [1.0, \"#f0f921\"]], \"type\": \"histogram2dcontour\"}], \"mesh3d\": [{\"colorbar\": {\"outlinewidth\": 0, \"ticks\": \"\"}, \"type\": \"mesh3d\"}], \"parcoords\": [{\"line\": {\"colorbar\": {\"outlinewidth\": 0, \"ticks\": \"\"}}, \"type\": \"parcoords\"}], \"pie\": [{\"automargin\": true, \"type\": \"pie\"}], \"scatter\": [{\"marker\": {\"colorbar\": {\"outlinewidth\": 0, \"ticks\": \"\"}}, \"type\": \"scatter\"}], \"scatter3d\": [{\"line\": {\"colorbar\": {\"outlinewidth\": 0, \"ticks\": \"\"}}, \"marker\": {\"colorbar\": {\"outlinewidth\": 0, \"ticks\": \"\"}}, \"type\": \"scatter3d\"}], \"scattercarpet\": [{\"marker\": {\"colorbar\": {\"outlinewidth\": 0, \"ticks\": \"\"}}, \"type\": \"scattercarpet\"}], \"scattergeo\": [{\"marker\": {\"colorbar\": {\"outlinewidth\": 0, \"ticks\": \"\"}}, \"type\": \"scattergeo\"}], \"scattergl\": [{\"marker\": {\"colorbar\": {\"outlinewidth\": 0, \"ticks\": \"\"}}, \"type\": \"scattergl\"}], \"scattermapbox\": [{\"marker\": {\"colorbar\": {\"outlinewidth\": 0, \"ticks\": \"\"}}, \"type\": \"scattermapbox\"}], \"scatterpolar\": [{\"marker\": {\"colorbar\": {\"outlinewidth\": 0, \"ticks\": \"\"}}, \"type\": \"scatterpolar\"}], \"scatterpolargl\": [{\"marker\": {\"colorbar\": {\"outlinewidth\": 0, \"ticks\": \"\"}}, \"type\": \"scatterpolargl\"}], \"scatterternary\": [{\"marker\": {\"colorbar\": {\"outlinewidth\": 0, \"ticks\": \"\"}}, \"type\": \"scatterternary\"}], \"surface\": [{\"colorbar\": {\"outlinewidth\": 0, \"ticks\": \"\"}, \"colorscale\": [[0.0, \"#0d0887\"], [0.1111111111111111, \"#46039f\"], [0.2222222222222222, \"#7201a8\"], [0.3333333333333333, \"#9c179e\"], [0.4444444444444444, \"#bd3786\"], [0.5555555555555556, \"#d8576b\"], [0.6666666666666666, \"#ed7953\"], [0.7777777777777778, \"#fb9f3a\"], [0.8888888888888888, \"#fdca26\"], [1.0, \"#f0f921\"]], \"type\": \"surface\"}], \"table\": [{\"cells\": {\"fill\": {\"color\": \"#EBF0F8\"}, \"line\": {\"color\": \"white\"}}, \"header\": {\"fill\": {\"color\": \"#C8D4E3\"}, \"line\": {\"color\": \"white\"}}, \"type\": \"table\"}]}, \"layout\": {\"annotationdefaults\": {\"arrowcolor\": \"#2a3f5f\", \"arrowhead\": 0, \"arrowwidth\": 1}, \"coloraxis\": {\"colorbar\": {\"outlinewidth\": 0, \"ticks\": \"\"}}, \"colorscale\": {\"diverging\": [[0, \"#8e0152\"], [0.1, \"#c51b7d\"], [0.2, \"#de77ae\"], [0.3, \"#f1b6da\"], [0.4, \"#fde0ef\"], [0.5, \"#f7f7f7\"], [0.6, \"#e6f5d0\"], [0.7, \"#b8e186\"], [0.8, \"#7fbc41\"], [0.9, \"#4d9221\"], [1, \"#276419\"]], \"sequential\": [[0.0, \"#0d0887\"], [0.1111111111111111, \"#46039f\"], [0.2222222222222222, \"#7201a8\"], [0.3333333333333333, \"#9c179e\"], [0.4444444444444444, \"#bd3786\"], [0.5555555555555556, \"#d8576b\"], [0.6666666666666666, \"#ed7953\"], [0.7777777777777778, \"#fb9f3a\"], [0.8888888888888888, \"#fdca26\"], [1.0, \"#f0f921\"]], \"sequentialminus\": [[0.0, \"#0d0887\"], [0.1111111111111111, \"#46039f\"], [0.2222222222222222, \"#7201a8\"], [0.3333333333333333, \"#9c179e\"], [0.4444444444444444, \"#bd3786\"], [0.5555555555555556, \"#d8576b\"], [0.6666666666666666, \"#ed7953\"], [0.7777777777777778, \"#fb9f3a\"], [0.8888888888888888, \"#fdca26\"], [1.0, \"#f0f921\"]]}, \"colorway\": [\"#636efa\", \"#EF553B\", \"#00cc96\", \"#ab63fa\", \"#FFA15A\", \"#19d3f3\", \"#FF6692\", \"#B6E880\", \"#FF97FF\", \"#FECB52\"], \"font\": {\"color\": \"#2a3f5f\"}, \"geo\": {\"bgcolor\": \"white\", \"lakecolor\": \"white\", \"landcolor\": \"#E5ECF6\", \"showlakes\": true, \"showland\": true, \"subunitcolor\": \"white\"}, \"hoverlabel\": {\"align\": \"left\"}, \"hovermode\": \"closest\", \"mapbox\": {\"style\": \"light\"}, \"paper_bgcolor\": \"white\", \"plot_bgcolor\": \"#E5ECF6\", \"polar\": {\"angularaxis\": {\"gridcolor\": \"white\", \"linecolor\": \"white\", \"ticks\": \"\"}, \"bgcolor\": \"#E5ECF6\", \"radialaxis\": {\"gridcolor\": \"white\", \"linecolor\": \"white\", \"ticks\": \"\"}}, \"scene\": {\"xaxis\": {\"backgroundcolor\": \"#E5ECF6\", \"gridcolor\": \"white\", \"gridwidth\": 2, \"linecolor\": \"white\", \"showbackground\": true, \"ticks\": \"\", \"zerolinecolor\": \"white\"}, \"yaxis\": {\"backgroundcolor\": \"#E5ECF6\", \"gridcolor\": \"white\", \"gridwidth\": 2, \"linecolor\": \"white\", \"showbackground\": true, \"ticks\": \"\", \"zerolinecolor\": \"white\"}, \"zaxis\": {\"backgroundcolor\": \"#E5ECF6\", \"gridcolor\": \"white\", \"gridwidth\": 2, \"linecolor\": \"white\", \"showbackground\": true, \"ticks\": \"\", \"zerolinecolor\": \"white\"}}, \"shapedefaults\": {\"line\": {\"color\": \"#2a3f5f\"}}, \"ternary\": {\"aaxis\": {\"gridcolor\": \"white\", \"linecolor\": \"white\", \"ticks\": \"\"}, \"baxis\": {\"gridcolor\": \"white\", \"linecolor\": \"white\", \"ticks\": \"\"}, \"bgcolor\": \"#E5ECF6\", \"caxis\": {\"gridcolor\": \"white\", \"linecolor\": \"white\", \"ticks\": \"\"}}, \"title\": {\"x\": 0.05}, \"xaxis\": {\"automargin\": true, \"gridcolor\": \"white\", \"linecolor\": \"white\", \"ticks\": \"\", \"title\": {\"standoff\": 15}, \"zerolinecolor\": \"white\", \"zerolinewidth\": 2}, \"yaxis\": {\"automargin\": true, \"gridcolor\": \"white\", \"linecolor\": \"white\", \"ticks\": \"\", \"title\": {\"standoff\": 15}, \"zerolinecolor\": \"white\", \"zerolinewidth\": 2}}}, \"title\": {\"font\": {\"color\": \"#4D5663\"}}, \"xaxis\": {\"gridcolor\": \"#E1E5ED\", \"showgrid\": true, \"tickfont\": {\"color\": \"#4D5663\"}, \"title\": {\"font\": {\"color\": \"#4D5663\"}, \"text\": \"\"}, \"zerolinecolor\": \"#E1E5ED\"}, \"yaxis\": {\"gridcolor\": \"#E1E5ED\", \"showgrid\": true, \"tickfont\": {\"color\": \"#4D5663\"}, \"title\": {\"font\": {\"color\": \"#4D5663\"}, \"text\": \"\"}, \"zerolinecolor\": \"#E1E5ED\"}},                        {\"showLink\": true, \"linkText\": \"Export to plot.ly\", \"plotlyServerURL\": \"https://plot.ly\", \"responsive\": true}                    ).then(function(){\n",
       "                            \n",
       "var gd = document.getElementById('5643def0-83e3-4d3b-a689-288428de9725');\n",
       "var x = new MutationObserver(function (mutations, observer) {{\n",
       "        var display = window.getComputedStyle(gd).display;\n",
       "        if (!display || display === 'none') {{\n",
       "            console.log([gd, 'removed!']);\n",
       "            Plotly.purge(gd);\n",
       "            observer.disconnect();\n",
       "        }}\n",
       "}});\n",
       "\n",
       "// Listen for the removal of the full notebook cells\n",
       "var notebookContainer = gd.closest('#notebook-container');\n",
       "if (notebookContainer) {{\n",
       "    x.observe(notebookContainer, {childList: true});\n",
       "}}\n",
       "\n",
       "// Listen for the clearing of the current output cell\n",
       "var outputEl = gd.closest('.output');\n",
       "if (outputEl) {{\n",
       "    x.observe(outputEl, {childList: true});\n",
       "}}\n",
       "\n",
       "                        })                };                });            </script>        </div>"
      ]
     },
     "metadata": {},
     "output_type": "display_data"
    }
   ],
   "source": [
    "df3 = pd.DataFrame({'x':[1,2,3,4,5],'y':[10,20,30,20,10],'z':[5,4,3,2,1]})\n",
    "df3.iplot(kind='surface',colorscale='rdylbu')"
   ]
  },
  {
   "cell_type": "markdown",
   "metadata": {},
   "source": [
    "## Spread"
   ]
  },
  {
   "cell_type": "code",
   "execution_count": 33,
   "metadata": {},
   "outputs": [
    {
     "data": {
      "application/vnd.plotly.v1+json": {
       "config": {
        "linkText": "Export to plot.ly",
        "plotlyServerURL": "https://plot.ly",
        "showLink": true
       },
       "data": [
        {
         "line": {
          "color": "rgba(255, 153, 51, 1.0)",
          "dash": "solid",
          "shape": "linear",
          "width": 1.3
         },
         "mode": "lines",
         "name": "A",
         "text": "",
         "type": "scatter",
         "x": [
          0,
          1,
          2,
          3,
          4,
          5,
          6,
          7,
          8,
          9,
          10,
          11,
          12,
          13,
          14,
          15,
          16,
          17,
          18,
          19,
          20,
          21,
          22,
          23,
          24,
          25,
          26,
          27,
          28,
          29,
          30,
          31,
          32,
          33,
          34,
          35,
          36,
          37,
          38,
          39,
          40,
          41,
          42,
          43,
          44,
          45,
          46,
          47,
          48,
          49,
          50,
          51,
          52,
          53,
          54,
          55,
          56,
          57,
          58,
          59,
          60,
          61,
          62,
          63,
          64,
          65,
          66,
          67,
          68,
          69,
          70,
          71,
          72,
          73,
          74,
          75,
          76,
          77,
          78,
          79,
          80,
          81,
          82,
          83,
          84,
          85,
          86,
          87,
          88,
          89,
          90,
          91,
          92,
          93,
          94,
          95,
          96,
          97,
          98,
          99
         ],
         "y": [
          2.349463736678292,
          0.3108666103275385,
          -0.583059093678768,
          0.7435885743025653,
          0.5099588098432798,
          1.966548109766253,
          1.1129898957074027,
          0.9611232611901351,
          -0.8806101014203047,
          1.0375710853156552,
          0.8845667407050395,
          0.35646066025878753,
          -1.1704649292446916,
          -0.8484060076978288,
          -1.328673180495637,
          -0.6290443312838666,
          0.2544498414697697,
          0.680348696415441,
          -0.574757688795644,
          0.7873185458279743,
          1.092439973790728,
          -0.33905546810607146,
          -0.42096026392177893,
          2.0117528995759932,
          -0.11791651021532197,
          0.3825425311059134,
          0.8719462945865029,
          -0.01409655835904745,
          -0.6241638118596583,
          0.3075622492359093,
          1.2412826092237823,
          -0.3586456201977495,
          -1.7082564416376078,
          -0.7390107854664355,
          0.07674312808999541,
          0.6621222926702514,
          -0.5976930309969201,
          0.02449196098641207,
          1.6507602514940374,
          -0.7930135621497139,
          -0.30453355733048615,
          -0.07763659811971005,
          2.1073933548155788,
          0.8882738710911402,
          0.969196759272263,
          2.9340866721007295,
          1.3811341499105498,
          -1.0242821964430902,
          0.3922130569684905,
          0.33620212753268575,
          -0.5302585342303152,
          0.17890119119824593,
          0.019558389885683335,
          0.2586508632542788,
          -0.5882636693456064,
          0.4280553780557698,
          0.6573994705294567,
          -2.3258329038234393,
          -0.6421196396204563,
          0.36292251478888504,
          -1.8104712563800573,
          -0.7829556928950923,
          0.5001903797435958,
          -0.018774145722104715,
          -0.016942425665276803,
          -1.525440739390988,
          -0.8006457698691762,
          0.5296622914630553,
          -1.8220488470166538,
          -0.06173198001629492,
          -0.1642904593185454,
          -0.7468745036491485,
          0.6761936748237967,
          1.9478795434010834,
          0.4033264043525933,
          0.298827194151868,
          -1.0231861023554405,
          -0.6546339980700924,
          -0.4228532658975435,
          0.9338488686667084,
          0.4194981015674065,
          -1.2940297969923231,
          -0.5633240026073197,
          -1.7315335815688098,
          0.03062121319198041,
          0.27423303246300695,
          0.2591970498434519,
          -1.8963660993830473,
          -2.1397656526426228,
          1.8661395187606886,
          0.5348513410557355,
          -0.25764763876401997,
          -0.12581490569591677,
          0.9976646067470557,
          1.1606409118888894,
          0.36809489076520036,
          -1.099822859422754,
          -0.9177250385045125,
          0.25358679835536085,
          1.201352455006568
         ]
        },
        {
         "line": {
          "color": "rgba(55, 128, 191, 1.0)",
          "dash": "solid",
          "shape": "linear",
          "width": 1.3
         },
         "mode": "lines",
         "name": "B",
         "text": "",
         "type": "scatter",
         "x": [
          0,
          1,
          2,
          3,
          4,
          5,
          6,
          7,
          8,
          9,
          10,
          11,
          12,
          13,
          14,
          15,
          16,
          17,
          18,
          19,
          20,
          21,
          22,
          23,
          24,
          25,
          26,
          27,
          28,
          29,
          30,
          31,
          32,
          33,
          34,
          35,
          36,
          37,
          38,
          39,
          40,
          41,
          42,
          43,
          44,
          45,
          46,
          47,
          48,
          49,
          50,
          51,
          52,
          53,
          54,
          55,
          56,
          57,
          58,
          59,
          60,
          61,
          62,
          63,
          64,
          65,
          66,
          67,
          68,
          69,
          70,
          71,
          72,
          73,
          74,
          75,
          76,
          77,
          78,
          79,
          80,
          81,
          82,
          83,
          84,
          85,
          86,
          87,
          88,
          89,
          90,
          91,
          92,
          93,
          94,
          95,
          96,
          97,
          98,
          99
         ],
         "y": [
          -0.2423219949389645,
          -2.706976290388302,
          1.2953954200897868,
          1.0140749314238602,
          0.013848059806591515,
          0.5887514333233522,
          0.3465406031828833,
          1.0611421450054488,
          0.6419282667293559,
          -0.8838581497504631,
          0.4148028398283948,
          -0.6517477223270324,
          0.8674115443174526,
          0.5489179991817551,
          0.6574300852313422,
          -0.4549444472057328,
          -0.6706131600173989,
          -0.5291126040546213,
          -1.8217365516677237,
          1.444721043724773,
          0.7590392104277327,
          -0.09293925013803317,
          0.0503972895855374,
          0.145007606799687,
          -1.4809147392137594,
          -1.7563679027915409,
          -0.1366478446801668,
          -0.249880409389546,
          -1.5092014303269374,
          -1.2951933581366464,
          -0.3776816935327316,
          1.0500367846007583,
          2.0298731333973334,
          -0.5177442142650164,
          0.581326559850293,
          -1.15614374441983,
          -1.5974251016007963,
          -2.069878207551687,
          0.34569618335219143,
          1.0580442289797154,
          1.1143756268125253,
          0.6571354815017619,
          -0.033134048005478076,
          0.6500503187731492,
          1.804249260594454,
          0.8631998455493465,
          -0.8651144914203226,
          -0.48603282398988484,
          -1.7877943468082442,
          1.3108090320196126,
          -1.741348077810631,
          -0.29830640334535924,
          1.4957145372526197,
          -0.5414125413987575,
          0.2455871408269604,
          0.27960360946611895,
          -0.8673052508542467,
          0.230103197123487,
          -0.034143955297715245,
          0.06502501025699589,
          -2.194321449524192,
          -0.1632314690482964,
          -0.9880534457273676,
          -0.29926393381783994,
          0.29366069873202544,
          -0.8723884495437727,
          7.053549891964815e-05,
          -1.3105748100582921,
          1.4652962429346243,
          -0.7303225872571056,
          0.7981774297351967,
          0.8611213956410901,
          0.02222822235287305,
          0.6600086924732197,
          -2.6409659803744203,
          -0.5348090955409671,
          1.075407406047104,
          0.7052304529529135,
          -0.045799926817225264,
          -0.4760153334720511,
          -1.3587210895550077,
          -0.5272599116076675,
          -0.18591988363725706,
          0.6091872034069954,
          0.2668676271844891,
          0.10318620801740346,
          -0.8599520266992087,
          0.6605329680149644,
          0.5344677366032592,
          0.12479350332966131,
          -0.214626583134152,
          -0.45984866368511523,
          -0.9255916206161602,
          0.3393940004328594,
          -0.8931237996637412,
          0.8724502332921894,
          -0.2837812299787633,
          -0.4374598153438439,
          0.2803366464933947,
          0.26179862710883917
         ]
        },
        {
         "connectgaps": false,
         "fill": "tozeroy",
         "line": {
          "color": "green",
          "dash": "solid",
          "shape": "linear",
          "width": 0.5
         },
         "mode": "lines",
         "name": "Spread",
         "showlegend": false,
         "type": "scatter",
         "x": [
          0,
          1,
          2,
          3,
          4,
          5,
          6,
          7,
          8,
          9,
          10,
          11,
          12,
          13,
          14,
          15,
          16,
          17,
          18,
          19,
          20,
          21,
          22,
          23,
          24,
          25,
          26,
          27,
          28,
          29,
          30,
          31,
          32,
          33,
          34,
          35,
          36,
          37,
          38,
          39,
          40,
          41,
          42,
          43,
          44,
          45,
          46,
          47,
          48,
          49,
          50,
          51,
          52,
          53,
          54,
          55,
          56,
          57,
          58,
          59,
          60,
          61,
          62,
          63,
          64,
          65,
          66,
          67,
          68,
          69,
          70,
          71,
          72,
          73,
          74,
          75,
          76,
          77,
          78,
          79,
          80,
          81,
          82,
          83,
          84,
          85,
          86,
          87,
          88,
          89,
          90,
          91,
          92,
          93,
          94,
          95,
          96,
          97,
          98,
          99
         ],
         "xaxis": "x2",
         "y": [
          2.5917857316172563,
          3.0178429007158405,
          "",
          "",
          0.49611075003668825,
          1.3777966764429008,
          0.7664492925245194,
          "",
          "",
          1.9214292350661184,
          0.4697639008766447,
          1.00820838258582,
          "",
          "",
          "",
          "",
          0.9250630014871686,
          1.2094613004700623,
          1.2469788628720797,
          "",
          0.3334007633629953,
          "",
          "",
          1.8667452927763062,
          1.3629982289984375,
          2.138910433897454,
          1.0085941392666697,
          0.23578385103049856,
          0.8850376184672791,
          1.6027556073725557,
          1.618964302756514,
          "",
          "",
          "",
          "",
          1.8182660370900812,
          0.9997320706038763,
          2.094370168538099,
          1.305064068141846,
          "",
          "",
          "",
          2.140527402821057,
          0.23822355231799097,
          "",
          2.070886826551383,
          2.2462486413308724,
          "",
          2.1800074037767345,
          "",
          1.2110895435803157,
          0.4772075945436052,
          "",
          0.8000634046530363,
          "",
          0.14845176858965087,
          1.5247047213837033,
          "",
          "",
          0.2978975045318891,
          0.3838501931441347,
          "",
          1.4882438254709633,
          0.2804897880957352,
          "",
          "",
          "",
          1.8402371015213475,
          "",
          0.6685906072408108,
          "",
          "",
          0.6539654524709236,
          1.2878708509278636,
          3.044292384727014,
          0.8336362896928351,
          "",
          "",
          "",
          1.4098642021387595,
          1.7782191911224143,
          "",
          "",
          "",
          "",
          0.17104682444560348,
          1.1191490765426606,
          "",
          "",
          1.7413460154310274,
          0.7494779241898875,
          0.20220102492109526,
          0.7997767149202434,
          0.6582706063141963,
          2.0537647115526307,
          "",
          "",
          "",
          "",
          0.9395538278977288
         ],
         "yaxis": "y2"
        },
        {
         "connectgaps": false,
         "fill": "tozeroy",
         "line": {
          "color": "red",
          "dash": "solid",
          "shape": "linear",
          "width": 0.5
         },
         "mode": "lines",
         "name": "Spread",
         "showlegend": false,
         "type": "scatter",
         "x": [
          0,
          1,
          2,
          3,
          4,
          5,
          6,
          7,
          8,
          9,
          10,
          11,
          12,
          13,
          14,
          15,
          16,
          17,
          18,
          19,
          20,
          21,
          22,
          23,
          24,
          25,
          26,
          27,
          28,
          29,
          30,
          31,
          32,
          33,
          34,
          35,
          36,
          37,
          38,
          39,
          40,
          41,
          42,
          43,
          44,
          45,
          46,
          47,
          48,
          49,
          50,
          51,
          52,
          53,
          54,
          55,
          56,
          57,
          58,
          59,
          60,
          61,
          62,
          63,
          64,
          65,
          66,
          67,
          68,
          69,
          70,
          71,
          72,
          73,
          74,
          75,
          76,
          77,
          78,
          79,
          80,
          81,
          82,
          83,
          84,
          85,
          86,
          87,
          88,
          89,
          90,
          91,
          92,
          93,
          94,
          95,
          96,
          97,
          98,
          99
         ],
         "xaxis": "x2",
         "y": [
          "",
          "",
          -1.8784545137685549,
          -0.2704863571212949,
          "",
          "",
          "",
          -0.10001888381531365,
          -1.5225383681496605,
          "",
          "",
          "",
          -2.037876473562144,
          -1.3973240068795838,
          -1.9861032657269793,
          -0.17409988407813382,
          "",
          "",
          "",
          -0.6574024978967987,
          "",
          -0.2461162179680383,
          -0.47135755350731634,
          "",
          "",
          "",
          "",
          "",
          "",
          "",
          "",
          -1.4086824047985078,
          -3.7381295750349413,
          -0.22126657120141913,
          -0.5045834317602976,
          "",
          "",
          "",
          "",
          -1.8510577911294293,
          -1.4189091841430115,
          -0.734772079621472,
          "",
          "",
          -0.835052501322191,
          "",
          "",
          -0.5382493724532054,
          "",
          -0.9746069044869269,
          "",
          "",
          -1.4761561473669365,
          "",
          -0.8338508101725668,
          "",
          "",
          -2.5559361009469264,
          -0.6079756843227411,
          "",
          "",
          -0.6197242238467958,
          "",
          "",
          -0.31060312439730225,
          -0.6530522898472152,
          -0.8007163053680959,
          "",
          -3.287345089951278,
          "",
          -0.9624678890537421,
          -1.6079958992902386,
          "",
          "",
          "",
          "",
          -2.098593508402544,
          -1.359864451023006,
          -0.37705333908031824,
          "",
          "",
          -0.7667698853846556,
          -0.37740411897006265,
          -2.3407207849758054,
          -0.23624641399250867,
          "",
          "",
          -2.5568990673980116,
          -2.674233389245882,
          "",
          "",
          "",
          "",
          "",
          "",
          -0.5043553425269891,
          -0.8160416294439906,
          -0.48026522316066855,
          -0.026749848138033827,
          ""
         ],
         "yaxis": "y2"
        }
       ],
       "layout": {
        "hovermode": "x",
        "legend": {
         "bgcolor": "#F5F6F9",
         "font": {
          "color": "#4D5663"
         }
        },
        "paper_bgcolor": "#F5F6F9",
        "plot_bgcolor": "#F5F6F9",
        "template": {
         "data": {
          "bar": [
           {
            "error_x": {
             "color": "#2a3f5f"
            },
            "error_y": {
             "color": "#2a3f5f"
            },
            "marker": {
             "line": {
              "color": "#E5ECF6",
              "width": 0.5
             }
            },
            "type": "bar"
           }
          ],
          "barpolar": [
           {
            "marker": {
             "line": {
              "color": "#E5ECF6",
              "width": 0.5
             }
            },
            "type": "barpolar"
           }
          ],
          "carpet": [
           {
            "aaxis": {
             "endlinecolor": "#2a3f5f",
             "gridcolor": "white",
             "linecolor": "white",
             "minorgridcolor": "white",
             "startlinecolor": "#2a3f5f"
            },
            "baxis": {
             "endlinecolor": "#2a3f5f",
             "gridcolor": "white",
             "linecolor": "white",
             "minorgridcolor": "white",
             "startlinecolor": "#2a3f5f"
            },
            "type": "carpet"
           }
          ],
          "choropleth": [
           {
            "colorbar": {
             "outlinewidth": 0,
             "ticks": ""
            },
            "type": "choropleth"
           }
          ],
          "contour": [
           {
            "colorbar": {
             "outlinewidth": 0,
             "ticks": ""
            },
            "colorscale": [
             [
              0,
              "#0d0887"
             ],
             [
              0.1111111111111111,
              "#46039f"
             ],
             [
              0.2222222222222222,
              "#7201a8"
             ],
             [
              0.3333333333333333,
              "#9c179e"
             ],
             [
              0.4444444444444444,
              "#bd3786"
             ],
             [
              0.5555555555555556,
              "#d8576b"
             ],
             [
              0.6666666666666666,
              "#ed7953"
             ],
             [
              0.7777777777777778,
              "#fb9f3a"
             ],
             [
              0.8888888888888888,
              "#fdca26"
             ],
             [
              1,
              "#f0f921"
             ]
            ],
            "type": "contour"
           }
          ],
          "contourcarpet": [
           {
            "colorbar": {
             "outlinewidth": 0,
             "ticks": ""
            },
            "type": "contourcarpet"
           }
          ],
          "heatmap": [
           {
            "colorbar": {
             "outlinewidth": 0,
             "ticks": ""
            },
            "colorscale": [
             [
              0,
              "#0d0887"
             ],
             [
              0.1111111111111111,
              "#46039f"
             ],
             [
              0.2222222222222222,
              "#7201a8"
             ],
             [
              0.3333333333333333,
              "#9c179e"
             ],
             [
              0.4444444444444444,
              "#bd3786"
             ],
             [
              0.5555555555555556,
              "#d8576b"
             ],
             [
              0.6666666666666666,
              "#ed7953"
             ],
             [
              0.7777777777777778,
              "#fb9f3a"
             ],
             [
              0.8888888888888888,
              "#fdca26"
             ],
             [
              1,
              "#f0f921"
             ]
            ],
            "type": "heatmap"
           }
          ],
          "heatmapgl": [
           {
            "colorbar": {
             "outlinewidth": 0,
             "ticks": ""
            },
            "colorscale": [
             [
              0,
              "#0d0887"
             ],
             [
              0.1111111111111111,
              "#46039f"
             ],
             [
              0.2222222222222222,
              "#7201a8"
             ],
             [
              0.3333333333333333,
              "#9c179e"
             ],
             [
              0.4444444444444444,
              "#bd3786"
             ],
             [
              0.5555555555555556,
              "#d8576b"
             ],
             [
              0.6666666666666666,
              "#ed7953"
             ],
             [
              0.7777777777777778,
              "#fb9f3a"
             ],
             [
              0.8888888888888888,
              "#fdca26"
             ],
             [
              1,
              "#f0f921"
             ]
            ],
            "type": "heatmapgl"
           }
          ],
          "histogram": [
           {
            "marker": {
             "colorbar": {
              "outlinewidth": 0,
              "ticks": ""
             }
            },
            "type": "histogram"
           }
          ],
          "histogram2d": [
           {
            "colorbar": {
             "outlinewidth": 0,
             "ticks": ""
            },
            "colorscale": [
             [
              0,
              "#0d0887"
             ],
             [
              0.1111111111111111,
              "#46039f"
             ],
             [
              0.2222222222222222,
              "#7201a8"
             ],
             [
              0.3333333333333333,
              "#9c179e"
             ],
             [
              0.4444444444444444,
              "#bd3786"
             ],
             [
              0.5555555555555556,
              "#d8576b"
             ],
             [
              0.6666666666666666,
              "#ed7953"
             ],
             [
              0.7777777777777778,
              "#fb9f3a"
             ],
             [
              0.8888888888888888,
              "#fdca26"
             ],
             [
              1,
              "#f0f921"
             ]
            ],
            "type": "histogram2d"
           }
          ],
          "histogram2dcontour": [
           {
            "colorbar": {
             "outlinewidth": 0,
             "ticks": ""
            },
            "colorscale": [
             [
              0,
              "#0d0887"
             ],
             [
              0.1111111111111111,
              "#46039f"
             ],
             [
              0.2222222222222222,
              "#7201a8"
             ],
             [
              0.3333333333333333,
              "#9c179e"
             ],
             [
              0.4444444444444444,
              "#bd3786"
             ],
             [
              0.5555555555555556,
              "#d8576b"
             ],
             [
              0.6666666666666666,
              "#ed7953"
             ],
             [
              0.7777777777777778,
              "#fb9f3a"
             ],
             [
              0.8888888888888888,
              "#fdca26"
             ],
             [
              1,
              "#f0f921"
             ]
            ],
            "type": "histogram2dcontour"
           }
          ],
          "mesh3d": [
           {
            "colorbar": {
             "outlinewidth": 0,
             "ticks": ""
            },
            "type": "mesh3d"
           }
          ],
          "parcoords": [
           {
            "line": {
             "colorbar": {
              "outlinewidth": 0,
              "ticks": ""
             }
            },
            "type": "parcoords"
           }
          ],
          "pie": [
           {
            "automargin": true,
            "type": "pie"
           }
          ],
          "scatter": [
           {
            "marker": {
             "colorbar": {
              "outlinewidth": 0,
              "ticks": ""
             }
            },
            "type": "scatter"
           }
          ],
          "scatter3d": [
           {
            "line": {
             "colorbar": {
              "outlinewidth": 0,
              "ticks": ""
             }
            },
            "marker": {
             "colorbar": {
              "outlinewidth": 0,
              "ticks": ""
             }
            },
            "type": "scatter3d"
           }
          ],
          "scattercarpet": [
           {
            "marker": {
             "colorbar": {
              "outlinewidth": 0,
              "ticks": ""
             }
            },
            "type": "scattercarpet"
           }
          ],
          "scattergeo": [
           {
            "marker": {
             "colorbar": {
              "outlinewidth": 0,
              "ticks": ""
             }
            },
            "type": "scattergeo"
           }
          ],
          "scattergl": [
           {
            "marker": {
             "colorbar": {
              "outlinewidth": 0,
              "ticks": ""
             }
            },
            "type": "scattergl"
           }
          ],
          "scattermapbox": [
           {
            "marker": {
             "colorbar": {
              "outlinewidth": 0,
              "ticks": ""
             }
            },
            "type": "scattermapbox"
           }
          ],
          "scatterpolar": [
           {
            "marker": {
             "colorbar": {
              "outlinewidth": 0,
              "ticks": ""
             }
            },
            "type": "scatterpolar"
           }
          ],
          "scatterpolargl": [
           {
            "marker": {
             "colorbar": {
              "outlinewidth": 0,
              "ticks": ""
             }
            },
            "type": "scatterpolargl"
           }
          ],
          "scatterternary": [
           {
            "marker": {
             "colorbar": {
              "outlinewidth": 0,
              "ticks": ""
             }
            },
            "type": "scatterternary"
           }
          ],
          "surface": [
           {
            "colorbar": {
             "outlinewidth": 0,
             "ticks": ""
            },
            "colorscale": [
             [
              0,
              "#0d0887"
             ],
             [
              0.1111111111111111,
              "#46039f"
             ],
             [
              0.2222222222222222,
              "#7201a8"
             ],
             [
              0.3333333333333333,
              "#9c179e"
             ],
             [
              0.4444444444444444,
              "#bd3786"
             ],
             [
              0.5555555555555556,
              "#d8576b"
             ],
             [
              0.6666666666666666,
              "#ed7953"
             ],
             [
              0.7777777777777778,
              "#fb9f3a"
             ],
             [
              0.8888888888888888,
              "#fdca26"
             ],
             [
              1,
              "#f0f921"
             ]
            ],
            "type": "surface"
           }
          ],
          "table": [
           {
            "cells": {
             "fill": {
              "color": "#EBF0F8"
             },
             "line": {
              "color": "white"
             }
            },
            "header": {
             "fill": {
              "color": "#C8D4E3"
             },
             "line": {
              "color": "white"
             }
            },
            "type": "table"
           }
          ]
         },
         "layout": {
          "annotationdefaults": {
           "arrowcolor": "#2a3f5f",
           "arrowhead": 0,
           "arrowwidth": 1
          },
          "coloraxis": {
           "colorbar": {
            "outlinewidth": 0,
            "ticks": ""
           }
          },
          "colorscale": {
           "diverging": [
            [
             0,
             "#8e0152"
            ],
            [
             0.1,
             "#c51b7d"
            ],
            [
             0.2,
             "#de77ae"
            ],
            [
             0.3,
             "#f1b6da"
            ],
            [
             0.4,
             "#fde0ef"
            ],
            [
             0.5,
             "#f7f7f7"
            ],
            [
             0.6,
             "#e6f5d0"
            ],
            [
             0.7,
             "#b8e186"
            ],
            [
             0.8,
             "#7fbc41"
            ],
            [
             0.9,
             "#4d9221"
            ],
            [
             1,
             "#276419"
            ]
           ],
           "sequential": [
            [
             0,
             "#0d0887"
            ],
            [
             0.1111111111111111,
             "#46039f"
            ],
            [
             0.2222222222222222,
             "#7201a8"
            ],
            [
             0.3333333333333333,
             "#9c179e"
            ],
            [
             0.4444444444444444,
             "#bd3786"
            ],
            [
             0.5555555555555556,
             "#d8576b"
            ],
            [
             0.6666666666666666,
             "#ed7953"
            ],
            [
             0.7777777777777778,
             "#fb9f3a"
            ],
            [
             0.8888888888888888,
             "#fdca26"
            ],
            [
             1,
             "#f0f921"
            ]
           ],
           "sequentialminus": [
            [
             0,
             "#0d0887"
            ],
            [
             0.1111111111111111,
             "#46039f"
            ],
            [
             0.2222222222222222,
             "#7201a8"
            ],
            [
             0.3333333333333333,
             "#9c179e"
            ],
            [
             0.4444444444444444,
             "#bd3786"
            ],
            [
             0.5555555555555556,
             "#d8576b"
            ],
            [
             0.6666666666666666,
             "#ed7953"
            ],
            [
             0.7777777777777778,
             "#fb9f3a"
            ],
            [
             0.8888888888888888,
             "#fdca26"
            ],
            [
             1,
             "#f0f921"
            ]
           ]
          },
          "colorway": [
           "#636efa",
           "#EF553B",
           "#00cc96",
           "#ab63fa",
           "#FFA15A",
           "#19d3f3",
           "#FF6692",
           "#B6E880",
           "#FF97FF",
           "#FECB52"
          ],
          "font": {
           "color": "#2a3f5f"
          },
          "geo": {
           "bgcolor": "white",
           "lakecolor": "white",
           "landcolor": "#E5ECF6",
           "showlakes": true,
           "showland": true,
           "subunitcolor": "white"
          },
          "hoverlabel": {
           "align": "left"
          },
          "hovermode": "closest",
          "mapbox": {
           "style": "light"
          },
          "paper_bgcolor": "white",
          "plot_bgcolor": "#E5ECF6",
          "polar": {
           "angularaxis": {
            "gridcolor": "white",
            "linecolor": "white",
            "ticks": ""
           },
           "bgcolor": "#E5ECF6",
           "radialaxis": {
            "gridcolor": "white",
            "linecolor": "white",
            "ticks": ""
           }
          },
          "scene": {
           "xaxis": {
            "backgroundcolor": "#E5ECF6",
            "gridcolor": "white",
            "gridwidth": 2,
            "linecolor": "white",
            "showbackground": true,
            "ticks": "",
            "zerolinecolor": "white"
           },
           "yaxis": {
            "backgroundcolor": "#E5ECF6",
            "gridcolor": "white",
            "gridwidth": 2,
            "linecolor": "white",
            "showbackground": true,
            "ticks": "",
            "zerolinecolor": "white"
           },
           "zaxis": {
            "backgroundcolor": "#E5ECF6",
            "gridcolor": "white",
            "gridwidth": 2,
            "linecolor": "white",
            "showbackground": true,
            "ticks": "",
            "zerolinecolor": "white"
           }
          },
          "shapedefaults": {
           "line": {
            "color": "#2a3f5f"
           }
          },
          "ternary": {
           "aaxis": {
            "gridcolor": "white",
            "linecolor": "white",
            "ticks": ""
           },
           "baxis": {
            "gridcolor": "white",
            "linecolor": "white",
            "ticks": ""
           },
           "bgcolor": "#E5ECF6",
           "caxis": {
            "gridcolor": "white",
            "linecolor": "white",
            "ticks": ""
           }
          },
          "title": {
           "x": 0.05
          },
          "xaxis": {
           "automargin": true,
           "gridcolor": "white",
           "linecolor": "white",
           "ticks": "",
           "title": {
            "standoff": 15
           },
           "zerolinecolor": "white",
           "zerolinewidth": 2
          },
          "yaxis": {
           "automargin": true,
           "gridcolor": "white",
           "linecolor": "white",
           "ticks": "",
           "title": {
            "standoff": 15
           },
           "zerolinecolor": "white",
           "zerolinewidth": 2
          }
         }
        },
        "title": {
         "font": {
          "color": "#4D5663"
         }
        },
        "xaxis": {
         "gridcolor": "#E1E5ED",
         "showgrid": true,
         "tickfont": {
          "color": "#4D5663"
         },
         "title": {
          "font": {
           "color": "#4D5663"
          },
          "text": ""
         },
         "zerolinecolor": "#E1E5ED"
        },
        "xaxis2": {
         "anchor": "y2",
         "gridcolor": "#E1E5ED",
         "showgrid": true,
         "showticklabels": false,
         "tickfont": {
          "color": "#4D5663"
         },
         "title": {
          "font": {
           "color": "#4D5663"
          },
          "text": ""
         },
         "zerolinecolor": "#E1E5ED"
        },
        "yaxis": {
         "domain": [
          0.3,
          1
         ],
         "gridcolor": "#E1E5ED",
         "showgrid": true,
         "tickfont": {
          "color": "#4D5663"
         },
         "title": {
          "font": {
           "color": "#4D5663"
          },
          "text": ""
         },
         "zerolinecolor": "#E1E5ED"
        },
        "yaxis2": {
         "domain": [
          0,
          0.25
         ],
         "gridcolor": "#E1E5ED",
         "showgrid": true,
         "tickfont": {
          "color": "#4D5663"
         },
         "title": {
          "font": {
           "color": "#4D5663"
          },
          "text": "Spread"
         },
         "zerolinecolor": "#E1E5ED"
        }
       }
      },
      "text/html": [
       "<div>                            <div id=\"78c63845-e632-46bf-8208-86a3d680728c\" class=\"plotly-graph-div\" style=\"height:525px; width:100%;\"></div>            <script type=\"text/javascript\">                require([\"plotly\"], function(Plotly) {                    window.PLOTLYENV=window.PLOTLYENV || {};\n",
       "                    window.PLOTLYENV.BASE_URL='https://plot.ly';                                    if (document.getElementById(\"78c63845-e632-46bf-8208-86a3d680728c\")) {                    Plotly.newPlot(                        \"78c63845-e632-46bf-8208-86a3d680728c\",                        [{\"line\": {\"color\": \"rgba(255, 153, 51, 1.0)\", \"dash\": \"solid\", \"shape\": \"linear\", \"width\": 1.3}, \"mode\": \"lines\", \"name\": \"A\", \"text\": \"\", \"type\": \"scatter\", \"x\": [0, 1, 2, 3, 4, 5, 6, 7, 8, 9, 10, 11, 12, 13, 14, 15, 16, 17, 18, 19, 20, 21, 22, 23, 24, 25, 26, 27, 28, 29, 30, 31, 32, 33, 34, 35, 36, 37, 38, 39, 40, 41, 42, 43, 44, 45, 46, 47, 48, 49, 50, 51, 52, 53, 54, 55, 56, 57, 58, 59, 60, 61, 62, 63, 64, 65, 66, 67, 68, 69, 70, 71, 72, 73, 74, 75, 76, 77, 78, 79, 80, 81, 82, 83, 84, 85, 86, 87, 88, 89, 90, 91, 92, 93, 94, 95, 96, 97, 98, 99], \"y\": [2.349463736678292, 0.3108666103275385, -0.583059093678768, 0.7435885743025653, 0.5099588098432798, 1.966548109766253, 1.1129898957074027, 0.9611232611901351, -0.8806101014203047, 1.0375710853156552, 0.8845667407050395, 0.35646066025878753, -1.1704649292446916, -0.8484060076978288, -1.328673180495637, -0.6290443312838666, 0.2544498414697697, 0.680348696415441, -0.574757688795644, 0.7873185458279743, 1.092439973790728, -0.33905546810607146, -0.42096026392177893, 2.0117528995759932, -0.11791651021532197, 0.3825425311059134, 0.8719462945865029, -0.01409655835904745, -0.6241638118596583, 0.3075622492359093, 1.2412826092237823, -0.3586456201977495, -1.7082564416376078, -0.7390107854664355, 0.07674312808999541, 0.6621222926702514, -0.5976930309969201, 0.02449196098641207, 1.6507602514940374, -0.7930135621497139, -0.30453355733048615, -0.07763659811971005, 2.1073933548155788, 0.8882738710911402, 0.969196759272263, 2.9340866721007295, 1.3811341499105498, -1.0242821964430902, 0.3922130569684905, 0.33620212753268575, -0.5302585342303152, 0.17890119119824593, 0.019558389885683335, 0.2586508632542788, -0.5882636693456064, 0.4280553780557698, 0.6573994705294567, -2.3258329038234393, -0.6421196396204563, 0.36292251478888504, -1.8104712563800573, -0.7829556928950923, 0.5001903797435958, -0.018774145722104715, -0.016942425665276803, -1.525440739390988, -0.8006457698691762, 0.5296622914630553, -1.8220488470166538, -0.06173198001629492, -0.1642904593185454, -0.7468745036491485, 0.6761936748237967, 1.9478795434010834, 0.4033264043525933, 0.298827194151868, -1.0231861023554405, -0.6546339980700924, -0.4228532658975435, 0.9338488686667084, 0.4194981015674065, -1.2940297969923231, -0.5633240026073197, -1.7315335815688098, 0.03062121319198041, 0.27423303246300695, 0.2591970498434519, -1.8963660993830473, -2.1397656526426228, 1.8661395187606886, 0.5348513410557355, -0.25764763876401997, -0.12581490569591677, 0.9976646067470557, 1.1606409118888894, 0.36809489076520036, -1.099822859422754, -0.9177250385045125, 0.25358679835536085, 1.201352455006568]}, {\"line\": {\"color\": \"rgba(55, 128, 191, 1.0)\", \"dash\": \"solid\", \"shape\": \"linear\", \"width\": 1.3}, \"mode\": \"lines\", \"name\": \"B\", \"text\": \"\", \"type\": \"scatter\", \"x\": [0, 1, 2, 3, 4, 5, 6, 7, 8, 9, 10, 11, 12, 13, 14, 15, 16, 17, 18, 19, 20, 21, 22, 23, 24, 25, 26, 27, 28, 29, 30, 31, 32, 33, 34, 35, 36, 37, 38, 39, 40, 41, 42, 43, 44, 45, 46, 47, 48, 49, 50, 51, 52, 53, 54, 55, 56, 57, 58, 59, 60, 61, 62, 63, 64, 65, 66, 67, 68, 69, 70, 71, 72, 73, 74, 75, 76, 77, 78, 79, 80, 81, 82, 83, 84, 85, 86, 87, 88, 89, 90, 91, 92, 93, 94, 95, 96, 97, 98, 99], \"y\": [-0.2423219949389645, -2.706976290388302, 1.2953954200897868, 1.0140749314238602, 0.013848059806591515, 0.5887514333233522, 0.3465406031828833, 1.0611421450054488, 0.6419282667293559, -0.8838581497504631, 0.4148028398283948, -0.6517477223270324, 0.8674115443174526, 0.5489179991817551, 0.6574300852313422, -0.4549444472057328, -0.6706131600173989, -0.5291126040546213, -1.8217365516677237, 1.444721043724773, 0.7590392104277327, -0.09293925013803317, 0.0503972895855374, 0.145007606799687, -1.4809147392137594, -1.7563679027915409, -0.1366478446801668, -0.249880409389546, -1.5092014303269374, -1.2951933581366464, -0.3776816935327316, 1.0500367846007583, 2.0298731333973334, -0.5177442142650164, 0.581326559850293, -1.15614374441983, -1.5974251016007963, -2.069878207551687, 0.34569618335219143, 1.0580442289797154, 1.1143756268125253, 0.6571354815017619, -0.033134048005478076, 0.6500503187731492, 1.804249260594454, 0.8631998455493465, -0.8651144914203226, -0.48603282398988484, -1.7877943468082442, 1.3108090320196126, -1.741348077810631, -0.29830640334535924, 1.4957145372526197, -0.5414125413987575, 0.2455871408269604, 0.27960360946611895, -0.8673052508542467, 0.230103197123487, -0.034143955297715245, 0.06502501025699589, -2.194321449524192, -0.1632314690482964, -0.9880534457273676, -0.29926393381783994, 0.29366069873202544, -0.8723884495437727, 7.053549891964815e-05, -1.3105748100582921, 1.4652962429346243, -0.7303225872571056, 0.7981774297351967, 0.8611213956410901, 0.02222822235287305, 0.6600086924732197, -2.6409659803744203, -0.5348090955409671, 1.075407406047104, 0.7052304529529135, -0.045799926817225264, -0.4760153334720511, -1.3587210895550077, -0.5272599116076675, -0.18591988363725706, 0.6091872034069954, 0.2668676271844891, 0.10318620801740346, -0.8599520266992087, 0.6605329680149644, 0.5344677366032592, 0.12479350332966131, -0.214626583134152, -0.45984866368511523, -0.9255916206161602, 0.3393940004328594, -0.8931237996637412, 0.8724502332921894, -0.2837812299787633, -0.4374598153438439, 0.2803366464933947, 0.26179862710883917]}, {\"connectgaps\": false, \"fill\": \"tozeroy\", \"line\": {\"color\": \"green\", \"dash\": \"solid\", \"shape\": \"linear\", \"width\": 0.5}, \"mode\": \"lines\", \"name\": \"Spread\", \"showlegend\": false, \"type\": \"scatter\", \"x\": [0, 1, 2, 3, 4, 5, 6, 7, 8, 9, 10, 11, 12, 13, 14, 15, 16, 17, 18, 19, 20, 21, 22, 23, 24, 25, 26, 27, 28, 29, 30, 31, 32, 33, 34, 35, 36, 37, 38, 39, 40, 41, 42, 43, 44, 45, 46, 47, 48, 49, 50, 51, 52, 53, 54, 55, 56, 57, 58, 59, 60, 61, 62, 63, 64, 65, 66, 67, 68, 69, 70, 71, 72, 73, 74, 75, 76, 77, 78, 79, 80, 81, 82, 83, 84, 85, 86, 87, 88, 89, 90, 91, 92, 93, 94, 95, 96, 97, 98, 99], \"xaxis\": \"x2\", \"y\": [2.5917857316172563, 3.0178429007158405, \"\", \"\", 0.49611075003668825, 1.3777966764429008, 0.7664492925245194, \"\", \"\", 1.9214292350661184, 0.4697639008766447, 1.00820838258582, \"\", \"\", \"\", \"\", 0.9250630014871686, 1.2094613004700623, 1.2469788628720797, \"\", 0.3334007633629953, \"\", \"\", 1.8667452927763062, 1.3629982289984375, 2.138910433897454, 1.0085941392666697, 0.23578385103049856, 0.8850376184672791, 1.6027556073725557, 1.618964302756514, \"\", \"\", \"\", \"\", 1.8182660370900812, 0.9997320706038763, 2.094370168538099, 1.305064068141846, \"\", \"\", \"\", 2.140527402821057, 0.23822355231799097, \"\", 2.070886826551383, 2.2462486413308724, \"\", 2.1800074037767345, \"\", 1.2110895435803157, 0.4772075945436052, \"\", 0.8000634046530363, \"\", 0.14845176858965087, 1.5247047213837033, \"\", \"\", 0.2978975045318891, 0.3838501931441347, \"\", 1.4882438254709633, 0.2804897880957352, \"\", \"\", \"\", 1.8402371015213475, \"\", 0.6685906072408108, \"\", \"\", 0.6539654524709236, 1.2878708509278636, 3.044292384727014, 0.8336362896928351, \"\", \"\", \"\", 1.4098642021387595, 1.7782191911224143, \"\", \"\", \"\", \"\", 0.17104682444560348, 1.1191490765426606, \"\", \"\", 1.7413460154310274, 0.7494779241898875, 0.20220102492109526, 0.7997767149202434, 0.6582706063141963, 2.0537647115526307, \"\", \"\", \"\", \"\", 0.9395538278977288], \"yaxis\": \"y2\"}, {\"connectgaps\": false, \"fill\": \"tozeroy\", \"line\": {\"color\": \"red\", \"dash\": \"solid\", \"shape\": \"linear\", \"width\": 0.5}, \"mode\": \"lines\", \"name\": \"Spread\", \"showlegend\": false, \"type\": \"scatter\", \"x\": [0, 1, 2, 3, 4, 5, 6, 7, 8, 9, 10, 11, 12, 13, 14, 15, 16, 17, 18, 19, 20, 21, 22, 23, 24, 25, 26, 27, 28, 29, 30, 31, 32, 33, 34, 35, 36, 37, 38, 39, 40, 41, 42, 43, 44, 45, 46, 47, 48, 49, 50, 51, 52, 53, 54, 55, 56, 57, 58, 59, 60, 61, 62, 63, 64, 65, 66, 67, 68, 69, 70, 71, 72, 73, 74, 75, 76, 77, 78, 79, 80, 81, 82, 83, 84, 85, 86, 87, 88, 89, 90, 91, 92, 93, 94, 95, 96, 97, 98, 99], \"xaxis\": \"x2\", \"y\": [\"\", \"\", -1.8784545137685549, -0.2704863571212949, \"\", \"\", \"\", -0.10001888381531365, -1.5225383681496605, \"\", \"\", \"\", -2.037876473562144, -1.3973240068795838, -1.9861032657269793, -0.17409988407813382, \"\", \"\", \"\", -0.6574024978967987, \"\", -0.2461162179680383, -0.47135755350731634, \"\", \"\", \"\", \"\", \"\", \"\", \"\", \"\", -1.4086824047985078, -3.7381295750349413, -0.22126657120141913, -0.5045834317602976, \"\", \"\", \"\", \"\", -1.8510577911294293, -1.4189091841430115, -0.734772079621472, \"\", \"\", -0.835052501322191, \"\", \"\", -0.5382493724532054, \"\", -0.9746069044869269, \"\", \"\", -1.4761561473669365, \"\", -0.8338508101725668, \"\", \"\", -2.5559361009469264, -0.6079756843227411, \"\", \"\", -0.6197242238467958, \"\", \"\", -0.31060312439730225, -0.6530522898472152, -0.8007163053680959, \"\", -3.287345089951278, \"\", -0.9624678890537421, -1.6079958992902386, \"\", \"\", \"\", \"\", -2.098593508402544, -1.359864451023006, -0.37705333908031824, \"\", \"\", -0.7667698853846556, -0.37740411897006265, -2.3407207849758054, -0.23624641399250867, \"\", \"\", -2.5568990673980116, -2.674233389245882, \"\", \"\", \"\", \"\", \"\", \"\", -0.5043553425269891, -0.8160416294439906, -0.48026522316066855, -0.026749848138033827, \"\"], \"yaxis\": \"y2\"}],                        {\"hovermode\": \"x\", \"legend\": {\"bgcolor\": \"#F5F6F9\", \"font\": {\"color\": \"#4D5663\"}}, \"paper_bgcolor\": \"#F5F6F9\", \"plot_bgcolor\": \"#F5F6F9\", \"template\": {\"data\": {\"bar\": [{\"error_x\": {\"color\": \"#2a3f5f\"}, \"error_y\": {\"color\": \"#2a3f5f\"}, \"marker\": {\"line\": {\"color\": \"#E5ECF6\", \"width\": 0.5}}, \"type\": \"bar\"}], \"barpolar\": [{\"marker\": {\"line\": {\"color\": \"#E5ECF6\", \"width\": 0.5}}, \"type\": \"barpolar\"}], \"carpet\": [{\"aaxis\": {\"endlinecolor\": \"#2a3f5f\", \"gridcolor\": \"white\", \"linecolor\": \"white\", \"minorgridcolor\": \"white\", \"startlinecolor\": \"#2a3f5f\"}, \"baxis\": {\"endlinecolor\": \"#2a3f5f\", \"gridcolor\": \"white\", \"linecolor\": \"white\", \"minorgridcolor\": \"white\", \"startlinecolor\": \"#2a3f5f\"}, \"type\": \"carpet\"}], \"choropleth\": [{\"colorbar\": {\"outlinewidth\": 0, \"ticks\": \"\"}, \"type\": \"choropleth\"}], \"contour\": [{\"colorbar\": {\"outlinewidth\": 0, \"ticks\": \"\"}, \"colorscale\": [[0.0, \"#0d0887\"], [0.1111111111111111, \"#46039f\"], [0.2222222222222222, \"#7201a8\"], [0.3333333333333333, \"#9c179e\"], [0.4444444444444444, \"#bd3786\"], [0.5555555555555556, \"#d8576b\"], [0.6666666666666666, \"#ed7953\"], [0.7777777777777778, \"#fb9f3a\"], [0.8888888888888888, \"#fdca26\"], [1.0, \"#f0f921\"]], \"type\": \"contour\"}], \"contourcarpet\": [{\"colorbar\": {\"outlinewidth\": 0, \"ticks\": \"\"}, \"type\": \"contourcarpet\"}], \"heatmap\": [{\"colorbar\": {\"outlinewidth\": 0, \"ticks\": \"\"}, \"colorscale\": [[0.0, \"#0d0887\"], [0.1111111111111111, \"#46039f\"], [0.2222222222222222, \"#7201a8\"], [0.3333333333333333, \"#9c179e\"], [0.4444444444444444, \"#bd3786\"], [0.5555555555555556, \"#d8576b\"], [0.6666666666666666, \"#ed7953\"], [0.7777777777777778, \"#fb9f3a\"], [0.8888888888888888, \"#fdca26\"], [1.0, \"#f0f921\"]], \"type\": \"heatmap\"}], \"heatmapgl\": [{\"colorbar\": {\"outlinewidth\": 0, \"ticks\": \"\"}, \"colorscale\": [[0.0, \"#0d0887\"], [0.1111111111111111, \"#46039f\"], [0.2222222222222222, \"#7201a8\"], [0.3333333333333333, \"#9c179e\"], [0.4444444444444444, \"#bd3786\"], [0.5555555555555556, \"#d8576b\"], [0.6666666666666666, \"#ed7953\"], [0.7777777777777778, \"#fb9f3a\"], [0.8888888888888888, \"#fdca26\"], [1.0, \"#f0f921\"]], \"type\": \"heatmapgl\"}], \"histogram\": [{\"marker\": {\"colorbar\": {\"outlinewidth\": 0, \"ticks\": \"\"}}, \"type\": \"histogram\"}], \"histogram2d\": [{\"colorbar\": {\"outlinewidth\": 0, \"ticks\": \"\"}, \"colorscale\": [[0.0, \"#0d0887\"], [0.1111111111111111, \"#46039f\"], [0.2222222222222222, \"#7201a8\"], [0.3333333333333333, \"#9c179e\"], [0.4444444444444444, \"#bd3786\"], [0.5555555555555556, \"#d8576b\"], [0.6666666666666666, \"#ed7953\"], [0.7777777777777778, \"#fb9f3a\"], [0.8888888888888888, \"#fdca26\"], [1.0, \"#f0f921\"]], \"type\": \"histogram2d\"}], \"histogram2dcontour\": [{\"colorbar\": {\"outlinewidth\": 0, \"ticks\": \"\"}, \"colorscale\": [[0.0, \"#0d0887\"], [0.1111111111111111, \"#46039f\"], [0.2222222222222222, \"#7201a8\"], [0.3333333333333333, \"#9c179e\"], [0.4444444444444444, \"#bd3786\"], [0.5555555555555556, \"#d8576b\"], [0.6666666666666666, \"#ed7953\"], [0.7777777777777778, \"#fb9f3a\"], [0.8888888888888888, \"#fdca26\"], [1.0, \"#f0f921\"]], \"type\": \"histogram2dcontour\"}], \"mesh3d\": [{\"colorbar\": {\"outlinewidth\": 0, \"ticks\": \"\"}, \"type\": \"mesh3d\"}], \"parcoords\": [{\"line\": {\"colorbar\": {\"outlinewidth\": 0, \"ticks\": \"\"}}, \"type\": \"parcoords\"}], \"pie\": [{\"automargin\": true, \"type\": \"pie\"}], \"scatter\": [{\"marker\": {\"colorbar\": {\"outlinewidth\": 0, \"ticks\": \"\"}}, \"type\": \"scatter\"}], \"scatter3d\": [{\"line\": {\"colorbar\": {\"outlinewidth\": 0, \"ticks\": \"\"}}, \"marker\": {\"colorbar\": {\"outlinewidth\": 0, \"ticks\": \"\"}}, \"type\": \"scatter3d\"}], \"scattercarpet\": [{\"marker\": {\"colorbar\": {\"outlinewidth\": 0, \"ticks\": \"\"}}, \"type\": \"scattercarpet\"}], \"scattergeo\": [{\"marker\": {\"colorbar\": {\"outlinewidth\": 0, \"ticks\": \"\"}}, \"type\": \"scattergeo\"}], \"scattergl\": [{\"marker\": {\"colorbar\": {\"outlinewidth\": 0, \"ticks\": \"\"}}, \"type\": \"scattergl\"}], \"scattermapbox\": [{\"marker\": {\"colorbar\": {\"outlinewidth\": 0, \"ticks\": \"\"}}, \"type\": \"scattermapbox\"}], \"scatterpolar\": [{\"marker\": {\"colorbar\": {\"outlinewidth\": 0, \"ticks\": \"\"}}, \"type\": \"scatterpolar\"}], \"scatterpolargl\": [{\"marker\": {\"colorbar\": {\"outlinewidth\": 0, \"ticks\": \"\"}}, \"type\": \"scatterpolargl\"}], \"scatterternary\": [{\"marker\": {\"colorbar\": {\"outlinewidth\": 0, \"ticks\": \"\"}}, \"type\": \"scatterternary\"}], \"surface\": [{\"colorbar\": {\"outlinewidth\": 0, \"ticks\": \"\"}, \"colorscale\": [[0.0, \"#0d0887\"], [0.1111111111111111, \"#46039f\"], [0.2222222222222222, \"#7201a8\"], [0.3333333333333333, \"#9c179e\"], [0.4444444444444444, \"#bd3786\"], [0.5555555555555556, \"#d8576b\"], [0.6666666666666666, \"#ed7953\"], [0.7777777777777778, \"#fb9f3a\"], [0.8888888888888888, \"#fdca26\"], [1.0, \"#f0f921\"]], \"type\": \"surface\"}], \"table\": [{\"cells\": {\"fill\": {\"color\": \"#EBF0F8\"}, \"line\": {\"color\": \"white\"}}, \"header\": {\"fill\": {\"color\": \"#C8D4E3\"}, \"line\": {\"color\": \"white\"}}, \"type\": \"table\"}]}, \"layout\": {\"annotationdefaults\": {\"arrowcolor\": \"#2a3f5f\", \"arrowhead\": 0, \"arrowwidth\": 1}, \"coloraxis\": {\"colorbar\": {\"outlinewidth\": 0, \"ticks\": \"\"}}, \"colorscale\": {\"diverging\": [[0, \"#8e0152\"], [0.1, \"#c51b7d\"], [0.2, \"#de77ae\"], [0.3, \"#f1b6da\"], [0.4, \"#fde0ef\"], [0.5, \"#f7f7f7\"], [0.6, \"#e6f5d0\"], [0.7, \"#b8e186\"], [0.8, \"#7fbc41\"], [0.9, \"#4d9221\"], [1, \"#276419\"]], \"sequential\": [[0.0, \"#0d0887\"], [0.1111111111111111, \"#46039f\"], [0.2222222222222222, \"#7201a8\"], [0.3333333333333333, \"#9c179e\"], [0.4444444444444444, \"#bd3786\"], [0.5555555555555556, \"#d8576b\"], [0.6666666666666666, \"#ed7953\"], [0.7777777777777778, \"#fb9f3a\"], [0.8888888888888888, \"#fdca26\"], [1.0, \"#f0f921\"]], \"sequentialminus\": [[0.0, \"#0d0887\"], [0.1111111111111111, \"#46039f\"], [0.2222222222222222, \"#7201a8\"], [0.3333333333333333, \"#9c179e\"], [0.4444444444444444, \"#bd3786\"], [0.5555555555555556, \"#d8576b\"], [0.6666666666666666, \"#ed7953\"], [0.7777777777777778, \"#fb9f3a\"], [0.8888888888888888, \"#fdca26\"], [1.0, \"#f0f921\"]]}, \"colorway\": [\"#636efa\", \"#EF553B\", \"#00cc96\", \"#ab63fa\", \"#FFA15A\", \"#19d3f3\", \"#FF6692\", \"#B6E880\", \"#FF97FF\", \"#FECB52\"], \"font\": {\"color\": \"#2a3f5f\"}, \"geo\": {\"bgcolor\": \"white\", \"lakecolor\": \"white\", \"landcolor\": \"#E5ECF6\", \"showlakes\": true, \"showland\": true, \"subunitcolor\": \"white\"}, \"hoverlabel\": {\"align\": \"left\"}, \"hovermode\": \"closest\", \"mapbox\": {\"style\": \"light\"}, \"paper_bgcolor\": \"white\", \"plot_bgcolor\": \"#E5ECF6\", \"polar\": {\"angularaxis\": {\"gridcolor\": \"white\", \"linecolor\": \"white\", \"ticks\": \"\"}, \"bgcolor\": \"#E5ECF6\", \"radialaxis\": {\"gridcolor\": \"white\", \"linecolor\": \"white\", \"ticks\": \"\"}}, \"scene\": {\"xaxis\": {\"backgroundcolor\": \"#E5ECF6\", \"gridcolor\": \"white\", \"gridwidth\": 2, \"linecolor\": \"white\", \"showbackground\": true, \"ticks\": \"\", \"zerolinecolor\": \"white\"}, \"yaxis\": {\"backgroundcolor\": \"#E5ECF6\", \"gridcolor\": \"white\", \"gridwidth\": 2, \"linecolor\": \"white\", \"showbackground\": true, \"ticks\": \"\", \"zerolinecolor\": \"white\"}, \"zaxis\": {\"backgroundcolor\": \"#E5ECF6\", \"gridcolor\": \"white\", \"gridwidth\": 2, \"linecolor\": \"white\", \"showbackground\": true, \"ticks\": \"\", \"zerolinecolor\": \"white\"}}, \"shapedefaults\": {\"line\": {\"color\": \"#2a3f5f\"}}, \"ternary\": {\"aaxis\": {\"gridcolor\": \"white\", \"linecolor\": \"white\", \"ticks\": \"\"}, \"baxis\": {\"gridcolor\": \"white\", \"linecolor\": \"white\", \"ticks\": \"\"}, \"bgcolor\": \"#E5ECF6\", \"caxis\": {\"gridcolor\": \"white\", \"linecolor\": \"white\", \"ticks\": \"\"}}, \"title\": {\"x\": 0.05}, \"xaxis\": {\"automargin\": true, \"gridcolor\": \"white\", \"linecolor\": \"white\", \"ticks\": \"\", \"title\": {\"standoff\": 15}, \"zerolinecolor\": \"white\", \"zerolinewidth\": 2}, \"yaxis\": {\"automargin\": true, \"gridcolor\": \"white\", \"linecolor\": \"white\", \"ticks\": \"\", \"title\": {\"standoff\": 15}, \"zerolinecolor\": \"white\", \"zerolinewidth\": 2}}}, \"title\": {\"font\": {\"color\": \"#4D5663\"}}, \"xaxis\": {\"gridcolor\": \"#E1E5ED\", \"showgrid\": true, \"tickfont\": {\"color\": \"#4D5663\"}, \"title\": {\"font\": {\"color\": \"#4D5663\"}, \"text\": \"\"}, \"zerolinecolor\": \"#E1E5ED\"}, \"xaxis2\": {\"anchor\": \"y2\", \"gridcolor\": \"#E1E5ED\", \"showgrid\": true, \"showticklabels\": false, \"tickfont\": {\"color\": \"#4D5663\"}, \"title\": {\"font\": {\"color\": \"#4D5663\"}, \"text\": \"\"}, \"zerolinecolor\": \"#E1E5ED\"}, \"yaxis\": {\"domain\": [0.3, 1], \"gridcolor\": \"#E1E5ED\", \"showgrid\": true, \"tickfont\": {\"color\": \"#4D5663\"}, \"title\": {\"font\": {\"color\": \"#4D5663\"}, \"text\": \"\"}, \"zerolinecolor\": \"#E1E5ED\"}, \"yaxis2\": {\"domain\": [0, 0.25], \"gridcolor\": \"#E1E5ED\", \"showgrid\": true, \"tickfont\": {\"color\": \"#4D5663\"}, \"title\": {\"font\": {\"color\": \"#4D5663\"}, \"text\": \"Spread\"}, \"zerolinecolor\": \"#E1E5ED\"}},                        {\"showLink\": true, \"linkText\": \"Export to plot.ly\", \"plotlyServerURL\": \"https://plot.ly\", \"responsive\": true}                    ).then(function(){\n",
       "                            \n",
       "var gd = document.getElementById('78c63845-e632-46bf-8208-86a3d680728c');\n",
       "var x = new MutationObserver(function (mutations, observer) {{\n",
       "        var display = window.getComputedStyle(gd).display;\n",
       "        if (!display || display === 'none') {{\n",
       "            console.log([gd, 'removed!']);\n",
       "            Plotly.purge(gd);\n",
       "            observer.disconnect();\n",
       "        }}\n",
       "}});\n",
       "\n",
       "// Listen for the removal of the full notebook cells\n",
       "var notebookContainer = gd.closest('#notebook-container');\n",
       "if (notebookContainer) {{\n",
       "    x.observe(notebookContainer, {childList: true});\n",
       "}}\n",
       "\n",
       "// Listen for the clearing of the current output cell\n",
       "var outputEl = gd.closest('.output');\n",
       "if (outputEl) {{\n",
       "    x.observe(outputEl, {childList: true});\n",
       "}}\n",
       "\n",
       "                        })                };                });            </script>        </div>"
      ]
     },
     "metadata": {},
     "output_type": "display_data"
    }
   ],
   "source": [
    "df[['A','B']].iplot(kind='spread')"
   ]
  },
  {
   "cell_type": "markdown",
   "metadata": {},
   "source": [
    "## histogram"
   ]
  },
  {
   "cell_type": "code",
   "execution_count": 34,
   "metadata": {},
   "outputs": [
    {
     "data": {
      "application/vnd.plotly.v1+json": {
       "config": {
        "linkText": "Export to plot.ly",
        "plotlyServerURL": "https://plot.ly",
        "showLink": true
       },
       "data": [
        {
         "histfunc": "count",
         "histnorm": "",
         "marker": {
          "color": "rgba(255, 153, 51, 1.0)",
          "line": {
           "color": "#4D5663",
           "width": 1.3
          }
         },
         "name": "A",
         "nbinsx": 25,
         "opacity": 0.8,
         "orientation": "v",
         "type": "histogram",
         "x": [
          2.349463736678292,
          0.3108666103275385,
          -0.583059093678768,
          0.7435885743025653,
          0.5099588098432798,
          1.966548109766253,
          1.1129898957074027,
          0.9611232611901351,
          -0.8806101014203047,
          1.0375710853156552,
          0.8845667407050395,
          0.35646066025878753,
          -1.1704649292446916,
          -0.8484060076978288,
          -1.328673180495637,
          -0.6290443312838666,
          0.2544498414697697,
          0.680348696415441,
          -0.574757688795644,
          0.7873185458279743,
          1.092439973790728,
          -0.33905546810607146,
          -0.42096026392177893,
          2.0117528995759932,
          -0.11791651021532197,
          0.3825425311059134,
          0.8719462945865029,
          -0.01409655835904745,
          -0.6241638118596583,
          0.3075622492359093,
          1.2412826092237823,
          -0.3586456201977495,
          -1.7082564416376078,
          -0.7390107854664355,
          0.07674312808999541,
          0.6621222926702514,
          -0.5976930309969201,
          0.02449196098641207,
          1.6507602514940374,
          -0.7930135621497139,
          -0.30453355733048615,
          -0.07763659811971005,
          2.1073933548155788,
          0.8882738710911402,
          0.969196759272263,
          2.9340866721007295,
          1.3811341499105498,
          -1.0242821964430902,
          0.3922130569684905,
          0.33620212753268575,
          -0.5302585342303152,
          0.17890119119824593,
          0.019558389885683335,
          0.2586508632542788,
          -0.5882636693456064,
          0.4280553780557698,
          0.6573994705294567,
          -2.3258329038234393,
          -0.6421196396204563,
          0.36292251478888504,
          -1.8104712563800573,
          -0.7829556928950923,
          0.5001903797435958,
          -0.018774145722104715,
          -0.016942425665276803,
          -1.525440739390988,
          -0.8006457698691762,
          0.5296622914630553,
          -1.8220488470166538,
          -0.06173198001629492,
          -0.1642904593185454,
          -0.7468745036491485,
          0.6761936748237967,
          1.9478795434010834,
          0.4033264043525933,
          0.298827194151868,
          -1.0231861023554405,
          -0.6546339980700924,
          -0.4228532658975435,
          0.9338488686667084,
          0.4194981015674065,
          -1.2940297969923231,
          -0.5633240026073197,
          -1.7315335815688098,
          0.03062121319198041,
          0.27423303246300695,
          0.2591970498434519,
          -1.8963660993830473,
          -2.1397656526426228,
          1.8661395187606886,
          0.5348513410557355,
          -0.25764763876401997,
          -0.12581490569591677,
          0.9976646067470557,
          1.1606409118888894,
          0.36809489076520036,
          -1.099822859422754,
          -0.9177250385045125,
          0.25358679835536085,
          1.201352455006568
         ]
        }
       ],
       "layout": {
        "barmode": "overlay",
        "legend": {
         "bgcolor": "#F5F6F9",
         "font": {
          "color": "#4D5663"
         }
        },
        "paper_bgcolor": "#F5F6F9",
        "plot_bgcolor": "#F5F6F9",
        "template": {
         "data": {
          "bar": [
           {
            "error_x": {
             "color": "#2a3f5f"
            },
            "error_y": {
             "color": "#2a3f5f"
            },
            "marker": {
             "line": {
              "color": "#E5ECF6",
              "width": 0.5
             }
            },
            "type": "bar"
           }
          ],
          "barpolar": [
           {
            "marker": {
             "line": {
              "color": "#E5ECF6",
              "width": 0.5
             }
            },
            "type": "barpolar"
           }
          ],
          "carpet": [
           {
            "aaxis": {
             "endlinecolor": "#2a3f5f",
             "gridcolor": "white",
             "linecolor": "white",
             "minorgridcolor": "white",
             "startlinecolor": "#2a3f5f"
            },
            "baxis": {
             "endlinecolor": "#2a3f5f",
             "gridcolor": "white",
             "linecolor": "white",
             "minorgridcolor": "white",
             "startlinecolor": "#2a3f5f"
            },
            "type": "carpet"
           }
          ],
          "choropleth": [
           {
            "colorbar": {
             "outlinewidth": 0,
             "ticks": ""
            },
            "type": "choropleth"
           }
          ],
          "contour": [
           {
            "colorbar": {
             "outlinewidth": 0,
             "ticks": ""
            },
            "colorscale": [
             [
              0,
              "#0d0887"
             ],
             [
              0.1111111111111111,
              "#46039f"
             ],
             [
              0.2222222222222222,
              "#7201a8"
             ],
             [
              0.3333333333333333,
              "#9c179e"
             ],
             [
              0.4444444444444444,
              "#bd3786"
             ],
             [
              0.5555555555555556,
              "#d8576b"
             ],
             [
              0.6666666666666666,
              "#ed7953"
             ],
             [
              0.7777777777777778,
              "#fb9f3a"
             ],
             [
              0.8888888888888888,
              "#fdca26"
             ],
             [
              1,
              "#f0f921"
             ]
            ],
            "type": "contour"
           }
          ],
          "contourcarpet": [
           {
            "colorbar": {
             "outlinewidth": 0,
             "ticks": ""
            },
            "type": "contourcarpet"
           }
          ],
          "heatmap": [
           {
            "colorbar": {
             "outlinewidth": 0,
             "ticks": ""
            },
            "colorscale": [
             [
              0,
              "#0d0887"
             ],
             [
              0.1111111111111111,
              "#46039f"
             ],
             [
              0.2222222222222222,
              "#7201a8"
             ],
             [
              0.3333333333333333,
              "#9c179e"
             ],
             [
              0.4444444444444444,
              "#bd3786"
             ],
             [
              0.5555555555555556,
              "#d8576b"
             ],
             [
              0.6666666666666666,
              "#ed7953"
             ],
             [
              0.7777777777777778,
              "#fb9f3a"
             ],
             [
              0.8888888888888888,
              "#fdca26"
             ],
             [
              1,
              "#f0f921"
             ]
            ],
            "type": "heatmap"
           }
          ],
          "heatmapgl": [
           {
            "colorbar": {
             "outlinewidth": 0,
             "ticks": ""
            },
            "colorscale": [
             [
              0,
              "#0d0887"
             ],
             [
              0.1111111111111111,
              "#46039f"
             ],
             [
              0.2222222222222222,
              "#7201a8"
             ],
             [
              0.3333333333333333,
              "#9c179e"
             ],
             [
              0.4444444444444444,
              "#bd3786"
             ],
             [
              0.5555555555555556,
              "#d8576b"
             ],
             [
              0.6666666666666666,
              "#ed7953"
             ],
             [
              0.7777777777777778,
              "#fb9f3a"
             ],
             [
              0.8888888888888888,
              "#fdca26"
             ],
             [
              1,
              "#f0f921"
             ]
            ],
            "type": "heatmapgl"
           }
          ],
          "histogram": [
           {
            "marker": {
             "colorbar": {
              "outlinewidth": 0,
              "ticks": ""
             }
            },
            "type": "histogram"
           }
          ],
          "histogram2d": [
           {
            "colorbar": {
             "outlinewidth": 0,
             "ticks": ""
            },
            "colorscale": [
             [
              0,
              "#0d0887"
             ],
             [
              0.1111111111111111,
              "#46039f"
             ],
             [
              0.2222222222222222,
              "#7201a8"
             ],
             [
              0.3333333333333333,
              "#9c179e"
             ],
             [
              0.4444444444444444,
              "#bd3786"
             ],
             [
              0.5555555555555556,
              "#d8576b"
             ],
             [
              0.6666666666666666,
              "#ed7953"
             ],
             [
              0.7777777777777778,
              "#fb9f3a"
             ],
             [
              0.8888888888888888,
              "#fdca26"
             ],
             [
              1,
              "#f0f921"
             ]
            ],
            "type": "histogram2d"
           }
          ],
          "histogram2dcontour": [
           {
            "colorbar": {
             "outlinewidth": 0,
             "ticks": ""
            },
            "colorscale": [
             [
              0,
              "#0d0887"
             ],
             [
              0.1111111111111111,
              "#46039f"
             ],
             [
              0.2222222222222222,
              "#7201a8"
             ],
             [
              0.3333333333333333,
              "#9c179e"
             ],
             [
              0.4444444444444444,
              "#bd3786"
             ],
             [
              0.5555555555555556,
              "#d8576b"
             ],
             [
              0.6666666666666666,
              "#ed7953"
             ],
             [
              0.7777777777777778,
              "#fb9f3a"
             ],
             [
              0.8888888888888888,
              "#fdca26"
             ],
             [
              1,
              "#f0f921"
             ]
            ],
            "type": "histogram2dcontour"
           }
          ],
          "mesh3d": [
           {
            "colorbar": {
             "outlinewidth": 0,
             "ticks": ""
            },
            "type": "mesh3d"
           }
          ],
          "parcoords": [
           {
            "line": {
             "colorbar": {
              "outlinewidth": 0,
              "ticks": ""
             }
            },
            "type": "parcoords"
           }
          ],
          "pie": [
           {
            "automargin": true,
            "type": "pie"
           }
          ],
          "scatter": [
           {
            "marker": {
             "colorbar": {
              "outlinewidth": 0,
              "ticks": ""
             }
            },
            "type": "scatter"
           }
          ],
          "scatter3d": [
           {
            "line": {
             "colorbar": {
              "outlinewidth": 0,
              "ticks": ""
             }
            },
            "marker": {
             "colorbar": {
              "outlinewidth": 0,
              "ticks": ""
             }
            },
            "type": "scatter3d"
           }
          ],
          "scattercarpet": [
           {
            "marker": {
             "colorbar": {
              "outlinewidth": 0,
              "ticks": ""
             }
            },
            "type": "scattercarpet"
           }
          ],
          "scattergeo": [
           {
            "marker": {
             "colorbar": {
              "outlinewidth": 0,
              "ticks": ""
             }
            },
            "type": "scattergeo"
           }
          ],
          "scattergl": [
           {
            "marker": {
             "colorbar": {
              "outlinewidth": 0,
              "ticks": ""
             }
            },
            "type": "scattergl"
           }
          ],
          "scattermapbox": [
           {
            "marker": {
             "colorbar": {
              "outlinewidth": 0,
              "ticks": ""
             }
            },
            "type": "scattermapbox"
           }
          ],
          "scatterpolar": [
           {
            "marker": {
             "colorbar": {
              "outlinewidth": 0,
              "ticks": ""
             }
            },
            "type": "scatterpolar"
           }
          ],
          "scatterpolargl": [
           {
            "marker": {
             "colorbar": {
              "outlinewidth": 0,
              "ticks": ""
             }
            },
            "type": "scatterpolargl"
           }
          ],
          "scatterternary": [
           {
            "marker": {
             "colorbar": {
              "outlinewidth": 0,
              "ticks": ""
             }
            },
            "type": "scatterternary"
           }
          ],
          "surface": [
           {
            "colorbar": {
             "outlinewidth": 0,
             "ticks": ""
            },
            "colorscale": [
             [
              0,
              "#0d0887"
             ],
             [
              0.1111111111111111,
              "#46039f"
             ],
             [
              0.2222222222222222,
              "#7201a8"
             ],
             [
              0.3333333333333333,
              "#9c179e"
             ],
             [
              0.4444444444444444,
              "#bd3786"
             ],
             [
              0.5555555555555556,
              "#d8576b"
             ],
             [
              0.6666666666666666,
              "#ed7953"
             ],
             [
              0.7777777777777778,
              "#fb9f3a"
             ],
             [
              0.8888888888888888,
              "#fdca26"
             ],
             [
              1,
              "#f0f921"
             ]
            ],
            "type": "surface"
           }
          ],
          "table": [
           {
            "cells": {
             "fill": {
              "color": "#EBF0F8"
             },
             "line": {
              "color": "white"
             }
            },
            "header": {
             "fill": {
              "color": "#C8D4E3"
             },
             "line": {
              "color": "white"
             }
            },
            "type": "table"
           }
          ]
         },
         "layout": {
          "annotationdefaults": {
           "arrowcolor": "#2a3f5f",
           "arrowhead": 0,
           "arrowwidth": 1
          },
          "coloraxis": {
           "colorbar": {
            "outlinewidth": 0,
            "ticks": ""
           }
          },
          "colorscale": {
           "diverging": [
            [
             0,
             "#8e0152"
            ],
            [
             0.1,
             "#c51b7d"
            ],
            [
             0.2,
             "#de77ae"
            ],
            [
             0.3,
             "#f1b6da"
            ],
            [
             0.4,
             "#fde0ef"
            ],
            [
             0.5,
             "#f7f7f7"
            ],
            [
             0.6,
             "#e6f5d0"
            ],
            [
             0.7,
             "#b8e186"
            ],
            [
             0.8,
             "#7fbc41"
            ],
            [
             0.9,
             "#4d9221"
            ],
            [
             1,
             "#276419"
            ]
           ],
           "sequential": [
            [
             0,
             "#0d0887"
            ],
            [
             0.1111111111111111,
             "#46039f"
            ],
            [
             0.2222222222222222,
             "#7201a8"
            ],
            [
             0.3333333333333333,
             "#9c179e"
            ],
            [
             0.4444444444444444,
             "#bd3786"
            ],
            [
             0.5555555555555556,
             "#d8576b"
            ],
            [
             0.6666666666666666,
             "#ed7953"
            ],
            [
             0.7777777777777778,
             "#fb9f3a"
            ],
            [
             0.8888888888888888,
             "#fdca26"
            ],
            [
             1,
             "#f0f921"
            ]
           ],
           "sequentialminus": [
            [
             0,
             "#0d0887"
            ],
            [
             0.1111111111111111,
             "#46039f"
            ],
            [
             0.2222222222222222,
             "#7201a8"
            ],
            [
             0.3333333333333333,
             "#9c179e"
            ],
            [
             0.4444444444444444,
             "#bd3786"
            ],
            [
             0.5555555555555556,
             "#d8576b"
            ],
            [
             0.6666666666666666,
             "#ed7953"
            ],
            [
             0.7777777777777778,
             "#fb9f3a"
            ],
            [
             0.8888888888888888,
             "#fdca26"
            ],
            [
             1,
             "#f0f921"
            ]
           ]
          },
          "colorway": [
           "#636efa",
           "#EF553B",
           "#00cc96",
           "#ab63fa",
           "#FFA15A",
           "#19d3f3",
           "#FF6692",
           "#B6E880",
           "#FF97FF",
           "#FECB52"
          ],
          "font": {
           "color": "#2a3f5f"
          },
          "geo": {
           "bgcolor": "white",
           "lakecolor": "white",
           "landcolor": "#E5ECF6",
           "showlakes": true,
           "showland": true,
           "subunitcolor": "white"
          },
          "hoverlabel": {
           "align": "left"
          },
          "hovermode": "closest",
          "mapbox": {
           "style": "light"
          },
          "paper_bgcolor": "white",
          "plot_bgcolor": "#E5ECF6",
          "polar": {
           "angularaxis": {
            "gridcolor": "white",
            "linecolor": "white",
            "ticks": ""
           },
           "bgcolor": "#E5ECF6",
           "radialaxis": {
            "gridcolor": "white",
            "linecolor": "white",
            "ticks": ""
           }
          },
          "scene": {
           "xaxis": {
            "backgroundcolor": "#E5ECF6",
            "gridcolor": "white",
            "gridwidth": 2,
            "linecolor": "white",
            "showbackground": true,
            "ticks": "",
            "zerolinecolor": "white"
           },
           "yaxis": {
            "backgroundcolor": "#E5ECF6",
            "gridcolor": "white",
            "gridwidth": 2,
            "linecolor": "white",
            "showbackground": true,
            "ticks": "",
            "zerolinecolor": "white"
           },
           "zaxis": {
            "backgroundcolor": "#E5ECF6",
            "gridcolor": "white",
            "gridwidth": 2,
            "linecolor": "white",
            "showbackground": true,
            "ticks": "",
            "zerolinecolor": "white"
           }
          },
          "shapedefaults": {
           "line": {
            "color": "#2a3f5f"
           }
          },
          "ternary": {
           "aaxis": {
            "gridcolor": "white",
            "linecolor": "white",
            "ticks": ""
           },
           "baxis": {
            "gridcolor": "white",
            "linecolor": "white",
            "ticks": ""
           },
           "bgcolor": "#E5ECF6",
           "caxis": {
            "gridcolor": "white",
            "linecolor": "white",
            "ticks": ""
           }
          },
          "title": {
           "x": 0.05
          },
          "xaxis": {
           "automargin": true,
           "gridcolor": "white",
           "linecolor": "white",
           "ticks": "",
           "title": {
            "standoff": 15
           },
           "zerolinecolor": "white",
           "zerolinewidth": 2
          },
          "yaxis": {
           "automargin": true,
           "gridcolor": "white",
           "linecolor": "white",
           "ticks": "",
           "title": {
            "standoff": 15
           },
           "zerolinecolor": "white",
           "zerolinewidth": 2
          }
         }
        },
        "title": {
         "font": {
          "color": "#4D5663"
         }
        },
        "xaxis": {
         "gridcolor": "#E1E5ED",
         "showgrid": true,
         "tickfont": {
          "color": "#4D5663"
         },
         "title": {
          "font": {
           "color": "#4D5663"
          },
          "text": ""
         },
         "zerolinecolor": "#E1E5ED"
        },
        "yaxis": {
         "gridcolor": "#E1E5ED",
         "showgrid": true,
         "tickfont": {
          "color": "#4D5663"
         },
         "title": {
          "font": {
           "color": "#4D5663"
          },
          "text": ""
         },
         "zerolinecolor": "#E1E5ED"
        }
       }
      },
      "text/html": [
       "<div>                            <div id=\"3bbb81e8-36bf-4a66-90f0-d3899f077c68\" class=\"plotly-graph-div\" style=\"height:525px; width:100%;\"></div>            <script type=\"text/javascript\">                require([\"plotly\"], function(Plotly) {                    window.PLOTLYENV=window.PLOTLYENV || {};\n",
       "                    window.PLOTLYENV.BASE_URL='https://plot.ly';                                    if (document.getElementById(\"3bbb81e8-36bf-4a66-90f0-d3899f077c68\")) {                    Plotly.newPlot(                        \"3bbb81e8-36bf-4a66-90f0-d3899f077c68\",                        [{\"histfunc\": \"count\", \"histnorm\": \"\", \"marker\": {\"color\": \"rgba(255, 153, 51, 1.0)\", \"line\": {\"color\": \"#4D5663\", \"width\": 1.3}}, \"name\": \"A\", \"nbinsx\": 25, \"opacity\": 0.8, \"orientation\": \"v\", \"type\": \"histogram\", \"x\": [2.349463736678292, 0.3108666103275385, -0.583059093678768, 0.7435885743025653, 0.5099588098432798, 1.966548109766253, 1.1129898957074027, 0.9611232611901351, -0.8806101014203047, 1.0375710853156552, 0.8845667407050395, 0.35646066025878753, -1.1704649292446916, -0.8484060076978288, -1.328673180495637, -0.6290443312838666, 0.2544498414697697, 0.680348696415441, -0.574757688795644, 0.7873185458279743, 1.092439973790728, -0.33905546810607146, -0.42096026392177893, 2.0117528995759932, -0.11791651021532197, 0.3825425311059134, 0.8719462945865029, -0.01409655835904745, -0.6241638118596583, 0.3075622492359093, 1.2412826092237823, -0.3586456201977495, -1.7082564416376078, -0.7390107854664355, 0.07674312808999541, 0.6621222926702514, -0.5976930309969201, 0.02449196098641207, 1.6507602514940374, -0.7930135621497139, -0.30453355733048615, -0.07763659811971005, 2.1073933548155788, 0.8882738710911402, 0.969196759272263, 2.9340866721007295, 1.3811341499105498, -1.0242821964430902, 0.3922130569684905, 0.33620212753268575, -0.5302585342303152, 0.17890119119824593, 0.019558389885683335, 0.2586508632542788, -0.5882636693456064, 0.4280553780557698, 0.6573994705294567, -2.3258329038234393, -0.6421196396204563, 0.36292251478888504, -1.8104712563800573, -0.7829556928950923, 0.5001903797435958, -0.018774145722104715, -0.016942425665276803, -1.525440739390988, -0.8006457698691762, 0.5296622914630553, -1.8220488470166538, -0.06173198001629492, -0.1642904593185454, -0.7468745036491485, 0.6761936748237967, 1.9478795434010834, 0.4033264043525933, 0.298827194151868, -1.0231861023554405, -0.6546339980700924, -0.4228532658975435, 0.9338488686667084, 0.4194981015674065, -1.2940297969923231, -0.5633240026073197, -1.7315335815688098, 0.03062121319198041, 0.27423303246300695, 0.2591970498434519, -1.8963660993830473, -2.1397656526426228, 1.8661395187606886, 0.5348513410557355, -0.25764763876401997, -0.12581490569591677, 0.9976646067470557, 1.1606409118888894, 0.36809489076520036, -1.099822859422754, -0.9177250385045125, 0.25358679835536085, 1.201352455006568]}],                        {\"barmode\": \"overlay\", \"legend\": {\"bgcolor\": \"#F5F6F9\", \"font\": {\"color\": \"#4D5663\"}}, \"paper_bgcolor\": \"#F5F6F9\", \"plot_bgcolor\": \"#F5F6F9\", \"template\": {\"data\": {\"bar\": [{\"error_x\": {\"color\": \"#2a3f5f\"}, \"error_y\": {\"color\": \"#2a3f5f\"}, \"marker\": {\"line\": {\"color\": \"#E5ECF6\", \"width\": 0.5}}, \"type\": \"bar\"}], \"barpolar\": [{\"marker\": {\"line\": {\"color\": \"#E5ECF6\", \"width\": 0.5}}, \"type\": \"barpolar\"}], \"carpet\": [{\"aaxis\": {\"endlinecolor\": \"#2a3f5f\", \"gridcolor\": \"white\", \"linecolor\": \"white\", \"minorgridcolor\": \"white\", \"startlinecolor\": \"#2a3f5f\"}, \"baxis\": {\"endlinecolor\": \"#2a3f5f\", \"gridcolor\": \"white\", \"linecolor\": \"white\", \"minorgridcolor\": \"white\", \"startlinecolor\": \"#2a3f5f\"}, \"type\": \"carpet\"}], \"choropleth\": [{\"colorbar\": {\"outlinewidth\": 0, \"ticks\": \"\"}, \"type\": \"choropleth\"}], \"contour\": [{\"colorbar\": {\"outlinewidth\": 0, \"ticks\": \"\"}, \"colorscale\": [[0.0, \"#0d0887\"], [0.1111111111111111, \"#46039f\"], [0.2222222222222222, \"#7201a8\"], [0.3333333333333333, \"#9c179e\"], [0.4444444444444444, \"#bd3786\"], [0.5555555555555556, \"#d8576b\"], [0.6666666666666666, \"#ed7953\"], [0.7777777777777778, \"#fb9f3a\"], [0.8888888888888888, \"#fdca26\"], [1.0, \"#f0f921\"]], \"type\": \"contour\"}], \"contourcarpet\": [{\"colorbar\": {\"outlinewidth\": 0, \"ticks\": \"\"}, \"type\": \"contourcarpet\"}], \"heatmap\": [{\"colorbar\": {\"outlinewidth\": 0, \"ticks\": \"\"}, \"colorscale\": [[0.0, \"#0d0887\"], [0.1111111111111111, \"#46039f\"], [0.2222222222222222, \"#7201a8\"], [0.3333333333333333, \"#9c179e\"], [0.4444444444444444, \"#bd3786\"], [0.5555555555555556, \"#d8576b\"], [0.6666666666666666, \"#ed7953\"], [0.7777777777777778, \"#fb9f3a\"], [0.8888888888888888, \"#fdca26\"], [1.0, \"#f0f921\"]], \"type\": \"heatmap\"}], \"heatmapgl\": [{\"colorbar\": {\"outlinewidth\": 0, \"ticks\": \"\"}, \"colorscale\": [[0.0, \"#0d0887\"], [0.1111111111111111, \"#46039f\"], [0.2222222222222222, \"#7201a8\"], [0.3333333333333333, \"#9c179e\"], [0.4444444444444444, \"#bd3786\"], [0.5555555555555556, \"#d8576b\"], [0.6666666666666666, \"#ed7953\"], [0.7777777777777778, \"#fb9f3a\"], [0.8888888888888888, \"#fdca26\"], [1.0, \"#f0f921\"]], \"type\": \"heatmapgl\"}], \"histogram\": [{\"marker\": {\"colorbar\": {\"outlinewidth\": 0, \"ticks\": \"\"}}, \"type\": \"histogram\"}], \"histogram2d\": [{\"colorbar\": {\"outlinewidth\": 0, \"ticks\": \"\"}, \"colorscale\": [[0.0, \"#0d0887\"], [0.1111111111111111, \"#46039f\"], [0.2222222222222222, \"#7201a8\"], [0.3333333333333333, \"#9c179e\"], [0.4444444444444444, \"#bd3786\"], [0.5555555555555556, \"#d8576b\"], [0.6666666666666666, \"#ed7953\"], [0.7777777777777778, \"#fb9f3a\"], [0.8888888888888888, \"#fdca26\"], [1.0, \"#f0f921\"]], \"type\": \"histogram2d\"}], \"histogram2dcontour\": [{\"colorbar\": {\"outlinewidth\": 0, \"ticks\": \"\"}, \"colorscale\": [[0.0, \"#0d0887\"], [0.1111111111111111, \"#46039f\"], [0.2222222222222222, \"#7201a8\"], [0.3333333333333333, \"#9c179e\"], [0.4444444444444444, \"#bd3786\"], [0.5555555555555556, \"#d8576b\"], [0.6666666666666666, \"#ed7953\"], [0.7777777777777778, \"#fb9f3a\"], [0.8888888888888888, \"#fdca26\"], [1.0, \"#f0f921\"]], \"type\": \"histogram2dcontour\"}], \"mesh3d\": [{\"colorbar\": {\"outlinewidth\": 0, \"ticks\": \"\"}, \"type\": \"mesh3d\"}], \"parcoords\": [{\"line\": {\"colorbar\": {\"outlinewidth\": 0, \"ticks\": \"\"}}, \"type\": \"parcoords\"}], \"pie\": [{\"automargin\": true, \"type\": \"pie\"}], \"scatter\": [{\"marker\": {\"colorbar\": {\"outlinewidth\": 0, \"ticks\": \"\"}}, \"type\": \"scatter\"}], \"scatter3d\": [{\"line\": {\"colorbar\": {\"outlinewidth\": 0, \"ticks\": \"\"}}, \"marker\": {\"colorbar\": {\"outlinewidth\": 0, \"ticks\": \"\"}}, \"type\": \"scatter3d\"}], \"scattercarpet\": [{\"marker\": {\"colorbar\": {\"outlinewidth\": 0, \"ticks\": \"\"}}, \"type\": \"scattercarpet\"}], \"scattergeo\": [{\"marker\": {\"colorbar\": {\"outlinewidth\": 0, \"ticks\": \"\"}}, \"type\": \"scattergeo\"}], \"scattergl\": [{\"marker\": {\"colorbar\": {\"outlinewidth\": 0, \"ticks\": \"\"}}, \"type\": \"scattergl\"}], \"scattermapbox\": [{\"marker\": {\"colorbar\": {\"outlinewidth\": 0, \"ticks\": \"\"}}, \"type\": \"scattermapbox\"}], \"scatterpolar\": [{\"marker\": {\"colorbar\": {\"outlinewidth\": 0, \"ticks\": \"\"}}, \"type\": \"scatterpolar\"}], \"scatterpolargl\": [{\"marker\": {\"colorbar\": {\"outlinewidth\": 0, \"ticks\": \"\"}}, \"type\": \"scatterpolargl\"}], \"scatterternary\": [{\"marker\": {\"colorbar\": {\"outlinewidth\": 0, \"ticks\": \"\"}}, \"type\": \"scatterternary\"}], \"surface\": [{\"colorbar\": {\"outlinewidth\": 0, \"ticks\": \"\"}, \"colorscale\": [[0.0, \"#0d0887\"], [0.1111111111111111, \"#46039f\"], [0.2222222222222222, \"#7201a8\"], [0.3333333333333333, \"#9c179e\"], [0.4444444444444444, \"#bd3786\"], [0.5555555555555556, \"#d8576b\"], [0.6666666666666666, \"#ed7953\"], [0.7777777777777778, \"#fb9f3a\"], [0.8888888888888888, \"#fdca26\"], [1.0, \"#f0f921\"]], \"type\": \"surface\"}], \"table\": [{\"cells\": {\"fill\": {\"color\": \"#EBF0F8\"}, \"line\": {\"color\": \"white\"}}, \"header\": {\"fill\": {\"color\": \"#C8D4E3\"}, \"line\": {\"color\": \"white\"}}, \"type\": \"table\"}]}, \"layout\": {\"annotationdefaults\": {\"arrowcolor\": \"#2a3f5f\", \"arrowhead\": 0, \"arrowwidth\": 1}, \"coloraxis\": {\"colorbar\": {\"outlinewidth\": 0, \"ticks\": \"\"}}, \"colorscale\": {\"diverging\": [[0, \"#8e0152\"], [0.1, \"#c51b7d\"], [0.2, \"#de77ae\"], [0.3, \"#f1b6da\"], [0.4, \"#fde0ef\"], [0.5, \"#f7f7f7\"], [0.6, \"#e6f5d0\"], [0.7, \"#b8e186\"], [0.8, \"#7fbc41\"], [0.9, \"#4d9221\"], [1, \"#276419\"]], \"sequential\": [[0.0, \"#0d0887\"], [0.1111111111111111, \"#46039f\"], [0.2222222222222222, \"#7201a8\"], [0.3333333333333333, \"#9c179e\"], [0.4444444444444444, \"#bd3786\"], [0.5555555555555556, \"#d8576b\"], [0.6666666666666666, \"#ed7953\"], [0.7777777777777778, \"#fb9f3a\"], [0.8888888888888888, \"#fdca26\"], [1.0, \"#f0f921\"]], \"sequentialminus\": [[0.0, \"#0d0887\"], [0.1111111111111111, \"#46039f\"], [0.2222222222222222, \"#7201a8\"], [0.3333333333333333, \"#9c179e\"], [0.4444444444444444, \"#bd3786\"], [0.5555555555555556, \"#d8576b\"], [0.6666666666666666, \"#ed7953\"], [0.7777777777777778, \"#fb9f3a\"], [0.8888888888888888, \"#fdca26\"], [1.0, \"#f0f921\"]]}, \"colorway\": [\"#636efa\", \"#EF553B\", \"#00cc96\", \"#ab63fa\", \"#FFA15A\", \"#19d3f3\", \"#FF6692\", \"#B6E880\", \"#FF97FF\", \"#FECB52\"], \"font\": {\"color\": \"#2a3f5f\"}, \"geo\": {\"bgcolor\": \"white\", \"lakecolor\": \"white\", \"landcolor\": \"#E5ECF6\", \"showlakes\": true, \"showland\": true, \"subunitcolor\": \"white\"}, \"hoverlabel\": {\"align\": \"left\"}, \"hovermode\": \"closest\", \"mapbox\": {\"style\": \"light\"}, \"paper_bgcolor\": \"white\", \"plot_bgcolor\": \"#E5ECF6\", \"polar\": {\"angularaxis\": {\"gridcolor\": \"white\", \"linecolor\": \"white\", \"ticks\": \"\"}, \"bgcolor\": \"#E5ECF6\", \"radialaxis\": {\"gridcolor\": \"white\", \"linecolor\": \"white\", \"ticks\": \"\"}}, \"scene\": {\"xaxis\": {\"backgroundcolor\": \"#E5ECF6\", \"gridcolor\": \"white\", \"gridwidth\": 2, \"linecolor\": \"white\", \"showbackground\": true, \"ticks\": \"\", \"zerolinecolor\": \"white\"}, \"yaxis\": {\"backgroundcolor\": \"#E5ECF6\", \"gridcolor\": \"white\", \"gridwidth\": 2, \"linecolor\": \"white\", \"showbackground\": true, \"ticks\": \"\", \"zerolinecolor\": \"white\"}, \"zaxis\": {\"backgroundcolor\": \"#E5ECF6\", \"gridcolor\": \"white\", \"gridwidth\": 2, \"linecolor\": \"white\", \"showbackground\": true, \"ticks\": \"\", \"zerolinecolor\": \"white\"}}, \"shapedefaults\": {\"line\": {\"color\": \"#2a3f5f\"}}, \"ternary\": {\"aaxis\": {\"gridcolor\": \"white\", \"linecolor\": \"white\", \"ticks\": \"\"}, \"baxis\": {\"gridcolor\": \"white\", \"linecolor\": \"white\", \"ticks\": \"\"}, \"bgcolor\": \"#E5ECF6\", \"caxis\": {\"gridcolor\": \"white\", \"linecolor\": \"white\", \"ticks\": \"\"}}, \"title\": {\"x\": 0.05}, \"xaxis\": {\"automargin\": true, \"gridcolor\": \"white\", \"linecolor\": \"white\", \"ticks\": \"\", \"title\": {\"standoff\": 15}, \"zerolinecolor\": \"white\", \"zerolinewidth\": 2}, \"yaxis\": {\"automargin\": true, \"gridcolor\": \"white\", \"linecolor\": \"white\", \"ticks\": \"\", \"title\": {\"standoff\": 15}, \"zerolinecolor\": \"white\", \"zerolinewidth\": 2}}}, \"title\": {\"font\": {\"color\": \"#4D5663\"}}, \"xaxis\": {\"gridcolor\": \"#E1E5ED\", \"showgrid\": true, \"tickfont\": {\"color\": \"#4D5663\"}, \"title\": {\"font\": {\"color\": \"#4D5663\"}, \"text\": \"\"}, \"zerolinecolor\": \"#E1E5ED\"}, \"yaxis\": {\"gridcolor\": \"#E1E5ED\", \"showgrid\": true, \"tickfont\": {\"color\": \"#4D5663\"}, \"title\": {\"font\": {\"color\": \"#4D5663\"}, \"text\": \"\"}, \"zerolinecolor\": \"#E1E5ED\"}},                        {\"showLink\": true, \"linkText\": \"Export to plot.ly\", \"plotlyServerURL\": \"https://plot.ly\", \"responsive\": true}                    ).then(function(){\n",
       "                            \n",
       "var gd = document.getElementById('3bbb81e8-36bf-4a66-90f0-d3899f077c68');\n",
       "var x = new MutationObserver(function (mutations, observer) {{\n",
       "        var display = window.getComputedStyle(gd).display;\n",
       "        if (!display || display === 'none') {{\n",
       "            console.log([gd, 'removed!']);\n",
       "            Plotly.purge(gd);\n",
       "            observer.disconnect();\n",
       "        }}\n",
       "}});\n",
       "\n",
       "// Listen for the removal of the full notebook cells\n",
       "var notebookContainer = gd.closest('#notebook-container');\n",
       "if (notebookContainer) {{\n",
       "    x.observe(notebookContainer, {childList: true});\n",
       "}}\n",
       "\n",
       "// Listen for the clearing of the current output cell\n",
       "var outputEl = gd.closest('.output');\n",
       "if (outputEl) {{\n",
       "    x.observe(outputEl, {childList: true});\n",
       "}}\n",
       "\n",
       "                        })                };                });            </script>        </div>"
      ]
     },
     "metadata": {},
     "output_type": "display_data"
    }
   ],
   "source": [
    "df['A'].iplot(kind='hist',bins=25)"
   ]
  },
  {
   "cell_type": "code",
   "execution_count": 35,
   "metadata": {},
   "outputs": [
    {
     "data": {
      "application/vnd.plotly.v1+json": {
       "config": {
        "linkText": "Export to plot.ly",
        "plotlyServerURL": "https://plot.ly",
        "showLink": true
       },
       "data": [
        {
         "marker": {
          "color": [
           "rgb(255, 153, 51)",
           "rgb(55, 128, 191)",
           "rgb(50, 171, 96)",
           "rgb(128, 0, 128)",
           "rgb(219, 64, 82)",
           "rgb(0, 128, 128)",
           "rgb(255, 255, 51)",
           "rgb(128, 128, 0)",
           "rgb(251, 128, 114)",
           "rgb(128, 177, 211)"
          ],
          "line": {
           "width": 1.3
          },
          "size": [
           88,
           62,
           62,
           87,
           75,
           32,
           65,
           77,
           80,
           42,
           51,
           52,
           41,
           72,
           69,
           110,
           84,
           68,
           61,
           79,
           76,
           82,
           60,
           71,
           94,
           38,
           41,
           67,
           70,
           66,
           74,
           30,
           73,
           86,
           62,
           29,
           89,
           77,
           104,
           91,
           64,
           58,
           64,
           55,
           85,
           47,
           70,
           57,
           75,
           85,
           68,
           56,
           84,
           81,
           74,
           76,
           79,
           71,
           56,
           99,
           78,
           47,
           58,
           40,
           57,
           45,
           58,
           60,
           68,
           65,
           68,
           83,
           75,
           77,
           68,
           52,
           70,
           98,
           63,
           64,
           72,
           66,
           50,
           50,
           66,
           74,
           112,
           64,
           58,
           63,
           63,
           71,
           47,
           82,
           74,
           84,
           58,
           76,
           55,
           12
          ],
          "symbol": "circle"
         },
         "mode": "markers",
         "text": "",
         "type": "scatter",
         "x": [
          2.349463736678292,
          0.3108666103275385,
          -0.583059093678768,
          0.7435885743025653,
          0.5099588098432798,
          1.966548109766253,
          1.1129898957074027,
          0.9611232611901351,
          -0.8806101014203047,
          1.0375710853156552,
          0.8845667407050395,
          0.35646066025878753,
          -1.1704649292446916,
          -0.8484060076978288,
          -1.328673180495637,
          -0.6290443312838666,
          0.2544498414697697,
          0.680348696415441,
          -0.574757688795644,
          0.7873185458279743,
          1.092439973790728,
          -0.33905546810607146,
          -0.42096026392177893,
          2.0117528995759932,
          -0.11791651021532197,
          0.3825425311059134,
          0.8719462945865029,
          -0.01409655835904745,
          -0.6241638118596583,
          0.3075622492359093,
          1.2412826092237823,
          -0.3586456201977495,
          -1.7082564416376078,
          -0.7390107854664355,
          0.07674312808999541,
          0.6621222926702514,
          -0.5976930309969201,
          0.02449196098641207,
          1.6507602514940374,
          -0.7930135621497139,
          -0.30453355733048615,
          -0.07763659811971005,
          2.1073933548155788,
          0.8882738710911402,
          0.969196759272263,
          2.9340866721007295,
          1.3811341499105498,
          -1.0242821964430902,
          0.3922130569684905,
          0.33620212753268575,
          -0.5302585342303152,
          0.17890119119824593,
          0.019558389885683335,
          0.2586508632542788,
          -0.5882636693456064,
          0.4280553780557698,
          0.6573994705294567,
          -2.3258329038234393,
          -0.6421196396204563,
          0.36292251478888504,
          -1.8104712563800573,
          -0.7829556928950923,
          0.5001903797435958,
          -0.018774145722104715,
          -0.016942425665276803,
          -1.525440739390988,
          -0.8006457698691762,
          0.5296622914630553,
          -1.8220488470166538,
          -0.06173198001629492,
          -0.1642904593185454,
          -0.7468745036491485,
          0.6761936748237967,
          1.9478795434010834,
          0.4033264043525933,
          0.298827194151868,
          -1.0231861023554405,
          -0.6546339980700924,
          -0.4228532658975435,
          0.9338488686667084,
          0.4194981015674065,
          -1.2940297969923231,
          -0.5633240026073197,
          -1.7315335815688098,
          0.03062121319198041,
          0.27423303246300695,
          0.2591970498434519,
          -1.8963660993830473,
          -2.1397656526426228,
          1.8661395187606886,
          0.5348513410557355,
          -0.25764763876401997,
          -0.12581490569591677,
          0.9976646067470557,
          1.1606409118888894,
          0.36809489076520036,
          -1.099822859422754,
          -0.9177250385045125,
          0.25358679835536085,
          1.201352455006568
         ],
         "y": [
          -0.2423219949389645,
          -2.706976290388302,
          1.2953954200897868,
          1.0140749314238602,
          0.013848059806591515,
          0.5887514333233522,
          0.3465406031828833,
          1.0611421450054488,
          0.6419282667293559,
          -0.8838581497504631,
          0.4148028398283948,
          -0.6517477223270324,
          0.8674115443174526,
          0.5489179991817551,
          0.6574300852313422,
          -0.4549444472057328,
          -0.6706131600173989,
          -0.5291126040546213,
          -1.8217365516677237,
          1.444721043724773,
          0.7590392104277327,
          -0.09293925013803317,
          0.0503972895855374,
          0.145007606799687,
          -1.4809147392137594,
          -1.7563679027915409,
          -0.1366478446801668,
          -0.249880409389546,
          -1.5092014303269374,
          -1.2951933581366464,
          -0.3776816935327316,
          1.0500367846007583,
          2.0298731333973334,
          -0.5177442142650164,
          0.581326559850293,
          -1.15614374441983,
          -1.5974251016007963,
          -2.069878207551687,
          0.34569618335219143,
          1.0580442289797154,
          1.1143756268125253,
          0.6571354815017619,
          -0.033134048005478076,
          0.6500503187731492,
          1.804249260594454,
          0.8631998455493465,
          -0.8651144914203226,
          -0.48603282398988484,
          -1.7877943468082442,
          1.3108090320196126,
          -1.741348077810631,
          -0.29830640334535924,
          1.4957145372526197,
          -0.5414125413987575,
          0.2455871408269604,
          0.27960360946611895,
          -0.8673052508542467,
          0.230103197123487,
          -0.034143955297715245,
          0.06502501025699589,
          -2.194321449524192,
          -0.1632314690482964,
          -0.9880534457273676,
          -0.29926393381783994,
          0.29366069873202544,
          -0.8723884495437727,
          7.053549891964815e-05,
          -1.3105748100582921,
          1.4652962429346243,
          -0.7303225872571056,
          0.7981774297351967,
          0.8611213956410901,
          0.02222822235287305,
          0.6600086924732197,
          -2.6409659803744203,
          -0.5348090955409671,
          1.075407406047104,
          0.7052304529529135,
          -0.045799926817225264,
          -0.4760153334720511,
          -1.3587210895550077,
          -0.5272599116076675,
          -0.18591988363725706,
          0.6091872034069954,
          0.2668676271844891,
          0.10318620801740346,
          -0.8599520266992087,
          0.6605329680149644,
          0.5344677366032592,
          0.12479350332966131,
          -0.214626583134152,
          -0.45984866368511523,
          -0.9255916206161602,
          0.3393940004328594,
          -0.8931237996637412,
          0.8724502332921894,
          -0.2837812299787633,
          -0.4374598153438439,
          0.2803366464933947,
          0.26179862710883917
         ]
        }
       ],
       "layout": {
        "legend": {
         "bgcolor": "#F5F6F9",
         "font": {
          "color": "#4D5663"
         }
        },
        "paper_bgcolor": "#F5F6F9",
        "plot_bgcolor": "#F5F6F9",
        "template": {
         "data": {
          "bar": [
           {
            "error_x": {
             "color": "#2a3f5f"
            },
            "error_y": {
             "color": "#2a3f5f"
            },
            "marker": {
             "line": {
              "color": "#E5ECF6",
              "width": 0.5
             }
            },
            "type": "bar"
           }
          ],
          "barpolar": [
           {
            "marker": {
             "line": {
              "color": "#E5ECF6",
              "width": 0.5
             }
            },
            "type": "barpolar"
           }
          ],
          "carpet": [
           {
            "aaxis": {
             "endlinecolor": "#2a3f5f",
             "gridcolor": "white",
             "linecolor": "white",
             "minorgridcolor": "white",
             "startlinecolor": "#2a3f5f"
            },
            "baxis": {
             "endlinecolor": "#2a3f5f",
             "gridcolor": "white",
             "linecolor": "white",
             "minorgridcolor": "white",
             "startlinecolor": "#2a3f5f"
            },
            "type": "carpet"
           }
          ],
          "choropleth": [
           {
            "colorbar": {
             "outlinewidth": 0,
             "ticks": ""
            },
            "type": "choropleth"
           }
          ],
          "contour": [
           {
            "colorbar": {
             "outlinewidth": 0,
             "ticks": ""
            },
            "colorscale": [
             [
              0,
              "#0d0887"
             ],
             [
              0.1111111111111111,
              "#46039f"
             ],
             [
              0.2222222222222222,
              "#7201a8"
             ],
             [
              0.3333333333333333,
              "#9c179e"
             ],
             [
              0.4444444444444444,
              "#bd3786"
             ],
             [
              0.5555555555555556,
              "#d8576b"
             ],
             [
              0.6666666666666666,
              "#ed7953"
             ],
             [
              0.7777777777777778,
              "#fb9f3a"
             ],
             [
              0.8888888888888888,
              "#fdca26"
             ],
             [
              1,
              "#f0f921"
             ]
            ],
            "type": "contour"
           }
          ],
          "contourcarpet": [
           {
            "colorbar": {
             "outlinewidth": 0,
             "ticks": ""
            },
            "type": "contourcarpet"
           }
          ],
          "heatmap": [
           {
            "colorbar": {
             "outlinewidth": 0,
             "ticks": ""
            },
            "colorscale": [
             [
              0,
              "#0d0887"
             ],
             [
              0.1111111111111111,
              "#46039f"
             ],
             [
              0.2222222222222222,
              "#7201a8"
             ],
             [
              0.3333333333333333,
              "#9c179e"
             ],
             [
              0.4444444444444444,
              "#bd3786"
             ],
             [
              0.5555555555555556,
              "#d8576b"
             ],
             [
              0.6666666666666666,
              "#ed7953"
             ],
             [
              0.7777777777777778,
              "#fb9f3a"
             ],
             [
              0.8888888888888888,
              "#fdca26"
             ],
             [
              1,
              "#f0f921"
             ]
            ],
            "type": "heatmap"
           }
          ],
          "heatmapgl": [
           {
            "colorbar": {
             "outlinewidth": 0,
             "ticks": ""
            },
            "colorscale": [
             [
              0,
              "#0d0887"
             ],
             [
              0.1111111111111111,
              "#46039f"
             ],
             [
              0.2222222222222222,
              "#7201a8"
             ],
             [
              0.3333333333333333,
              "#9c179e"
             ],
             [
              0.4444444444444444,
              "#bd3786"
             ],
             [
              0.5555555555555556,
              "#d8576b"
             ],
             [
              0.6666666666666666,
              "#ed7953"
             ],
             [
              0.7777777777777778,
              "#fb9f3a"
             ],
             [
              0.8888888888888888,
              "#fdca26"
             ],
             [
              1,
              "#f0f921"
             ]
            ],
            "type": "heatmapgl"
           }
          ],
          "histogram": [
           {
            "marker": {
             "colorbar": {
              "outlinewidth": 0,
              "ticks": ""
             }
            },
            "type": "histogram"
           }
          ],
          "histogram2d": [
           {
            "colorbar": {
             "outlinewidth": 0,
             "ticks": ""
            },
            "colorscale": [
             [
              0,
              "#0d0887"
             ],
             [
              0.1111111111111111,
              "#46039f"
             ],
             [
              0.2222222222222222,
              "#7201a8"
             ],
             [
              0.3333333333333333,
              "#9c179e"
             ],
             [
              0.4444444444444444,
              "#bd3786"
             ],
             [
              0.5555555555555556,
              "#d8576b"
             ],
             [
              0.6666666666666666,
              "#ed7953"
             ],
             [
              0.7777777777777778,
              "#fb9f3a"
             ],
             [
              0.8888888888888888,
              "#fdca26"
             ],
             [
              1,
              "#f0f921"
             ]
            ],
            "type": "histogram2d"
           }
          ],
          "histogram2dcontour": [
           {
            "colorbar": {
             "outlinewidth": 0,
             "ticks": ""
            },
            "colorscale": [
             [
              0,
              "#0d0887"
             ],
             [
              0.1111111111111111,
              "#46039f"
             ],
             [
              0.2222222222222222,
              "#7201a8"
             ],
             [
              0.3333333333333333,
              "#9c179e"
             ],
             [
              0.4444444444444444,
              "#bd3786"
             ],
             [
              0.5555555555555556,
              "#d8576b"
             ],
             [
              0.6666666666666666,
              "#ed7953"
             ],
             [
              0.7777777777777778,
              "#fb9f3a"
             ],
             [
              0.8888888888888888,
              "#fdca26"
             ],
             [
              1,
              "#f0f921"
             ]
            ],
            "type": "histogram2dcontour"
           }
          ],
          "mesh3d": [
           {
            "colorbar": {
             "outlinewidth": 0,
             "ticks": ""
            },
            "type": "mesh3d"
           }
          ],
          "parcoords": [
           {
            "line": {
             "colorbar": {
              "outlinewidth": 0,
              "ticks": ""
             }
            },
            "type": "parcoords"
           }
          ],
          "pie": [
           {
            "automargin": true,
            "type": "pie"
           }
          ],
          "scatter": [
           {
            "marker": {
             "colorbar": {
              "outlinewidth": 0,
              "ticks": ""
             }
            },
            "type": "scatter"
           }
          ],
          "scatter3d": [
           {
            "line": {
             "colorbar": {
              "outlinewidth": 0,
              "ticks": ""
             }
            },
            "marker": {
             "colorbar": {
              "outlinewidth": 0,
              "ticks": ""
             }
            },
            "type": "scatter3d"
           }
          ],
          "scattercarpet": [
           {
            "marker": {
             "colorbar": {
              "outlinewidth": 0,
              "ticks": ""
             }
            },
            "type": "scattercarpet"
           }
          ],
          "scattergeo": [
           {
            "marker": {
             "colorbar": {
              "outlinewidth": 0,
              "ticks": ""
             }
            },
            "type": "scattergeo"
           }
          ],
          "scattergl": [
           {
            "marker": {
             "colorbar": {
              "outlinewidth": 0,
              "ticks": ""
             }
            },
            "type": "scattergl"
           }
          ],
          "scattermapbox": [
           {
            "marker": {
             "colorbar": {
              "outlinewidth": 0,
              "ticks": ""
             }
            },
            "type": "scattermapbox"
           }
          ],
          "scatterpolar": [
           {
            "marker": {
             "colorbar": {
              "outlinewidth": 0,
              "ticks": ""
             }
            },
            "type": "scatterpolar"
           }
          ],
          "scatterpolargl": [
           {
            "marker": {
             "colorbar": {
              "outlinewidth": 0,
              "ticks": ""
             }
            },
            "type": "scatterpolargl"
           }
          ],
          "scatterternary": [
           {
            "marker": {
             "colorbar": {
              "outlinewidth": 0,
              "ticks": ""
             }
            },
            "type": "scatterternary"
           }
          ],
          "surface": [
           {
            "colorbar": {
             "outlinewidth": 0,
             "ticks": ""
            },
            "colorscale": [
             [
              0,
              "#0d0887"
             ],
             [
              0.1111111111111111,
              "#46039f"
             ],
             [
              0.2222222222222222,
              "#7201a8"
             ],
             [
              0.3333333333333333,
              "#9c179e"
             ],
             [
              0.4444444444444444,
              "#bd3786"
             ],
             [
              0.5555555555555556,
              "#d8576b"
             ],
             [
              0.6666666666666666,
              "#ed7953"
             ],
             [
              0.7777777777777778,
              "#fb9f3a"
             ],
             [
              0.8888888888888888,
              "#fdca26"
             ],
             [
              1,
              "#f0f921"
             ]
            ],
            "type": "surface"
           }
          ],
          "table": [
           {
            "cells": {
             "fill": {
              "color": "#EBF0F8"
             },
             "line": {
              "color": "white"
             }
            },
            "header": {
             "fill": {
              "color": "#C8D4E3"
             },
             "line": {
              "color": "white"
             }
            },
            "type": "table"
           }
          ]
         },
         "layout": {
          "annotationdefaults": {
           "arrowcolor": "#2a3f5f",
           "arrowhead": 0,
           "arrowwidth": 1
          },
          "coloraxis": {
           "colorbar": {
            "outlinewidth": 0,
            "ticks": ""
           }
          },
          "colorscale": {
           "diverging": [
            [
             0,
             "#8e0152"
            ],
            [
             0.1,
             "#c51b7d"
            ],
            [
             0.2,
             "#de77ae"
            ],
            [
             0.3,
             "#f1b6da"
            ],
            [
             0.4,
             "#fde0ef"
            ],
            [
             0.5,
             "#f7f7f7"
            ],
            [
             0.6,
             "#e6f5d0"
            ],
            [
             0.7,
             "#b8e186"
            ],
            [
             0.8,
             "#7fbc41"
            ],
            [
             0.9,
             "#4d9221"
            ],
            [
             1,
             "#276419"
            ]
           ],
           "sequential": [
            [
             0,
             "#0d0887"
            ],
            [
             0.1111111111111111,
             "#46039f"
            ],
            [
             0.2222222222222222,
             "#7201a8"
            ],
            [
             0.3333333333333333,
             "#9c179e"
            ],
            [
             0.4444444444444444,
             "#bd3786"
            ],
            [
             0.5555555555555556,
             "#d8576b"
            ],
            [
             0.6666666666666666,
             "#ed7953"
            ],
            [
             0.7777777777777778,
             "#fb9f3a"
            ],
            [
             0.8888888888888888,
             "#fdca26"
            ],
            [
             1,
             "#f0f921"
            ]
           ],
           "sequentialminus": [
            [
             0,
             "#0d0887"
            ],
            [
             0.1111111111111111,
             "#46039f"
            ],
            [
             0.2222222222222222,
             "#7201a8"
            ],
            [
             0.3333333333333333,
             "#9c179e"
            ],
            [
             0.4444444444444444,
             "#bd3786"
            ],
            [
             0.5555555555555556,
             "#d8576b"
            ],
            [
             0.6666666666666666,
             "#ed7953"
            ],
            [
             0.7777777777777778,
             "#fb9f3a"
            ],
            [
             0.8888888888888888,
             "#fdca26"
            ],
            [
             1,
             "#f0f921"
            ]
           ]
          },
          "colorway": [
           "#636efa",
           "#EF553B",
           "#00cc96",
           "#ab63fa",
           "#FFA15A",
           "#19d3f3",
           "#FF6692",
           "#B6E880",
           "#FF97FF",
           "#FECB52"
          ],
          "font": {
           "color": "#2a3f5f"
          },
          "geo": {
           "bgcolor": "white",
           "lakecolor": "white",
           "landcolor": "#E5ECF6",
           "showlakes": true,
           "showland": true,
           "subunitcolor": "white"
          },
          "hoverlabel": {
           "align": "left"
          },
          "hovermode": "closest",
          "mapbox": {
           "style": "light"
          },
          "paper_bgcolor": "white",
          "plot_bgcolor": "#E5ECF6",
          "polar": {
           "angularaxis": {
            "gridcolor": "white",
            "linecolor": "white",
            "ticks": ""
           },
           "bgcolor": "#E5ECF6",
           "radialaxis": {
            "gridcolor": "white",
            "linecolor": "white",
            "ticks": ""
           }
          },
          "scene": {
           "xaxis": {
            "backgroundcolor": "#E5ECF6",
            "gridcolor": "white",
            "gridwidth": 2,
            "linecolor": "white",
            "showbackground": true,
            "ticks": "",
            "zerolinecolor": "white"
           },
           "yaxis": {
            "backgroundcolor": "#E5ECF6",
            "gridcolor": "white",
            "gridwidth": 2,
            "linecolor": "white",
            "showbackground": true,
            "ticks": "",
            "zerolinecolor": "white"
           },
           "zaxis": {
            "backgroundcolor": "#E5ECF6",
            "gridcolor": "white",
            "gridwidth": 2,
            "linecolor": "white",
            "showbackground": true,
            "ticks": "",
            "zerolinecolor": "white"
           }
          },
          "shapedefaults": {
           "line": {
            "color": "#2a3f5f"
           }
          },
          "ternary": {
           "aaxis": {
            "gridcolor": "white",
            "linecolor": "white",
            "ticks": ""
           },
           "baxis": {
            "gridcolor": "white",
            "linecolor": "white",
            "ticks": ""
           },
           "bgcolor": "#E5ECF6",
           "caxis": {
            "gridcolor": "white",
            "linecolor": "white",
            "ticks": ""
           }
          },
          "title": {
           "x": 0.05
          },
          "xaxis": {
           "automargin": true,
           "gridcolor": "white",
           "linecolor": "white",
           "ticks": "",
           "title": {
            "standoff": 15
           },
           "zerolinecolor": "white",
           "zerolinewidth": 2
          },
          "yaxis": {
           "automargin": true,
           "gridcolor": "white",
           "linecolor": "white",
           "ticks": "",
           "title": {
            "standoff": 15
           },
           "zerolinecolor": "white",
           "zerolinewidth": 2
          }
         }
        },
        "title": {
         "font": {
          "color": "#4D5663"
         }
        },
        "xaxis": {
         "gridcolor": "#E1E5ED",
         "showgrid": true,
         "tickfont": {
          "color": "#4D5663"
         },
         "title": {
          "font": {
           "color": "#4D5663"
          },
          "text": ""
         },
         "zerolinecolor": "#E1E5ED"
        },
        "yaxis": {
         "gridcolor": "#E1E5ED",
         "showgrid": true,
         "tickfont": {
          "color": "#4D5663"
         },
         "title": {
          "font": {
           "color": "#4D5663"
          },
          "text": ""
         },
         "zerolinecolor": "#E1E5ED"
        }
       }
      },
      "text/html": [
       "<div>                            <div id=\"fbe98bc3-cc7f-4c85-a442-54a76c4bb7aa\" class=\"plotly-graph-div\" style=\"height:525px; width:100%;\"></div>            <script type=\"text/javascript\">                require([\"plotly\"], function(Plotly) {                    window.PLOTLYENV=window.PLOTLYENV || {};\n",
       "                    window.PLOTLYENV.BASE_URL='https://plot.ly';                                    if (document.getElementById(\"fbe98bc3-cc7f-4c85-a442-54a76c4bb7aa\")) {                    Plotly.newPlot(                        \"fbe98bc3-cc7f-4c85-a442-54a76c4bb7aa\",                        [{\"marker\": {\"color\": [\"rgb(255, 153, 51)\", \"rgb(55, 128, 191)\", \"rgb(50, 171, 96)\", \"rgb(128, 0, 128)\", \"rgb(219, 64, 82)\", \"rgb(0, 128, 128)\", \"rgb(255, 255, 51)\", \"rgb(128, 128, 0)\", \"rgb(251, 128, 114)\", \"rgb(128, 177, 211)\"], \"line\": {\"width\": 1.3}, \"size\": [88, 62, 62, 87, 75, 32, 65, 77, 80, 42, 51, 52, 41, 72, 69, 110, 84, 68, 61, 79, 76, 82, 60, 71, 94, 38, 41, 67, 70, 66, 74, 30, 73, 86, 62, 29, 89, 77, 104, 91, 64, 58, 64, 55, 85, 47, 70, 57, 75, 85, 68, 56, 84, 81, 74, 76, 79, 71, 56, 99, 78, 47, 58, 40, 57, 45, 58, 60, 68, 65, 68, 83, 75, 77, 68, 52, 70, 98, 63, 64, 72, 66, 50, 50, 66, 74, 112, 64, 58, 63, 63, 71, 47, 82, 74, 84, 58, 76, 55, 12], \"symbol\": \"circle\"}, \"mode\": \"markers\", \"text\": \"\", \"type\": \"scatter\", \"x\": [2.349463736678292, 0.3108666103275385, -0.583059093678768, 0.7435885743025653, 0.5099588098432798, 1.966548109766253, 1.1129898957074027, 0.9611232611901351, -0.8806101014203047, 1.0375710853156552, 0.8845667407050395, 0.35646066025878753, -1.1704649292446916, -0.8484060076978288, -1.328673180495637, -0.6290443312838666, 0.2544498414697697, 0.680348696415441, -0.574757688795644, 0.7873185458279743, 1.092439973790728, -0.33905546810607146, -0.42096026392177893, 2.0117528995759932, -0.11791651021532197, 0.3825425311059134, 0.8719462945865029, -0.01409655835904745, -0.6241638118596583, 0.3075622492359093, 1.2412826092237823, -0.3586456201977495, -1.7082564416376078, -0.7390107854664355, 0.07674312808999541, 0.6621222926702514, -0.5976930309969201, 0.02449196098641207, 1.6507602514940374, -0.7930135621497139, -0.30453355733048615, -0.07763659811971005, 2.1073933548155788, 0.8882738710911402, 0.969196759272263, 2.9340866721007295, 1.3811341499105498, -1.0242821964430902, 0.3922130569684905, 0.33620212753268575, -0.5302585342303152, 0.17890119119824593, 0.019558389885683335, 0.2586508632542788, -0.5882636693456064, 0.4280553780557698, 0.6573994705294567, -2.3258329038234393, -0.6421196396204563, 0.36292251478888504, -1.8104712563800573, -0.7829556928950923, 0.5001903797435958, -0.018774145722104715, -0.016942425665276803, -1.525440739390988, -0.8006457698691762, 0.5296622914630553, -1.8220488470166538, -0.06173198001629492, -0.1642904593185454, -0.7468745036491485, 0.6761936748237967, 1.9478795434010834, 0.4033264043525933, 0.298827194151868, -1.0231861023554405, -0.6546339980700924, -0.4228532658975435, 0.9338488686667084, 0.4194981015674065, -1.2940297969923231, -0.5633240026073197, -1.7315335815688098, 0.03062121319198041, 0.27423303246300695, 0.2591970498434519, -1.8963660993830473, -2.1397656526426228, 1.8661395187606886, 0.5348513410557355, -0.25764763876401997, -0.12581490569591677, 0.9976646067470557, 1.1606409118888894, 0.36809489076520036, -1.099822859422754, -0.9177250385045125, 0.25358679835536085, 1.201352455006568], \"y\": [-0.2423219949389645, -2.706976290388302, 1.2953954200897868, 1.0140749314238602, 0.013848059806591515, 0.5887514333233522, 0.3465406031828833, 1.0611421450054488, 0.6419282667293559, -0.8838581497504631, 0.4148028398283948, -0.6517477223270324, 0.8674115443174526, 0.5489179991817551, 0.6574300852313422, -0.4549444472057328, -0.6706131600173989, -0.5291126040546213, -1.8217365516677237, 1.444721043724773, 0.7590392104277327, -0.09293925013803317, 0.0503972895855374, 0.145007606799687, -1.4809147392137594, -1.7563679027915409, -0.1366478446801668, -0.249880409389546, -1.5092014303269374, -1.2951933581366464, -0.3776816935327316, 1.0500367846007583, 2.0298731333973334, -0.5177442142650164, 0.581326559850293, -1.15614374441983, -1.5974251016007963, -2.069878207551687, 0.34569618335219143, 1.0580442289797154, 1.1143756268125253, 0.6571354815017619, -0.033134048005478076, 0.6500503187731492, 1.804249260594454, 0.8631998455493465, -0.8651144914203226, -0.48603282398988484, -1.7877943468082442, 1.3108090320196126, -1.741348077810631, -0.29830640334535924, 1.4957145372526197, -0.5414125413987575, 0.2455871408269604, 0.27960360946611895, -0.8673052508542467, 0.230103197123487, -0.034143955297715245, 0.06502501025699589, -2.194321449524192, -0.1632314690482964, -0.9880534457273676, -0.29926393381783994, 0.29366069873202544, -0.8723884495437727, 7.053549891964815e-05, -1.3105748100582921, 1.4652962429346243, -0.7303225872571056, 0.7981774297351967, 0.8611213956410901, 0.02222822235287305, 0.6600086924732197, -2.6409659803744203, -0.5348090955409671, 1.075407406047104, 0.7052304529529135, -0.045799926817225264, -0.4760153334720511, -1.3587210895550077, -0.5272599116076675, -0.18591988363725706, 0.6091872034069954, 0.2668676271844891, 0.10318620801740346, -0.8599520266992087, 0.6605329680149644, 0.5344677366032592, 0.12479350332966131, -0.214626583134152, -0.45984866368511523, -0.9255916206161602, 0.3393940004328594, -0.8931237996637412, 0.8724502332921894, -0.2837812299787633, -0.4374598153438439, 0.2803366464933947, 0.26179862710883917]}],                        {\"legend\": {\"bgcolor\": \"#F5F6F9\", \"font\": {\"color\": \"#4D5663\"}}, \"paper_bgcolor\": \"#F5F6F9\", \"plot_bgcolor\": \"#F5F6F9\", \"template\": {\"data\": {\"bar\": [{\"error_x\": {\"color\": \"#2a3f5f\"}, \"error_y\": {\"color\": \"#2a3f5f\"}, \"marker\": {\"line\": {\"color\": \"#E5ECF6\", \"width\": 0.5}}, \"type\": \"bar\"}], \"barpolar\": [{\"marker\": {\"line\": {\"color\": \"#E5ECF6\", \"width\": 0.5}}, \"type\": \"barpolar\"}], \"carpet\": [{\"aaxis\": {\"endlinecolor\": \"#2a3f5f\", \"gridcolor\": \"white\", \"linecolor\": \"white\", \"minorgridcolor\": \"white\", \"startlinecolor\": \"#2a3f5f\"}, \"baxis\": {\"endlinecolor\": \"#2a3f5f\", \"gridcolor\": \"white\", \"linecolor\": \"white\", \"minorgridcolor\": \"white\", \"startlinecolor\": \"#2a3f5f\"}, \"type\": \"carpet\"}], \"choropleth\": [{\"colorbar\": {\"outlinewidth\": 0, \"ticks\": \"\"}, \"type\": \"choropleth\"}], \"contour\": [{\"colorbar\": {\"outlinewidth\": 0, \"ticks\": \"\"}, \"colorscale\": [[0.0, \"#0d0887\"], [0.1111111111111111, \"#46039f\"], [0.2222222222222222, \"#7201a8\"], [0.3333333333333333, \"#9c179e\"], [0.4444444444444444, \"#bd3786\"], [0.5555555555555556, \"#d8576b\"], [0.6666666666666666, \"#ed7953\"], [0.7777777777777778, \"#fb9f3a\"], [0.8888888888888888, \"#fdca26\"], [1.0, \"#f0f921\"]], \"type\": \"contour\"}], \"contourcarpet\": [{\"colorbar\": {\"outlinewidth\": 0, \"ticks\": \"\"}, \"type\": \"contourcarpet\"}], \"heatmap\": [{\"colorbar\": {\"outlinewidth\": 0, \"ticks\": \"\"}, \"colorscale\": [[0.0, \"#0d0887\"], [0.1111111111111111, \"#46039f\"], [0.2222222222222222, \"#7201a8\"], [0.3333333333333333, \"#9c179e\"], [0.4444444444444444, \"#bd3786\"], [0.5555555555555556, \"#d8576b\"], [0.6666666666666666, \"#ed7953\"], [0.7777777777777778, \"#fb9f3a\"], [0.8888888888888888, \"#fdca26\"], [1.0, \"#f0f921\"]], \"type\": \"heatmap\"}], \"heatmapgl\": [{\"colorbar\": {\"outlinewidth\": 0, \"ticks\": \"\"}, \"colorscale\": [[0.0, \"#0d0887\"], [0.1111111111111111, \"#46039f\"], [0.2222222222222222, \"#7201a8\"], [0.3333333333333333, \"#9c179e\"], [0.4444444444444444, \"#bd3786\"], [0.5555555555555556, \"#d8576b\"], [0.6666666666666666, \"#ed7953\"], [0.7777777777777778, \"#fb9f3a\"], [0.8888888888888888, \"#fdca26\"], [1.0, \"#f0f921\"]], \"type\": \"heatmapgl\"}], \"histogram\": [{\"marker\": {\"colorbar\": {\"outlinewidth\": 0, \"ticks\": \"\"}}, \"type\": \"histogram\"}], \"histogram2d\": [{\"colorbar\": {\"outlinewidth\": 0, \"ticks\": \"\"}, \"colorscale\": [[0.0, \"#0d0887\"], [0.1111111111111111, \"#46039f\"], [0.2222222222222222, \"#7201a8\"], [0.3333333333333333, \"#9c179e\"], [0.4444444444444444, \"#bd3786\"], [0.5555555555555556, \"#d8576b\"], [0.6666666666666666, \"#ed7953\"], [0.7777777777777778, \"#fb9f3a\"], [0.8888888888888888, \"#fdca26\"], [1.0, \"#f0f921\"]], \"type\": \"histogram2d\"}], \"histogram2dcontour\": [{\"colorbar\": {\"outlinewidth\": 0, \"ticks\": \"\"}, \"colorscale\": [[0.0, \"#0d0887\"], [0.1111111111111111, \"#46039f\"], [0.2222222222222222, \"#7201a8\"], [0.3333333333333333, \"#9c179e\"], [0.4444444444444444, \"#bd3786\"], [0.5555555555555556, \"#d8576b\"], [0.6666666666666666, \"#ed7953\"], [0.7777777777777778, \"#fb9f3a\"], [0.8888888888888888, \"#fdca26\"], [1.0, \"#f0f921\"]], \"type\": \"histogram2dcontour\"}], \"mesh3d\": [{\"colorbar\": {\"outlinewidth\": 0, \"ticks\": \"\"}, \"type\": \"mesh3d\"}], \"parcoords\": [{\"line\": {\"colorbar\": {\"outlinewidth\": 0, \"ticks\": \"\"}}, \"type\": \"parcoords\"}], \"pie\": [{\"automargin\": true, \"type\": \"pie\"}], \"scatter\": [{\"marker\": {\"colorbar\": {\"outlinewidth\": 0, \"ticks\": \"\"}}, \"type\": \"scatter\"}], \"scatter3d\": [{\"line\": {\"colorbar\": {\"outlinewidth\": 0, \"ticks\": \"\"}}, \"marker\": {\"colorbar\": {\"outlinewidth\": 0, \"ticks\": \"\"}}, \"type\": \"scatter3d\"}], \"scattercarpet\": [{\"marker\": {\"colorbar\": {\"outlinewidth\": 0, \"ticks\": \"\"}}, \"type\": \"scattercarpet\"}], \"scattergeo\": [{\"marker\": {\"colorbar\": {\"outlinewidth\": 0, \"ticks\": \"\"}}, \"type\": \"scattergeo\"}], \"scattergl\": [{\"marker\": {\"colorbar\": {\"outlinewidth\": 0, \"ticks\": \"\"}}, \"type\": \"scattergl\"}], \"scattermapbox\": [{\"marker\": {\"colorbar\": {\"outlinewidth\": 0, \"ticks\": \"\"}}, \"type\": \"scattermapbox\"}], \"scatterpolar\": [{\"marker\": {\"colorbar\": {\"outlinewidth\": 0, \"ticks\": \"\"}}, \"type\": \"scatterpolar\"}], \"scatterpolargl\": [{\"marker\": {\"colorbar\": {\"outlinewidth\": 0, \"ticks\": \"\"}}, \"type\": \"scatterpolargl\"}], \"scatterternary\": [{\"marker\": {\"colorbar\": {\"outlinewidth\": 0, \"ticks\": \"\"}}, \"type\": \"scatterternary\"}], \"surface\": [{\"colorbar\": {\"outlinewidth\": 0, \"ticks\": \"\"}, \"colorscale\": [[0.0, \"#0d0887\"], [0.1111111111111111, \"#46039f\"], [0.2222222222222222, \"#7201a8\"], [0.3333333333333333, \"#9c179e\"], [0.4444444444444444, \"#bd3786\"], [0.5555555555555556, \"#d8576b\"], [0.6666666666666666, \"#ed7953\"], [0.7777777777777778, \"#fb9f3a\"], [0.8888888888888888, \"#fdca26\"], [1.0, \"#f0f921\"]], \"type\": \"surface\"}], \"table\": [{\"cells\": {\"fill\": {\"color\": \"#EBF0F8\"}, \"line\": {\"color\": \"white\"}}, \"header\": {\"fill\": {\"color\": \"#C8D4E3\"}, \"line\": {\"color\": \"white\"}}, \"type\": \"table\"}]}, \"layout\": {\"annotationdefaults\": {\"arrowcolor\": \"#2a3f5f\", \"arrowhead\": 0, \"arrowwidth\": 1}, \"coloraxis\": {\"colorbar\": {\"outlinewidth\": 0, \"ticks\": \"\"}}, \"colorscale\": {\"diverging\": [[0, \"#8e0152\"], [0.1, \"#c51b7d\"], [0.2, \"#de77ae\"], [0.3, \"#f1b6da\"], [0.4, \"#fde0ef\"], [0.5, \"#f7f7f7\"], [0.6, \"#e6f5d0\"], [0.7, \"#b8e186\"], [0.8, \"#7fbc41\"], [0.9, \"#4d9221\"], [1, \"#276419\"]], \"sequential\": [[0.0, \"#0d0887\"], [0.1111111111111111, \"#46039f\"], [0.2222222222222222, \"#7201a8\"], [0.3333333333333333, \"#9c179e\"], [0.4444444444444444, \"#bd3786\"], [0.5555555555555556, \"#d8576b\"], [0.6666666666666666, \"#ed7953\"], [0.7777777777777778, \"#fb9f3a\"], [0.8888888888888888, \"#fdca26\"], [1.0, \"#f0f921\"]], \"sequentialminus\": [[0.0, \"#0d0887\"], [0.1111111111111111, \"#46039f\"], [0.2222222222222222, \"#7201a8\"], [0.3333333333333333, \"#9c179e\"], [0.4444444444444444, \"#bd3786\"], [0.5555555555555556, \"#d8576b\"], [0.6666666666666666, \"#ed7953\"], [0.7777777777777778, \"#fb9f3a\"], [0.8888888888888888, \"#fdca26\"], [1.0, \"#f0f921\"]]}, \"colorway\": [\"#636efa\", \"#EF553B\", \"#00cc96\", \"#ab63fa\", \"#FFA15A\", \"#19d3f3\", \"#FF6692\", \"#B6E880\", \"#FF97FF\", \"#FECB52\"], \"font\": {\"color\": \"#2a3f5f\"}, \"geo\": {\"bgcolor\": \"white\", \"lakecolor\": \"white\", \"landcolor\": \"#E5ECF6\", \"showlakes\": true, \"showland\": true, \"subunitcolor\": \"white\"}, \"hoverlabel\": {\"align\": \"left\"}, \"hovermode\": \"closest\", \"mapbox\": {\"style\": \"light\"}, \"paper_bgcolor\": \"white\", \"plot_bgcolor\": \"#E5ECF6\", \"polar\": {\"angularaxis\": {\"gridcolor\": \"white\", \"linecolor\": \"white\", \"ticks\": \"\"}, \"bgcolor\": \"#E5ECF6\", \"radialaxis\": {\"gridcolor\": \"white\", \"linecolor\": \"white\", \"ticks\": \"\"}}, \"scene\": {\"xaxis\": {\"backgroundcolor\": \"#E5ECF6\", \"gridcolor\": \"white\", \"gridwidth\": 2, \"linecolor\": \"white\", \"showbackground\": true, \"ticks\": \"\", \"zerolinecolor\": \"white\"}, \"yaxis\": {\"backgroundcolor\": \"#E5ECF6\", \"gridcolor\": \"white\", \"gridwidth\": 2, \"linecolor\": \"white\", \"showbackground\": true, \"ticks\": \"\", \"zerolinecolor\": \"white\"}, \"zaxis\": {\"backgroundcolor\": \"#E5ECF6\", \"gridcolor\": \"white\", \"gridwidth\": 2, \"linecolor\": \"white\", \"showbackground\": true, \"ticks\": \"\", \"zerolinecolor\": \"white\"}}, \"shapedefaults\": {\"line\": {\"color\": \"#2a3f5f\"}}, \"ternary\": {\"aaxis\": {\"gridcolor\": \"white\", \"linecolor\": \"white\", \"ticks\": \"\"}, \"baxis\": {\"gridcolor\": \"white\", \"linecolor\": \"white\", \"ticks\": \"\"}, \"bgcolor\": \"#E5ECF6\", \"caxis\": {\"gridcolor\": \"white\", \"linecolor\": \"white\", \"ticks\": \"\"}}, \"title\": {\"x\": 0.05}, \"xaxis\": {\"automargin\": true, \"gridcolor\": \"white\", \"linecolor\": \"white\", \"ticks\": \"\", \"title\": {\"standoff\": 15}, \"zerolinecolor\": \"white\", \"zerolinewidth\": 2}, \"yaxis\": {\"automargin\": true, \"gridcolor\": \"white\", \"linecolor\": \"white\", \"ticks\": \"\", \"title\": {\"standoff\": 15}, \"zerolinecolor\": \"white\", \"zerolinewidth\": 2}}}, \"title\": {\"font\": {\"color\": \"#4D5663\"}}, \"xaxis\": {\"gridcolor\": \"#E1E5ED\", \"showgrid\": true, \"tickfont\": {\"color\": \"#4D5663\"}, \"title\": {\"font\": {\"color\": \"#4D5663\"}, \"text\": \"\"}, \"zerolinecolor\": \"#E1E5ED\"}, \"yaxis\": {\"gridcolor\": \"#E1E5ED\", \"showgrid\": true, \"tickfont\": {\"color\": \"#4D5663\"}, \"title\": {\"font\": {\"color\": \"#4D5663\"}, \"text\": \"\"}, \"zerolinecolor\": \"#E1E5ED\"}},                        {\"showLink\": true, \"linkText\": \"Export to plot.ly\", \"plotlyServerURL\": \"https://plot.ly\", \"responsive\": true}                    ).then(function(){\n",
       "                            \n",
       "var gd = document.getElementById('fbe98bc3-cc7f-4c85-a442-54a76c4bb7aa');\n",
       "var x = new MutationObserver(function (mutations, observer) {{\n",
       "        var display = window.getComputedStyle(gd).display;\n",
       "        if (!display || display === 'none') {{\n",
       "            console.log([gd, 'removed!']);\n",
       "            Plotly.purge(gd);\n",
       "            observer.disconnect();\n",
       "        }}\n",
       "}});\n",
       "\n",
       "// Listen for the removal of the full notebook cells\n",
       "var notebookContainer = gd.closest('#notebook-container');\n",
       "if (notebookContainer) {{\n",
       "    x.observe(notebookContainer, {childList: true});\n",
       "}}\n",
       "\n",
       "// Listen for the clearing of the current output cell\n",
       "var outputEl = gd.closest('.output');\n",
       "if (outputEl) {{\n",
       "    x.observe(outputEl, {childList: true});\n",
       "}}\n",
       "\n",
       "                        })                };                });            </script>        </div>"
      ]
     },
     "metadata": {},
     "output_type": "display_data"
    }
   ],
   "source": [
    "df.iplot(kind='bubble',x='A',y='B',size='C')"
   ]
  },
  {
   "cell_type": "markdown",
   "metadata": {},
   "source": [
    "## scatter_matrix()\n",
    "\n",
    "Similar to sns.pairplot()"
   ]
  },
  {
   "cell_type": "code",
   "execution_count": 36,
   "metadata": {},
   "outputs": [
    {
     "data": {
      "application/vnd.plotly.v1+json": {
       "config": {
        "linkText": "Export to plot.ly",
        "plotlyServerURL": "https://plot.ly",
        "showLink": true
       },
       "data": [
        {
         "histfunc": "count",
         "histnorm": "",
         "marker": {
          "color": "rgba(255, 153, 51, 1.0)",
          "line": {
           "color": "#4D5663",
           "width": 1.3
          }
         },
         "name": "A",
         "nbinsx": 10,
         "opacity": 0.8,
         "orientation": "v",
         "type": "histogram",
         "x": [
          2.349463736678292,
          0.3108666103275385,
          -0.583059093678768,
          0.7435885743025653,
          0.5099588098432798,
          1.966548109766253,
          1.1129898957074027,
          0.9611232611901351,
          -0.8806101014203047,
          1.0375710853156552,
          0.8845667407050395,
          0.35646066025878753,
          -1.1704649292446916,
          -0.8484060076978288,
          -1.328673180495637,
          -0.6290443312838666,
          0.2544498414697697,
          0.680348696415441,
          -0.574757688795644,
          0.7873185458279743,
          1.092439973790728,
          -0.33905546810607146,
          -0.42096026392177893,
          2.0117528995759932,
          -0.11791651021532197,
          0.3825425311059134,
          0.8719462945865029,
          -0.01409655835904745,
          -0.6241638118596583,
          0.3075622492359093,
          1.2412826092237823,
          -0.3586456201977495,
          -1.7082564416376078,
          -0.7390107854664355,
          0.07674312808999541,
          0.6621222926702514,
          -0.5976930309969201,
          0.02449196098641207,
          1.6507602514940374,
          -0.7930135621497139,
          -0.30453355733048615,
          -0.07763659811971005,
          2.1073933548155788,
          0.8882738710911402,
          0.969196759272263,
          2.9340866721007295,
          1.3811341499105498,
          -1.0242821964430902,
          0.3922130569684905,
          0.33620212753268575,
          -0.5302585342303152,
          0.17890119119824593,
          0.019558389885683335,
          0.2586508632542788,
          -0.5882636693456064,
          0.4280553780557698,
          0.6573994705294567,
          -2.3258329038234393,
          -0.6421196396204563,
          0.36292251478888504,
          -1.8104712563800573,
          -0.7829556928950923,
          0.5001903797435958,
          -0.018774145722104715,
          -0.016942425665276803,
          -1.525440739390988,
          -0.8006457698691762,
          0.5296622914630553,
          -1.8220488470166538,
          -0.06173198001629492,
          -0.1642904593185454,
          -0.7468745036491485,
          0.6761936748237967,
          1.9478795434010834,
          0.4033264043525933,
          0.298827194151868,
          -1.0231861023554405,
          -0.6546339980700924,
          -0.4228532658975435,
          0.9338488686667084,
          0.4194981015674065,
          -1.2940297969923231,
          -0.5633240026073197,
          -1.7315335815688098,
          0.03062121319198041,
          0.27423303246300695,
          0.2591970498434519,
          -1.8963660993830473,
          -2.1397656526426228,
          1.8661395187606886,
          0.5348513410557355,
          -0.25764763876401997,
          -0.12581490569591677,
          0.9976646067470557,
          1.1606409118888894,
          0.36809489076520036,
          -1.099822859422754,
          -0.9177250385045125,
          0.25358679835536085,
          1.201352455006568
         ],
         "xaxis": "x",
         "yaxis": "y"
        },
        {
         "line": {
          "color": "rgba(128, 128, 128, 1.0)",
          "dash": "solid",
          "shape": "linear",
          "width": 1.3
         },
         "marker": {
          "size": 2,
          "symbol": "circle"
         },
         "mode": "markers",
         "name": "A",
         "text": "",
         "type": "scatter",
         "x": [
          -0.2423219949389645,
          -2.706976290388302,
          1.2953954200897868,
          1.0140749314238602,
          0.013848059806591515,
          0.5887514333233522,
          0.3465406031828833,
          1.0611421450054488,
          0.6419282667293559,
          -0.8838581497504631,
          0.4148028398283948,
          -0.6517477223270324,
          0.8674115443174526,
          0.5489179991817551,
          0.6574300852313422,
          -0.4549444472057328,
          -0.6706131600173989,
          -0.5291126040546213,
          -1.8217365516677237,
          1.444721043724773,
          0.7590392104277327,
          -0.09293925013803317,
          0.0503972895855374,
          0.145007606799687,
          -1.4809147392137594,
          -1.7563679027915409,
          -0.1366478446801668,
          -0.249880409389546,
          -1.5092014303269374,
          -1.2951933581366464,
          -0.3776816935327316,
          1.0500367846007583,
          2.0298731333973334,
          -0.5177442142650164,
          0.581326559850293,
          -1.15614374441983,
          -1.5974251016007963,
          -2.069878207551687,
          0.34569618335219143,
          1.0580442289797154,
          1.1143756268125253,
          0.6571354815017619,
          -0.033134048005478076,
          0.6500503187731492,
          1.804249260594454,
          0.8631998455493465,
          -0.8651144914203226,
          -0.48603282398988484,
          -1.7877943468082442,
          1.3108090320196126,
          -1.741348077810631,
          -0.29830640334535924,
          1.4957145372526197,
          -0.5414125413987575,
          0.2455871408269604,
          0.27960360946611895,
          -0.8673052508542467,
          0.230103197123487,
          -0.034143955297715245,
          0.06502501025699589,
          -2.194321449524192,
          -0.1632314690482964,
          -0.9880534457273676,
          -0.29926393381783994,
          0.29366069873202544,
          -0.8723884495437727,
          7.053549891964815e-05,
          -1.3105748100582921,
          1.4652962429346243,
          -0.7303225872571056,
          0.7981774297351967,
          0.8611213956410901,
          0.02222822235287305,
          0.6600086924732197,
          -2.6409659803744203,
          -0.5348090955409671,
          1.075407406047104,
          0.7052304529529135,
          -0.045799926817225264,
          -0.4760153334720511,
          -1.3587210895550077,
          -0.5272599116076675,
          -0.18591988363725706,
          0.6091872034069954,
          0.2668676271844891,
          0.10318620801740346,
          -0.8599520266992087,
          0.6605329680149644,
          0.5344677366032592,
          0.12479350332966131,
          -0.214626583134152,
          -0.45984866368511523,
          -0.9255916206161602,
          0.3393940004328594,
          -0.8931237996637412,
          0.8724502332921894,
          -0.2837812299787633,
          -0.4374598153438439,
          0.2803366464933947,
          0.26179862710883917
         ],
         "xaxis": "x2",
         "y": [
          2.349463736678292,
          0.3108666103275385,
          -0.583059093678768,
          0.7435885743025653,
          0.5099588098432798,
          1.966548109766253,
          1.1129898957074027,
          0.9611232611901351,
          -0.8806101014203047,
          1.0375710853156552,
          0.8845667407050395,
          0.35646066025878753,
          -1.1704649292446916,
          -0.8484060076978288,
          -1.328673180495637,
          -0.6290443312838666,
          0.2544498414697697,
          0.680348696415441,
          -0.574757688795644,
          0.7873185458279743,
          1.092439973790728,
          -0.33905546810607146,
          -0.42096026392177893,
          2.0117528995759932,
          -0.11791651021532197,
          0.3825425311059134,
          0.8719462945865029,
          -0.01409655835904745,
          -0.6241638118596583,
          0.3075622492359093,
          1.2412826092237823,
          -0.3586456201977495,
          -1.7082564416376078,
          -0.7390107854664355,
          0.07674312808999541,
          0.6621222926702514,
          -0.5976930309969201,
          0.02449196098641207,
          1.6507602514940374,
          -0.7930135621497139,
          -0.30453355733048615,
          -0.07763659811971005,
          2.1073933548155788,
          0.8882738710911402,
          0.969196759272263,
          2.9340866721007295,
          1.3811341499105498,
          -1.0242821964430902,
          0.3922130569684905,
          0.33620212753268575,
          -0.5302585342303152,
          0.17890119119824593,
          0.019558389885683335,
          0.2586508632542788,
          -0.5882636693456064,
          0.4280553780557698,
          0.6573994705294567,
          -2.3258329038234393,
          -0.6421196396204563,
          0.36292251478888504,
          -1.8104712563800573,
          -0.7829556928950923,
          0.5001903797435958,
          -0.018774145722104715,
          -0.016942425665276803,
          -1.525440739390988,
          -0.8006457698691762,
          0.5296622914630553,
          -1.8220488470166538,
          -0.06173198001629492,
          -0.1642904593185454,
          -0.7468745036491485,
          0.6761936748237967,
          1.9478795434010834,
          0.4033264043525933,
          0.298827194151868,
          -1.0231861023554405,
          -0.6546339980700924,
          -0.4228532658975435,
          0.9338488686667084,
          0.4194981015674065,
          -1.2940297969923231,
          -0.5633240026073197,
          -1.7315335815688098,
          0.03062121319198041,
          0.27423303246300695,
          0.2591970498434519,
          -1.8963660993830473,
          -2.1397656526426228,
          1.8661395187606886,
          0.5348513410557355,
          -0.25764763876401997,
          -0.12581490569591677,
          0.9976646067470557,
          1.1606409118888894,
          0.36809489076520036,
          -1.099822859422754,
          -0.9177250385045125,
          0.25358679835536085,
          1.201352455006568
         ],
         "yaxis": "y2"
        },
        {
         "line": {
          "color": "rgba(128, 128, 128, 1.0)",
          "dash": "solid",
          "shape": "linear",
          "width": 1.3
         },
         "marker": {
          "size": 2,
          "symbol": "circle"
         },
         "mode": "markers",
         "name": "A",
         "text": "",
         "type": "scatter",
         "x": [
          1.103658168134268,
          -0.3591088057803075,
          -0.39060885058482625,
          1.0268389213825342,
          0.37525317401950337,
          -2.109469003401564,
          -0.20464412500906481,
          0.4709910960187212,
          0.6287484177487179,
          -1.4947669821370941,
          -1.0124759754143848,
          -0.9722740393288398,
          -1.5541079267131352,
          0.18491719299716675,
          0.028119880180558547,
          2.3776005952965362,
          0.8573971393446435,
          -0.02148420174929133,
          -0.45998947752687247,
          0.5957525359019503,
          0.42868799601669605,
          0.7522958399273246,
          -0.49506521581813334,
          0.12601821179138653,
          1.4574891866522441,
          -1.7215547273696028,
          -1.5905736673555888,
          -0.08493535149222459,
          0.06496327297522027,
          -0.12813636887578705,
          0.28089419838819085,
          -2.22968789372741,
          0.25048100303795545,
          0.9615338543155373,
          -0.39711225120710925,
          -2.269571685423856,
          1.1568173419045844,
          0.4830963370006128,
          2.0361871176081685,
          1.249037640098134,
          -0.26404672112272726,
          -0.6160132531200296,
          -0.29058781797725597,
          -0.7819412809390804,
          0.9325898047411016,
          -1.248224919284687,
          0.053803513107677524,
          -0.6606674441009643,
          0.34565063400087503,
          0.9077877065224605,
          -0.021583367642827422,
          -0.7247665633539977,
          0.872426561390276,
          0.7165237426575491,
          0.32440912134482014,
          0.39073465783120026,
          0.5709309785083928,
          0.11677062319825496,
          -0.742717177244977,
          1.7369798914556978,
          0.5309709593612433,
          -1.241465193517055,
          -0.6025792967295633,
          -1.6453621669374718,
          -0.6721592145286471,
          -1.3684956379017843,
          -0.6261797443735899,
          -0.4890437448378885,
          -0.019936658527059052,
          -0.18380202921880426,
          -0.018236856700445732,
          0.7905387036050214,
          0.35619125433181986,
          0.46153025865065106,
          -0.03517838747668369,
          -0.9684572558943861,
          0.09096584912354647,
          1.6866211951501633,
          -0.331233380098675,
          -0.24980786580545983,
          0.16436980245966032,
          -0.17259158419807735,
          -1.0513468106314208,
          -1.091385709533513,
          -0.1547383751541822,
          0.32087139391854236,
          2.4415085901880906,
          -0.2617359298758687,
          -0.6257854770218316,
          -0.3516834199114664,
          -0.320363164803975,
          0.13163592592333345,
          -1.233696526228249,
          0.7635946201193746,
          0.3269417343002411,
          0.8925788709670148,
          -0.6336563558149579,
          0.399487532254476,
          -0.7715119697934507,
          -3.259319388606262
         ],
         "xaxis": "x3",
         "y": [
          2.349463736678292,
          0.3108666103275385,
          -0.583059093678768,
          0.7435885743025653,
          0.5099588098432798,
          1.966548109766253,
          1.1129898957074027,
          0.9611232611901351,
          -0.8806101014203047,
          1.0375710853156552,
          0.8845667407050395,
          0.35646066025878753,
          -1.1704649292446916,
          -0.8484060076978288,
          -1.328673180495637,
          -0.6290443312838666,
          0.2544498414697697,
          0.680348696415441,
          -0.574757688795644,
          0.7873185458279743,
          1.092439973790728,
          -0.33905546810607146,
          -0.42096026392177893,
          2.0117528995759932,
          -0.11791651021532197,
          0.3825425311059134,
          0.8719462945865029,
          -0.01409655835904745,
          -0.6241638118596583,
          0.3075622492359093,
          1.2412826092237823,
          -0.3586456201977495,
          -1.7082564416376078,
          -0.7390107854664355,
          0.07674312808999541,
          0.6621222926702514,
          -0.5976930309969201,
          0.02449196098641207,
          1.6507602514940374,
          -0.7930135621497139,
          -0.30453355733048615,
          -0.07763659811971005,
          2.1073933548155788,
          0.8882738710911402,
          0.969196759272263,
          2.9340866721007295,
          1.3811341499105498,
          -1.0242821964430902,
          0.3922130569684905,
          0.33620212753268575,
          -0.5302585342303152,
          0.17890119119824593,
          0.019558389885683335,
          0.2586508632542788,
          -0.5882636693456064,
          0.4280553780557698,
          0.6573994705294567,
          -2.3258329038234393,
          -0.6421196396204563,
          0.36292251478888504,
          -1.8104712563800573,
          -0.7829556928950923,
          0.5001903797435958,
          -0.018774145722104715,
          -0.016942425665276803,
          -1.525440739390988,
          -0.8006457698691762,
          0.5296622914630553,
          -1.8220488470166538,
          -0.06173198001629492,
          -0.1642904593185454,
          -0.7468745036491485,
          0.6761936748237967,
          1.9478795434010834,
          0.4033264043525933,
          0.298827194151868,
          -1.0231861023554405,
          -0.6546339980700924,
          -0.4228532658975435,
          0.9338488686667084,
          0.4194981015674065,
          -1.2940297969923231,
          -0.5633240026073197,
          -1.7315335815688098,
          0.03062121319198041,
          0.27423303246300695,
          0.2591970498434519,
          -1.8963660993830473,
          -2.1397656526426228,
          1.8661395187606886,
          0.5348513410557355,
          -0.25764763876401997,
          -0.12581490569591677,
          0.9976646067470557,
          1.1606409118888894,
          0.36809489076520036,
          -1.099822859422754,
          -0.9177250385045125,
          0.25358679835536085,
          1.201352455006568
         ],
         "yaxis": "y3"
        },
        {
         "line": {
          "color": "rgba(128, 128, 128, 1.0)",
          "dash": "solid",
          "shape": "linear",
          "width": 1.3
         },
         "marker": {
          "size": 2,
          "symbol": "circle"
         },
         "mode": "markers",
         "name": "A",
         "text": "",
         "type": "scatter",
         "x": [
          0.13612114760371338,
          0.6973809335728574,
          -0.7078758752611267,
          0.6262366779100164,
          0.10309974527505125,
          0.33139722516369724,
          0.36747892499629925,
          0.14251274089392624,
          -0.3588829955398141,
          0.10467854448179542,
          1.6140894670139114,
          -0.807945320943562,
          -1.0420086179718775,
          0.044574600499717495,
          -0.2664971772031081,
          -2.4812531120189285,
          -1.080941965525086,
          -0.19575290678697635,
          -1.2578476709974478,
          1.58505312670216,
          1.4328232815234367,
          0.9752077333888645,
          1.2279930469858122,
          0.13178858541821573,
          0.3742348234381564,
          0.04543290517656309,
          0.5311260012000816,
          0.9343403122363072,
          0.5109688717695492,
          -0.6825683338201282,
          -0.24525398660750747,
          1.8173355000295484,
          1.4073989730798007,
          -0.7431687038635622,
          0.2853400704002939,
          1.4154767998867828,
          -1.964545093385441,
          -0.852961533326378,
          1.5629854943063615,
          -1.3223543936624362,
          -0.8164482851839465,
          -1.4188626138402483,
          0.37464481201986305,
          0.08456490382466485,
          -0.07127922648486712,
          -0.5809207986239819,
          0.46946167499485436,
          -0.15164854159165395,
          0.21360368717392758,
          -0.16690076482986899,
          -0.7466562109715402,
          -1.291552986185833,
          -1.0420301161391392,
          -1.747297929276348,
          1.6960273414509288,
          -0.6456775949581188,
          0.8675577175843852,
          -0.6762811519015643,
          0.9392232028456343,
          -0.8759664361760314,
          0.06565776481397993,
          1.4656288430837245,
          0.6987710271990012,
          -1.5108558578622469,
          -1.6629308595281154,
          -0.20042999267648046,
          1.5514440154435116,
          -0.061982164613740794,
          -0.29288507626148663,
          -0.8163051949790358,
          -1.820449719594646,
          -0.5936425846671212,
          -0.634722662247593,
          0.9865657095730139,
          0.8901264886476777,
          0.5881686543501173,
          0.43695832742984364,
          0.2759751644781517,
          -1.0199650974737116,
          0.8347514102951381,
          -0.2316245289196427,
          -2.315838601291783,
          0.5024980167261636,
          -0.08939173471736825,
          0.17862045583046832,
          -0.5218627240092527,
          -1.4070595618366213,
          0.2739386762089091,
          0.16785113370242663,
          -0.12606885515384725,
          -0.8750221815908387,
          -0.7041764705971845,
          1.0903752225195904,
          1.5725212145746215,
          -0.2637854623464598,
          0.447650226918602,
          -0.7554874412199926,
          -0.715835589846943,
          0.08556869339935512,
          -0.47792133449636676
         ],
         "xaxis": "x4",
         "y": [
          2.349463736678292,
          0.3108666103275385,
          -0.583059093678768,
          0.7435885743025653,
          0.5099588098432798,
          1.966548109766253,
          1.1129898957074027,
          0.9611232611901351,
          -0.8806101014203047,
          1.0375710853156552,
          0.8845667407050395,
          0.35646066025878753,
          -1.1704649292446916,
          -0.8484060076978288,
          -1.328673180495637,
          -0.6290443312838666,
          0.2544498414697697,
          0.680348696415441,
          -0.574757688795644,
          0.7873185458279743,
          1.092439973790728,
          -0.33905546810607146,
          -0.42096026392177893,
          2.0117528995759932,
          -0.11791651021532197,
          0.3825425311059134,
          0.8719462945865029,
          -0.01409655835904745,
          -0.6241638118596583,
          0.3075622492359093,
          1.2412826092237823,
          -0.3586456201977495,
          -1.7082564416376078,
          -0.7390107854664355,
          0.07674312808999541,
          0.6621222926702514,
          -0.5976930309969201,
          0.02449196098641207,
          1.6507602514940374,
          -0.7930135621497139,
          -0.30453355733048615,
          -0.07763659811971005,
          2.1073933548155788,
          0.8882738710911402,
          0.969196759272263,
          2.9340866721007295,
          1.3811341499105498,
          -1.0242821964430902,
          0.3922130569684905,
          0.33620212753268575,
          -0.5302585342303152,
          0.17890119119824593,
          0.019558389885683335,
          0.2586508632542788,
          -0.5882636693456064,
          0.4280553780557698,
          0.6573994705294567,
          -2.3258329038234393,
          -0.6421196396204563,
          0.36292251478888504,
          -1.8104712563800573,
          -0.7829556928950923,
          0.5001903797435958,
          -0.018774145722104715,
          -0.016942425665276803,
          -1.525440739390988,
          -0.8006457698691762,
          0.5296622914630553,
          -1.8220488470166538,
          -0.06173198001629492,
          -0.1642904593185454,
          -0.7468745036491485,
          0.6761936748237967,
          1.9478795434010834,
          0.4033264043525933,
          0.298827194151868,
          -1.0231861023554405,
          -0.6546339980700924,
          -0.4228532658975435,
          0.9338488686667084,
          0.4194981015674065,
          -1.2940297969923231,
          -0.5633240026073197,
          -1.7315335815688098,
          0.03062121319198041,
          0.27423303246300695,
          0.2591970498434519,
          -1.8963660993830473,
          -2.1397656526426228,
          1.8661395187606886,
          0.5348513410557355,
          -0.25764763876401997,
          -0.12581490569591677,
          0.9976646067470557,
          1.1606409118888894,
          0.36809489076520036,
          -1.099822859422754,
          -0.9177250385045125,
          0.25358679835536085,
          1.201352455006568
         ],
         "yaxis": "y4"
        },
        {
         "line": {
          "color": "rgba(128, 128, 128, 1.0)",
          "dash": "solid",
          "shape": "linear",
          "width": 1.3
         },
         "marker": {
          "size": 2,
          "symbol": "circle"
         },
         "mode": "markers",
         "name": "B",
         "text": "",
         "type": "scatter",
         "x": [
          2.349463736678292,
          0.3108666103275385,
          -0.583059093678768,
          0.7435885743025653,
          0.5099588098432798,
          1.966548109766253,
          1.1129898957074027,
          0.9611232611901351,
          -0.8806101014203047,
          1.0375710853156552,
          0.8845667407050395,
          0.35646066025878753,
          -1.1704649292446916,
          -0.8484060076978288,
          -1.328673180495637,
          -0.6290443312838666,
          0.2544498414697697,
          0.680348696415441,
          -0.574757688795644,
          0.7873185458279743,
          1.092439973790728,
          -0.33905546810607146,
          -0.42096026392177893,
          2.0117528995759932,
          -0.11791651021532197,
          0.3825425311059134,
          0.8719462945865029,
          -0.01409655835904745,
          -0.6241638118596583,
          0.3075622492359093,
          1.2412826092237823,
          -0.3586456201977495,
          -1.7082564416376078,
          -0.7390107854664355,
          0.07674312808999541,
          0.6621222926702514,
          -0.5976930309969201,
          0.02449196098641207,
          1.6507602514940374,
          -0.7930135621497139,
          -0.30453355733048615,
          -0.07763659811971005,
          2.1073933548155788,
          0.8882738710911402,
          0.969196759272263,
          2.9340866721007295,
          1.3811341499105498,
          -1.0242821964430902,
          0.3922130569684905,
          0.33620212753268575,
          -0.5302585342303152,
          0.17890119119824593,
          0.019558389885683335,
          0.2586508632542788,
          -0.5882636693456064,
          0.4280553780557698,
          0.6573994705294567,
          -2.3258329038234393,
          -0.6421196396204563,
          0.36292251478888504,
          -1.8104712563800573,
          -0.7829556928950923,
          0.5001903797435958,
          -0.018774145722104715,
          -0.016942425665276803,
          -1.525440739390988,
          -0.8006457698691762,
          0.5296622914630553,
          -1.8220488470166538,
          -0.06173198001629492,
          -0.1642904593185454,
          -0.7468745036491485,
          0.6761936748237967,
          1.9478795434010834,
          0.4033264043525933,
          0.298827194151868,
          -1.0231861023554405,
          -0.6546339980700924,
          -0.4228532658975435,
          0.9338488686667084,
          0.4194981015674065,
          -1.2940297969923231,
          -0.5633240026073197,
          -1.7315335815688098,
          0.03062121319198041,
          0.27423303246300695,
          0.2591970498434519,
          -1.8963660993830473,
          -2.1397656526426228,
          1.8661395187606886,
          0.5348513410557355,
          -0.25764763876401997,
          -0.12581490569591677,
          0.9976646067470557,
          1.1606409118888894,
          0.36809489076520036,
          -1.099822859422754,
          -0.9177250385045125,
          0.25358679835536085,
          1.201352455006568
         ],
         "xaxis": "x5",
         "y": [
          -0.2423219949389645,
          -2.706976290388302,
          1.2953954200897868,
          1.0140749314238602,
          0.013848059806591515,
          0.5887514333233522,
          0.3465406031828833,
          1.0611421450054488,
          0.6419282667293559,
          -0.8838581497504631,
          0.4148028398283948,
          -0.6517477223270324,
          0.8674115443174526,
          0.5489179991817551,
          0.6574300852313422,
          -0.4549444472057328,
          -0.6706131600173989,
          -0.5291126040546213,
          -1.8217365516677237,
          1.444721043724773,
          0.7590392104277327,
          -0.09293925013803317,
          0.0503972895855374,
          0.145007606799687,
          -1.4809147392137594,
          -1.7563679027915409,
          -0.1366478446801668,
          -0.249880409389546,
          -1.5092014303269374,
          -1.2951933581366464,
          -0.3776816935327316,
          1.0500367846007583,
          2.0298731333973334,
          -0.5177442142650164,
          0.581326559850293,
          -1.15614374441983,
          -1.5974251016007963,
          -2.069878207551687,
          0.34569618335219143,
          1.0580442289797154,
          1.1143756268125253,
          0.6571354815017619,
          -0.033134048005478076,
          0.6500503187731492,
          1.804249260594454,
          0.8631998455493465,
          -0.8651144914203226,
          -0.48603282398988484,
          -1.7877943468082442,
          1.3108090320196126,
          -1.741348077810631,
          -0.29830640334535924,
          1.4957145372526197,
          -0.5414125413987575,
          0.2455871408269604,
          0.27960360946611895,
          -0.8673052508542467,
          0.230103197123487,
          -0.034143955297715245,
          0.06502501025699589,
          -2.194321449524192,
          -0.1632314690482964,
          -0.9880534457273676,
          -0.29926393381783994,
          0.29366069873202544,
          -0.8723884495437727,
          7.053549891964815e-05,
          -1.3105748100582921,
          1.4652962429346243,
          -0.7303225872571056,
          0.7981774297351967,
          0.8611213956410901,
          0.02222822235287305,
          0.6600086924732197,
          -2.6409659803744203,
          -0.5348090955409671,
          1.075407406047104,
          0.7052304529529135,
          -0.045799926817225264,
          -0.4760153334720511,
          -1.3587210895550077,
          -0.5272599116076675,
          -0.18591988363725706,
          0.6091872034069954,
          0.2668676271844891,
          0.10318620801740346,
          -0.8599520266992087,
          0.6605329680149644,
          0.5344677366032592,
          0.12479350332966131,
          -0.214626583134152,
          -0.45984866368511523,
          -0.9255916206161602,
          0.3393940004328594,
          -0.8931237996637412,
          0.8724502332921894,
          -0.2837812299787633,
          -0.4374598153438439,
          0.2803366464933947,
          0.26179862710883917
         ],
         "yaxis": "y5"
        },
        {
         "histfunc": "count",
         "histnorm": "",
         "marker": {
          "color": "rgba(55, 128, 191, 1.0)",
          "line": {
           "color": "#4D5663",
           "width": 1.3
          }
         },
         "name": "B",
         "nbinsx": 10,
         "opacity": 0.8,
         "orientation": "v",
         "type": "histogram",
         "x": [
          -0.2423219949389645,
          -2.706976290388302,
          1.2953954200897868,
          1.0140749314238602,
          0.013848059806591515,
          0.5887514333233522,
          0.3465406031828833,
          1.0611421450054488,
          0.6419282667293559,
          -0.8838581497504631,
          0.4148028398283948,
          -0.6517477223270324,
          0.8674115443174526,
          0.5489179991817551,
          0.6574300852313422,
          -0.4549444472057328,
          -0.6706131600173989,
          -0.5291126040546213,
          -1.8217365516677237,
          1.444721043724773,
          0.7590392104277327,
          -0.09293925013803317,
          0.0503972895855374,
          0.145007606799687,
          -1.4809147392137594,
          -1.7563679027915409,
          -0.1366478446801668,
          -0.249880409389546,
          -1.5092014303269374,
          -1.2951933581366464,
          -0.3776816935327316,
          1.0500367846007583,
          2.0298731333973334,
          -0.5177442142650164,
          0.581326559850293,
          -1.15614374441983,
          -1.5974251016007963,
          -2.069878207551687,
          0.34569618335219143,
          1.0580442289797154,
          1.1143756268125253,
          0.6571354815017619,
          -0.033134048005478076,
          0.6500503187731492,
          1.804249260594454,
          0.8631998455493465,
          -0.8651144914203226,
          -0.48603282398988484,
          -1.7877943468082442,
          1.3108090320196126,
          -1.741348077810631,
          -0.29830640334535924,
          1.4957145372526197,
          -0.5414125413987575,
          0.2455871408269604,
          0.27960360946611895,
          -0.8673052508542467,
          0.230103197123487,
          -0.034143955297715245,
          0.06502501025699589,
          -2.194321449524192,
          -0.1632314690482964,
          -0.9880534457273676,
          -0.29926393381783994,
          0.29366069873202544,
          -0.8723884495437727,
          7.053549891964815e-05,
          -1.3105748100582921,
          1.4652962429346243,
          -0.7303225872571056,
          0.7981774297351967,
          0.8611213956410901,
          0.02222822235287305,
          0.6600086924732197,
          -2.6409659803744203,
          -0.5348090955409671,
          1.075407406047104,
          0.7052304529529135,
          -0.045799926817225264,
          -0.4760153334720511,
          -1.3587210895550077,
          -0.5272599116076675,
          -0.18591988363725706,
          0.6091872034069954,
          0.2668676271844891,
          0.10318620801740346,
          -0.8599520266992087,
          0.6605329680149644,
          0.5344677366032592,
          0.12479350332966131,
          -0.214626583134152,
          -0.45984866368511523,
          -0.9255916206161602,
          0.3393940004328594,
          -0.8931237996637412,
          0.8724502332921894,
          -0.2837812299787633,
          -0.4374598153438439,
          0.2803366464933947,
          0.26179862710883917
         ],
         "xaxis": "x6",
         "yaxis": "y6"
        },
        {
         "line": {
          "color": "rgba(128, 128, 128, 1.0)",
          "dash": "solid",
          "shape": "linear",
          "width": 1.3
         },
         "marker": {
          "size": 2,
          "symbol": "circle"
         },
         "mode": "markers",
         "name": "B",
         "text": "",
         "type": "scatter",
         "x": [
          1.103658168134268,
          -0.3591088057803075,
          -0.39060885058482625,
          1.0268389213825342,
          0.37525317401950337,
          -2.109469003401564,
          -0.20464412500906481,
          0.4709910960187212,
          0.6287484177487179,
          -1.4947669821370941,
          -1.0124759754143848,
          -0.9722740393288398,
          -1.5541079267131352,
          0.18491719299716675,
          0.028119880180558547,
          2.3776005952965362,
          0.8573971393446435,
          -0.02148420174929133,
          -0.45998947752687247,
          0.5957525359019503,
          0.42868799601669605,
          0.7522958399273246,
          -0.49506521581813334,
          0.12601821179138653,
          1.4574891866522441,
          -1.7215547273696028,
          -1.5905736673555888,
          -0.08493535149222459,
          0.06496327297522027,
          -0.12813636887578705,
          0.28089419838819085,
          -2.22968789372741,
          0.25048100303795545,
          0.9615338543155373,
          -0.39711225120710925,
          -2.269571685423856,
          1.1568173419045844,
          0.4830963370006128,
          2.0361871176081685,
          1.249037640098134,
          -0.26404672112272726,
          -0.6160132531200296,
          -0.29058781797725597,
          -0.7819412809390804,
          0.9325898047411016,
          -1.248224919284687,
          0.053803513107677524,
          -0.6606674441009643,
          0.34565063400087503,
          0.9077877065224605,
          -0.021583367642827422,
          -0.7247665633539977,
          0.872426561390276,
          0.7165237426575491,
          0.32440912134482014,
          0.39073465783120026,
          0.5709309785083928,
          0.11677062319825496,
          -0.742717177244977,
          1.7369798914556978,
          0.5309709593612433,
          -1.241465193517055,
          -0.6025792967295633,
          -1.6453621669374718,
          -0.6721592145286471,
          -1.3684956379017843,
          -0.6261797443735899,
          -0.4890437448378885,
          -0.019936658527059052,
          -0.18380202921880426,
          -0.018236856700445732,
          0.7905387036050214,
          0.35619125433181986,
          0.46153025865065106,
          -0.03517838747668369,
          -0.9684572558943861,
          0.09096584912354647,
          1.6866211951501633,
          -0.331233380098675,
          -0.24980786580545983,
          0.16436980245966032,
          -0.17259158419807735,
          -1.0513468106314208,
          -1.091385709533513,
          -0.1547383751541822,
          0.32087139391854236,
          2.4415085901880906,
          -0.2617359298758687,
          -0.6257854770218316,
          -0.3516834199114664,
          -0.320363164803975,
          0.13163592592333345,
          -1.233696526228249,
          0.7635946201193746,
          0.3269417343002411,
          0.8925788709670148,
          -0.6336563558149579,
          0.399487532254476,
          -0.7715119697934507,
          -3.259319388606262
         ],
         "xaxis": "x7",
         "y": [
          -0.2423219949389645,
          -2.706976290388302,
          1.2953954200897868,
          1.0140749314238602,
          0.013848059806591515,
          0.5887514333233522,
          0.3465406031828833,
          1.0611421450054488,
          0.6419282667293559,
          -0.8838581497504631,
          0.4148028398283948,
          -0.6517477223270324,
          0.8674115443174526,
          0.5489179991817551,
          0.6574300852313422,
          -0.4549444472057328,
          -0.6706131600173989,
          -0.5291126040546213,
          -1.8217365516677237,
          1.444721043724773,
          0.7590392104277327,
          -0.09293925013803317,
          0.0503972895855374,
          0.145007606799687,
          -1.4809147392137594,
          -1.7563679027915409,
          -0.1366478446801668,
          -0.249880409389546,
          -1.5092014303269374,
          -1.2951933581366464,
          -0.3776816935327316,
          1.0500367846007583,
          2.0298731333973334,
          -0.5177442142650164,
          0.581326559850293,
          -1.15614374441983,
          -1.5974251016007963,
          -2.069878207551687,
          0.34569618335219143,
          1.0580442289797154,
          1.1143756268125253,
          0.6571354815017619,
          -0.033134048005478076,
          0.6500503187731492,
          1.804249260594454,
          0.8631998455493465,
          -0.8651144914203226,
          -0.48603282398988484,
          -1.7877943468082442,
          1.3108090320196126,
          -1.741348077810631,
          -0.29830640334535924,
          1.4957145372526197,
          -0.5414125413987575,
          0.2455871408269604,
          0.27960360946611895,
          -0.8673052508542467,
          0.230103197123487,
          -0.034143955297715245,
          0.06502501025699589,
          -2.194321449524192,
          -0.1632314690482964,
          -0.9880534457273676,
          -0.29926393381783994,
          0.29366069873202544,
          -0.8723884495437727,
          7.053549891964815e-05,
          -1.3105748100582921,
          1.4652962429346243,
          -0.7303225872571056,
          0.7981774297351967,
          0.8611213956410901,
          0.02222822235287305,
          0.6600086924732197,
          -2.6409659803744203,
          -0.5348090955409671,
          1.075407406047104,
          0.7052304529529135,
          -0.045799926817225264,
          -0.4760153334720511,
          -1.3587210895550077,
          -0.5272599116076675,
          -0.18591988363725706,
          0.6091872034069954,
          0.2668676271844891,
          0.10318620801740346,
          -0.8599520266992087,
          0.6605329680149644,
          0.5344677366032592,
          0.12479350332966131,
          -0.214626583134152,
          -0.45984866368511523,
          -0.9255916206161602,
          0.3393940004328594,
          -0.8931237996637412,
          0.8724502332921894,
          -0.2837812299787633,
          -0.4374598153438439,
          0.2803366464933947,
          0.26179862710883917
         ],
         "yaxis": "y7"
        },
        {
         "line": {
          "color": "rgba(128, 128, 128, 1.0)",
          "dash": "solid",
          "shape": "linear",
          "width": 1.3
         },
         "marker": {
          "size": 2,
          "symbol": "circle"
         },
         "mode": "markers",
         "name": "B",
         "text": "",
         "type": "scatter",
         "x": [
          0.13612114760371338,
          0.6973809335728574,
          -0.7078758752611267,
          0.6262366779100164,
          0.10309974527505125,
          0.33139722516369724,
          0.36747892499629925,
          0.14251274089392624,
          -0.3588829955398141,
          0.10467854448179542,
          1.6140894670139114,
          -0.807945320943562,
          -1.0420086179718775,
          0.044574600499717495,
          -0.2664971772031081,
          -2.4812531120189285,
          -1.080941965525086,
          -0.19575290678697635,
          -1.2578476709974478,
          1.58505312670216,
          1.4328232815234367,
          0.9752077333888645,
          1.2279930469858122,
          0.13178858541821573,
          0.3742348234381564,
          0.04543290517656309,
          0.5311260012000816,
          0.9343403122363072,
          0.5109688717695492,
          -0.6825683338201282,
          -0.24525398660750747,
          1.8173355000295484,
          1.4073989730798007,
          -0.7431687038635622,
          0.2853400704002939,
          1.4154767998867828,
          -1.964545093385441,
          -0.852961533326378,
          1.5629854943063615,
          -1.3223543936624362,
          -0.8164482851839465,
          -1.4188626138402483,
          0.37464481201986305,
          0.08456490382466485,
          -0.07127922648486712,
          -0.5809207986239819,
          0.46946167499485436,
          -0.15164854159165395,
          0.21360368717392758,
          -0.16690076482986899,
          -0.7466562109715402,
          -1.291552986185833,
          -1.0420301161391392,
          -1.747297929276348,
          1.6960273414509288,
          -0.6456775949581188,
          0.8675577175843852,
          -0.6762811519015643,
          0.9392232028456343,
          -0.8759664361760314,
          0.06565776481397993,
          1.4656288430837245,
          0.6987710271990012,
          -1.5108558578622469,
          -1.6629308595281154,
          -0.20042999267648046,
          1.5514440154435116,
          -0.061982164613740794,
          -0.29288507626148663,
          -0.8163051949790358,
          -1.820449719594646,
          -0.5936425846671212,
          -0.634722662247593,
          0.9865657095730139,
          0.8901264886476777,
          0.5881686543501173,
          0.43695832742984364,
          0.2759751644781517,
          -1.0199650974737116,
          0.8347514102951381,
          -0.2316245289196427,
          -2.315838601291783,
          0.5024980167261636,
          -0.08939173471736825,
          0.17862045583046832,
          -0.5218627240092527,
          -1.4070595618366213,
          0.2739386762089091,
          0.16785113370242663,
          -0.12606885515384725,
          -0.8750221815908387,
          -0.7041764705971845,
          1.0903752225195904,
          1.5725212145746215,
          -0.2637854623464598,
          0.447650226918602,
          -0.7554874412199926,
          -0.715835589846943,
          0.08556869339935512,
          -0.47792133449636676
         ],
         "xaxis": "x8",
         "y": [
          -0.2423219949389645,
          -2.706976290388302,
          1.2953954200897868,
          1.0140749314238602,
          0.013848059806591515,
          0.5887514333233522,
          0.3465406031828833,
          1.0611421450054488,
          0.6419282667293559,
          -0.8838581497504631,
          0.4148028398283948,
          -0.6517477223270324,
          0.8674115443174526,
          0.5489179991817551,
          0.6574300852313422,
          -0.4549444472057328,
          -0.6706131600173989,
          -0.5291126040546213,
          -1.8217365516677237,
          1.444721043724773,
          0.7590392104277327,
          -0.09293925013803317,
          0.0503972895855374,
          0.145007606799687,
          -1.4809147392137594,
          -1.7563679027915409,
          -0.1366478446801668,
          -0.249880409389546,
          -1.5092014303269374,
          -1.2951933581366464,
          -0.3776816935327316,
          1.0500367846007583,
          2.0298731333973334,
          -0.5177442142650164,
          0.581326559850293,
          -1.15614374441983,
          -1.5974251016007963,
          -2.069878207551687,
          0.34569618335219143,
          1.0580442289797154,
          1.1143756268125253,
          0.6571354815017619,
          -0.033134048005478076,
          0.6500503187731492,
          1.804249260594454,
          0.8631998455493465,
          -0.8651144914203226,
          -0.48603282398988484,
          -1.7877943468082442,
          1.3108090320196126,
          -1.741348077810631,
          -0.29830640334535924,
          1.4957145372526197,
          -0.5414125413987575,
          0.2455871408269604,
          0.27960360946611895,
          -0.8673052508542467,
          0.230103197123487,
          -0.034143955297715245,
          0.06502501025699589,
          -2.194321449524192,
          -0.1632314690482964,
          -0.9880534457273676,
          -0.29926393381783994,
          0.29366069873202544,
          -0.8723884495437727,
          7.053549891964815e-05,
          -1.3105748100582921,
          1.4652962429346243,
          -0.7303225872571056,
          0.7981774297351967,
          0.8611213956410901,
          0.02222822235287305,
          0.6600086924732197,
          -2.6409659803744203,
          -0.5348090955409671,
          1.075407406047104,
          0.7052304529529135,
          -0.045799926817225264,
          -0.4760153334720511,
          -1.3587210895550077,
          -0.5272599116076675,
          -0.18591988363725706,
          0.6091872034069954,
          0.2668676271844891,
          0.10318620801740346,
          -0.8599520266992087,
          0.6605329680149644,
          0.5344677366032592,
          0.12479350332966131,
          -0.214626583134152,
          -0.45984866368511523,
          -0.9255916206161602,
          0.3393940004328594,
          -0.8931237996637412,
          0.8724502332921894,
          -0.2837812299787633,
          -0.4374598153438439,
          0.2803366464933947,
          0.26179862710883917
         ],
         "yaxis": "y8"
        },
        {
         "line": {
          "color": "rgba(128, 128, 128, 1.0)",
          "dash": "solid",
          "shape": "linear",
          "width": 1.3
         },
         "marker": {
          "size": 2,
          "symbol": "circle"
         },
         "mode": "markers",
         "name": "C",
         "text": "",
         "type": "scatter",
         "x": [
          2.349463736678292,
          0.3108666103275385,
          -0.583059093678768,
          0.7435885743025653,
          0.5099588098432798,
          1.966548109766253,
          1.1129898957074027,
          0.9611232611901351,
          -0.8806101014203047,
          1.0375710853156552,
          0.8845667407050395,
          0.35646066025878753,
          -1.1704649292446916,
          -0.8484060076978288,
          -1.328673180495637,
          -0.6290443312838666,
          0.2544498414697697,
          0.680348696415441,
          -0.574757688795644,
          0.7873185458279743,
          1.092439973790728,
          -0.33905546810607146,
          -0.42096026392177893,
          2.0117528995759932,
          -0.11791651021532197,
          0.3825425311059134,
          0.8719462945865029,
          -0.01409655835904745,
          -0.6241638118596583,
          0.3075622492359093,
          1.2412826092237823,
          -0.3586456201977495,
          -1.7082564416376078,
          -0.7390107854664355,
          0.07674312808999541,
          0.6621222926702514,
          -0.5976930309969201,
          0.02449196098641207,
          1.6507602514940374,
          -0.7930135621497139,
          -0.30453355733048615,
          -0.07763659811971005,
          2.1073933548155788,
          0.8882738710911402,
          0.969196759272263,
          2.9340866721007295,
          1.3811341499105498,
          -1.0242821964430902,
          0.3922130569684905,
          0.33620212753268575,
          -0.5302585342303152,
          0.17890119119824593,
          0.019558389885683335,
          0.2586508632542788,
          -0.5882636693456064,
          0.4280553780557698,
          0.6573994705294567,
          -2.3258329038234393,
          -0.6421196396204563,
          0.36292251478888504,
          -1.8104712563800573,
          -0.7829556928950923,
          0.5001903797435958,
          -0.018774145722104715,
          -0.016942425665276803,
          -1.525440739390988,
          -0.8006457698691762,
          0.5296622914630553,
          -1.8220488470166538,
          -0.06173198001629492,
          -0.1642904593185454,
          -0.7468745036491485,
          0.6761936748237967,
          1.9478795434010834,
          0.4033264043525933,
          0.298827194151868,
          -1.0231861023554405,
          -0.6546339980700924,
          -0.4228532658975435,
          0.9338488686667084,
          0.4194981015674065,
          -1.2940297969923231,
          -0.5633240026073197,
          -1.7315335815688098,
          0.03062121319198041,
          0.27423303246300695,
          0.2591970498434519,
          -1.8963660993830473,
          -2.1397656526426228,
          1.8661395187606886,
          0.5348513410557355,
          -0.25764763876401997,
          -0.12581490569591677,
          0.9976646067470557,
          1.1606409118888894,
          0.36809489076520036,
          -1.099822859422754,
          -0.9177250385045125,
          0.25358679835536085,
          1.201352455006568
         ],
         "xaxis": "x9",
         "y": [
          1.103658168134268,
          -0.3591088057803075,
          -0.39060885058482625,
          1.0268389213825342,
          0.37525317401950337,
          -2.109469003401564,
          -0.20464412500906481,
          0.4709910960187212,
          0.6287484177487179,
          -1.4947669821370941,
          -1.0124759754143848,
          -0.9722740393288398,
          -1.5541079267131352,
          0.18491719299716675,
          0.028119880180558547,
          2.3776005952965362,
          0.8573971393446435,
          -0.02148420174929133,
          -0.45998947752687247,
          0.5957525359019503,
          0.42868799601669605,
          0.7522958399273246,
          -0.49506521581813334,
          0.12601821179138653,
          1.4574891866522441,
          -1.7215547273696028,
          -1.5905736673555888,
          -0.08493535149222459,
          0.06496327297522027,
          -0.12813636887578705,
          0.28089419838819085,
          -2.22968789372741,
          0.25048100303795545,
          0.9615338543155373,
          -0.39711225120710925,
          -2.269571685423856,
          1.1568173419045844,
          0.4830963370006128,
          2.0361871176081685,
          1.249037640098134,
          -0.26404672112272726,
          -0.6160132531200296,
          -0.29058781797725597,
          -0.7819412809390804,
          0.9325898047411016,
          -1.248224919284687,
          0.053803513107677524,
          -0.6606674441009643,
          0.34565063400087503,
          0.9077877065224605,
          -0.021583367642827422,
          -0.7247665633539977,
          0.872426561390276,
          0.7165237426575491,
          0.32440912134482014,
          0.39073465783120026,
          0.5709309785083928,
          0.11677062319825496,
          -0.742717177244977,
          1.7369798914556978,
          0.5309709593612433,
          -1.241465193517055,
          -0.6025792967295633,
          -1.6453621669374718,
          -0.6721592145286471,
          -1.3684956379017843,
          -0.6261797443735899,
          -0.4890437448378885,
          -0.019936658527059052,
          -0.18380202921880426,
          -0.018236856700445732,
          0.7905387036050214,
          0.35619125433181986,
          0.46153025865065106,
          -0.03517838747668369,
          -0.9684572558943861,
          0.09096584912354647,
          1.6866211951501633,
          -0.331233380098675,
          -0.24980786580545983,
          0.16436980245966032,
          -0.17259158419807735,
          -1.0513468106314208,
          -1.091385709533513,
          -0.1547383751541822,
          0.32087139391854236,
          2.4415085901880906,
          -0.2617359298758687,
          -0.6257854770218316,
          -0.3516834199114664,
          -0.320363164803975,
          0.13163592592333345,
          -1.233696526228249,
          0.7635946201193746,
          0.3269417343002411,
          0.8925788709670148,
          -0.6336563558149579,
          0.399487532254476,
          -0.7715119697934507,
          -3.259319388606262
         ],
         "yaxis": "y9"
        },
        {
         "line": {
          "color": "rgba(128, 128, 128, 1.0)",
          "dash": "solid",
          "shape": "linear",
          "width": 1.3
         },
         "marker": {
          "size": 2,
          "symbol": "circle"
         },
         "mode": "markers",
         "name": "C",
         "text": "",
         "type": "scatter",
         "x": [
          -0.2423219949389645,
          -2.706976290388302,
          1.2953954200897868,
          1.0140749314238602,
          0.013848059806591515,
          0.5887514333233522,
          0.3465406031828833,
          1.0611421450054488,
          0.6419282667293559,
          -0.8838581497504631,
          0.4148028398283948,
          -0.6517477223270324,
          0.8674115443174526,
          0.5489179991817551,
          0.6574300852313422,
          -0.4549444472057328,
          -0.6706131600173989,
          -0.5291126040546213,
          -1.8217365516677237,
          1.444721043724773,
          0.7590392104277327,
          -0.09293925013803317,
          0.0503972895855374,
          0.145007606799687,
          -1.4809147392137594,
          -1.7563679027915409,
          -0.1366478446801668,
          -0.249880409389546,
          -1.5092014303269374,
          -1.2951933581366464,
          -0.3776816935327316,
          1.0500367846007583,
          2.0298731333973334,
          -0.5177442142650164,
          0.581326559850293,
          -1.15614374441983,
          -1.5974251016007963,
          -2.069878207551687,
          0.34569618335219143,
          1.0580442289797154,
          1.1143756268125253,
          0.6571354815017619,
          -0.033134048005478076,
          0.6500503187731492,
          1.804249260594454,
          0.8631998455493465,
          -0.8651144914203226,
          -0.48603282398988484,
          -1.7877943468082442,
          1.3108090320196126,
          -1.741348077810631,
          -0.29830640334535924,
          1.4957145372526197,
          -0.5414125413987575,
          0.2455871408269604,
          0.27960360946611895,
          -0.8673052508542467,
          0.230103197123487,
          -0.034143955297715245,
          0.06502501025699589,
          -2.194321449524192,
          -0.1632314690482964,
          -0.9880534457273676,
          -0.29926393381783994,
          0.29366069873202544,
          -0.8723884495437727,
          7.053549891964815e-05,
          -1.3105748100582921,
          1.4652962429346243,
          -0.7303225872571056,
          0.7981774297351967,
          0.8611213956410901,
          0.02222822235287305,
          0.6600086924732197,
          -2.6409659803744203,
          -0.5348090955409671,
          1.075407406047104,
          0.7052304529529135,
          -0.045799926817225264,
          -0.4760153334720511,
          -1.3587210895550077,
          -0.5272599116076675,
          -0.18591988363725706,
          0.6091872034069954,
          0.2668676271844891,
          0.10318620801740346,
          -0.8599520266992087,
          0.6605329680149644,
          0.5344677366032592,
          0.12479350332966131,
          -0.214626583134152,
          -0.45984866368511523,
          -0.9255916206161602,
          0.3393940004328594,
          -0.8931237996637412,
          0.8724502332921894,
          -0.2837812299787633,
          -0.4374598153438439,
          0.2803366464933947,
          0.26179862710883917
         ],
         "xaxis": "x10",
         "y": [
          1.103658168134268,
          -0.3591088057803075,
          -0.39060885058482625,
          1.0268389213825342,
          0.37525317401950337,
          -2.109469003401564,
          -0.20464412500906481,
          0.4709910960187212,
          0.6287484177487179,
          -1.4947669821370941,
          -1.0124759754143848,
          -0.9722740393288398,
          -1.5541079267131352,
          0.18491719299716675,
          0.028119880180558547,
          2.3776005952965362,
          0.8573971393446435,
          -0.02148420174929133,
          -0.45998947752687247,
          0.5957525359019503,
          0.42868799601669605,
          0.7522958399273246,
          -0.49506521581813334,
          0.12601821179138653,
          1.4574891866522441,
          -1.7215547273696028,
          -1.5905736673555888,
          -0.08493535149222459,
          0.06496327297522027,
          -0.12813636887578705,
          0.28089419838819085,
          -2.22968789372741,
          0.25048100303795545,
          0.9615338543155373,
          -0.39711225120710925,
          -2.269571685423856,
          1.1568173419045844,
          0.4830963370006128,
          2.0361871176081685,
          1.249037640098134,
          -0.26404672112272726,
          -0.6160132531200296,
          -0.29058781797725597,
          -0.7819412809390804,
          0.9325898047411016,
          -1.248224919284687,
          0.053803513107677524,
          -0.6606674441009643,
          0.34565063400087503,
          0.9077877065224605,
          -0.021583367642827422,
          -0.7247665633539977,
          0.872426561390276,
          0.7165237426575491,
          0.32440912134482014,
          0.39073465783120026,
          0.5709309785083928,
          0.11677062319825496,
          -0.742717177244977,
          1.7369798914556978,
          0.5309709593612433,
          -1.241465193517055,
          -0.6025792967295633,
          -1.6453621669374718,
          -0.6721592145286471,
          -1.3684956379017843,
          -0.6261797443735899,
          -0.4890437448378885,
          -0.019936658527059052,
          -0.18380202921880426,
          -0.018236856700445732,
          0.7905387036050214,
          0.35619125433181986,
          0.46153025865065106,
          -0.03517838747668369,
          -0.9684572558943861,
          0.09096584912354647,
          1.6866211951501633,
          -0.331233380098675,
          -0.24980786580545983,
          0.16436980245966032,
          -0.17259158419807735,
          -1.0513468106314208,
          -1.091385709533513,
          -0.1547383751541822,
          0.32087139391854236,
          2.4415085901880906,
          -0.2617359298758687,
          -0.6257854770218316,
          -0.3516834199114664,
          -0.320363164803975,
          0.13163592592333345,
          -1.233696526228249,
          0.7635946201193746,
          0.3269417343002411,
          0.8925788709670148,
          -0.6336563558149579,
          0.399487532254476,
          -0.7715119697934507,
          -3.259319388606262
         ],
         "yaxis": "y10"
        },
        {
         "histfunc": "count",
         "histnorm": "",
         "marker": {
          "color": "rgba(50, 171, 96, 1.0)",
          "line": {
           "color": "#4D5663",
           "width": 1.3
          }
         },
         "name": "C",
         "nbinsx": 10,
         "opacity": 0.8,
         "orientation": "v",
         "type": "histogram",
         "x": [
          1.103658168134268,
          -0.3591088057803075,
          -0.39060885058482625,
          1.0268389213825342,
          0.37525317401950337,
          -2.109469003401564,
          -0.20464412500906481,
          0.4709910960187212,
          0.6287484177487179,
          -1.4947669821370941,
          -1.0124759754143848,
          -0.9722740393288398,
          -1.5541079267131352,
          0.18491719299716675,
          0.028119880180558547,
          2.3776005952965362,
          0.8573971393446435,
          -0.02148420174929133,
          -0.45998947752687247,
          0.5957525359019503,
          0.42868799601669605,
          0.7522958399273246,
          -0.49506521581813334,
          0.12601821179138653,
          1.4574891866522441,
          -1.7215547273696028,
          -1.5905736673555888,
          -0.08493535149222459,
          0.06496327297522027,
          -0.12813636887578705,
          0.28089419838819085,
          -2.22968789372741,
          0.25048100303795545,
          0.9615338543155373,
          -0.39711225120710925,
          -2.269571685423856,
          1.1568173419045844,
          0.4830963370006128,
          2.0361871176081685,
          1.249037640098134,
          -0.26404672112272726,
          -0.6160132531200296,
          -0.29058781797725597,
          -0.7819412809390804,
          0.9325898047411016,
          -1.248224919284687,
          0.053803513107677524,
          -0.6606674441009643,
          0.34565063400087503,
          0.9077877065224605,
          -0.021583367642827422,
          -0.7247665633539977,
          0.872426561390276,
          0.7165237426575491,
          0.32440912134482014,
          0.39073465783120026,
          0.5709309785083928,
          0.11677062319825496,
          -0.742717177244977,
          1.7369798914556978,
          0.5309709593612433,
          -1.241465193517055,
          -0.6025792967295633,
          -1.6453621669374718,
          -0.6721592145286471,
          -1.3684956379017843,
          -0.6261797443735899,
          -0.4890437448378885,
          -0.019936658527059052,
          -0.18380202921880426,
          -0.018236856700445732,
          0.7905387036050214,
          0.35619125433181986,
          0.46153025865065106,
          -0.03517838747668369,
          -0.9684572558943861,
          0.09096584912354647,
          1.6866211951501633,
          -0.331233380098675,
          -0.24980786580545983,
          0.16436980245966032,
          -0.17259158419807735,
          -1.0513468106314208,
          -1.091385709533513,
          -0.1547383751541822,
          0.32087139391854236,
          2.4415085901880906,
          -0.2617359298758687,
          -0.6257854770218316,
          -0.3516834199114664,
          -0.320363164803975,
          0.13163592592333345,
          -1.233696526228249,
          0.7635946201193746,
          0.3269417343002411,
          0.8925788709670148,
          -0.6336563558149579,
          0.399487532254476,
          -0.7715119697934507,
          -3.259319388606262
         ],
         "xaxis": "x11",
         "yaxis": "y11"
        },
        {
         "line": {
          "color": "rgba(128, 128, 128, 1.0)",
          "dash": "solid",
          "shape": "linear",
          "width": 1.3
         },
         "marker": {
          "size": 2,
          "symbol": "circle"
         },
         "mode": "markers",
         "name": "C",
         "text": "",
         "type": "scatter",
         "x": [
          0.13612114760371338,
          0.6973809335728574,
          -0.7078758752611267,
          0.6262366779100164,
          0.10309974527505125,
          0.33139722516369724,
          0.36747892499629925,
          0.14251274089392624,
          -0.3588829955398141,
          0.10467854448179542,
          1.6140894670139114,
          -0.807945320943562,
          -1.0420086179718775,
          0.044574600499717495,
          -0.2664971772031081,
          -2.4812531120189285,
          -1.080941965525086,
          -0.19575290678697635,
          -1.2578476709974478,
          1.58505312670216,
          1.4328232815234367,
          0.9752077333888645,
          1.2279930469858122,
          0.13178858541821573,
          0.3742348234381564,
          0.04543290517656309,
          0.5311260012000816,
          0.9343403122363072,
          0.5109688717695492,
          -0.6825683338201282,
          -0.24525398660750747,
          1.8173355000295484,
          1.4073989730798007,
          -0.7431687038635622,
          0.2853400704002939,
          1.4154767998867828,
          -1.964545093385441,
          -0.852961533326378,
          1.5629854943063615,
          -1.3223543936624362,
          -0.8164482851839465,
          -1.4188626138402483,
          0.37464481201986305,
          0.08456490382466485,
          -0.07127922648486712,
          -0.5809207986239819,
          0.46946167499485436,
          -0.15164854159165395,
          0.21360368717392758,
          -0.16690076482986899,
          -0.7466562109715402,
          -1.291552986185833,
          -1.0420301161391392,
          -1.747297929276348,
          1.6960273414509288,
          -0.6456775949581188,
          0.8675577175843852,
          -0.6762811519015643,
          0.9392232028456343,
          -0.8759664361760314,
          0.06565776481397993,
          1.4656288430837245,
          0.6987710271990012,
          -1.5108558578622469,
          -1.6629308595281154,
          -0.20042999267648046,
          1.5514440154435116,
          -0.061982164613740794,
          -0.29288507626148663,
          -0.8163051949790358,
          -1.820449719594646,
          -0.5936425846671212,
          -0.634722662247593,
          0.9865657095730139,
          0.8901264886476777,
          0.5881686543501173,
          0.43695832742984364,
          0.2759751644781517,
          -1.0199650974737116,
          0.8347514102951381,
          -0.2316245289196427,
          -2.315838601291783,
          0.5024980167261636,
          -0.08939173471736825,
          0.17862045583046832,
          -0.5218627240092527,
          -1.4070595618366213,
          0.2739386762089091,
          0.16785113370242663,
          -0.12606885515384725,
          -0.8750221815908387,
          -0.7041764705971845,
          1.0903752225195904,
          1.5725212145746215,
          -0.2637854623464598,
          0.447650226918602,
          -0.7554874412199926,
          -0.715835589846943,
          0.08556869339935512,
          -0.47792133449636676
         ],
         "xaxis": "x12",
         "y": [
          1.103658168134268,
          -0.3591088057803075,
          -0.39060885058482625,
          1.0268389213825342,
          0.37525317401950337,
          -2.109469003401564,
          -0.20464412500906481,
          0.4709910960187212,
          0.6287484177487179,
          -1.4947669821370941,
          -1.0124759754143848,
          -0.9722740393288398,
          -1.5541079267131352,
          0.18491719299716675,
          0.028119880180558547,
          2.3776005952965362,
          0.8573971393446435,
          -0.02148420174929133,
          -0.45998947752687247,
          0.5957525359019503,
          0.42868799601669605,
          0.7522958399273246,
          -0.49506521581813334,
          0.12601821179138653,
          1.4574891866522441,
          -1.7215547273696028,
          -1.5905736673555888,
          -0.08493535149222459,
          0.06496327297522027,
          -0.12813636887578705,
          0.28089419838819085,
          -2.22968789372741,
          0.25048100303795545,
          0.9615338543155373,
          -0.39711225120710925,
          -2.269571685423856,
          1.1568173419045844,
          0.4830963370006128,
          2.0361871176081685,
          1.249037640098134,
          -0.26404672112272726,
          -0.6160132531200296,
          -0.29058781797725597,
          -0.7819412809390804,
          0.9325898047411016,
          -1.248224919284687,
          0.053803513107677524,
          -0.6606674441009643,
          0.34565063400087503,
          0.9077877065224605,
          -0.021583367642827422,
          -0.7247665633539977,
          0.872426561390276,
          0.7165237426575491,
          0.32440912134482014,
          0.39073465783120026,
          0.5709309785083928,
          0.11677062319825496,
          -0.742717177244977,
          1.7369798914556978,
          0.5309709593612433,
          -1.241465193517055,
          -0.6025792967295633,
          -1.6453621669374718,
          -0.6721592145286471,
          -1.3684956379017843,
          -0.6261797443735899,
          -0.4890437448378885,
          -0.019936658527059052,
          -0.18380202921880426,
          -0.018236856700445732,
          0.7905387036050214,
          0.35619125433181986,
          0.46153025865065106,
          -0.03517838747668369,
          -0.9684572558943861,
          0.09096584912354647,
          1.6866211951501633,
          -0.331233380098675,
          -0.24980786580545983,
          0.16436980245966032,
          -0.17259158419807735,
          -1.0513468106314208,
          -1.091385709533513,
          -0.1547383751541822,
          0.32087139391854236,
          2.4415085901880906,
          -0.2617359298758687,
          -0.6257854770218316,
          -0.3516834199114664,
          -0.320363164803975,
          0.13163592592333345,
          -1.233696526228249,
          0.7635946201193746,
          0.3269417343002411,
          0.8925788709670148,
          -0.6336563558149579,
          0.399487532254476,
          -0.7715119697934507,
          -3.259319388606262
         ],
         "yaxis": "y12"
        },
        {
         "line": {
          "color": "rgba(128, 128, 128, 1.0)",
          "dash": "solid",
          "shape": "linear",
          "width": 1.3
         },
         "marker": {
          "size": 2,
          "symbol": "circle"
         },
         "mode": "markers",
         "name": "D",
         "text": "",
         "type": "scatter",
         "x": [
          2.349463736678292,
          0.3108666103275385,
          -0.583059093678768,
          0.7435885743025653,
          0.5099588098432798,
          1.966548109766253,
          1.1129898957074027,
          0.9611232611901351,
          -0.8806101014203047,
          1.0375710853156552,
          0.8845667407050395,
          0.35646066025878753,
          -1.1704649292446916,
          -0.8484060076978288,
          -1.328673180495637,
          -0.6290443312838666,
          0.2544498414697697,
          0.680348696415441,
          -0.574757688795644,
          0.7873185458279743,
          1.092439973790728,
          -0.33905546810607146,
          -0.42096026392177893,
          2.0117528995759932,
          -0.11791651021532197,
          0.3825425311059134,
          0.8719462945865029,
          -0.01409655835904745,
          -0.6241638118596583,
          0.3075622492359093,
          1.2412826092237823,
          -0.3586456201977495,
          -1.7082564416376078,
          -0.7390107854664355,
          0.07674312808999541,
          0.6621222926702514,
          -0.5976930309969201,
          0.02449196098641207,
          1.6507602514940374,
          -0.7930135621497139,
          -0.30453355733048615,
          -0.07763659811971005,
          2.1073933548155788,
          0.8882738710911402,
          0.969196759272263,
          2.9340866721007295,
          1.3811341499105498,
          -1.0242821964430902,
          0.3922130569684905,
          0.33620212753268575,
          -0.5302585342303152,
          0.17890119119824593,
          0.019558389885683335,
          0.2586508632542788,
          -0.5882636693456064,
          0.4280553780557698,
          0.6573994705294567,
          -2.3258329038234393,
          -0.6421196396204563,
          0.36292251478888504,
          -1.8104712563800573,
          -0.7829556928950923,
          0.5001903797435958,
          -0.018774145722104715,
          -0.016942425665276803,
          -1.525440739390988,
          -0.8006457698691762,
          0.5296622914630553,
          -1.8220488470166538,
          -0.06173198001629492,
          -0.1642904593185454,
          -0.7468745036491485,
          0.6761936748237967,
          1.9478795434010834,
          0.4033264043525933,
          0.298827194151868,
          -1.0231861023554405,
          -0.6546339980700924,
          -0.4228532658975435,
          0.9338488686667084,
          0.4194981015674065,
          -1.2940297969923231,
          -0.5633240026073197,
          -1.7315335815688098,
          0.03062121319198041,
          0.27423303246300695,
          0.2591970498434519,
          -1.8963660993830473,
          -2.1397656526426228,
          1.8661395187606886,
          0.5348513410557355,
          -0.25764763876401997,
          -0.12581490569591677,
          0.9976646067470557,
          1.1606409118888894,
          0.36809489076520036,
          -1.099822859422754,
          -0.9177250385045125,
          0.25358679835536085,
          1.201352455006568
         ],
         "xaxis": "x13",
         "y": [
          0.13612114760371338,
          0.6973809335728574,
          -0.7078758752611267,
          0.6262366779100164,
          0.10309974527505125,
          0.33139722516369724,
          0.36747892499629925,
          0.14251274089392624,
          -0.3588829955398141,
          0.10467854448179542,
          1.6140894670139114,
          -0.807945320943562,
          -1.0420086179718775,
          0.044574600499717495,
          -0.2664971772031081,
          -2.4812531120189285,
          -1.080941965525086,
          -0.19575290678697635,
          -1.2578476709974478,
          1.58505312670216,
          1.4328232815234367,
          0.9752077333888645,
          1.2279930469858122,
          0.13178858541821573,
          0.3742348234381564,
          0.04543290517656309,
          0.5311260012000816,
          0.9343403122363072,
          0.5109688717695492,
          -0.6825683338201282,
          -0.24525398660750747,
          1.8173355000295484,
          1.4073989730798007,
          -0.7431687038635622,
          0.2853400704002939,
          1.4154767998867828,
          -1.964545093385441,
          -0.852961533326378,
          1.5629854943063615,
          -1.3223543936624362,
          -0.8164482851839465,
          -1.4188626138402483,
          0.37464481201986305,
          0.08456490382466485,
          -0.07127922648486712,
          -0.5809207986239819,
          0.46946167499485436,
          -0.15164854159165395,
          0.21360368717392758,
          -0.16690076482986899,
          -0.7466562109715402,
          -1.291552986185833,
          -1.0420301161391392,
          -1.747297929276348,
          1.6960273414509288,
          -0.6456775949581188,
          0.8675577175843852,
          -0.6762811519015643,
          0.9392232028456343,
          -0.8759664361760314,
          0.06565776481397993,
          1.4656288430837245,
          0.6987710271990012,
          -1.5108558578622469,
          -1.6629308595281154,
          -0.20042999267648046,
          1.5514440154435116,
          -0.061982164613740794,
          -0.29288507626148663,
          -0.8163051949790358,
          -1.820449719594646,
          -0.5936425846671212,
          -0.634722662247593,
          0.9865657095730139,
          0.8901264886476777,
          0.5881686543501173,
          0.43695832742984364,
          0.2759751644781517,
          -1.0199650974737116,
          0.8347514102951381,
          -0.2316245289196427,
          -2.315838601291783,
          0.5024980167261636,
          -0.08939173471736825,
          0.17862045583046832,
          -0.5218627240092527,
          -1.4070595618366213,
          0.2739386762089091,
          0.16785113370242663,
          -0.12606885515384725,
          -0.8750221815908387,
          -0.7041764705971845,
          1.0903752225195904,
          1.5725212145746215,
          -0.2637854623464598,
          0.447650226918602,
          -0.7554874412199926,
          -0.715835589846943,
          0.08556869339935512,
          -0.47792133449636676
         ],
         "yaxis": "y13"
        },
        {
         "line": {
          "color": "rgba(128, 128, 128, 1.0)",
          "dash": "solid",
          "shape": "linear",
          "width": 1.3
         },
         "marker": {
          "size": 2,
          "symbol": "circle"
         },
         "mode": "markers",
         "name": "D",
         "text": "",
         "type": "scatter",
         "x": [
          -0.2423219949389645,
          -2.706976290388302,
          1.2953954200897868,
          1.0140749314238602,
          0.013848059806591515,
          0.5887514333233522,
          0.3465406031828833,
          1.0611421450054488,
          0.6419282667293559,
          -0.8838581497504631,
          0.4148028398283948,
          -0.6517477223270324,
          0.8674115443174526,
          0.5489179991817551,
          0.6574300852313422,
          -0.4549444472057328,
          -0.6706131600173989,
          -0.5291126040546213,
          -1.8217365516677237,
          1.444721043724773,
          0.7590392104277327,
          -0.09293925013803317,
          0.0503972895855374,
          0.145007606799687,
          -1.4809147392137594,
          -1.7563679027915409,
          -0.1366478446801668,
          -0.249880409389546,
          -1.5092014303269374,
          -1.2951933581366464,
          -0.3776816935327316,
          1.0500367846007583,
          2.0298731333973334,
          -0.5177442142650164,
          0.581326559850293,
          -1.15614374441983,
          -1.5974251016007963,
          -2.069878207551687,
          0.34569618335219143,
          1.0580442289797154,
          1.1143756268125253,
          0.6571354815017619,
          -0.033134048005478076,
          0.6500503187731492,
          1.804249260594454,
          0.8631998455493465,
          -0.8651144914203226,
          -0.48603282398988484,
          -1.7877943468082442,
          1.3108090320196126,
          -1.741348077810631,
          -0.29830640334535924,
          1.4957145372526197,
          -0.5414125413987575,
          0.2455871408269604,
          0.27960360946611895,
          -0.8673052508542467,
          0.230103197123487,
          -0.034143955297715245,
          0.06502501025699589,
          -2.194321449524192,
          -0.1632314690482964,
          -0.9880534457273676,
          -0.29926393381783994,
          0.29366069873202544,
          -0.8723884495437727,
          7.053549891964815e-05,
          -1.3105748100582921,
          1.4652962429346243,
          -0.7303225872571056,
          0.7981774297351967,
          0.8611213956410901,
          0.02222822235287305,
          0.6600086924732197,
          -2.6409659803744203,
          -0.5348090955409671,
          1.075407406047104,
          0.7052304529529135,
          -0.045799926817225264,
          -0.4760153334720511,
          -1.3587210895550077,
          -0.5272599116076675,
          -0.18591988363725706,
          0.6091872034069954,
          0.2668676271844891,
          0.10318620801740346,
          -0.8599520266992087,
          0.6605329680149644,
          0.5344677366032592,
          0.12479350332966131,
          -0.214626583134152,
          -0.45984866368511523,
          -0.9255916206161602,
          0.3393940004328594,
          -0.8931237996637412,
          0.8724502332921894,
          -0.2837812299787633,
          -0.4374598153438439,
          0.2803366464933947,
          0.26179862710883917
         ],
         "xaxis": "x14",
         "y": [
          0.13612114760371338,
          0.6973809335728574,
          -0.7078758752611267,
          0.6262366779100164,
          0.10309974527505125,
          0.33139722516369724,
          0.36747892499629925,
          0.14251274089392624,
          -0.3588829955398141,
          0.10467854448179542,
          1.6140894670139114,
          -0.807945320943562,
          -1.0420086179718775,
          0.044574600499717495,
          -0.2664971772031081,
          -2.4812531120189285,
          -1.080941965525086,
          -0.19575290678697635,
          -1.2578476709974478,
          1.58505312670216,
          1.4328232815234367,
          0.9752077333888645,
          1.2279930469858122,
          0.13178858541821573,
          0.3742348234381564,
          0.04543290517656309,
          0.5311260012000816,
          0.9343403122363072,
          0.5109688717695492,
          -0.6825683338201282,
          -0.24525398660750747,
          1.8173355000295484,
          1.4073989730798007,
          -0.7431687038635622,
          0.2853400704002939,
          1.4154767998867828,
          -1.964545093385441,
          -0.852961533326378,
          1.5629854943063615,
          -1.3223543936624362,
          -0.8164482851839465,
          -1.4188626138402483,
          0.37464481201986305,
          0.08456490382466485,
          -0.07127922648486712,
          -0.5809207986239819,
          0.46946167499485436,
          -0.15164854159165395,
          0.21360368717392758,
          -0.16690076482986899,
          -0.7466562109715402,
          -1.291552986185833,
          -1.0420301161391392,
          -1.747297929276348,
          1.6960273414509288,
          -0.6456775949581188,
          0.8675577175843852,
          -0.6762811519015643,
          0.9392232028456343,
          -0.8759664361760314,
          0.06565776481397993,
          1.4656288430837245,
          0.6987710271990012,
          -1.5108558578622469,
          -1.6629308595281154,
          -0.20042999267648046,
          1.5514440154435116,
          -0.061982164613740794,
          -0.29288507626148663,
          -0.8163051949790358,
          -1.820449719594646,
          -0.5936425846671212,
          -0.634722662247593,
          0.9865657095730139,
          0.8901264886476777,
          0.5881686543501173,
          0.43695832742984364,
          0.2759751644781517,
          -1.0199650974737116,
          0.8347514102951381,
          -0.2316245289196427,
          -2.315838601291783,
          0.5024980167261636,
          -0.08939173471736825,
          0.17862045583046832,
          -0.5218627240092527,
          -1.4070595618366213,
          0.2739386762089091,
          0.16785113370242663,
          -0.12606885515384725,
          -0.8750221815908387,
          -0.7041764705971845,
          1.0903752225195904,
          1.5725212145746215,
          -0.2637854623464598,
          0.447650226918602,
          -0.7554874412199926,
          -0.715835589846943,
          0.08556869339935512,
          -0.47792133449636676
         ],
         "yaxis": "y14"
        },
        {
         "line": {
          "color": "rgba(128, 128, 128, 1.0)",
          "dash": "solid",
          "shape": "linear",
          "width": 1.3
         },
         "marker": {
          "size": 2,
          "symbol": "circle"
         },
         "mode": "markers",
         "name": "D",
         "text": "",
         "type": "scatter",
         "x": [
          1.103658168134268,
          -0.3591088057803075,
          -0.39060885058482625,
          1.0268389213825342,
          0.37525317401950337,
          -2.109469003401564,
          -0.20464412500906481,
          0.4709910960187212,
          0.6287484177487179,
          -1.4947669821370941,
          -1.0124759754143848,
          -0.9722740393288398,
          -1.5541079267131352,
          0.18491719299716675,
          0.028119880180558547,
          2.3776005952965362,
          0.8573971393446435,
          -0.02148420174929133,
          -0.45998947752687247,
          0.5957525359019503,
          0.42868799601669605,
          0.7522958399273246,
          -0.49506521581813334,
          0.12601821179138653,
          1.4574891866522441,
          -1.7215547273696028,
          -1.5905736673555888,
          -0.08493535149222459,
          0.06496327297522027,
          -0.12813636887578705,
          0.28089419838819085,
          -2.22968789372741,
          0.25048100303795545,
          0.9615338543155373,
          -0.39711225120710925,
          -2.269571685423856,
          1.1568173419045844,
          0.4830963370006128,
          2.0361871176081685,
          1.249037640098134,
          -0.26404672112272726,
          -0.6160132531200296,
          -0.29058781797725597,
          -0.7819412809390804,
          0.9325898047411016,
          -1.248224919284687,
          0.053803513107677524,
          -0.6606674441009643,
          0.34565063400087503,
          0.9077877065224605,
          -0.021583367642827422,
          -0.7247665633539977,
          0.872426561390276,
          0.7165237426575491,
          0.32440912134482014,
          0.39073465783120026,
          0.5709309785083928,
          0.11677062319825496,
          -0.742717177244977,
          1.7369798914556978,
          0.5309709593612433,
          -1.241465193517055,
          -0.6025792967295633,
          -1.6453621669374718,
          -0.6721592145286471,
          -1.3684956379017843,
          -0.6261797443735899,
          -0.4890437448378885,
          -0.019936658527059052,
          -0.18380202921880426,
          -0.018236856700445732,
          0.7905387036050214,
          0.35619125433181986,
          0.46153025865065106,
          -0.03517838747668369,
          -0.9684572558943861,
          0.09096584912354647,
          1.6866211951501633,
          -0.331233380098675,
          -0.24980786580545983,
          0.16436980245966032,
          -0.17259158419807735,
          -1.0513468106314208,
          -1.091385709533513,
          -0.1547383751541822,
          0.32087139391854236,
          2.4415085901880906,
          -0.2617359298758687,
          -0.6257854770218316,
          -0.3516834199114664,
          -0.320363164803975,
          0.13163592592333345,
          -1.233696526228249,
          0.7635946201193746,
          0.3269417343002411,
          0.8925788709670148,
          -0.6336563558149579,
          0.399487532254476,
          -0.7715119697934507,
          -3.259319388606262
         ],
         "xaxis": "x15",
         "y": [
          0.13612114760371338,
          0.6973809335728574,
          -0.7078758752611267,
          0.6262366779100164,
          0.10309974527505125,
          0.33139722516369724,
          0.36747892499629925,
          0.14251274089392624,
          -0.3588829955398141,
          0.10467854448179542,
          1.6140894670139114,
          -0.807945320943562,
          -1.0420086179718775,
          0.044574600499717495,
          -0.2664971772031081,
          -2.4812531120189285,
          -1.080941965525086,
          -0.19575290678697635,
          -1.2578476709974478,
          1.58505312670216,
          1.4328232815234367,
          0.9752077333888645,
          1.2279930469858122,
          0.13178858541821573,
          0.3742348234381564,
          0.04543290517656309,
          0.5311260012000816,
          0.9343403122363072,
          0.5109688717695492,
          -0.6825683338201282,
          -0.24525398660750747,
          1.8173355000295484,
          1.4073989730798007,
          -0.7431687038635622,
          0.2853400704002939,
          1.4154767998867828,
          -1.964545093385441,
          -0.852961533326378,
          1.5629854943063615,
          -1.3223543936624362,
          -0.8164482851839465,
          -1.4188626138402483,
          0.37464481201986305,
          0.08456490382466485,
          -0.07127922648486712,
          -0.5809207986239819,
          0.46946167499485436,
          -0.15164854159165395,
          0.21360368717392758,
          -0.16690076482986899,
          -0.7466562109715402,
          -1.291552986185833,
          -1.0420301161391392,
          -1.747297929276348,
          1.6960273414509288,
          -0.6456775949581188,
          0.8675577175843852,
          -0.6762811519015643,
          0.9392232028456343,
          -0.8759664361760314,
          0.06565776481397993,
          1.4656288430837245,
          0.6987710271990012,
          -1.5108558578622469,
          -1.6629308595281154,
          -0.20042999267648046,
          1.5514440154435116,
          -0.061982164613740794,
          -0.29288507626148663,
          -0.8163051949790358,
          -1.820449719594646,
          -0.5936425846671212,
          -0.634722662247593,
          0.9865657095730139,
          0.8901264886476777,
          0.5881686543501173,
          0.43695832742984364,
          0.2759751644781517,
          -1.0199650974737116,
          0.8347514102951381,
          -0.2316245289196427,
          -2.315838601291783,
          0.5024980167261636,
          -0.08939173471736825,
          0.17862045583046832,
          -0.5218627240092527,
          -1.4070595618366213,
          0.2739386762089091,
          0.16785113370242663,
          -0.12606885515384725,
          -0.8750221815908387,
          -0.7041764705971845,
          1.0903752225195904,
          1.5725212145746215,
          -0.2637854623464598,
          0.447650226918602,
          -0.7554874412199926,
          -0.715835589846943,
          0.08556869339935512,
          -0.47792133449636676
         ],
         "yaxis": "y15"
        },
        {
         "histfunc": "count",
         "histnorm": "",
         "marker": {
          "color": "rgba(128, 0, 128, 1.0)",
          "line": {
           "color": "#4D5663",
           "width": 1.3
          }
         },
         "name": "D",
         "nbinsx": 10,
         "opacity": 0.8,
         "orientation": "v",
         "type": "histogram",
         "x": [
          0.13612114760371338,
          0.6973809335728574,
          -0.7078758752611267,
          0.6262366779100164,
          0.10309974527505125,
          0.33139722516369724,
          0.36747892499629925,
          0.14251274089392624,
          -0.3588829955398141,
          0.10467854448179542,
          1.6140894670139114,
          -0.807945320943562,
          -1.0420086179718775,
          0.044574600499717495,
          -0.2664971772031081,
          -2.4812531120189285,
          -1.080941965525086,
          -0.19575290678697635,
          -1.2578476709974478,
          1.58505312670216,
          1.4328232815234367,
          0.9752077333888645,
          1.2279930469858122,
          0.13178858541821573,
          0.3742348234381564,
          0.04543290517656309,
          0.5311260012000816,
          0.9343403122363072,
          0.5109688717695492,
          -0.6825683338201282,
          -0.24525398660750747,
          1.8173355000295484,
          1.4073989730798007,
          -0.7431687038635622,
          0.2853400704002939,
          1.4154767998867828,
          -1.964545093385441,
          -0.852961533326378,
          1.5629854943063615,
          -1.3223543936624362,
          -0.8164482851839465,
          -1.4188626138402483,
          0.37464481201986305,
          0.08456490382466485,
          -0.07127922648486712,
          -0.5809207986239819,
          0.46946167499485436,
          -0.15164854159165395,
          0.21360368717392758,
          -0.16690076482986899,
          -0.7466562109715402,
          -1.291552986185833,
          -1.0420301161391392,
          -1.747297929276348,
          1.6960273414509288,
          -0.6456775949581188,
          0.8675577175843852,
          -0.6762811519015643,
          0.9392232028456343,
          -0.8759664361760314,
          0.06565776481397993,
          1.4656288430837245,
          0.6987710271990012,
          -1.5108558578622469,
          -1.6629308595281154,
          -0.20042999267648046,
          1.5514440154435116,
          -0.061982164613740794,
          -0.29288507626148663,
          -0.8163051949790358,
          -1.820449719594646,
          -0.5936425846671212,
          -0.634722662247593,
          0.9865657095730139,
          0.8901264886476777,
          0.5881686543501173,
          0.43695832742984364,
          0.2759751644781517,
          -1.0199650974737116,
          0.8347514102951381,
          -0.2316245289196427,
          -2.315838601291783,
          0.5024980167261636,
          -0.08939173471736825,
          0.17862045583046832,
          -0.5218627240092527,
          -1.4070595618366213,
          0.2739386762089091,
          0.16785113370242663,
          -0.12606885515384725,
          -0.8750221815908387,
          -0.7041764705971845,
          1.0903752225195904,
          1.5725212145746215,
          -0.2637854623464598,
          0.447650226918602,
          -0.7554874412199926,
          -0.715835589846943,
          0.08556869339935512,
          -0.47792133449636676
         ],
         "xaxis": "x16",
         "yaxis": "y16"
        }
       ],
       "layout": {
        "bargap": 0.02,
        "legend": {
         "bgcolor": "#F5F6F9",
         "font": {
          "color": "#4D5663"
         }
        },
        "paper_bgcolor": "#F5F6F9",
        "plot_bgcolor": "#F5F6F9",
        "showlegend": false,
        "template": {
         "data": {
          "bar": [
           {
            "error_x": {
             "color": "#2a3f5f"
            },
            "error_y": {
             "color": "#2a3f5f"
            },
            "marker": {
             "line": {
              "color": "#E5ECF6",
              "width": 0.5
             }
            },
            "type": "bar"
           }
          ],
          "barpolar": [
           {
            "marker": {
             "line": {
              "color": "#E5ECF6",
              "width": 0.5
             }
            },
            "type": "barpolar"
           }
          ],
          "carpet": [
           {
            "aaxis": {
             "endlinecolor": "#2a3f5f",
             "gridcolor": "white",
             "linecolor": "white",
             "minorgridcolor": "white",
             "startlinecolor": "#2a3f5f"
            },
            "baxis": {
             "endlinecolor": "#2a3f5f",
             "gridcolor": "white",
             "linecolor": "white",
             "minorgridcolor": "white",
             "startlinecolor": "#2a3f5f"
            },
            "type": "carpet"
           }
          ],
          "choropleth": [
           {
            "colorbar": {
             "outlinewidth": 0,
             "ticks": ""
            },
            "type": "choropleth"
           }
          ],
          "contour": [
           {
            "colorbar": {
             "outlinewidth": 0,
             "ticks": ""
            },
            "colorscale": [
             [
              0,
              "#0d0887"
             ],
             [
              0.1111111111111111,
              "#46039f"
             ],
             [
              0.2222222222222222,
              "#7201a8"
             ],
             [
              0.3333333333333333,
              "#9c179e"
             ],
             [
              0.4444444444444444,
              "#bd3786"
             ],
             [
              0.5555555555555556,
              "#d8576b"
             ],
             [
              0.6666666666666666,
              "#ed7953"
             ],
             [
              0.7777777777777778,
              "#fb9f3a"
             ],
             [
              0.8888888888888888,
              "#fdca26"
             ],
             [
              1,
              "#f0f921"
             ]
            ],
            "type": "contour"
           }
          ],
          "contourcarpet": [
           {
            "colorbar": {
             "outlinewidth": 0,
             "ticks": ""
            },
            "type": "contourcarpet"
           }
          ],
          "heatmap": [
           {
            "colorbar": {
             "outlinewidth": 0,
             "ticks": ""
            },
            "colorscale": [
             [
              0,
              "#0d0887"
             ],
             [
              0.1111111111111111,
              "#46039f"
             ],
             [
              0.2222222222222222,
              "#7201a8"
             ],
             [
              0.3333333333333333,
              "#9c179e"
             ],
             [
              0.4444444444444444,
              "#bd3786"
             ],
             [
              0.5555555555555556,
              "#d8576b"
             ],
             [
              0.6666666666666666,
              "#ed7953"
             ],
             [
              0.7777777777777778,
              "#fb9f3a"
             ],
             [
              0.8888888888888888,
              "#fdca26"
             ],
             [
              1,
              "#f0f921"
             ]
            ],
            "type": "heatmap"
           }
          ],
          "heatmapgl": [
           {
            "colorbar": {
             "outlinewidth": 0,
             "ticks": ""
            },
            "colorscale": [
             [
              0,
              "#0d0887"
             ],
             [
              0.1111111111111111,
              "#46039f"
             ],
             [
              0.2222222222222222,
              "#7201a8"
             ],
             [
              0.3333333333333333,
              "#9c179e"
             ],
             [
              0.4444444444444444,
              "#bd3786"
             ],
             [
              0.5555555555555556,
              "#d8576b"
             ],
             [
              0.6666666666666666,
              "#ed7953"
             ],
             [
              0.7777777777777778,
              "#fb9f3a"
             ],
             [
              0.8888888888888888,
              "#fdca26"
             ],
             [
              1,
              "#f0f921"
             ]
            ],
            "type": "heatmapgl"
           }
          ],
          "histogram": [
           {
            "marker": {
             "colorbar": {
              "outlinewidth": 0,
              "ticks": ""
             }
            },
            "type": "histogram"
           }
          ],
          "histogram2d": [
           {
            "colorbar": {
             "outlinewidth": 0,
             "ticks": ""
            },
            "colorscale": [
             [
              0,
              "#0d0887"
             ],
             [
              0.1111111111111111,
              "#46039f"
             ],
             [
              0.2222222222222222,
              "#7201a8"
             ],
             [
              0.3333333333333333,
              "#9c179e"
             ],
             [
              0.4444444444444444,
              "#bd3786"
             ],
             [
              0.5555555555555556,
              "#d8576b"
             ],
             [
              0.6666666666666666,
              "#ed7953"
             ],
             [
              0.7777777777777778,
              "#fb9f3a"
             ],
             [
              0.8888888888888888,
              "#fdca26"
             ],
             [
              1,
              "#f0f921"
             ]
            ],
            "type": "histogram2d"
           }
          ],
          "histogram2dcontour": [
           {
            "colorbar": {
             "outlinewidth": 0,
             "ticks": ""
            },
            "colorscale": [
             [
              0,
              "#0d0887"
             ],
             [
              0.1111111111111111,
              "#46039f"
             ],
             [
              0.2222222222222222,
              "#7201a8"
             ],
             [
              0.3333333333333333,
              "#9c179e"
             ],
             [
              0.4444444444444444,
              "#bd3786"
             ],
             [
              0.5555555555555556,
              "#d8576b"
             ],
             [
              0.6666666666666666,
              "#ed7953"
             ],
             [
              0.7777777777777778,
              "#fb9f3a"
             ],
             [
              0.8888888888888888,
              "#fdca26"
             ],
             [
              1,
              "#f0f921"
             ]
            ],
            "type": "histogram2dcontour"
           }
          ],
          "mesh3d": [
           {
            "colorbar": {
             "outlinewidth": 0,
             "ticks": ""
            },
            "type": "mesh3d"
           }
          ],
          "parcoords": [
           {
            "line": {
             "colorbar": {
              "outlinewidth": 0,
              "ticks": ""
             }
            },
            "type": "parcoords"
           }
          ],
          "pie": [
           {
            "automargin": true,
            "type": "pie"
           }
          ],
          "scatter": [
           {
            "marker": {
             "colorbar": {
              "outlinewidth": 0,
              "ticks": ""
             }
            },
            "type": "scatter"
           }
          ],
          "scatter3d": [
           {
            "line": {
             "colorbar": {
              "outlinewidth": 0,
              "ticks": ""
             }
            },
            "marker": {
             "colorbar": {
              "outlinewidth": 0,
              "ticks": ""
             }
            },
            "type": "scatter3d"
           }
          ],
          "scattercarpet": [
           {
            "marker": {
             "colorbar": {
              "outlinewidth": 0,
              "ticks": ""
             }
            },
            "type": "scattercarpet"
           }
          ],
          "scattergeo": [
           {
            "marker": {
             "colorbar": {
              "outlinewidth": 0,
              "ticks": ""
             }
            },
            "type": "scattergeo"
           }
          ],
          "scattergl": [
           {
            "marker": {
             "colorbar": {
              "outlinewidth": 0,
              "ticks": ""
             }
            },
            "type": "scattergl"
           }
          ],
          "scattermapbox": [
           {
            "marker": {
             "colorbar": {
              "outlinewidth": 0,
              "ticks": ""
             }
            },
            "type": "scattermapbox"
           }
          ],
          "scatterpolar": [
           {
            "marker": {
             "colorbar": {
              "outlinewidth": 0,
              "ticks": ""
             }
            },
            "type": "scatterpolar"
           }
          ],
          "scatterpolargl": [
           {
            "marker": {
             "colorbar": {
              "outlinewidth": 0,
              "ticks": ""
             }
            },
            "type": "scatterpolargl"
           }
          ],
          "scatterternary": [
           {
            "marker": {
             "colorbar": {
              "outlinewidth": 0,
              "ticks": ""
             }
            },
            "type": "scatterternary"
           }
          ],
          "surface": [
           {
            "colorbar": {
             "outlinewidth": 0,
             "ticks": ""
            },
            "colorscale": [
             [
              0,
              "#0d0887"
             ],
             [
              0.1111111111111111,
              "#46039f"
             ],
             [
              0.2222222222222222,
              "#7201a8"
             ],
             [
              0.3333333333333333,
              "#9c179e"
             ],
             [
              0.4444444444444444,
              "#bd3786"
             ],
             [
              0.5555555555555556,
              "#d8576b"
             ],
             [
              0.6666666666666666,
              "#ed7953"
             ],
             [
              0.7777777777777778,
              "#fb9f3a"
             ],
             [
              0.8888888888888888,
              "#fdca26"
             ],
             [
              1,
              "#f0f921"
             ]
            ],
            "type": "surface"
           }
          ],
          "table": [
           {
            "cells": {
             "fill": {
              "color": "#EBF0F8"
             },
             "line": {
              "color": "white"
             }
            },
            "header": {
             "fill": {
              "color": "#C8D4E3"
             },
             "line": {
              "color": "white"
             }
            },
            "type": "table"
           }
          ]
         },
         "layout": {
          "annotationdefaults": {
           "arrowcolor": "#2a3f5f",
           "arrowhead": 0,
           "arrowwidth": 1
          },
          "coloraxis": {
           "colorbar": {
            "outlinewidth": 0,
            "ticks": ""
           }
          },
          "colorscale": {
           "diverging": [
            [
             0,
             "#8e0152"
            ],
            [
             0.1,
             "#c51b7d"
            ],
            [
             0.2,
             "#de77ae"
            ],
            [
             0.3,
             "#f1b6da"
            ],
            [
             0.4,
             "#fde0ef"
            ],
            [
             0.5,
             "#f7f7f7"
            ],
            [
             0.6,
             "#e6f5d0"
            ],
            [
             0.7,
             "#b8e186"
            ],
            [
             0.8,
             "#7fbc41"
            ],
            [
             0.9,
             "#4d9221"
            ],
            [
             1,
             "#276419"
            ]
           ],
           "sequential": [
            [
             0,
             "#0d0887"
            ],
            [
             0.1111111111111111,
             "#46039f"
            ],
            [
             0.2222222222222222,
             "#7201a8"
            ],
            [
             0.3333333333333333,
             "#9c179e"
            ],
            [
             0.4444444444444444,
             "#bd3786"
            ],
            [
             0.5555555555555556,
             "#d8576b"
            ],
            [
             0.6666666666666666,
             "#ed7953"
            ],
            [
             0.7777777777777778,
             "#fb9f3a"
            ],
            [
             0.8888888888888888,
             "#fdca26"
            ],
            [
             1,
             "#f0f921"
            ]
           ],
           "sequentialminus": [
            [
             0,
             "#0d0887"
            ],
            [
             0.1111111111111111,
             "#46039f"
            ],
            [
             0.2222222222222222,
             "#7201a8"
            ],
            [
             0.3333333333333333,
             "#9c179e"
            ],
            [
             0.4444444444444444,
             "#bd3786"
            ],
            [
             0.5555555555555556,
             "#d8576b"
            ],
            [
             0.6666666666666666,
             "#ed7953"
            ],
            [
             0.7777777777777778,
             "#fb9f3a"
            ],
            [
             0.8888888888888888,
             "#fdca26"
            ],
            [
             1,
             "#f0f921"
            ]
           ]
          },
          "colorway": [
           "#636efa",
           "#EF553B",
           "#00cc96",
           "#ab63fa",
           "#FFA15A",
           "#19d3f3",
           "#FF6692",
           "#B6E880",
           "#FF97FF",
           "#FECB52"
          ],
          "font": {
           "color": "#2a3f5f"
          },
          "geo": {
           "bgcolor": "white",
           "lakecolor": "white",
           "landcolor": "#E5ECF6",
           "showlakes": true,
           "showland": true,
           "subunitcolor": "white"
          },
          "hoverlabel": {
           "align": "left"
          },
          "hovermode": "closest",
          "mapbox": {
           "style": "light"
          },
          "paper_bgcolor": "white",
          "plot_bgcolor": "#E5ECF6",
          "polar": {
           "angularaxis": {
            "gridcolor": "white",
            "linecolor": "white",
            "ticks": ""
           },
           "bgcolor": "#E5ECF6",
           "radialaxis": {
            "gridcolor": "white",
            "linecolor": "white",
            "ticks": ""
           }
          },
          "scene": {
           "xaxis": {
            "backgroundcolor": "#E5ECF6",
            "gridcolor": "white",
            "gridwidth": 2,
            "linecolor": "white",
            "showbackground": true,
            "ticks": "",
            "zerolinecolor": "white"
           },
           "yaxis": {
            "backgroundcolor": "#E5ECF6",
            "gridcolor": "white",
            "gridwidth": 2,
            "linecolor": "white",
            "showbackground": true,
            "ticks": "",
            "zerolinecolor": "white"
           },
           "zaxis": {
            "backgroundcolor": "#E5ECF6",
            "gridcolor": "white",
            "gridwidth": 2,
            "linecolor": "white",
            "showbackground": true,
            "ticks": "",
            "zerolinecolor": "white"
           }
          },
          "shapedefaults": {
           "line": {
            "color": "#2a3f5f"
           }
          },
          "ternary": {
           "aaxis": {
            "gridcolor": "white",
            "linecolor": "white",
            "ticks": ""
           },
           "baxis": {
            "gridcolor": "white",
            "linecolor": "white",
            "ticks": ""
           },
           "bgcolor": "#E5ECF6",
           "caxis": {
            "gridcolor": "white",
            "linecolor": "white",
            "ticks": ""
           }
          },
          "title": {
           "x": 0.05
          },
          "xaxis": {
           "automargin": true,
           "gridcolor": "white",
           "linecolor": "white",
           "ticks": "",
           "title": {
            "standoff": 15
           },
           "zerolinecolor": "white",
           "zerolinewidth": 2
          },
          "yaxis": {
           "automargin": true,
           "gridcolor": "white",
           "linecolor": "white",
           "ticks": "",
           "title": {
            "standoff": 15
           },
           "zerolinecolor": "white",
           "zerolinewidth": 2
          }
         }
        },
        "title": {
         "font": {
          "color": "#4D5663"
         }
        },
        "xaxis": {
         "anchor": "y",
         "domain": [
          0,
          0.2125
         ],
         "gridcolor": "#E1E5ED",
         "showgrid": false,
         "tickfont": {
          "color": "#4D5663"
         },
         "title": {
          "font": {
           "color": "#4D5663"
          },
          "text": ""
         },
         "zerolinecolor": "#E1E5ED"
        },
        "xaxis10": {
         "anchor": "y10",
         "domain": [
          0.2625,
          0.475
         ],
         "gridcolor": "#E1E5ED",
         "showgrid": false,
         "tickfont": {
          "color": "#4D5663"
         },
         "title": {
          "font": {
           "color": "#4D5663"
          },
          "text": ""
         },
         "zerolinecolor": "#E1E5ED"
        },
        "xaxis11": {
         "anchor": "y11",
         "domain": [
          0.525,
          0.7375
         ],
         "gridcolor": "#E1E5ED",
         "showgrid": false,
         "tickfont": {
          "color": "#4D5663"
         },
         "title": {
          "font": {
           "color": "#4D5663"
          },
          "text": ""
         },
         "zerolinecolor": "#E1E5ED"
        },
        "xaxis12": {
         "anchor": "y12",
         "domain": [
          0.7875,
          1
         ],
         "gridcolor": "#E1E5ED",
         "showgrid": false,
         "tickfont": {
          "color": "#4D5663"
         },
         "title": {
          "font": {
           "color": "#4D5663"
          },
          "text": ""
         },
         "zerolinecolor": "#E1E5ED"
        },
        "xaxis13": {
         "anchor": "y13",
         "domain": [
          0,
          0.2125
         ],
         "gridcolor": "#E1E5ED",
         "showgrid": false,
         "tickfont": {
          "color": "#4D5663"
         },
         "title": {
          "font": {
           "color": "#4D5663"
          },
          "text": ""
         },
         "zerolinecolor": "#E1E5ED"
        },
        "xaxis14": {
         "anchor": "y14",
         "domain": [
          0.2625,
          0.475
         ],
         "gridcolor": "#E1E5ED",
         "showgrid": false,
         "tickfont": {
          "color": "#4D5663"
         },
         "title": {
          "font": {
           "color": "#4D5663"
          },
          "text": ""
         },
         "zerolinecolor": "#E1E5ED"
        },
        "xaxis15": {
         "anchor": "y15",
         "domain": [
          0.525,
          0.7375
         ],
         "gridcolor": "#E1E5ED",
         "showgrid": false,
         "tickfont": {
          "color": "#4D5663"
         },
         "title": {
          "font": {
           "color": "#4D5663"
          },
          "text": ""
         },
         "zerolinecolor": "#E1E5ED"
        },
        "xaxis16": {
         "anchor": "y16",
         "domain": [
          0.7875,
          1
         ],
         "gridcolor": "#E1E5ED",
         "showgrid": false,
         "tickfont": {
          "color": "#4D5663"
         },
         "title": {
          "font": {
           "color": "#4D5663"
          },
          "text": ""
         },
         "zerolinecolor": "#E1E5ED"
        },
        "xaxis2": {
         "anchor": "y2",
         "domain": [
          0.2625,
          0.475
         ],
         "gridcolor": "#E1E5ED",
         "showgrid": false,
         "tickfont": {
          "color": "#4D5663"
         },
         "title": {
          "font": {
           "color": "#4D5663"
          },
          "text": ""
         },
         "zerolinecolor": "#E1E5ED"
        },
        "xaxis3": {
         "anchor": "y3",
         "domain": [
          0.525,
          0.7375
         ],
         "gridcolor": "#E1E5ED",
         "showgrid": false,
         "tickfont": {
          "color": "#4D5663"
         },
         "title": {
          "font": {
           "color": "#4D5663"
          },
          "text": ""
         },
         "zerolinecolor": "#E1E5ED"
        },
        "xaxis4": {
         "anchor": "y4",
         "domain": [
          0.7875,
          1
         ],
         "gridcolor": "#E1E5ED",
         "showgrid": false,
         "tickfont": {
          "color": "#4D5663"
         },
         "title": {
          "font": {
           "color": "#4D5663"
          },
          "text": ""
         },
         "zerolinecolor": "#E1E5ED"
        },
        "xaxis5": {
         "anchor": "y5",
         "domain": [
          0,
          0.2125
         ],
         "gridcolor": "#E1E5ED",
         "showgrid": false,
         "tickfont": {
          "color": "#4D5663"
         },
         "title": {
          "font": {
           "color": "#4D5663"
          },
          "text": ""
         },
         "zerolinecolor": "#E1E5ED"
        },
        "xaxis6": {
         "anchor": "y6",
         "domain": [
          0.2625,
          0.475
         ],
         "gridcolor": "#E1E5ED",
         "showgrid": false,
         "tickfont": {
          "color": "#4D5663"
         },
         "title": {
          "font": {
           "color": "#4D5663"
          },
          "text": ""
         },
         "zerolinecolor": "#E1E5ED"
        },
        "xaxis7": {
         "anchor": "y7",
         "domain": [
          0.525,
          0.7375
         ],
         "gridcolor": "#E1E5ED",
         "showgrid": false,
         "tickfont": {
          "color": "#4D5663"
         },
         "title": {
          "font": {
           "color": "#4D5663"
          },
          "text": ""
         },
         "zerolinecolor": "#E1E5ED"
        },
        "xaxis8": {
         "anchor": "y8",
         "domain": [
          0.7875,
          1
         ],
         "gridcolor": "#E1E5ED",
         "showgrid": false,
         "tickfont": {
          "color": "#4D5663"
         },
         "title": {
          "font": {
           "color": "#4D5663"
          },
          "text": ""
         },
         "zerolinecolor": "#E1E5ED"
        },
        "xaxis9": {
         "anchor": "y9",
         "domain": [
          0,
          0.2125
         ],
         "gridcolor": "#E1E5ED",
         "showgrid": false,
         "tickfont": {
          "color": "#4D5663"
         },
         "title": {
          "font": {
           "color": "#4D5663"
          },
          "text": ""
         },
         "zerolinecolor": "#E1E5ED"
        },
        "yaxis": {
         "anchor": "x",
         "domain": [
          0.8025,
          1
         ],
         "gridcolor": "#E1E5ED",
         "showgrid": false,
         "tickfont": {
          "color": "#4D5663"
         },
         "title": {
          "font": {
           "color": "#4D5663"
          },
          "text": ""
         },
         "zerolinecolor": "#E1E5ED"
        },
        "yaxis10": {
         "anchor": "x10",
         "domain": [
          0.2675,
          0.465
         ],
         "gridcolor": "#E1E5ED",
         "showgrid": false,
         "tickfont": {
          "color": "#4D5663"
         },
         "title": {
          "font": {
           "color": "#4D5663"
          },
          "text": ""
         },
         "zerolinecolor": "#E1E5ED"
        },
        "yaxis11": {
         "anchor": "x11",
         "domain": [
          0.2675,
          0.465
         ],
         "gridcolor": "#E1E5ED",
         "showgrid": false,
         "tickfont": {
          "color": "#4D5663"
         },
         "title": {
          "font": {
           "color": "#4D5663"
          },
          "text": ""
         },
         "zerolinecolor": "#E1E5ED"
        },
        "yaxis12": {
         "anchor": "x12",
         "domain": [
          0.2675,
          0.465
         ],
         "gridcolor": "#E1E5ED",
         "showgrid": false,
         "tickfont": {
          "color": "#4D5663"
         },
         "title": {
          "font": {
           "color": "#4D5663"
          },
          "text": ""
         },
         "zerolinecolor": "#E1E5ED"
        },
        "yaxis13": {
         "anchor": "x13",
         "domain": [
          0,
          0.1975
         ],
         "gridcolor": "#E1E5ED",
         "showgrid": false,
         "tickfont": {
          "color": "#4D5663"
         },
         "title": {
          "font": {
           "color": "#4D5663"
          },
          "text": ""
         },
         "zerolinecolor": "#E1E5ED"
        },
        "yaxis14": {
         "anchor": "x14",
         "domain": [
          0,
          0.1975
         ],
         "gridcolor": "#E1E5ED",
         "showgrid": false,
         "tickfont": {
          "color": "#4D5663"
         },
         "title": {
          "font": {
           "color": "#4D5663"
          },
          "text": ""
         },
         "zerolinecolor": "#E1E5ED"
        },
        "yaxis15": {
         "anchor": "x15",
         "domain": [
          0,
          0.1975
         ],
         "gridcolor": "#E1E5ED",
         "showgrid": false,
         "tickfont": {
          "color": "#4D5663"
         },
         "title": {
          "font": {
           "color": "#4D5663"
          },
          "text": ""
         },
         "zerolinecolor": "#E1E5ED"
        },
        "yaxis16": {
         "anchor": "x16",
         "domain": [
          0,
          0.1975
         ],
         "gridcolor": "#E1E5ED",
         "showgrid": false,
         "tickfont": {
          "color": "#4D5663"
         },
         "title": {
          "font": {
           "color": "#4D5663"
          },
          "text": ""
         },
         "zerolinecolor": "#E1E5ED"
        },
        "yaxis2": {
         "anchor": "x2",
         "domain": [
          0.8025,
          1
         ],
         "gridcolor": "#E1E5ED",
         "showgrid": false,
         "tickfont": {
          "color": "#4D5663"
         },
         "title": {
          "font": {
           "color": "#4D5663"
          },
          "text": ""
         },
         "zerolinecolor": "#E1E5ED"
        },
        "yaxis3": {
         "anchor": "x3",
         "domain": [
          0.8025,
          1
         ],
         "gridcolor": "#E1E5ED",
         "showgrid": false,
         "tickfont": {
          "color": "#4D5663"
         },
         "title": {
          "font": {
           "color": "#4D5663"
          },
          "text": ""
         },
         "zerolinecolor": "#E1E5ED"
        },
        "yaxis4": {
         "anchor": "x4",
         "domain": [
          0.8025,
          1
         ],
         "gridcolor": "#E1E5ED",
         "showgrid": false,
         "tickfont": {
          "color": "#4D5663"
         },
         "title": {
          "font": {
           "color": "#4D5663"
          },
          "text": ""
         },
         "zerolinecolor": "#E1E5ED"
        },
        "yaxis5": {
         "anchor": "x5",
         "domain": [
          0.535,
          0.7325
         ],
         "gridcolor": "#E1E5ED",
         "showgrid": false,
         "tickfont": {
          "color": "#4D5663"
         },
         "title": {
          "font": {
           "color": "#4D5663"
          },
          "text": ""
         },
         "zerolinecolor": "#E1E5ED"
        },
        "yaxis6": {
         "anchor": "x6",
         "domain": [
          0.535,
          0.7325
         ],
         "gridcolor": "#E1E5ED",
         "showgrid": false,
         "tickfont": {
          "color": "#4D5663"
         },
         "title": {
          "font": {
           "color": "#4D5663"
          },
          "text": ""
         },
         "zerolinecolor": "#E1E5ED"
        },
        "yaxis7": {
         "anchor": "x7",
         "domain": [
          0.535,
          0.7325
         ],
         "gridcolor": "#E1E5ED",
         "showgrid": false,
         "tickfont": {
          "color": "#4D5663"
         },
         "title": {
          "font": {
           "color": "#4D5663"
          },
          "text": ""
         },
         "zerolinecolor": "#E1E5ED"
        },
        "yaxis8": {
         "anchor": "x8",
         "domain": [
          0.535,
          0.7325
         ],
         "gridcolor": "#E1E5ED",
         "showgrid": false,
         "tickfont": {
          "color": "#4D5663"
         },
         "title": {
          "font": {
           "color": "#4D5663"
          },
          "text": ""
         },
         "zerolinecolor": "#E1E5ED"
        },
        "yaxis9": {
         "anchor": "x9",
         "domain": [
          0.2675,
          0.465
         ],
         "gridcolor": "#E1E5ED",
         "showgrid": false,
         "tickfont": {
          "color": "#4D5663"
         },
         "title": {
          "font": {
           "color": "#4D5663"
          },
          "text": ""
         },
         "zerolinecolor": "#E1E5ED"
        }
       }
      },
      "text/html": [
       "<div>                            <div id=\"9b2db9a2-f734-40a2-a379-0408888a5c68\" class=\"plotly-graph-div\" style=\"height:525px; width:100%;\"></div>            <script type=\"text/javascript\">                require([\"plotly\"], function(Plotly) {                    window.PLOTLYENV=window.PLOTLYENV || {};\n",
       "                    window.PLOTLYENV.BASE_URL='https://plot.ly';                                    if (document.getElementById(\"9b2db9a2-f734-40a2-a379-0408888a5c68\")) {                    Plotly.newPlot(                        \"9b2db9a2-f734-40a2-a379-0408888a5c68\",                        [{\"histfunc\": \"count\", \"histnorm\": \"\", \"marker\": {\"color\": \"rgba(255, 153, 51, 1.0)\", \"line\": {\"color\": \"#4D5663\", \"width\": 1.3}}, \"name\": \"A\", \"nbinsx\": 10, \"opacity\": 0.8, \"orientation\": \"v\", \"type\": \"histogram\", \"x\": [2.349463736678292, 0.3108666103275385, -0.583059093678768, 0.7435885743025653, 0.5099588098432798, 1.966548109766253, 1.1129898957074027, 0.9611232611901351, -0.8806101014203047, 1.0375710853156552, 0.8845667407050395, 0.35646066025878753, -1.1704649292446916, -0.8484060076978288, -1.328673180495637, -0.6290443312838666, 0.2544498414697697, 0.680348696415441, -0.574757688795644, 0.7873185458279743, 1.092439973790728, -0.33905546810607146, -0.42096026392177893, 2.0117528995759932, -0.11791651021532197, 0.3825425311059134, 0.8719462945865029, -0.01409655835904745, -0.6241638118596583, 0.3075622492359093, 1.2412826092237823, -0.3586456201977495, -1.7082564416376078, -0.7390107854664355, 0.07674312808999541, 0.6621222926702514, -0.5976930309969201, 0.02449196098641207, 1.6507602514940374, -0.7930135621497139, -0.30453355733048615, -0.07763659811971005, 2.1073933548155788, 0.8882738710911402, 0.969196759272263, 2.9340866721007295, 1.3811341499105498, -1.0242821964430902, 0.3922130569684905, 0.33620212753268575, -0.5302585342303152, 0.17890119119824593, 0.019558389885683335, 0.2586508632542788, -0.5882636693456064, 0.4280553780557698, 0.6573994705294567, -2.3258329038234393, -0.6421196396204563, 0.36292251478888504, -1.8104712563800573, -0.7829556928950923, 0.5001903797435958, -0.018774145722104715, -0.016942425665276803, -1.525440739390988, -0.8006457698691762, 0.5296622914630553, -1.8220488470166538, -0.06173198001629492, -0.1642904593185454, -0.7468745036491485, 0.6761936748237967, 1.9478795434010834, 0.4033264043525933, 0.298827194151868, -1.0231861023554405, -0.6546339980700924, -0.4228532658975435, 0.9338488686667084, 0.4194981015674065, -1.2940297969923231, -0.5633240026073197, -1.7315335815688098, 0.03062121319198041, 0.27423303246300695, 0.2591970498434519, -1.8963660993830473, -2.1397656526426228, 1.8661395187606886, 0.5348513410557355, -0.25764763876401997, -0.12581490569591677, 0.9976646067470557, 1.1606409118888894, 0.36809489076520036, -1.099822859422754, -0.9177250385045125, 0.25358679835536085, 1.201352455006568], \"xaxis\": \"x\", \"yaxis\": \"y\"}, {\"line\": {\"color\": \"rgba(128, 128, 128, 1.0)\", \"dash\": \"solid\", \"shape\": \"linear\", \"width\": 1.3}, \"marker\": {\"size\": 2, \"symbol\": \"circle\"}, \"mode\": \"markers\", \"name\": \"A\", \"text\": \"\", \"type\": \"scatter\", \"x\": [-0.2423219949389645, -2.706976290388302, 1.2953954200897868, 1.0140749314238602, 0.013848059806591515, 0.5887514333233522, 0.3465406031828833, 1.0611421450054488, 0.6419282667293559, -0.8838581497504631, 0.4148028398283948, -0.6517477223270324, 0.8674115443174526, 0.5489179991817551, 0.6574300852313422, -0.4549444472057328, -0.6706131600173989, -0.5291126040546213, -1.8217365516677237, 1.444721043724773, 0.7590392104277327, -0.09293925013803317, 0.0503972895855374, 0.145007606799687, -1.4809147392137594, -1.7563679027915409, -0.1366478446801668, -0.249880409389546, -1.5092014303269374, -1.2951933581366464, -0.3776816935327316, 1.0500367846007583, 2.0298731333973334, -0.5177442142650164, 0.581326559850293, -1.15614374441983, -1.5974251016007963, -2.069878207551687, 0.34569618335219143, 1.0580442289797154, 1.1143756268125253, 0.6571354815017619, -0.033134048005478076, 0.6500503187731492, 1.804249260594454, 0.8631998455493465, -0.8651144914203226, -0.48603282398988484, -1.7877943468082442, 1.3108090320196126, -1.741348077810631, -0.29830640334535924, 1.4957145372526197, -0.5414125413987575, 0.2455871408269604, 0.27960360946611895, -0.8673052508542467, 0.230103197123487, -0.034143955297715245, 0.06502501025699589, -2.194321449524192, -0.1632314690482964, -0.9880534457273676, -0.29926393381783994, 0.29366069873202544, -0.8723884495437727, 7.053549891964815e-05, -1.3105748100582921, 1.4652962429346243, -0.7303225872571056, 0.7981774297351967, 0.8611213956410901, 0.02222822235287305, 0.6600086924732197, -2.6409659803744203, -0.5348090955409671, 1.075407406047104, 0.7052304529529135, -0.045799926817225264, -0.4760153334720511, -1.3587210895550077, -0.5272599116076675, -0.18591988363725706, 0.6091872034069954, 0.2668676271844891, 0.10318620801740346, -0.8599520266992087, 0.6605329680149644, 0.5344677366032592, 0.12479350332966131, -0.214626583134152, -0.45984866368511523, -0.9255916206161602, 0.3393940004328594, -0.8931237996637412, 0.8724502332921894, -0.2837812299787633, -0.4374598153438439, 0.2803366464933947, 0.26179862710883917], \"xaxis\": \"x2\", \"y\": [2.349463736678292, 0.3108666103275385, -0.583059093678768, 0.7435885743025653, 0.5099588098432798, 1.966548109766253, 1.1129898957074027, 0.9611232611901351, -0.8806101014203047, 1.0375710853156552, 0.8845667407050395, 0.35646066025878753, -1.1704649292446916, -0.8484060076978288, -1.328673180495637, -0.6290443312838666, 0.2544498414697697, 0.680348696415441, -0.574757688795644, 0.7873185458279743, 1.092439973790728, -0.33905546810607146, -0.42096026392177893, 2.0117528995759932, -0.11791651021532197, 0.3825425311059134, 0.8719462945865029, -0.01409655835904745, -0.6241638118596583, 0.3075622492359093, 1.2412826092237823, -0.3586456201977495, -1.7082564416376078, -0.7390107854664355, 0.07674312808999541, 0.6621222926702514, -0.5976930309969201, 0.02449196098641207, 1.6507602514940374, -0.7930135621497139, -0.30453355733048615, -0.07763659811971005, 2.1073933548155788, 0.8882738710911402, 0.969196759272263, 2.9340866721007295, 1.3811341499105498, -1.0242821964430902, 0.3922130569684905, 0.33620212753268575, -0.5302585342303152, 0.17890119119824593, 0.019558389885683335, 0.2586508632542788, -0.5882636693456064, 0.4280553780557698, 0.6573994705294567, -2.3258329038234393, -0.6421196396204563, 0.36292251478888504, -1.8104712563800573, -0.7829556928950923, 0.5001903797435958, -0.018774145722104715, -0.016942425665276803, -1.525440739390988, -0.8006457698691762, 0.5296622914630553, -1.8220488470166538, -0.06173198001629492, -0.1642904593185454, -0.7468745036491485, 0.6761936748237967, 1.9478795434010834, 0.4033264043525933, 0.298827194151868, -1.0231861023554405, -0.6546339980700924, -0.4228532658975435, 0.9338488686667084, 0.4194981015674065, -1.2940297969923231, -0.5633240026073197, -1.7315335815688098, 0.03062121319198041, 0.27423303246300695, 0.2591970498434519, -1.8963660993830473, -2.1397656526426228, 1.8661395187606886, 0.5348513410557355, -0.25764763876401997, -0.12581490569591677, 0.9976646067470557, 1.1606409118888894, 0.36809489076520036, -1.099822859422754, -0.9177250385045125, 0.25358679835536085, 1.201352455006568], \"yaxis\": \"y2\"}, {\"line\": {\"color\": \"rgba(128, 128, 128, 1.0)\", \"dash\": \"solid\", \"shape\": \"linear\", \"width\": 1.3}, \"marker\": {\"size\": 2, \"symbol\": \"circle\"}, \"mode\": \"markers\", \"name\": \"A\", \"text\": \"\", \"type\": \"scatter\", \"x\": [1.103658168134268, -0.3591088057803075, -0.39060885058482625, 1.0268389213825342, 0.37525317401950337, -2.109469003401564, -0.20464412500906481, 0.4709910960187212, 0.6287484177487179, -1.4947669821370941, -1.0124759754143848, -0.9722740393288398, -1.5541079267131352, 0.18491719299716675, 0.028119880180558547, 2.3776005952965362, 0.8573971393446435, -0.02148420174929133, -0.45998947752687247, 0.5957525359019503, 0.42868799601669605, 0.7522958399273246, -0.49506521581813334, 0.12601821179138653, 1.4574891866522441, -1.7215547273696028, -1.5905736673555888, -0.08493535149222459, 0.06496327297522027, -0.12813636887578705, 0.28089419838819085, -2.22968789372741, 0.25048100303795545, 0.9615338543155373, -0.39711225120710925, -2.269571685423856, 1.1568173419045844, 0.4830963370006128, 2.0361871176081685, 1.249037640098134, -0.26404672112272726, -0.6160132531200296, -0.29058781797725597, -0.7819412809390804, 0.9325898047411016, -1.248224919284687, 0.053803513107677524, -0.6606674441009643, 0.34565063400087503, 0.9077877065224605, -0.021583367642827422, -0.7247665633539977, 0.872426561390276, 0.7165237426575491, 0.32440912134482014, 0.39073465783120026, 0.5709309785083928, 0.11677062319825496, -0.742717177244977, 1.7369798914556978, 0.5309709593612433, -1.241465193517055, -0.6025792967295633, -1.6453621669374718, -0.6721592145286471, -1.3684956379017843, -0.6261797443735899, -0.4890437448378885, -0.019936658527059052, -0.18380202921880426, -0.018236856700445732, 0.7905387036050214, 0.35619125433181986, 0.46153025865065106, -0.03517838747668369, -0.9684572558943861, 0.09096584912354647, 1.6866211951501633, -0.331233380098675, -0.24980786580545983, 0.16436980245966032, -0.17259158419807735, -1.0513468106314208, -1.091385709533513, -0.1547383751541822, 0.32087139391854236, 2.4415085901880906, -0.2617359298758687, -0.6257854770218316, -0.3516834199114664, -0.320363164803975, 0.13163592592333345, -1.233696526228249, 0.7635946201193746, 0.3269417343002411, 0.8925788709670148, -0.6336563558149579, 0.399487532254476, -0.7715119697934507, -3.259319388606262], \"xaxis\": \"x3\", \"y\": [2.349463736678292, 0.3108666103275385, -0.583059093678768, 0.7435885743025653, 0.5099588098432798, 1.966548109766253, 1.1129898957074027, 0.9611232611901351, -0.8806101014203047, 1.0375710853156552, 0.8845667407050395, 0.35646066025878753, -1.1704649292446916, -0.8484060076978288, -1.328673180495637, -0.6290443312838666, 0.2544498414697697, 0.680348696415441, -0.574757688795644, 0.7873185458279743, 1.092439973790728, -0.33905546810607146, -0.42096026392177893, 2.0117528995759932, -0.11791651021532197, 0.3825425311059134, 0.8719462945865029, -0.01409655835904745, -0.6241638118596583, 0.3075622492359093, 1.2412826092237823, -0.3586456201977495, -1.7082564416376078, -0.7390107854664355, 0.07674312808999541, 0.6621222926702514, -0.5976930309969201, 0.02449196098641207, 1.6507602514940374, -0.7930135621497139, -0.30453355733048615, -0.07763659811971005, 2.1073933548155788, 0.8882738710911402, 0.969196759272263, 2.9340866721007295, 1.3811341499105498, -1.0242821964430902, 0.3922130569684905, 0.33620212753268575, -0.5302585342303152, 0.17890119119824593, 0.019558389885683335, 0.2586508632542788, -0.5882636693456064, 0.4280553780557698, 0.6573994705294567, -2.3258329038234393, -0.6421196396204563, 0.36292251478888504, -1.8104712563800573, -0.7829556928950923, 0.5001903797435958, -0.018774145722104715, -0.016942425665276803, -1.525440739390988, -0.8006457698691762, 0.5296622914630553, -1.8220488470166538, -0.06173198001629492, -0.1642904593185454, -0.7468745036491485, 0.6761936748237967, 1.9478795434010834, 0.4033264043525933, 0.298827194151868, -1.0231861023554405, -0.6546339980700924, -0.4228532658975435, 0.9338488686667084, 0.4194981015674065, -1.2940297969923231, -0.5633240026073197, -1.7315335815688098, 0.03062121319198041, 0.27423303246300695, 0.2591970498434519, -1.8963660993830473, -2.1397656526426228, 1.8661395187606886, 0.5348513410557355, -0.25764763876401997, -0.12581490569591677, 0.9976646067470557, 1.1606409118888894, 0.36809489076520036, -1.099822859422754, -0.9177250385045125, 0.25358679835536085, 1.201352455006568], \"yaxis\": \"y3\"}, {\"line\": {\"color\": \"rgba(128, 128, 128, 1.0)\", \"dash\": \"solid\", \"shape\": \"linear\", \"width\": 1.3}, \"marker\": {\"size\": 2, \"symbol\": \"circle\"}, \"mode\": \"markers\", \"name\": \"A\", \"text\": \"\", \"type\": \"scatter\", \"x\": [0.13612114760371338, 0.6973809335728574, -0.7078758752611267, 0.6262366779100164, 0.10309974527505125, 0.33139722516369724, 0.36747892499629925, 0.14251274089392624, -0.3588829955398141, 0.10467854448179542, 1.6140894670139114, -0.807945320943562, -1.0420086179718775, 0.044574600499717495, -0.2664971772031081, -2.4812531120189285, -1.080941965525086, -0.19575290678697635, -1.2578476709974478, 1.58505312670216, 1.4328232815234367, 0.9752077333888645, 1.2279930469858122, 0.13178858541821573, 0.3742348234381564, 0.04543290517656309, 0.5311260012000816, 0.9343403122363072, 0.5109688717695492, -0.6825683338201282, -0.24525398660750747, 1.8173355000295484, 1.4073989730798007, -0.7431687038635622, 0.2853400704002939, 1.4154767998867828, -1.964545093385441, -0.852961533326378, 1.5629854943063615, -1.3223543936624362, -0.8164482851839465, -1.4188626138402483, 0.37464481201986305, 0.08456490382466485, -0.07127922648486712, -0.5809207986239819, 0.46946167499485436, -0.15164854159165395, 0.21360368717392758, -0.16690076482986899, -0.7466562109715402, -1.291552986185833, -1.0420301161391392, -1.747297929276348, 1.6960273414509288, -0.6456775949581188, 0.8675577175843852, -0.6762811519015643, 0.9392232028456343, -0.8759664361760314, 0.06565776481397993, 1.4656288430837245, 0.6987710271990012, -1.5108558578622469, -1.6629308595281154, -0.20042999267648046, 1.5514440154435116, -0.061982164613740794, -0.29288507626148663, -0.8163051949790358, -1.820449719594646, -0.5936425846671212, -0.634722662247593, 0.9865657095730139, 0.8901264886476777, 0.5881686543501173, 0.43695832742984364, 0.2759751644781517, -1.0199650974737116, 0.8347514102951381, -0.2316245289196427, -2.315838601291783, 0.5024980167261636, -0.08939173471736825, 0.17862045583046832, -0.5218627240092527, -1.4070595618366213, 0.2739386762089091, 0.16785113370242663, -0.12606885515384725, -0.8750221815908387, -0.7041764705971845, 1.0903752225195904, 1.5725212145746215, -0.2637854623464598, 0.447650226918602, -0.7554874412199926, -0.715835589846943, 0.08556869339935512, -0.47792133449636676], \"xaxis\": \"x4\", \"y\": [2.349463736678292, 0.3108666103275385, -0.583059093678768, 0.7435885743025653, 0.5099588098432798, 1.966548109766253, 1.1129898957074027, 0.9611232611901351, -0.8806101014203047, 1.0375710853156552, 0.8845667407050395, 0.35646066025878753, -1.1704649292446916, -0.8484060076978288, -1.328673180495637, -0.6290443312838666, 0.2544498414697697, 0.680348696415441, -0.574757688795644, 0.7873185458279743, 1.092439973790728, -0.33905546810607146, -0.42096026392177893, 2.0117528995759932, -0.11791651021532197, 0.3825425311059134, 0.8719462945865029, -0.01409655835904745, -0.6241638118596583, 0.3075622492359093, 1.2412826092237823, -0.3586456201977495, -1.7082564416376078, -0.7390107854664355, 0.07674312808999541, 0.6621222926702514, -0.5976930309969201, 0.02449196098641207, 1.6507602514940374, -0.7930135621497139, -0.30453355733048615, -0.07763659811971005, 2.1073933548155788, 0.8882738710911402, 0.969196759272263, 2.9340866721007295, 1.3811341499105498, -1.0242821964430902, 0.3922130569684905, 0.33620212753268575, -0.5302585342303152, 0.17890119119824593, 0.019558389885683335, 0.2586508632542788, -0.5882636693456064, 0.4280553780557698, 0.6573994705294567, -2.3258329038234393, -0.6421196396204563, 0.36292251478888504, -1.8104712563800573, -0.7829556928950923, 0.5001903797435958, -0.018774145722104715, -0.016942425665276803, -1.525440739390988, -0.8006457698691762, 0.5296622914630553, -1.8220488470166538, -0.06173198001629492, -0.1642904593185454, -0.7468745036491485, 0.6761936748237967, 1.9478795434010834, 0.4033264043525933, 0.298827194151868, -1.0231861023554405, -0.6546339980700924, -0.4228532658975435, 0.9338488686667084, 0.4194981015674065, -1.2940297969923231, -0.5633240026073197, -1.7315335815688098, 0.03062121319198041, 0.27423303246300695, 0.2591970498434519, -1.8963660993830473, -2.1397656526426228, 1.8661395187606886, 0.5348513410557355, -0.25764763876401997, -0.12581490569591677, 0.9976646067470557, 1.1606409118888894, 0.36809489076520036, -1.099822859422754, -0.9177250385045125, 0.25358679835536085, 1.201352455006568], \"yaxis\": \"y4\"}, {\"line\": {\"color\": \"rgba(128, 128, 128, 1.0)\", \"dash\": \"solid\", \"shape\": \"linear\", \"width\": 1.3}, \"marker\": {\"size\": 2, \"symbol\": \"circle\"}, \"mode\": \"markers\", \"name\": \"B\", \"text\": \"\", \"type\": \"scatter\", \"x\": [2.349463736678292, 0.3108666103275385, -0.583059093678768, 0.7435885743025653, 0.5099588098432798, 1.966548109766253, 1.1129898957074027, 0.9611232611901351, -0.8806101014203047, 1.0375710853156552, 0.8845667407050395, 0.35646066025878753, -1.1704649292446916, -0.8484060076978288, -1.328673180495637, -0.6290443312838666, 0.2544498414697697, 0.680348696415441, -0.574757688795644, 0.7873185458279743, 1.092439973790728, -0.33905546810607146, -0.42096026392177893, 2.0117528995759932, -0.11791651021532197, 0.3825425311059134, 0.8719462945865029, -0.01409655835904745, -0.6241638118596583, 0.3075622492359093, 1.2412826092237823, -0.3586456201977495, -1.7082564416376078, -0.7390107854664355, 0.07674312808999541, 0.6621222926702514, -0.5976930309969201, 0.02449196098641207, 1.6507602514940374, -0.7930135621497139, -0.30453355733048615, -0.07763659811971005, 2.1073933548155788, 0.8882738710911402, 0.969196759272263, 2.9340866721007295, 1.3811341499105498, -1.0242821964430902, 0.3922130569684905, 0.33620212753268575, -0.5302585342303152, 0.17890119119824593, 0.019558389885683335, 0.2586508632542788, -0.5882636693456064, 0.4280553780557698, 0.6573994705294567, -2.3258329038234393, -0.6421196396204563, 0.36292251478888504, -1.8104712563800573, -0.7829556928950923, 0.5001903797435958, -0.018774145722104715, -0.016942425665276803, -1.525440739390988, -0.8006457698691762, 0.5296622914630553, -1.8220488470166538, -0.06173198001629492, -0.1642904593185454, -0.7468745036491485, 0.6761936748237967, 1.9478795434010834, 0.4033264043525933, 0.298827194151868, -1.0231861023554405, -0.6546339980700924, -0.4228532658975435, 0.9338488686667084, 0.4194981015674065, -1.2940297969923231, -0.5633240026073197, -1.7315335815688098, 0.03062121319198041, 0.27423303246300695, 0.2591970498434519, -1.8963660993830473, -2.1397656526426228, 1.8661395187606886, 0.5348513410557355, -0.25764763876401997, -0.12581490569591677, 0.9976646067470557, 1.1606409118888894, 0.36809489076520036, -1.099822859422754, -0.9177250385045125, 0.25358679835536085, 1.201352455006568], \"xaxis\": \"x5\", \"y\": [-0.2423219949389645, -2.706976290388302, 1.2953954200897868, 1.0140749314238602, 0.013848059806591515, 0.5887514333233522, 0.3465406031828833, 1.0611421450054488, 0.6419282667293559, -0.8838581497504631, 0.4148028398283948, -0.6517477223270324, 0.8674115443174526, 0.5489179991817551, 0.6574300852313422, -0.4549444472057328, -0.6706131600173989, -0.5291126040546213, -1.8217365516677237, 1.444721043724773, 0.7590392104277327, -0.09293925013803317, 0.0503972895855374, 0.145007606799687, -1.4809147392137594, -1.7563679027915409, -0.1366478446801668, -0.249880409389546, -1.5092014303269374, -1.2951933581366464, -0.3776816935327316, 1.0500367846007583, 2.0298731333973334, -0.5177442142650164, 0.581326559850293, -1.15614374441983, -1.5974251016007963, -2.069878207551687, 0.34569618335219143, 1.0580442289797154, 1.1143756268125253, 0.6571354815017619, -0.033134048005478076, 0.6500503187731492, 1.804249260594454, 0.8631998455493465, -0.8651144914203226, -0.48603282398988484, -1.7877943468082442, 1.3108090320196126, -1.741348077810631, -0.29830640334535924, 1.4957145372526197, -0.5414125413987575, 0.2455871408269604, 0.27960360946611895, -0.8673052508542467, 0.230103197123487, -0.034143955297715245, 0.06502501025699589, -2.194321449524192, -0.1632314690482964, -0.9880534457273676, -0.29926393381783994, 0.29366069873202544, -0.8723884495437727, 7.053549891964815e-05, -1.3105748100582921, 1.4652962429346243, -0.7303225872571056, 0.7981774297351967, 0.8611213956410901, 0.02222822235287305, 0.6600086924732197, -2.6409659803744203, -0.5348090955409671, 1.075407406047104, 0.7052304529529135, -0.045799926817225264, -0.4760153334720511, -1.3587210895550077, -0.5272599116076675, -0.18591988363725706, 0.6091872034069954, 0.2668676271844891, 0.10318620801740346, -0.8599520266992087, 0.6605329680149644, 0.5344677366032592, 0.12479350332966131, -0.214626583134152, -0.45984866368511523, -0.9255916206161602, 0.3393940004328594, -0.8931237996637412, 0.8724502332921894, -0.2837812299787633, -0.4374598153438439, 0.2803366464933947, 0.26179862710883917], \"yaxis\": \"y5\"}, {\"histfunc\": \"count\", \"histnorm\": \"\", \"marker\": {\"color\": \"rgba(55, 128, 191, 1.0)\", \"line\": {\"color\": \"#4D5663\", \"width\": 1.3}}, \"name\": \"B\", \"nbinsx\": 10, \"opacity\": 0.8, \"orientation\": \"v\", \"type\": \"histogram\", \"x\": [-0.2423219949389645, -2.706976290388302, 1.2953954200897868, 1.0140749314238602, 0.013848059806591515, 0.5887514333233522, 0.3465406031828833, 1.0611421450054488, 0.6419282667293559, -0.8838581497504631, 0.4148028398283948, -0.6517477223270324, 0.8674115443174526, 0.5489179991817551, 0.6574300852313422, -0.4549444472057328, -0.6706131600173989, -0.5291126040546213, -1.8217365516677237, 1.444721043724773, 0.7590392104277327, -0.09293925013803317, 0.0503972895855374, 0.145007606799687, -1.4809147392137594, -1.7563679027915409, -0.1366478446801668, -0.249880409389546, -1.5092014303269374, -1.2951933581366464, -0.3776816935327316, 1.0500367846007583, 2.0298731333973334, -0.5177442142650164, 0.581326559850293, -1.15614374441983, -1.5974251016007963, -2.069878207551687, 0.34569618335219143, 1.0580442289797154, 1.1143756268125253, 0.6571354815017619, -0.033134048005478076, 0.6500503187731492, 1.804249260594454, 0.8631998455493465, -0.8651144914203226, -0.48603282398988484, -1.7877943468082442, 1.3108090320196126, -1.741348077810631, -0.29830640334535924, 1.4957145372526197, -0.5414125413987575, 0.2455871408269604, 0.27960360946611895, -0.8673052508542467, 0.230103197123487, -0.034143955297715245, 0.06502501025699589, -2.194321449524192, -0.1632314690482964, -0.9880534457273676, -0.29926393381783994, 0.29366069873202544, -0.8723884495437727, 7.053549891964815e-05, -1.3105748100582921, 1.4652962429346243, -0.7303225872571056, 0.7981774297351967, 0.8611213956410901, 0.02222822235287305, 0.6600086924732197, -2.6409659803744203, -0.5348090955409671, 1.075407406047104, 0.7052304529529135, -0.045799926817225264, -0.4760153334720511, -1.3587210895550077, -0.5272599116076675, -0.18591988363725706, 0.6091872034069954, 0.2668676271844891, 0.10318620801740346, -0.8599520266992087, 0.6605329680149644, 0.5344677366032592, 0.12479350332966131, -0.214626583134152, -0.45984866368511523, -0.9255916206161602, 0.3393940004328594, -0.8931237996637412, 0.8724502332921894, -0.2837812299787633, -0.4374598153438439, 0.2803366464933947, 0.26179862710883917], \"xaxis\": \"x6\", \"yaxis\": \"y6\"}, {\"line\": {\"color\": \"rgba(128, 128, 128, 1.0)\", \"dash\": \"solid\", \"shape\": \"linear\", \"width\": 1.3}, \"marker\": {\"size\": 2, \"symbol\": \"circle\"}, \"mode\": \"markers\", \"name\": \"B\", \"text\": \"\", \"type\": \"scatter\", \"x\": [1.103658168134268, -0.3591088057803075, -0.39060885058482625, 1.0268389213825342, 0.37525317401950337, -2.109469003401564, -0.20464412500906481, 0.4709910960187212, 0.6287484177487179, -1.4947669821370941, -1.0124759754143848, -0.9722740393288398, -1.5541079267131352, 0.18491719299716675, 0.028119880180558547, 2.3776005952965362, 0.8573971393446435, -0.02148420174929133, -0.45998947752687247, 0.5957525359019503, 0.42868799601669605, 0.7522958399273246, -0.49506521581813334, 0.12601821179138653, 1.4574891866522441, -1.7215547273696028, -1.5905736673555888, -0.08493535149222459, 0.06496327297522027, -0.12813636887578705, 0.28089419838819085, -2.22968789372741, 0.25048100303795545, 0.9615338543155373, -0.39711225120710925, -2.269571685423856, 1.1568173419045844, 0.4830963370006128, 2.0361871176081685, 1.249037640098134, -0.26404672112272726, -0.6160132531200296, -0.29058781797725597, -0.7819412809390804, 0.9325898047411016, -1.248224919284687, 0.053803513107677524, -0.6606674441009643, 0.34565063400087503, 0.9077877065224605, -0.021583367642827422, -0.7247665633539977, 0.872426561390276, 0.7165237426575491, 0.32440912134482014, 0.39073465783120026, 0.5709309785083928, 0.11677062319825496, -0.742717177244977, 1.7369798914556978, 0.5309709593612433, -1.241465193517055, -0.6025792967295633, -1.6453621669374718, -0.6721592145286471, -1.3684956379017843, -0.6261797443735899, -0.4890437448378885, -0.019936658527059052, -0.18380202921880426, -0.018236856700445732, 0.7905387036050214, 0.35619125433181986, 0.46153025865065106, -0.03517838747668369, -0.9684572558943861, 0.09096584912354647, 1.6866211951501633, -0.331233380098675, -0.24980786580545983, 0.16436980245966032, -0.17259158419807735, -1.0513468106314208, -1.091385709533513, -0.1547383751541822, 0.32087139391854236, 2.4415085901880906, -0.2617359298758687, -0.6257854770218316, -0.3516834199114664, -0.320363164803975, 0.13163592592333345, -1.233696526228249, 0.7635946201193746, 0.3269417343002411, 0.8925788709670148, -0.6336563558149579, 0.399487532254476, -0.7715119697934507, -3.259319388606262], \"xaxis\": \"x7\", \"y\": [-0.2423219949389645, -2.706976290388302, 1.2953954200897868, 1.0140749314238602, 0.013848059806591515, 0.5887514333233522, 0.3465406031828833, 1.0611421450054488, 0.6419282667293559, -0.8838581497504631, 0.4148028398283948, -0.6517477223270324, 0.8674115443174526, 0.5489179991817551, 0.6574300852313422, -0.4549444472057328, -0.6706131600173989, -0.5291126040546213, -1.8217365516677237, 1.444721043724773, 0.7590392104277327, -0.09293925013803317, 0.0503972895855374, 0.145007606799687, -1.4809147392137594, -1.7563679027915409, -0.1366478446801668, -0.249880409389546, -1.5092014303269374, -1.2951933581366464, -0.3776816935327316, 1.0500367846007583, 2.0298731333973334, -0.5177442142650164, 0.581326559850293, -1.15614374441983, -1.5974251016007963, -2.069878207551687, 0.34569618335219143, 1.0580442289797154, 1.1143756268125253, 0.6571354815017619, -0.033134048005478076, 0.6500503187731492, 1.804249260594454, 0.8631998455493465, -0.8651144914203226, -0.48603282398988484, -1.7877943468082442, 1.3108090320196126, -1.741348077810631, -0.29830640334535924, 1.4957145372526197, -0.5414125413987575, 0.2455871408269604, 0.27960360946611895, -0.8673052508542467, 0.230103197123487, -0.034143955297715245, 0.06502501025699589, -2.194321449524192, -0.1632314690482964, -0.9880534457273676, -0.29926393381783994, 0.29366069873202544, -0.8723884495437727, 7.053549891964815e-05, -1.3105748100582921, 1.4652962429346243, -0.7303225872571056, 0.7981774297351967, 0.8611213956410901, 0.02222822235287305, 0.6600086924732197, -2.6409659803744203, -0.5348090955409671, 1.075407406047104, 0.7052304529529135, -0.045799926817225264, -0.4760153334720511, -1.3587210895550077, -0.5272599116076675, -0.18591988363725706, 0.6091872034069954, 0.2668676271844891, 0.10318620801740346, -0.8599520266992087, 0.6605329680149644, 0.5344677366032592, 0.12479350332966131, -0.214626583134152, -0.45984866368511523, -0.9255916206161602, 0.3393940004328594, -0.8931237996637412, 0.8724502332921894, -0.2837812299787633, -0.4374598153438439, 0.2803366464933947, 0.26179862710883917], \"yaxis\": \"y7\"}, {\"line\": {\"color\": \"rgba(128, 128, 128, 1.0)\", \"dash\": \"solid\", \"shape\": \"linear\", \"width\": 1.3}, \"marker\": {\"size\": 2, \"symbol\": \"circle\"}, \"mode\": \"markers\", \"name\": \"B\", \"text\": \"\", \"type\": \"scatter\", \"x\": [0.13612114760371338, 0.6973809335728574, -0.7078758752611267, 0.6262366779100164, 0.10309974527505125, 0.33139722516369724, 0.36747892499629925, 0.14251274089392624, -0.3588829955398141, 0.10467854448179542, 1.6140894670139114, -0.807945320943562, -1.0420086179718775, 0.044574600499717495, -0.2664971772031081, -2.4812531120189285, -1.080941965525086, -0.19575290678697635, -1.2578476709974478, 1.58505312670216, 1.4328232815234367, 0.9752077333888645, 1.2279930469858122, 0.13178858541821573, 0.3742348234381564, 0.04543290517656309, 0.5311260012000816, 0.9343403122363072, 0.5109688717695492, -0.6825683338201282, -0.24525398660750747, 1.8173355000295484, 1.4073989730798007, -0.7431687038635622, 0.2853400704002939, 1.4154767998867828, -1.964545093385441, -0.852961533326378, 1.5629854943063615, -1.3223543936624362, -0.8164482851839465, -1.4188626138402483, 0.37464481201986305, 0.08456490382466485, -0.07127922648486712, -0.5809207986239819, 0.46946167499485436, -0.15164854159165395, 0.21360368717392758, -0.16690076482986899, -0.7466562109715402, -1.291552986185833, -1.0420301161391392, -1.747297929276348, 1.6960273414509288, -0.6456775949581188, 0.8675577175843852, -0.6762811519015643, 0.9392232028456343, -0.8759664361760314, 0.06565776481397993, 1.4656288430837245, 0.6987710271990012, -1.5108558578622469, -1.6629308595281154, -0.20042999267648046, 1.5514440154435116, -0.061982164613740794, -0.29288507626148663, -0.8163051949790358, -1.820449719594646, -0.5936425846671212, -0.634722662247593, 0.9865657095730139, 0.8901264886476777, 0.5881686543501173, 0.43695832742984364, 0.2759751644781517, -1.0199650974737116, 0.8347514102951381, -0.2316245289196427, -2.315838601291783, 0.5024980167261636, -0.08939173471736825, 0.17862045583046832, -0.5218627240092527, -1.4070595618366213, 0.2739386762089091, 0.16785113370242663, -0.12606885515384725, -0.8750221815908387, -0.7041764705971845, 1.0903752225195904, 1.5725212145746215, -0.2637854623464598, 0.447650226918602, -0.7554874412199926, -0.715835589846943, 0.08556869339935512, -0.47792133449636676], \"xaxis\": \"x8\", \"y\": [-0.2423219949389645, -2.706976290388302, 1.2953954200897868, 1.0140749314238602, 0.013848059806591515, 0.5887514333233522, 0.3465406031828833, 1.0611421450054488, 0.6419282667293559, -0.8838581497504631, 0.4148028398283948, -0.6517477223270324, 0.8674115443174526, 0.5489179991817551, 0.6574300852313422, -0.4549444472057328, -0.6706131600173989, -0.5291126040546213, -1.8217365516677237, 1.444721043724773, 0.7590392104277327, -0.09293925013803317, 0.0503972895855374, 0.145007606799687, -1.4809147392137594, -1.7563679027915409, -0.1366478446801668, -0.249880409389546, -1.5092014303269374, -1.2951933581366464, -0.3776816935327316, 1.0500367846007583, 2.0298731333973334, -0.5177442142650164, 0.581326559850293, -1.15614374441983, -1.5974251016007963, -2.069878207551687, 0.34569618335219143, 1.0580442289797154, 1.1143756268125253, 0.6571354815017619, -0.033134048005478076, 0.6500503187731492, 1.804249260594454, 0.8631998455493465, -0.8651144914203226, -0.48603282398988484, -1.7877943468082442, 1.3108090320196126, -1.741348077810631, -0.29830640334535924, 1.4957145372526197, -0.5414125413987575, 0.2455871408269604, 0.27960360946611895, -0.8673052508542467, 0.230103197123487, -0.034143955297715245, 0.06502501025699589, -2.194321449524192, -0.1632314690482964, -0.9880534457273676, -0.29926393381783994, 0.29366069873202544, -0.8723884495437727, 7.053549891964815e-05, -1.3105748100582921, 1.4652962429346243, -0.7303225872571056, 0.7981774297351967, 0.8611213956410901, 0.02222822235287305, 0.6600086924732197, -2.6409659803744203, -0.5348090955409671, 1.075407406047104, 0.7052304529529135, -0.045799926817225264, -0.4760153334720511, -1.3587210895550077, -0.5272599116076675, -0.18591988363725706, 0.6091872034069954, 0.2668676271844891, 0.10318620801740346, -0.8599520266992087, 0.6605329680149644, 0.5344677366032592, 0.12479350332966131, -0.214626583134152, -0.45984866368511523, -0.9255916206161602, 0.3393940004328594, -0.8931237996637412, 0.8724502332921894, -0.2837812299787633, -0.4374598153438439, 0.2803366464933947, 0.26179862710883917], \"yaxis\": \"y8\"}, {\"line\": {\"color\": \"rgba(128, 128, 128, 1.0)\", \"dash\": \"solid\", \"shape\": \"linear\", \"width\": 1.3}, \"marker\": {\"size\": 2, \"symbol\": \"circle\"}, \"mode\": \"markers\", \"name\": \"C\", \"text\": \"\", \"type\": \"scatter\", \"x\": [2.349463736678292, 0.3108666103275385, -0.583059093678768, 0.7435885743025653, 0.5099588098432798, 1.966548109766253, 1.1129898957074027, 0.9611232611901351, -0.8806101014203047, 1.0375710853156552, 0.8845667407050395, 0.35646066025878753, -1.1704649292446916, -0.8484060076978288, -1.328673180495637, -0.6290443312838666, 0.2544498414697697, 0.680348696415441, -0.574757688795644, 0.7873185458279743, 1.092439973790728, -0.33905546810607146, -0.42096026392177893, 2.0117528995759932, -0.11791651021532197, 0.3825425311059134, 0.8719462945865029, -0.01409655835904745, -0.6241638118596583, 0.3075622492359093, 1.2412826092237823, -0.3586456201977495, -1.7082564416376078, -0.7390107854664355, 0.07674312808999541, 0.6621222926702514, -0.5976930309969201, 0.02449196098641207, 1.6507602514940374, -0.7930135621497139, -0.30453355733048615, -0.07763659811971005, 2.1073933548155788, 0.8882738710911402, 0.969196759272263, 2.9340866721007295, 1.3811341499105498, -1.0242821964430902, 0.3922130569684905, 0.33620212753268575, -0.5302585342303152, 0.17890119119824593, 0.019558389885683335, 0.2586508632542788, -0.5882636693456064, 0.4280553780557698, 0.6573994705294567, -2.3258329038234393, -0.6421196396204563, 0.36292251478888504, -1.8104712563800573, -0.7829556928950923, 0.5001903797435958, -0.018774145722104715, -0.016942425665276803, -1.525440739390988, -0.8006457698691762, 0.5296622914630553, -1.8220488470166538, -0.06173198001629492, -0.1642904593185454, -0.7468745036491485, 0.6761936748237967, 1.9478795434010834, 0.4033264043525933, 0.298827194151868, -1.0231861023554405, -0.6546339980700924, -0.4228532658975435, 0.9338488686667084, 0.4194981015674065, -1.2940297969923231, -0.5633240026073197, -1.7315335815688098, 0.03062121319198041, 0.27423303246300695, 0.2591970498434519, -1.8963660993830473, -2.1397656526426228, 1.8661395187606886, 0.5348513410557355, -0.25764763876401997, -0.12581490569591677, 0.9976646067470557, 1.1606409118888894, 0.36809489076520036, -1.099822859422754, -0.9177250385045125, 0.25358679835536085, 1.201352455006568], \"xaxis\": \"x9\", \"y\": [1.103658168134268, -0.3591088057803075, -0.39060885058482625, 1.0268389213825342, 0.37525317401950337, -2.109469003401564, -0.20464412500906481, 0.4709910960187212, 0.6287484177487179, -1.4947669821370941, -1.0124759754143848, -0.9722740393288398, -1.5541079267131352, 0.18491719299716675, 0.028119880180558547, 2.3776005952965362, 0.8573971393446435, -0.02148420174929133, -0.45998947752687247, 0.5957525359019503, 0.42868799601669605, 0.7522958399273246, -0.49506521581813334, 0.12601821179138653, 1.4574891866522441, -1.7215547273696028, -1.5905736673555888, -0.08493535149222459, 0.06496327297522027, -0.12813636887578705, 0.28089419838819085, -2.22968789372741, 0.25048100303795545, 0.9615338543155373, -0.39711225120710925, -2.269571685423856, 1.1568173419045844, 0.4830963370006128, 2.0361871176081685, 1.249037640098134, -0.26404672112272726, -0.6160132531200296, -0.29058781797725597, -0.7819412809390804, 0.9325898047411016, -1.248224919284687, 0.053803513107677524, -0.6606674441009643, 0.34565063400087503, 0.9077877065224605, -0.021583367642827422, -0.7247665633539977, 0.872426561390276, 0.7165237426575491, 0.32440912134482014, 0.39073465783120026, 0.5709309785083928, 0.11677062319825496, -0.742717177244977, 1.7369798914556978, 0.5309709593612433, -1.241465193517055, -0.6025792967295633, -1.6453621669374718, -0.6721592145286471, -1.3684956379017843, -0.6261797443735899, -0.4890437448378885, -0.019936658527059052, -0.18380202921880426, -0.018236856700445732, 0.7905387036050214, 0.35619125433181986, 0.46153025865065106, -0.03517838747668369, -0.9684572558943861, 0.09096584912354647, 1.6866211951501633, -0.331233380098675, -0.24980786580545983, 0.16436980245966032, -0.17259158419807735, -1.0513468106314208, -1.091385709533513, -0.1547383751541822, 0.32087139391854236, 2.4415085901880906, -0.2617359298758687, -0.6257854770218316, -0.3516834199114664, -0.320363164803975, 0.13163592592333345, -1.233696526228249, 0.7635946201193746, 0.3269417343002411, 0.8925788709670148, -0.6336563558149579, 0.399487532254476, -0.7715119697934507, -3.259319388606262], \"yaxis\": \"y9\"}, {\"line\": {\"color\": \"rgba(128, 128, 128, 1.0)\", \"dash\": \"solid\", \"shape\": \"linear\", \"width\": 1.3}, \"marker\": {\"size\": 2, \"symbol\": \"circle\"}, \"mode\": \"markers\", \"name\": \"C\", \"text\": \"\", \"type\": \"scatter\", \"x\": [-0.2423219949389645, -2.706976290388302, 1.2953954200897868, 1.0140749314238602, 0.013848059806591515, 0.5887514333233522, 0.3465406031828833, 1.0611421450054488, 0.6419282667293559, -0.8838581497504631, 0.4148028398283948, -0.6517477223270324, 0.8674115443174526, 0.5489179991817551, 0.6574300852313422, -0.4549444472057328, -0.6706131600173989, -0.5291126040546213, -1.8217365516677237, 1.444721043724773, 0.7590392104277327, -0.09293925013803317, 0.0503972895855374, 0.145007606799687, -1.4809147392137594, -1.7563679027915409, -0.1366478446801668, -0.249880409389546, -1.5092014303269374, -1.2951933581366464, -0.3776816935327316, 1.0500367846007583, 2.0298731333973334, -0.5177442142650164, 0.581326559850293, -1.15614374441983, -1.5974251016007963, -2.069878207551687, 0.34569618335219143, 1.0580442289797154, 1.1143756268125253, 0.6571354815017619, -0.033134048005478076, 0.6500503187731492, 1.804249260594454, 0.8631998455493465, -0.8651144914203226, -0.48603282398988484, -1.7877943468082442, 1.3108090320196126, -1.741348077810631, -0.29830640334535924, 1.4957145372526197, -0.5414125413987575, 0.2455871408269604, 0.27960360946611895, -0.8673052508542467, 0.230103197123487, -0.034143955297715245, 0.06502501025699589, -2.194321449524192, -0.1632314690482964, -0.9880534457273676, -0.29926393381783994, 0.29366069873202544, -0.8723884495437727, 7.053549891964815e-05, -1.3105748100582921, 1.4652962429346243, -0.7303225872571056, 0.7981774297351967, 0.8611213956410901, 0.02222822235287305, 0.6600086924732197, -2.6409659803744203, -0.5348090955409671, 1.075407406047104, 0.7052304529529135, -0.045799926817225264, -0.4760153334720511, -1.3587210895550077, -0.5272599116076675, -0.18591988363725706, 0.6091872034069954, 0.2668676271844891, 0.10318620801740346, -0.8599520266992087, 0.6605329680149644, 0.5344677366032592, 0.12479350332966131, -0.214626583134152, -0.45984866368511523, -0.9255916206161602, 0.3393940004328594, -0.8931237996637412, 0.8724502332921894, -0.2837812299787633, -0.4374598153438439, 0.2803366464933947, 0.26179862710883917], \"xaxis\": \"x10\", \"y\": [1.103658168134268, -0.3591088057803075, -0.39060885058482625, 1.0268389213825342, 0.37525317401950337, -2.109469003401564, -0.20464412500906481, 0.4709910960187212, 0.6287484177487179, -1.4947669821370941, -1.0124759754143848, -0.9722740393288398, -1.5541079267131352, 0.18491719299716675, 0.028119880180558547, 2.3776005952965362, 0.8573971393446435, -0.02148420174929133, -0.45998947752687247, 0.5957525359019503, 0.42868799601669605, 0.7522958399273246, -0.49506521581813334, 0.12601821179138653, 1.4574891866522441, -1.7215547273696028, -1.5905736673555888, -0.08493535149222459, 0.06496327297522027, -0.12813636887578705, 0.28089419838819085, -2.22968789372741, 0.25048100303795545, 0.9615338543155373, -0.39711225120710925, -2.269571685423856, 1.1568173419045844, 0.4830963370006128, 2.0361871176081685, 1.249037640098134, -0.26404672112272726, -0.6160132531200296, -0.29058781797725597, -0.7819412809390804, 0.9325898047411016, -1.248224919284687, 0.053803513107677524, -0.6606674441009643, 0.34565063400087503, 0.9077877065224605, -0.021583367642827422, -0.7247665633539977, 0.872426561390276, 0.7165237426575491, 0.32440912134482014, 0.39073465783120026, 0.5709309785083928, 0.11677062319825496, -0.742717177244977, 1.7369798914556978, 0.5309709593612433, -1.241465193517055, -0.6025792967295633, -1.6453621669374718, -0.6721592145286471, -1.3684956379017843, -0.6261797443735899, -0.4890437448378885, -0.019936658527059052, -0.18380202921880426, -0.018236856700445732, 0.7905387036050214, 0.35619125433181986, 0.46153025865065106, -0.03517838747668369, -0.9684572558943861, 0.09096584912354647, 1.6866211951501633, -0.331233380098675, -0.24980786580545983, 0.16436980245966032, -0.17259158419807735, -1.0513468106314208, -1.091385709533513, -0.1547383751541822, 0.32087139391854236, 2.4415085901880906, -0.2617359298758687, -0.6257854770218316, -0.3516834199114664, -0.320363164803975, 0.13163592592333345, -1.233696526228249, 0.7635946201193746, 0.3269417343002411, 0.8925788709670148, -0.6336563558149579, 0.399487532254476, -0.7715119697934507, -3.259319388606262], \"yaxis\": \"y10\"}, {\"histfunc\": \"count\", \"histnorm\": \"\", \"marker\": {\"color\": \"rgba(50, 171, 96, 1.0)\", \"line\": {\"color\": \"#4D5663\", \"width\": 1.3}}, \"name\": \"C\", \"nbinsx\": 10, \"opacity\": 0.8, \"orientation\": \"v\", \"type\": \"histogram\", \"x\": [1.103658168134268, -0.3591088057803075, -0.39060885058482625, 1.0268389213825342, 0.37525317401950337, -2.109469003401564, -0.20464412500906481, 0.4709910960187212, 0.6287484177487179, -1.4947669821370941, -1.0124759754143848, -0.9722740393288398, -1.5541079267131352, 0.18491719299716675, 0.028119880180558547, 2.3776005952965362, 0.8573971393446435, -0.02148420174929133, -0.45998947752687247, 0.5957525359019503, 0.42868799601669605, 0.7522958399273246, -0.49506521581813334, 0.12601821179138653, 1.4574891866522441, -1.7215547273696028, -1.5905736673555888, -0.08493535149222459, 0.06496327297522027, -0.12813636887578705, 0.28089419838819085, -2.22968789372741, 0.25048100303795545, 0.9615338543155373, -0.39711225120710925, -2.269571685423856, 1.1568173419045844, 0.4830963370006128, 2.0361871176081685, 1.249037640098134, -0.26404672112272726, -0.6160132531200296, -0.29058781797725597, -0.7819412809390804, 0.9325898047411016, -1.248224919284687, 0.053803513107677524, -0.6606674441009643, 0.34565063400087503, 0.9077877065224605, -0.021583367642827422, -0.7247665633539977, 0.872426561390276, 0.7165237426575491, 0.32440912134482014, 0.39073465783120026, 0.5709309785083928, 0.11677062319825496, -0.742717177244977, 1.7369798914556978, 0.5309709593612433, -1.241465193517055, -0.6025792967295633, -1.6453621669374718, -0.6721592145286471, -1.3684956379017843, -0.6261797443735899, -0.4890437448378885, -0.019936658527059052, -0.18380202921880426, -0.018236856700445732, 0.7905387036050214, 0.35619125433181986, 0.46153025865065106, -0.03517838747668369, -0.9684572558943861, 0.09096584912354647, 1.6866211951501633, -0.331233380098675, -0.24980786580545983, 0.16436980245966032, -0.17259158419807735, -1.0513468106314208, -1.091385709533513, -0.1547383751541822, 0.32087139391854236, 2.4415085901880906, -0.2617359298758687, -0.6257854770218316, -0.3516834199114664, -0.320363164803975, 0.13163592592333345, -1.233696526228249, 0.7635946201193746, 0.3269417343002411, 0.8925788709670148, -0.6336563558149579, 0.399487532254476, -0.7715119697934507, -3.259319388606262], \"xaxis\": \"x11\", \"yaxis\": \"y11\"}, {\"line\": {\"color\": \"rgba(128, 128, 128, 1.0)\", \"dash\": \"solid\", \"shape\": \"linear\", \"width\": 1.3}, \"marker\": {\"size\": 2, \"symbol\": \"circle\"}, \"mode\": \"markers\", \"name\": \"C\", \"text\": \"\", \"type\": \"scatter\", \"x\": [0.13612114760371338, 0.6973809335728574, -0.7078758752611267, 0.6262366779100164, 0.10309974527505125, 0.33139722516369724, 0.36747892499629925, 0.14251274089392624, -0.3588829955398141, 0.10467854448179542, 1.6140894670139114, -0.807945320943562, -1.0420086179718775, 0.044574600499717495, -0.2664971772031081, -2.4812531120189285, -1.080941965525086, -0.19575290678697635, -1.2578476709974478, 1.58505312670216, 1.4328232815234367, 0.9752077333888645, 1.2279930469858122, 0.13178858541821573, 0.3742348234381564, 0.04543290517656309, 0.5311260012000816, 0.9343403122363072, 0.5109688717695492, -0.6825683338201282, -0.24525398660750747, 1.8173355000295484, 1.4073989730798007, -0.7431687038635622, 0.2853400704002939, 1.4154767998867828, -1.964545093385441, -0.852961533326378, 1.5629854943063615, -1.3223543936624362, -0.8164482851839465, -1.4188626138402483, 0.37464481201986305, 0.08456490382466485, -0.07127922648486712, -0.5809207986239819, 0.46946167499485436, -0.15164854159165395, 0.21360368717392758, -0.16690076482986899, -0.7466562109715402, -1.291552986185833, -1.0420301161391392, -1.747297929276348, 1.6960273414509288, -0.6456775949581188, 0.8675577175843852, -0.6762811519015643, 0.9392232028456343, -0.8759664361760314, 0.06565776481397993, 1.4656288430837245, 0.6987710271990012, -1.5108558578622469, -1.6629308595281154, -0.20042999267648046, 1.5514440154435116, -0.061982164613740794, -0.29288507626148663, -0.8163051949790358, -1.820449719594646, -0.5936425846671212, -0.634722662247593, 0.9865657095730139, 0.8901264886476777, 0.5881686543501173, 0.43695832742984364, 0.2759751644781517, -1.0199650974737116, 0.8347514102951381, -0.2316245289196427, -2.315838601291783, 0.5024980167261636, -0.08939173471736825, 0.17862045583046832, -0.5218627240092527, -1.4070595618366213, 0.2739386762089091, 0.16785113370242663, -0.12606885515384725, -0.8750221815908387, -0.7041764705971845, 1.0903752225195904, 1.5725212145746215, -0.2637854623464598, 0.447650226918602, -0.7554874412199926, -0.715835589846943, 0.08556869339935512, -0.47792133449636676], \"xaxis\": \"x12\", \"y\": [1.103658168134268, -0.3591088057803075, -0.39060885058482625, 1.0268389213825342, 0.37525317401950337, -2.109469003401564, -0.20464412500906481, 0.4709910960187212, 0.6287484177487179, -1.4947669821370941, -1.0124759754143848, -0.9722740393288398, -1.5541079267131352, 0.18491719299716675, 0.028119880180558547, 2.3776005952965362, 0.8573971393446435, -0.02148420174929133, -0.45998947752687247, 0.5957525359019503, 0.42868799601669605, 0.7522958399273246, -0.49506521581813334, 0.12601821179138653, 1.4574891866522441, -1.7215547273696028, -1.5905736673555888, -0.08493535149222459, 0.06496327297522027, -0.12813636887578705, 0.28089419838819085, -2.22968789372741, 0.25048100303795545, 0.9615338543155373, -0.39711225120710925, -2.269571685423856, 1.1568173419045844, 0.4830963370006128, 2.0361871176081685, 1.249037640098134, -0.26404672112272726, -0.6160132531200296, -0.29058781797725597, -0.7819412809390804, 0.9325898047411016, -1.248224919284687, 0.053803513107677524, -0.6606674441009643, 0.34565063400087503, 0.9077877065224605, -0.021583367642827422, -0.7247665633539977, 0.872426561390276, 0.7165237426575491, 0.32440912134482014, 0.39073465783120026, 0.5709309785083928, 0.11677062319825496, -0.742717177244977, 1.7369798914556978, 0.5309709593612433, -1.241465193517055, -0.6025792967295633, -1.6453621669374718, -0.6721592145286471, -1.3684956379017843, -0.6261797443735899, -0.4890437448378885, -0.019936658527059052, -0.18380202921880426, -0.018236856700445732, 0.7905387036050214, 0.35619125433181986, 0.46153025865065106, -0.03517838747668369, -0.9684572558943861, 0.09096584912354647, 1.6866211951501633, -0.331233380098675, -0.24980786580545983, 0.16436980245966032, -0.17259158419807735, -1.0513468106314208, -1.091385709533513, -0.1547383751541822, 0.32087139391854236, 2.4415085901880906, -0.2617359298758687, -0.6257854770218316, -0.3516834199114664, -0.320363164803975, 0.13163592592333345, -1.233696526228249, 0.7635946201193746, 0.3269417343002411, 0.8925788709670148, -0.6336563558149579, 0.399487532254476, -0.7715119697934507, -3.259319388606262], \"yaxis\": \"y12\"}, {\"line\": {\"color\": \"rgba(128, 128, 128, 1.0)\", \"dash\": \"solid\", \"shape\": \"linear\", \"width\": 1.3}, \"marker\": {\"size\": 2, \"symbol\": \"circle\"}, \"mode\": \"markers\", \"name\": \"D\", \"text\": \"\", \"type\": \"scatter\", \"x\": [2.349463736678292, 0.3108666103275385, -0.583059093678768, 0.7435885743025653, 0.5099588098432798, 1.966548109766253, 1.1129898957074027, 0.9611232611901351, -0.8806101014203047, 1.0375710853156552, 0.8845667407050395, 0.35646066025878753, -1.1704649292446916, -0.8484060076978288, -1.328673180495637, -0.6290443312838666, 0.2544498414697697, 0.680348696415441, -0.574757688795644, 0.7873185458279743, 1.092439973790728, -0.33905546810607146, -0.42096026392177893, 2.0117528995759932, -0.11791651021532197, 0.3825425311059134, 0.8719462945865029, -0.01409655835904745, -0.6241638118596583, 0.3075622492359093, 1.2412826092237823, -0.3586456201977495, -1.7082564416376078, -0.7390107854664355, 0.07674312808999541, 0.6621222926702514, -0.5976930309969201, 0.02449196098641207, 1.6507602514940374, -0.7930135621497139, -0.30453355733048615, -0.07763659811971005, 2.1073933548155788, 0.8882738710911402, 0.969196759272263, 2.9340866721007295, 1.3811341499105498, -1.0242821964430902, 0.3922130569684905, 0.33620212753268575, -0.5302585342303152, 0.17890119119824593, 0.019558389885683335, 0.2586508632542788, -0.5882636693456064, 0.4280553780557698, 0.6573994705294567, -2.3258329038234393, -0.6421196396204563, 0.36292251478888504, -1.8104712563800573, -0.7829556928950923, 0.5001903797435958, -0.018774145722104715, -0.016942425665276803, -1.525440739390988, -0.8006457698691762, 0.5296622914630553, -1.8220488470166538, -0.06173198001629492, -0.1642904593185454, -0.7468745036491485, 0.6761936748237967, 1.9478795434010834, 0.4033264043525933, 0.298827194151868, -1.0231861023554405, -0.6546339980700924, -0.4228532658975435, 0.9338488686667084, 0.4194981015674065, -1.2940297969923231, -0.5633240026073197, -1.7315335815688098, 0.03062121319198041, 0.27423303246300695, 0.2591970498434519, -1.8963660993830473, -2.1397656526426228, 1.8661395187606886, 0.5348513410557355, -0.25764763876401997, -0.12581490569591677, 0.9976646067470557, 1.1606409118888894, 0.36809489076520036, -1.099822859422754, -0.9177250385045125, 0.25358679835536085, 1.201352455006568], \"xaxis\": \"x13\", \"y\": [0.13612114760371338, 0.6973809335728574, -0.7078758752611267, 0.6262366779100164, 0.10309974527505125, 0.33139722516369724, 0.36747892499629925, 0.14251274089392624, -0.3588829955398141, 0.10467854448179542, 1.6140894670139114, -0.807945320943562, -1.0420086179718775, 0.044574600499717495, -0.2664971772031081, -2.4812531120189285, -1.080941965525086, -0.19575290678697635, -1.2578476709974478, 1.58505312670216, 1.4328232815234367, 0.9752077333888645, 1.2279930469858122, 0.13178858541821573, 0.3742348234381564, 0.04543290517656309, 0.5311260012000816, 0.9343403122363072, 0.5109688717695492, -0.6825683338201282, -0.24525398660750747, 1.8173355000295484, 1.4073989730798007, -0.7431687038635622, 0.2853400704002939, 1.4154767998867828, -1.964545093385441, -0.852961533326378, 1.5629854943063615, -1.3223543936624362, -0.8164482851839465, -1.4188626138402483, 0.37464481201986305, 0.08456490382466485, -0.07127922648486712, -0.5809207986239819, 0.46946167499485436, -0.15164854159165395, 0.21360368717392758, -0.16690076482986899, -0.7466562109715402, -1.291552986185833, -1.0420301161391392, -1.747297929276348, 1.6960273414509288, -0.6456775949581188, 0.8675577175843852, -0.6762811519015643, 0.9392232028456343, -0.8759664361760314, 0.06565776481397993, 1.4656288430837245, 0.6987710271990012, -1.5108558578622469, -1.6629308595281154, -0.20042999267648046, 1.5514440154435116, -0.061982164613740794, -0.29288507626148663, -0.8163051949790358, -1.820449719594646, -0.5936425846671212, -0.634722662247593, 0.9865657095730139, 0.8901264886476777, 0.5881686543501173, 0.43695832742984364, 0.2759751644781517, -1.0199650974737116, 0.8347514102951381, -0.2316245289196427, -2.315838601291783, 0.5024980167261636, -0.08939173471736825, 0.17862045583046832, -0.5218627240092527, -1.4070595618366213, 0.2739386762089091, 0.16785113370242663, -0.12606885515384725, -0.8750221815908387, -0.7041764705971845, 1.0903752225195904, 1.5725212145746215, -0.2637854623464598, 0.447650226918602, -0.7554874412199926, -0.715835589846943, 0.08556869339935512, -0.47792133449636676], \"yaxis\": \"y13\"}, {\"line\": {\"color\": \"rgba(128, 128, 128, 1.0)\", \"dash\": \"solid\", \"shape\": \"linear\", \"width\": 1.3}, \"marker\": {\"size\": 2, \"symbol\": \"circle\"}, \"mode\": \"markers\", \"name\": \"D\", \"text\": \"\", \"type\": \"scatter\", \"x\": [-0.2423219949389645, -2.706976290388302, 1.2953954200897868, 1.0140749314238602, 0.013848059806591515, 0.5887514333233522, 0.3465406031828833, 1.0611421450054488, 0.6419282667293559, -0.8838581497504631, 0.4148028398283948, -0.6517477223270324, 0.8674115443174526, 0.5489179991817551, 0.6574300852313422, -0.4549444472057328, -0.6706131600173989, -0.5291126040546213, -1.8217365516677237, 1.444721043724773, 0.7590392104277327, -0.09293925013803317, 0.0503972895855374, 0.145007606799687, -1.4809147392137594, -1.7563679027915409, -0.1366478446801668, -0.249880409389546, -1.5092014303269374, -1.2951933581366464, -0.3776816935327316, 1.0500367846007583, 2.0298731333973334, -0.5177442142650164, 0.581326559850293, -1.15614374441983, -1.5974251016007963, -2.069878207551687, 0.34569618335219143, 1.0580442289797154, 1.1143756268125253, 0.6571354815017619, -0.033134048005478076, 0.6500503187731492, 1.804249260594454, 0.8631998455493465, -0.8651144914203226, -0.48603282398988484, -1.7877943468082442, 1.3108090320196126, -1.741348077810631, -0.29830640334535924, 1.4957145372526197, -0.5414125413987575, 0.2455871408269604, 0.27960360946611895, -0.8673052508542467, 0.230103197123487, -0.034143955297715245, 0.06502501025699589, -2.194321449524192, -0.1632314690482964, -0.9880534457273676, -0.29926393381783994, 0.29366069873202544, -0.8723884495437727, 7.053549891964815e-05, -1.3105748100582921, 1.4652962429346243, -0.7303225872571056, 0.7981774297351967, 0.8611213956410901, 0.02222822235287305, 0.6600086924732197, -2.6409659803744203, -0.5348090955409671, 1.075407406047104, 0.7052304529529135, -0.045799926817225264, -0.4760153334720511, -1.3587210895550077, -0.5272599116076675, -0.18591988363725706, 0.6091872034069954, 0.2668676271844891, 0.10318620801740346, -0.8599520266992087, 0.6605329680149644, 0.5344677366032592, 0.12479350332966131, -0.214626583134152, -0.45984866368511523, -0.9255916206161602, 0.3393940004328594, -0.8931237996637412, 0.8724502332921894, -0.2837812299787633, -0.4374598153438439, 0.2803366464933947, 0.26179862710883917], \"xaxis\": \"x14\", \"y\": [0.13612114760371338, 0.6973809335728574, -0.7078758752611267, 0.6262366779100164, 0.10309974527505125, 0.33139722516369724, 0.36747892499629925, 0.14251274089392624, -0.3588829955398141, 0.10467854448179542, 1.6140894670139114, -0.807945320943562, -1.0420086179718775, 0.044574600499717495, -0.2664971772031081, -2.4812531120189285, -1.080941965525086, -0.19575290678697635, -1.2578476709974478, 1.58505312670216, 1.4328232815234367, 0.9752077333888645, 1.2279930469858122, 0.13178858541821573, 0.3742348234381564, 0.04543290517656309, 0.5311260012000816, 0.9343403122363072, 0.5109688717695492, -0.6825683338201282, -0.24525398660750747, 1.8173355000295484, 1.4073989730798007, -0.7431687038635622, 0.2853400704002939, 1.4154767998867828, -1.964545093385441, -0.852961533326378, 1.5629854943063615, -1.3223543936624362, -0.8164482851839465, -1.4188626138402483, 0.37464481201986305, 0.08456490382466485, -0.07127922648486712, -0.5809207986239819, 0.46946167499485436, -0.15164854159165395, 0.21360368717392758, -0.16690076482986899, -0.7466562109715402, -1.291552986185833, -1.0420301161391392, -1.747297929276348, 1.6960273414509288, -0.6456775949581188, 0.8675577175843852, -0.6762811519015643, 0.9392232028456343, -0.8759664361760314, 0.06565776481397993, 1.4656288430837245, 0.6987710271990012, -1.5108558578622469, -1.6629308595281154, -0.20042999267648046, 1.5514440154435116, -0.061982164613740794, -0.29288507626148663, -0.8163051949790358, -1.820449719594646, -0.5936425846671212, -0.634722662247593, 0.9865657095730139, 0.8901264886476777, 0.5881686543501173, 0.43695832742984364, 0.2759751644781517, -1.0199650974737116, 0.8347514102951381, -0.2316245289196427, -2.315838601291783, 0.5024980167261636, -0.08939173471736825, 0.17862045583046832, -0.5218627240092527, -1.4070595618366213, 0.2739386762089091, 0.16785113370242663, -0.12606885515384725, -0.8750221815908387, -0.7041764705971845, 1.0903752225195904, 1.5725212145746215, -0.2637854623464598, 0.447650226918602, -0.7554874412199926, -0.715835589846943, 0.08556869339935512, -0.47792133449636676], \"yaxis\": \"y14\"}, {\"line\": {\"color\": \"rgba(128, 128, 128, 1.0)\", \"dash\": \"solid\", \"shape\": \"linear\", \"width\": 1.3}, \"marker\": {\"size\": 2, \"symbol\": \"circle\"}, \"mode\": \"markers\", \"name\": \"D\", \"text\": \"\", \"type\": \"scatter\", \"x\": [1.103658168134268, -0.3591088057803075, -0.39060885058482625, 1.0268389213825342, 0.37525317401950337, -2.109469003401564, -0.20464412500906481, 0.4709910960187212, 0.6287484177487179, -1.4947669821370941, -1.0124759754143848, -0.9722740393288398, -1.5541079267131352, 0.18491719299716675, 0.028119880180558547, 2.3776005952965362, 0.8573971393446435, -0.02148420174929133, -0.45998947752687247, 0.5957525359019503, 0.42868799601669605, 0.7522958399273246, -0.49506521581813334, 0.12601821179138653, 1.4574891866522441, -1.7215547273696028, -1.5905736673555888, -0.08493535149222459, 0.06496327297522027, -0.12813636887578705, 0.28089419838819085, -2.22968789372741, 0.25048100303795545, 0.9615338543155373, -0.39711225120710925, -2.269571685423856, 1.1568173419045844, 0.4830963370006128, 2.0361871176081685, 1.249037640098134, -0.26404672112272726, -0.6160132531200296, -0.29058781797725597, -0.7819412809390804, 0.9325898047411016, -1.248224919284687, 0.053803513107677524, -0.6606674441009643, 0.34565063400087503, 0.9077877065224605, -0.021583367642827422, -0.7247665633539977, 0.872426561390276, 0.7165237426575491, 0.32440912134482014, 0.39073465783120026, 0.5709309785083928, 0.11677062319825496, -0.742717177244977, 1.7369798914556978, 0.5309709593612433, -1.241465193517055, -0.6025792967295633, -1.6453621669374718, -0.6721592145286471, -1.3684956379017843, -0.6261797443735899, -0.4890437448378885, -0.019936658527059052, -0.18380202921880426, -0.018236856700445732, 0.7905387036050214, 0.35619125433181986, 0.46153025865065106, -0.03517838747668369, -0.9684572558943861, 0.09096584912354647, 1.6866211951501633, -0.331233380098675, -0.24980786580545983, 0.16436980245966032, -0.17259158419807735, -1.0513468106314208, -1.091385709533513, -0.1547383751541822, 0.32087139391854236, 2.4415085901880906, -0.2617359298758687, -0.6257854770218316, -0.3516834199114664, -0.320363164803975, 0.13163592592333345, -1.233696526228249, 0.7635946201193746, 0.3269417343002411, 0.8925788709670148, -0.6336563558149579, 0.399487532254476, -0.7715119697934507, -3.259319388606262], \"xaxis\": \"x15\", \"y\": [0.13612114760371338, 0.6973809335728574, -0.7078758752611267, 0.6262366779100164, 0.10309974527505125, 0.33139722516369724, 0.36747892499629925, 0.14251274089392624, -0.3588829955398141, 0.10467854448179542, 1.6140894670139114, -0.807945320943562, -1.0420086179718775, 0.044574600499717495, -0.2664971772031081, -2.4812531120189285, -1.080941965525086, -0.19575290678697635, -1.2578476709974478, 1.58505312670216, 1.4328232815234367, 0.9752077333888645, 1.2279930469858122, 0.13178858541821573, 0.3742348234381564, 0.04543290517656309, 0.5311260012000816, 0.9343403122363072, 0.5109688717695492, -0.6825683338201282, -0.24525398660750747, 1.8173355000295484, 1.4073989730798007, -0.7431687038635622, 0.2853400704002939, 1.4154767998867828, -1.964545093385441, -0.852961533326378, 1.5629854943063615, -1.3223543936624362, -0.8164482851839465, -1.4188626138402483, 0.37464481201986305, 0.08456490382466485, -0.07127922648486712, -0.5809207986239819, 0.46946167499485436, -0.15164854159165395, 0.21360368717392758, -0.16690076482986899, -0.7466562109715402, -1.291552986185833, -1.0420301161391392, -1.747297929276348, 1.6960273414509288, -0.6456775949581188, 0.8675577175843852, -0.6762811519015643, 0.9392232028456343, -0.8759664361760314, 0.06565776481397993, 1.4656288430837245, 0.6987710271990012, -1.5108558578622469, -1.6629308595281154, -0.20042999267648046, 1.5514440154435116, -0.061982164613740794, -0.29288507626148663, -0.8163051949790358, -1.820449719594646, -0.5936425846671212, -0.634722662247593, 0.9865657095730139, 0.8901264886476777, 0.5881686543501173, 0.43695832742984364, 0.2759751644781517, -1.0199650974737116, 0.8347514102951381, -0.2316245289196427, -2.315838601291783, 0.5024980167261636, -0.08939173471736825, 0.17862045583046832, -0.5218627240092527, -1.4070595618366213, 0.2739386762089091, 0.16785113370242663, -0.12606885515384725, -0.8750221815908387, -0.7041764705971845, 1.0903752225195904, 1.5725212145746215, -0.2637854623464598, 0.447650226918602, -0.7554874412199926, -0.715835589846943, 0.08556869339935512, -0.47792133449636676], \"yaxis\": \"y15\"}, {\"histfunc\": \"count\", \"histnorm\": \"\", \"marker\": {\"color\": \"rgba(128, 0, 128, 1.0)\", \"line\": {\"color\": \"#4D5663\", \"width\": 1.3}}, \"name\": \"D\", \"nbinsx\": 10, \"opacity\": 0.8, \"orientation\": \"v\", \"type\": \"histogram\", \"x\": [0.13612114760371338, 0.6973809335728574, -0.7078758752611267, 0.6262366779100164, 0.10309974527505125, 0.33139722516369724, 0.36747892499629925, 0.14251274089392624, -0.3588829955398141, 0.10467854448179542, 1.6140894670139114, -0.807945320943562, -1.0420086179718775, 0.044574600499717495, -0.2664971772031081, -2.4812531120189285, -1.080941965525086, -0.19575290678697635, -1.2578476709974478, 1.58505312670216, 1.4328232815234367, 0.9752077333888645, 1.2279930469858122, 0.13178858541821573, 0.3742348234381564, 0.04543290517656309, 0.5311260012000816, 0.9343403122363072, 0.5109688717695492, -0.6825683338201282, -0.24525398660750747, 1.8173355000295484, 1.4073989730798007, -0.7431687038635622, 0.2853400704002939, 1.4154767998867828, -1.964545093385441, -0.852961533326378, 1.5629854943063615, -1.3223543936624362, -0.8164482851839465, -1.4188626138402483, 0.37464481201986305, 0.08456490382466485, -0.07127922648486712, -0.5809207986239819, 0.46946167499485436, -0.15164854159165395, 0.21360368717392758, -0.16690076482986899, -0.7466562109715402, -1.291552986185833, -1.0420301161391392, -1.747297929276348, 1.6960273414509288, -0.6456775949581188, 0.8675577175843852, -0.6762811519015643, 0.9392232028456343, -0.8759664361760314, 0.06565776481397993, 1.4656288430837245, 0.6987710271990012, -1.5108558578622469, -1.6629308595281154, -0.20042999267648046, 1.5514440154435116, -0.061982164613740794, -0.29288507626148663, -0.8163051949790358, -1.820449719594646, -0.5936425846671212, -0.634722662247593, 0.9865657095730139, 0.8901264886476777, 0.5881686543501173, 0.43695832742984364, 0.2759751644781517, -1.0199650974737116, 0.8347514102951381, -0.2316245289196427, -2.315838601291783, 0.5024980167261636, -0.08939173471736825, 0.17862045583046832, -0.5218627240092527, -1.4070595618366213, 0.2739386762089091, 0.16785113370242663, -0.12606885515384725, -0.8750221815908387, -0.7041764705971845, 1.0903752225195904, 1.5725212145746215, -0.2637854623464598, 0.447650226918602, -0.7554874412199926, -0.715835589846943, 0.08556869339935512, -0.47792133449636676], \"xaxis\": \"x16\", \"yaxis\": \"y16\"}],                        {\"bargap\": 0.02, \"legend\": {\"bgcolor\": \"#F5F6F9\", \"font\": {\"color\": \"#4D5663\"}}, \"paper_bgcolor\": \"#F5F6F9\", \"plot_bgcolor\": \"#F5F6F9\", \"showlegend\": false, \"template\": {\"data\": {\"bar\": [{\"error_x\": {\"color\": \"#2a3f5f\"}, \"error_y\": {\"color\": \"#2a3f5f\"}, \"marker\": {\"line\": {\"color\": \"#E5ECF6\", \"width\": 0.5}}, \"type\": \"bar\"}], \"barpolar\": [{\"marker\": {\"line\": {\"color\": \"#E5ECF6\", \"width\": 0.5}}, \"type\": \"barpolar\"}], \"carpet\": [{\"aaxis\": {\"endlinecolor\": \"#2a3f5f\", \"gridcolor\": \"white\", \"linecolor\": \"white\", \"minorgridcolor\": \"white\", \"startlinecolor\": \"#2a3f5f\"}, \"baxis\": {\"endlinecolor\": \"#2a3f5f\", \"gridcolor\": \"white\", \"linecolor\": \"white\", \"minorgridcolor\": \"white\", \"startlinecolor\": \"#2a3f5f\"}, \"type\": \"carpet\"}], \"choropleth\": [{\"colorbar\": {\"outlinewidth\": 0, \"ticks\": \"\"}, \"type\": \"choropleth\"}], \"contour\": [{\"colorbar\": {\"outlinewidth\": 0, \"ticks\": \"\"}, \"colorscale\": [[0.0, \"#0d0887\"], [0.1111111111111111, \"#46039f\"], [0.2222222222222222, \"#7201a8\"], [0.3333333333333333, \"#9c179e\"], [0.4444444444444444, \"#bd3786\"], [0.5555555555555556, \"#d8576b\"], [0.6666666666666666, \"#ed7953\"], [0.7777777777777778, \"#fb9f3a\"], [0.8888888888888888, \"#fdca26\"], [1.0, \"#f0f921\"]], \"type\": \"contour\"}], \"contourcarpet\": [{\"colorbar\": {\"outlinewidth\": 0, \"ticks\": \"\"}, \"type\": \"contourcarpet\"}], \"heatmap\": [{\"colorbar\": {\"outlinewidth\": 0, \"ticks\": \"\"}, \"colorscale\": [[0.0, \"#0d0887\"], [0.1111111111111111, \"#46039f\"], [0.2222222222222222, \"#7201a8\"], [0.3333333333333333, \"#9c179e\"], [0.4444444444444444, \"#bd3786\"], [0.5555555555555556, \"#d8576b\"], [0.6666666666666666, \"#ed7953\"], [0.7777777777777778, \"#fb9f3a\"], [0.8888888888888888, \"#fdca26\"], [1.0, \"#f0f921\"]], \"type\": \"heatmap\"}], \"heatmapgl\": [{\"colorbar\": {\"outlinewidth\": 0, \"ticks\": \"\"}, \"colorscale\": [[0.0, \"#0d0887\"], [0.1111111111111111, \"#46039f\"], [0.2222222222222222, \"#7201a8\"], [0.3333333333333333, \"#9c179e\"], [0.4444444444444444, \"#bd3786\"], [0.5555555555555556, \"#d8576b\"], [0.6666666666666666, \"#ed7953\"], [0.7777777777777778, \"#fb9f3a\"], [0.8888888888888888, \"#fdca26\"], [1.0, \"#f0f921\"]], \"type\": \"heatmapgl\"}], \"histogram\": [{\"marker\": {\"colorbar\": {\"outlinewidth\": 0, \"ticks\": \"\"}}, \"type\": \"histogram\"}], \"histogram2d\": [{\"colorbar\": {\"outlinewidth\": 0, \"ticks\": \"\"}, \"colorscale\": [[0.0, \"#0d0887\"], [0.1111111111111111, \"#46039f\"], [0.2222222222222222, \"#7201a8\"], [0.3333333333333333, \"#9c179e\"], [0.4444444444444444, \"#bd3786\"], [0.5555555555555556, \"#d8576b\"], [0.6666666666666666, \"#ed7953\"], [0.7777777777777778, \"#fb9f3a\"], [0.8888888888888888, \"#fdca26\"], [1.0, \"#f0f921\"]], \"type\": \"histogram2d\"}], \"histogram2dcontour\": [{\"colorbar\": {\"outlinewidth\": 0, \"ticks\": \"\"}, \"colorscale\": [[0.0, \"#0d0887\"], [0.1111111111111111, \"#46039f\"], [0.2222222222222222, \"#7201a8\"], [0.3333333333333333, \"#9c179e\"], [0.4444444444444444, \"#bd3786\"], [0.5555555555555556, \"#d8576b\"], [0.6666666666666666, \"#ed7953\"], [0.7777777777777778, \"#fb9f3a\"], [0.8888888888888888, \"#fdca26\"], [1.0, \"#f0f921\"]], \"type\": \"histogram2dcontour\"}], \"mesh3d\": [{\"colorbar\": {\"outlinewidth\": 0, \"ticks\": \"\"}, \"type\": \"mesh3d\"}], \"parcoords\": [{\"line\": {\"colorbar\": {\"outlinewidth\": 0, \"ticks\": \"\"}}, \"type\": \"parcoords\"}], \"pie\": [{\"automargin\": true, \"type\": \"pie\"}], \"scatter\": [{\"marker\": {\"colorbar\": {\"outlinewidth\": 0, \"ticks\": \"\"}}, \"type\": \"scatter\"}], \"scatter3d\": [{\"line\": {\"colorbar\": {\"outlinewidth\": 0, \"ticks\": \"\"}}, \"marker\": {\"colorbar\": {\"outlinewidth\": 0, \"ticks\": \"\"}}, \"type\": \"scatter3d\"}], \"scattercarpet\": [{\"marker\": {\"colorbar\": {\"outlinewidth\": 0, \"ticks\": \"\"}}, \"type\": \"scattercarpet\"}], \"scattergeo\": [{\"marker\": {\"colorbar\": {\"outlinewidth\": 0, \"ticks\": \"\"}}, \"type\": \"scattergeo\"}], \"scattergl\": [{\"marker\": {\"colorbar\": {\"outlinewidth\": 0, \"ticks\": \"\"}}, \"type\": \"scattergl\"}], \"scattermapbox\": [{\"marker\": {\"colorbar\": {\"outlinewidth\": 0, \"ticks\": \"\"}}, \"type\": \"scattermapbox\"}], \"scatterpolar\": [{\"marker\": {\"colorbar\": {\"outlinewidth\": 0, \"ticks\": \"\"}}, \"type\": \"scatterpolar\"}], \"scatterpolargl\": [{\"marker\": {\"colorbar\": {\"outlinewidth\": 0, \"ticks\": \"\"}}, \"type\": \"scatterpolargl\"}], \"scatterternary\": [{\"marker\": {\"colorbar\": {\"outlinewidth\": 0, \"ticks\": \"\"}}, \"type\": \"scatterternary\"}], \"surface\": [{\"colorbar\": {\"outlinewidth\": 0, \"ticks\": \"\"}, \"colorscale\": [[0.0, \"#0d0887\"], [0.1111111111111111, \"#46039f\"], [0.2222222222222222, \"#7201a8\"], [0.3333333333333333, \"#9c179e\"], [0.4444444444444444, \"#bd3786\"], [0.5555555555555556, \"#d8576b\"], [0.6666666666666666, \"#ed7953\"], [0.7777777777777778, \"#fb9f3a\"], [0.8888888888888888, \"#fdca26\"], [1.0, \"#f0f921\"]], \"type\": \"surface\"}], \"table\": [{\"cells\": {\"fill\": {\"color\": \"#EBF0F8\"}, \"line\": {\"color\": \"white\"}}, \"header\": {\"fill\": {\"color\": \"#C8D4E3\"}, \"line\": {\"color\": \"white\"}}, \"type\": \"table\"}]}, \"layout\": {\"annotationdefaults\": {\"arrowcolor\": \"#2a3f5f\", \"arrowhead\": 0, \"arrowwidth\": 1}, \"coloraxis\": {\"colorbar\": {\"outlinewidth\": 0, \"ticks\": \"\"}}, \"colorscale\": {\"diverging\": [[0, \"#8e0152\"], [0.1, \"#c51b7d\"], [0.2, \"#de77ae\"], [0.3, \"#f1b6da\"], [0.4, \"#fde0ef\"], [0.5, \"#f7f7f7\"], [0.6, \"#e6f5d0\"], [0.7, \"#b8e186\"], [0.8, \"#7fbc41\"], [0.9, \"#4d9221\"], [1, \"#276419\"]], \"sequential\": [[0.0, \"#0d0887\"], [0.1111111111111111, \"#46039f\"], [0.2222222222222222, \"#7201a8\"], [0.3333333333333333, \"#9c179e\"], [0.4444444444444444, \"#bd3786\"], [0.5555555555555556, \"#d8576b\"], [0.6666666666666666, \"#ed7953\"], [0.7777777777777778, \"#fb9f3a\"], [0.8888888888888888, \"#fdca26\"], [1.0, \"#f0f921\"]], \"sequentialminus\": [[0.0, \"#0d0887\"], [0.1111111111111111, \"#46039f\"], [0.2222222222222222, \"#7201a8\"], [0.3333333333333333, \"#9c179e\"], [0.4444444444444444, \"#bd3786\"], [0.5555555555555556, \"#d8576b\"], [0.6666666666666666, \"#ed7953\"], [0.7777777777777778, \"#fb9f3a\"], [0.8888888888888888, \"#fdca26\"], [1.0, \"#f0f921\"]]}, \"colorway\": [\"#636efa\", \"#EF553B\", \"#00cc96\", \"#ab63fa\", \"#FFA15A\", \"#19d3f3\", \"#FF6692\", \"#B6E880\", \"#FF97FF\", \"#FECB52\"], \"font\": {\"color\": \"#2a3f5f\"}, \"geo\": {\"bgcolor\": \"white\", \"lakecolor\": \"white\", \"landcolor\": \"#E5ECF6\", \"showlakes\": true, \"showland\": true, \"subunitcolor\": \"white\"}, \"hoverlabel\": {\"align\": \"left\"}, \"hovermode\": \"closest\", \"mapbox\": {\"style\": \"light\"}, \"paper_bgcolor\": \"white\", \"plot_bgcolor\": \"#E5ECF6\", \"polar\": {\"angularaxis\": {\"gridcolor\": \"white\", \"linecolor\": \"white\", \"ticks\": \"\"}, \"bgcolor\": \"#E5ECF6\", \"radialaxis\": {\"gridcolor\": \"white\", \"linecolor\": \"white\", \"ticks\": \"\"}}, \"scene\": {\"xaxis\": {\"backgroundcolor\": \"#E5ECF6\", \"gridcolor\": \"white\", \"gridwidth\": 2, \"linecolor\": \"white\", \"showbackground\": true, \"ticks\": \"\", \"zerolinecolor\": \"white\"}, \"yaxis\": {\"backgroundcolor\": \"#E5ECF6\", \"gridcolor\": \"white\", \"gridwidth\": 2, \"linecolor\": \"white\", \"showbackground\": true, \"ticks\": \"\", \"zerolinecolor\": \"white\"}, \"zaxis\": {\"backgroundcolor\": \"#E5ECF6\", \"gridcolor\": \"white\", \"gridwidth\": 2, \"linecolor\": \"white\", \"showbackground\": true, \"ticks\": \"\", \"zerolinecolor\": \"white\"}}, \"shapedefaults\": {\"line\": {\"color\": \"#2a3f5f\"}}, \"ternary\": {\"aaxis\": {\"gridcolor\": \"white\", \"linecolor\": \"white\", \"ticks\": \"\"}, \"baxis\": {\"gridcolor\": \"white\", \"linecolor\": \"white\", \"ticks\": \"\"}, \"bgcolor\": \"#E5ECF6\", \"caxis\": {\"gridcolor\": \"white\", \"linecolor\": \"white\", \"ticks\": \"\"}}, \"title\": {\"x\": 0.05}, \"xaxis\": {\"automargin\": true, \"gridcolor\": \"white\", \"linecolor\": \"white\", \"ticks\": \"\", \"title\": {\"standoff\": 15}, \"zerolinecolor\": \"white\", \"zerolinewidth\": 2}, \"yaxis\": {\"automargin\": true, \"gridcolor\": \"white\", \"linecolor\": \"white\", \"ticks\": \"\", \"title\": {\"standoff\": 15}, \"zerolinecolor\": \"white\", \"zerolinewidth\": 2}}}, \"title\": {\"font\": {\"color\": \"#4D5663\"}}, \"xaxis\": {\"anchor\": \"y\", \"domain\": [0.0, 0.2125], \"gridcolor\": \"#E1E5ED\", \"showgrid\": false, \"tickfont\": {\"color\": \"#4D5663\"}, \"title\": {\"font\": {\"color\": \"#4D5663\"}, \"text\": \"\"}, \"zerolinecolor\": \"#E1E5ED\"}, \"xaxis10\": {\"anchor\": \"y10\", \"domain\": [0.2625, 0.475], \"gridcolor\": \"#E1E5ED\", \"showgrid\": false, \"tickfont\": {\"color\": \"#4D5663\"}, \"title\": {\"font\": {\"color\": \"#4D5663\"}, \"text\": \"\"}, \"zerolinecolor\": \"#E1E5ED\"}, \"xaxis11\": {\"anchor\": \"y11\", \"domain\": [0.525, 0.7375], \"gridcolor\": \"#E1E5ED\", \"showgrid\": false, \"tickfont\": {\"color\": \"#4D5663\"}, \"title\": {\"font\": {\"color\": \"#4D5663\"}, \"text\": \"\"}, \"zerolinecolor\": \"#E1E5ED\"}, \"xaxis12\": {\"anchor\": \"y12\", \"domain\": [0.7875, 1.0], \"gridcolor\": \"#E1E5ED\", \"showgrid\": false, \"tickfont\": {\"color\": \"#4D5663\"}, \"title\": {\"font\": {\"color\": \"#4D5663\"}, \"text\": \"\"}, \"zerolinecolor\": \"#E1E5ED\"}, \"xaxis13\": {\"anchor\": \"y13\", \"domain\": [0.0, 0.2125], \"gridcolor\": \"#E1E5ED\", \"showgrid\": false, \"tickfont\": {\"color\": \"#4D5663\"}, \"title\": {\"font\": {\"color\": \"#4D5663\"}, \"text\": \"\"}, \"zerolinecolor\": \"#E1E5ED\"}, \"xaxis14\": {\"anchor\": \"y14\", \"domain\": [0.2625, 0.475], \"gridcolor\": \"#E1E5ED\", \"showgrid\": false, \"tickfont\": {\"color\": \"#4D5663\"}, \"title\": {\"font\": {\"color\": \"#4D5663\"}, \"text\": \"\"}, \"zerolinecolor\": \"#E1E5ED\"}, \"xaxis15\": {\"anchor\": \"y15\", \"domain\": [0.525, 0.7375], \"gridcolor\": \"#E1E5ED\", \"showgrid\": false, \"tickfont\": {\"color\": \"#4D5663\"}, \"title\": {\"font\": {\"color\": \"#4D5663\"}, \"text\": \"\"}, \"zerolinecolor\": \"#E1E5ED\"}, \"xaxis16\": {\"anchor\": \"y16\", \"domain\": [0.7875, 1.0], \"gridcolor\": \"#E1E5ED\", \"showgrid\": false, \"tickfont\": {\"color\": \"#4D5663\"}, \"title\": {\"font\": {\"color\": \"#4D5663\"}, \"text\": \"\"}, \"zerolinecolor\": \"#E1E5ED\"}, \"xaxis2\": {\"anchor\": \"y2\", \"domain\": [0.2625, 0.475], \"gridcolor\": \"#E1E5ED\", \"showgrid\": false, \"tickfont\": {\"color\": \"#4D5663\"}, \"title\": {\"font\": {\"color\": \"#4D5663\"}, \"text\": \"\"}, \"zerolinecolor\": \"#E1E5ED\"}, \"xaxis3\": {\"anchor\": \"y3\", \"domain\": [0.525, 0.7375], \"gridcolor\": \"#E1E5ED\", \"showgrid\": false, \"tickfont\": {\"color\": \"#4D5663\"}, \"title\": {\"font\": {\"color\": \"#4D5663\"}, \"text\": \"\"}, \"zerolinecolor\": \"#E1E5ED\"}, \"xaxis4\": {\"anchor\": \"y4\", \"domain\": [0.7875, 1.0], \"gridcolor\": \"#E1E5ED\", \"showgrid\": false, \"tickfont\": {\"color\": \"#4D5663\"}, \"title\": {\"font\": {\"color\": \"#4D5663\"}, \"text\": \"\"}, \"zerolinecolor\": \"#E1E5ED\"}, \"xaxis5\": {\"anchor\": \"y5\", \"domain\": [0.0, 0.2125], \"gridcolor\": \"#E1E5ED\", \"showgrid\": false, \"tickfont\": {\"color\": \"#4D5663\"}, \"title\": {\"font\": {\"color\": \"#4D5663\"}, \"text\": \"\"}, \"zerolinecolor\": \"#E1E5ED\"}, \"xaxis6\": {\"anchor\": \"y6\", \"domain\": [0.2625, 0.475], \"gridcolor\": \"#E1E5ED\", \"showgrid\": false, \"tickfont\": {\"color\": \"#4D5663\"}, \"title\": {\"font\": {\"color\": \"#4D5663\"}, \"text\": \"\"}, \"zerolinecolor\": \"#E1E5ED\"}, \"xaxis7\": {\"anchor\": \"y7\", \"domain\": [0.525, 0.7375], \"gridcolor\": \"#E1E5ED\", \"showgrid\": false, \"tickfont\": {\"color\": \"#4D5663\"}, \"title\": {\"font\": {\"color\": \"#4D5663\"}, \"text\": \"\"}, \"zerolinecolor\": \"#E1E5ED\"}, \"xaxis8\": {\"anchor\": \"y8\", \"domain\": [0.7875, 1.0], \"gridcolor\": \"#E1E5ED\", \"showgrid\": false, \"tickfont\": {\"color\": \"#4D5663\"}, \"title\": {\"font\": {\"color\": \"#4D5663\"}, \"text\": \"\"}, \"zerolinecolor\": \"#E1E5ED\"}, \"xaxis9\": {\"anchor\": \"y9\", \"domain\": [0.0, 0.2125], \"gridcolor\": \"#E1E5ED\", \"showgrid\": false, \"tickfont\": {\"color\": \"#4D5663\"}, \"title\": {\"font\": {\"color\": \"#4D5663\"}, \"text\": \"\"}, \"zerolinecolor\": \"#E1E5ED\"}, \"yaxis\": {\"anchor\": \"x\", \"domain\": [0.8025, 1.0], \"gridcolor\": \"#E1E5ED\", \"showgrid\": false, \"tickfont\": {\"color\": \"#4D5663\"}, \"title\": {\"font\": {\"color\": \"#4D5663\"}, \"text\": \"\"}, \"zerolinecolor\": \"#E1E5ED\"}, \"yaxis10\": {\"anchor\": \"x10\", \"domain\": [0.2675, 0.465], \"gridcolor\": \"#E1E5ED\", \"showgrid\": false, \"tickfont\": {\"color\": \"#4D5663\"}, \"title\": {\"font\": {\"color\": \"#4D5663\"}, \"text\": \"\"}, \"zerolinecolor\": \"#E1E5ED\"}, \"yaxis11\": {\"anchor\": \"x11\", \"domain\": [0.2675, 0.465], \"gridcolor\": \"#E1E5ED\", \"showgrid\": false, \"tickfont\": {\"color\": \"#4D5663\"}, \"title\": {\"font\": {\"color\": \"#4D5663\"}, \"text\": \"\"}, \"zerolinecolor\": \"#E1E5ED\"}, \"yaxis12\": {\"anchor\": \"x12\", \"domain\": [0.2675, 0.465], \"gridcolor\": \"#E1E5ED\", \"showgrid\": false, \"tickfont\": {\"color\": \"#4D5663\"}, \"title\": {\"font\": {\"color\": \"#4D5663\"}, \"text\": \"\"}, \"zerolinecolor\": \"#E1E5ED\"}, \"yaxis13\": {\"anchor\": \"x13\", \"domain\": [0.0, 0.1975], \"gridcolor\": \"#E1E5ED\", \"showgrid\": false, \"tickfont\": {\"color\": \"#4D5663\"}, \"title\": {\"font\": {\"color\": \"#4D5663\"}, \"text\": \"\"}, \"zerolinecolor\": \"#E1E5ED\"}, \"yaxis14\": {\"anchor\": \"x14\", \"domain\": [0.0, 0.1975], \"gridcolor\": \"#E1E5ED\", \"showgrid\": false, \"tickfont\": {\"color\": \"#4D5663\"}, \"title\": {\"font\": {\"color\": \"#4D5663\"}, \"text\": \"\"}, \"zerolinecolor\": \"#E1E5ED\"}, \"yaxis15\": {\"anchor\": \"x15\", \"domain\": [0.0, 0.1975], \"gridcolor\": \"#E1E5ED\", \"showgrid\": false, \"tickfont\": {\"color\": \"#4D5663\"}, \"title\": {\"font\": {\"color\": \"#4D5663\"}, \"text\": \"\"}, \"zerolinecolor\": \"#E1E5ED\"}, \"yaxis16\": {\"anchor\": \"x16\", \"domain\": [0.0, 0.1975], \"gridcolor\": \"#E1E5ED\", \"showgrid\": false, \"tickfont\": {\"color\": \"#4D5663\"}, \"title\": {\"font\": {\"color\": \"#4D5663\"}, \"text\": \"\"}, \"zerolinecolor\": \"#E1E5ED\"}, \"yaxis2\": {\"anchor\": \"x2\", \"domain\": [0.8025, 1.0], \"gridcolor\": \"#E1E5ED\", \"showgrid\": false, \"tickfont\": {\"color\": \"#4D5663\"}, \"title\": {\"font\": {\"color\": \"#4D5663\"}, \"text\": \"\"}, \"zerolinecolor\": \"#E1E5ED\"}, \"yaxis3\": {\"anchor\": \"x3\", \"domain\": [0.8025, 1.0], \"gridcolor\": \"#E1E5ED\", \"showgrid\": false, \"tickfont\": {\"color\": \"#4D5663\"}, \"title\": {\"font\": {\"color\": \"#4D5663\"}, \"text\": \"\"}, \"zerolinecolor\": \"#E1E5ED\"}, \"yaxis4\": {\"anchor\": \"x4\", \"domain\": [0.8025, 1.0], \"gridcolor\": \"#E1E5ED\", \"showgrid\": false, \"tickfont\": {\"color\": \"#4D5663\"}, \"title\": {\"font\": {\"color\": \"#4D5663\"}, \"text\": \"\"}, \"zerolinecolor\": \"#E1E5ED\"}, \"yaxis5\": {\"anchor\": \"x5\", \"domain\": [0.535, 0.7325], \"gridcolor\": \"#E1E5ED\", \"showgrid\": false, \"tickfont\": {\"color\": \"#4D5663\"}, \"title\": {\"font\": {\"color\": \"#4D5663\"}, \"text\": \"\"}, \"zerolinecolor\": \"#E1E5ED\"}, \"yaxis6\": {\"anchor\": \"x6\", \"domain\": [0.535, 0.7325], \"gridcolor\": \"#E1E5ED\", \"showgrid\": false, \"tickfont\": {\"color\": \"#4D5663\"}, \"title\": {\"font\": {\"color\": \"#4D5663\"}, \"text\": \"\"}, \"zerolinecolor\": \"#E1E5ED\"}, \"yaxis7\": {\"anchor\": \"x7\", \"domain\": [0.535, 0.7325], \"gridcolor\": \"#E1E5ED\", \"showgrid\": false, \"tickfont\": {\"color\": \"#4D5663\"}, \"title\": {\"font\": {\"color\": \"#4D5663\"}, \"text\": \"\"}, \"zerolinecolor\": \"#E1E5ED\"}, \"yaxis8\": {\"anchor\": \"x8\", \"domain\": [0.535, 0.7325], \"gridcolor\": \"#E1E5ED\", \"showgrid\": false, \"tickfont\": {\"color\": \"#4D5663\"}, \"title\": {\"font\": {\"color\": \"#4D5663\"}, \"text\": \"\"}, \"zerolinecolor\": \"#E1E5ED\"}, \"yaxis9\": {\"anchor\": \"x9\", \"domain\": [0.2675, 0.465], \"gridcolor\": \"#E1E5ED\", \"showgrid\": false, \"tickfont\": {\"color\": \"#4D5663\"}, \"title\": {\"font\": {\"color\": \"#4D5663\"}, \"text\": \"\"}, \"zerolinecolor\": \"#E1E5ED\"}},                        {\"showLink\": true, \"linkText\": \"Export to plot.ly\", \"plotlyServerURL\": \"https://plot.ly\", \"responsive\": true}                    ).then(function(){\n",
       "                            \n",
       "var gd = document.getElementById('9b2db9a2-f734-40a2-a379-0408888a5c68');\n",
       "var x = new MutationObserver(function (mutations, observer) {{\n",
       "        var display = window.getComputedStyle(gd).display;\n",
       "        if (!display || display === 'none') {{\n",
       "            console.log([gd, 'removed!']);\n",
       "            Plotly.purge(gd);\n",
       "            observer.disconnect();\n",
       "        }}\n",
       "}});\n",
       "\n",
       "// Listen for the removal of the full notebook cells\n",
       "var notebookContainer = gd.closest('#notebook-container');\n",
       "if (notebookContainer) {{\n",
       "    x.observe(notebookContainer, {childList: true});\n",
       "}}\n",
       "\n",
       "// Listen for the clearing of the current output cell\n",
       "var outputEl = gd.closest('.output');\n",
       "if (outputEl) {{\n",
       "    x.observe(outputEl, {childList: true});\n",
       "}}\n",
       "\n",
       "                        })                };                });            </script>        </div>"
      ]
     },
     "metadata": {},
     "output_type": "display_data"
    }
   ],
   "source": [
    "df.scatter_matrix()"
   ]
  }
 ],
 "metadata": {
  "kernelspec": {
   "display_name": "Python 3",
   "language": "python",
   "name": "python3"
  },
  "language_info": {
   "codemirror_mode": {
    "name": "ipython",
    "version": 3
   },
   "file_extension": ".py",
   "mimetype": "text/x-python",
   "name": "python",
   "nbconvert_exporter": "python",
   "pygments_lexer": "ipython3",
   "version": "3.7.4"
  }
 },
 "nbformat": 4,
 "nbformat_minor": 1
}
